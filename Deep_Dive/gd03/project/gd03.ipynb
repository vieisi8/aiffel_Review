{
 "cells": [
  {
   "cell_type": "markdown",
   "id": "1f08277d",
   "metadata": {},
   "source": [
    "# STEP 0. 필요 라이브러리 import"
   ]
  },
  {
   "cell_type": "code",
   "execution_count": 22,
   "id": "10563dfd",
   "metadata": {},
   "outputs": [],
   "source": [
    "import os\n",
    "from konlpy.tag import Okt\n",
    "okt = Okt()\n",
    "from gensim.models import Word2Vec\n",
    "from sklearn.feature_extraction.text import TfidfVectorizer\n",
    "import numpy as np\n",
    "from numpy import dot\n",
    "from numpy.linalg import norm\n",
    "import seaborn as sns\n",
    "import matplotlib.pyplot as plt"
   ]
  },
  {
   "cell_type": "markdown",
   "id": "a83fe2b4",
   "metadata": {},
   "source": [
    "# STEP 1. 형태소 분석기를 이용하여 품사가 명사인 경우 해당 단어를 추출"
   ]
  },
  {
   "cell_type": "code",
   "execution_count": 3,
   "id": "0c410ae2",
   "metadata": {},
   "outputs": [],
   "source": [
    "tokenized = []\n",
    "with open(os.getenv('HOME')+'/aiffel/weat/synopsis.txt', 'r') as file:\n",
    "    while True:\n",
    "        line = file.readline()\n",
    "        if not line: break\n",
    "        words = okt.pos(line, stem=True, norm=True)\n",
    "        res = []\n",
    "        for w in words:\n",
    "            if w[1] in [\"Noun\"]:      # \"Adjective\", \"Verb\" 등을 포함할 수도 있습니다.\n",
    "                res.append(w[0])    # 명사일 때만 tokenized 에 저장하게 됩니다. \n",
    "        tokenized.append(res)"
   ]
  },
  {
   "cell_type": "markdown",
   "id": "eabda37a",
   "metadata": {},
   "source": [
    "# STEP 2. 추출된 결과로 embedding model 생성"
   ]
  },
  {
   "cell_type": "code",
   "execution_count": 4,
   "id": "00e65458",
   "metadata": {},
   "outputs": [],
   "source": [
    "model = Word2Vec(tokenized, vector_size=100, window=5, min_count=3, sg=0)  "
   ]
  },
  {
   "cell_type": "code",
   "execution_count": 5,
   "id": "ae633152",
   "metadata": {},
   "outputs": [
    {
     "data": {
      "text/plain": [
       "[('작품', 0.8864167928695679),\n",
       " ('다큐멘터리', 0.856126070022583),\n",
       " ('드라마', 0.812335729598999),\n",
       " ('영화로', 0.7941468358039856),\n",
       " ('주제', 0.7840924263000488),\n",
       " ('형식', 0.7794634699821472),\n",
       " ('실화', 0.7734053730964661),\n",
       " ('소재', 0.7719899415969849),\n",
       " ('설정', 0.7700799703598022),\n",
       " ('개연', 0.7600735425949097)]"
      ]
     },
     "execution_count": 5,
     "metadata": {},
     "output_type": "execute_result"
    }
   ],
   "source": [
    "model.wv.most_similar(positive=['영화'])"
   ]
  },
  {
   "cell_type": "code",
   "execution_count": 6,
   "id": "db563c8b",
   "metadata": {},
   "outputs": [
    {
     "data": {
      "text/plain": [
       "[('행복', 0.7110268473625183),\n",
       " ('애정', 0.6934056878089905),\n",
       " ('연애', 0.6916449666023254),\n",
       " ('진심', 0.6891140341758728),\n",
       " ('첫사랑', 0.68500816822052),\n",
       " ('열정', 0.6844486594200134),\n",
       " ('가슴', 0.6774987578392029),\n",
       " ('고백', 0.6689162850379944),\n",
       " ('만남', 0.6680919528007507),\n",
       " ('감정', 0.6673418879508972)]"
      ]
     },
     "execution_count": 6,
     "metadata": {},
     "output_type": "execute_result"
    }
   ],
   "source": [
    "model.wv.most_similar(positive=['사랑'])"
   ]
  },
  {
   "cell_type": "code",
   "execution_count": 7,
   "id": "8e9b6b61",
   "metadata": {},
   "outputs": [
    {
     "data": {
      "text/plain": [
       "[('분노', 0.9241383075714111),\n",
       " ('불신', 0.9057050347328186),\n",
       " ('연민', 0.9029797315597534),\n",
       " ('가중', 0.8993649482727051),\n",
       " ('트라우마', 0.882538914680481),\n",
       " ('죄책감', 0.8792699575424194),\n",
       " ('회복', 0.8780287504196167),\n",
       " ('신뢰', 0.869886040687561),\n",
       " ('부정', 0.8689050674438477),\n",
       " ('벌초', 0.868838369846344)]"
      ]
     },
     "execution_count": 7,
     "metadata": {},
     "output_type": "execute_result"
    }
   ],
   "source": [
    "model.wv.most_similar(positive=['증오'])"
   ]
  },
  {
   "cell_type": "markdown",
   "id": "29a9088d",
   "metadata": {},
   "source": [
    "# STEP 3. target, attribute 단어 셋 생성"
   ]
  },
  {
   "cell_type": "markdown",
   "id": "29ac9d6f",
   "metadata": {},
   "source": [
    "명사 추출하는 메서드 정의"
   ]
  },
  {
   "cell_type": "code",
   "execution_count": 9,
   "id": "18c16fa2",
   "metadata": {},
   "outputs": [],
   "source": [
    "def read_token(file_name):\n",
    "    okt = Okt()\n",
    "    result = []\n",
    "    with open(os.getenv('HOME')+'/aiffel/weat/'+file_name, 'r') as fread: \n",
    "        print(file_name, '파일을 읽고 있습니다.')\n",
    "        while True:\n",
    "            line = fread.readline() \n",
    "            if not line: break \n",
    "            tokenlist = okt.pos(line, stem=True, norm=True) \n",
    "            for word in tokenlist:\n",
    "                if word[1] in [\"Noun\"]:#, \"Adjective\", \"Verb\"]:\n",
    "                    result.append((word[0])) \n",
    "    return ' '.join(result)"
   ]
  },
  {
   "cell_type": "markdown",
   "id": "20617330",
   "metadata": {},
   "source": [
    "target 단어셋 생성"
   ]
  },
  {
   "cell_type": "code",
   "execution_count": 10,
   "id": "e647d8f7",
   "metadata": {},
   "outputs": [
    {
     "name": "stdout",
     "output_type": "stream",
     "text": [
      "synopsis_art.txt 파일을 읽고 있습니다.\n",
      "synopsis_gen.txt 파일을 읽고 있습니다.\n"
     ]
    },
    {
     "name": "stderr",
     "output_type": "stream",
     "text": [
      "/opt/conda/lib/python3.9/site-packages/sklearn/utils/deprecation.py:87: FutureWarning: Function get_feature_names is deprecated; get_feature_names is deprecated in 1.0 and will be removed in 1.2. Please use get_feature_names_out instead.\n",
      "  warnings.warn(msg, category=FutureWarning)\n"
     ]
    }
   ],
   "source": [
    "art_txt = 'synopsis_art.txt'\n",
    "gen_txt = 'synopsis_gen.txt'\n",
    "\n",
    "art = read_token(art_txt)\n",
    "gen = read_token(gen_txt)\n",
    "\n",
    "vectorizer = TfidfVectorizer()\n",
    "X = vectorizer.fit_transform([art, gen])\n",
    "\n",
    "m1 = X[0].tocoo()   # art를 TF-IDF로 표현한 sparse matrix를 가져옵니다. \n",
    "m2 = X[1].tocoo()   # gen을 TF-IDF로 표현한 sparse matrix를 가져옵니다. \n",
    "\n",
    "w1 = [[i, j] for i, j in zip(m1.col, m1.data)]\n",
    "w2 = [[i, j] for i, j in zip(m2.col, m2.data)]\n",
    "\n",
    "w1.sort(key=lambda x: x[1], reverse=True)   #art를 구성하는 단어들을 TF-IDF가 높은 순으로 정렬합니다. \n",
    "w2.sort(key=lambda x: x[1], reverse=True)   #gen을 구성하는 단어들을 TF-IDF가 높은 순으로 정렬합니다.\n",
    "\n",
    "n = 15\n",
    "w1_, w2_ = [], []\n",
    "for i in range(100):\n",
    "    w1_.append(vectorizer.get_feature_names()[w1[i][0]])\n",
    "    w2_.append(vectorizer.get_feature_names()[w2[i][0]])\n",
    "\n",
    "# w1에만 있고 w2에는 없는, 예술영화를 잘 대표하는 단어를 15개 추출한다.\n",
    "target_art, target_gen = [], []\n",
    "for i in range(100):\n",
    "    if (w1_[i] not in w2_) and (w1_[i] in model.wv): target_art.append(w1_[i])\n",
    "    if len(target_art) == n: break \n",
    "\n",
    "# w2에만 있고 w1에는 없는, 일반영화를 잘 대표하는 단어를 15개 추출한다.\n",
    "for i in range(100):\n",
    "    if (w2_[i] not in w1_) and (w2_[i] in model.wv): target_gen.append(w2_[i])\n",
    "    if len(target_gen) == n: break"
   ]
  },
  {
   "cell_type": "markdown",
   "id": "638ac574",
   "metadata": {},
   "source": [
    "attribute 단어셋 생성"
   ]
  },
  {
   "cell_type": "markdown",
   "id": "2f66f89c",
   "metadata": {},
   "source": [
    "- snen_words라는 집합(set)을 만들어서 중복 단어가 발생하지 않도록 관리\n",
    "    - 단어가 처음 등장할 때만 attr에 추가하고, 그 이후에는 무시"
   ]
  },
  {
   "cell_type": "code",
   "execution_count": 11,
   "id": "5a367344",
   "metadata": {
    "scrolled": false
   },
   "outputs": [
    {
     "name": "stdout",
     "output_type": "stream",
     "text": [
      "synopsis_SF.txt 파일을 읽고 있습니다.\n",
      "synopsis_family.txt 파일을 읽고 있습니다.\n",
      "synopsis_show.txt 파일을 읽고 있습니다.\n",
      "synopsis_horror.txt 파일을 읽고 있습니다.\n",
      "synopsis_etc.txt 파일을 읽고 있습니다.\n",
      "synopsis_documentary.txt 파일을 읽고 있습니다.\n",
      "synopsis_drama.txt 파일을 읽고 있습니다.\n",
      "synopsis_romance.txt 파일을 읽고 있습니다.\n",
      "synopsis_musical.txt 파일을 읽고 있습니다.\n",
      "synopsis_mystery.txt 파일을 읽고 있습니다.\n",
      "synopsis_crime.txt 파일을 읽고 있습니다.\n",
      "synopsis_historical.txt 파일을 읽고 있습니다.\n",
      "synopsis_western.txt 파일을 읽고 있습니다.\n",
      "synopsis_adult.txt 파일을 읽고 있습니다.\n",
      "synopsis_thriller.txt 파일을 읽고 있습니다.\n",
      "synopsis_animation.txt 파일을 읽고 있습니다.\n",
      "synopsis_action.txt 파일을 읽고 있습니다.\n",
      "synopsis_adventure.txt 파일을 읽고 있습니다.\n",
      "synopsis_war.txt 파일을 읽고 있습니다.\n",
      "synopsis_comedy.txt 파일을 읽고 있습니다.\n",
      "synopsis_fantasy.txt 파일을 읽고 있습니다.\n",
      "SF: 백업, 공공, 탑승객, 패닉, 동태, 동요, 한정, 물살, 조단, 공대생, 식기, 알러지, 천식, 로베르토, 샌드라, \n",
      "가족: 파울, 막스, 리케, 악동, 어벤져스, 연령, 반려동물, 최선, 신제품, 선정, 평균, 소비자, 볼러스, 배려, 행복감, \n",
      "공연: 아키노, 멘토, 레너드, 브람스, 요하네스, 서곡, 판타지아, 마무리, 야외, 하모니, 교향곡, 아낙네, 니콜라이, 피에르, 메타, \n",
      "공포(호러): 유포, 는걸, 성행위, 목덜미, 교환학생, 담요, 음식점, 금발, 허기, 사우스, 실감, 용진, 영호, 호진, 몬세, \n",
      "기타: 유카탄, 독해, 요체, 일병, 조율, 레일, 머리색, 별것, 진욱, 류승완, 폭언, 여우비, 사령, 이다윗, 승호, \n",
      "다큐멘터리: 홍제천, 싱클레어, 초대교회, 발아, 조리법, 나이키, 미생, 타임스퀘어, 혼용, 브루투스, 진노, 카미유, 중엽, 황소, 혼례, \n",
      "드라마: 포켓, 아넷, 터마쉬, 젠카, 반창고, 빅딜, 낙향, 플레인, 몽탈트, 윤민, 산태, 김산, 솔이, 색슨, 송곳니, \n",
      "멜로로맨스: 썸녀, 일사천리, 계모, 지진희, 첫인상, 언성, 조정석, 진평, 은심, 정란, 은호, 은채, 양순, 준길, 박성웅, \n",
      "뮤지컬: 로산, 라훌, 샌드맨, 괴사, 줄리엔, 캬바레, 멘델스존, 제루샤, 프롤로, 페뷔스, 프롤, 노트르담, 살리에리, 샤오캉, 변절, \n",
      "미스터리: 해철, 김정태, 시엘, 샤오싱, 펜팔, 지렁이, 피콜로, 교통경찰, 꿰차, 전대, 먹통, 에밋, 고발장, 우경, 장펑, \n",
      "범죄: 지누, 아르튬, 드라이빙, 오언조, 결판, 흥정, 바둑기사, 를르슈, 피랫, 에미르, 범법, 바이샤, 뱅코, 맥베드, 헤이엑, \n",
      "사극: 진시, 김성령, 정각, 세자, 강희제, 하선, 허균, 광해군, 임숭재, 노준, 전진한, 충신, 다래, 조항리, 놀부, \n",
      "서부극(웨스턴): 그레이프바인, 더치, 말레피센트, 마적, 개릿, 추적자, 바운티, 하몬, 혼전, 잔악, 쉐리, 도브, 태구, 조성하, 이병헌, \n",
      "성인물(에로): 오리발, 정가, 프리터, 아카기, 키요, 츠키요, 슈키치, 외양간, 백발백중, 총대, 아카사카, 카와구치, 나코, 쿄헤이, 십상, \n",
      "스릴러: 메두사, 한병도, 현피, 탕위, 린란, 샤오윈펑, 인터폴, 군터, 집합소, 프랜, 콜슨, 침수, 툴파, 쉐닝, 감청, \n",
      "애니메이션: 데몬, 인간계, 제갈, 중간계, 테픽, 빰바돈, 꼬모, 랑딸랑, 나귀, 성례, 핀두스, 안전보장, 잉어, 로거, 디안시, \n",
      "액션: 쳄파카, 황금봉, 혜왕, 토렌테, 엽뢰, 엽풍, 코토브, 스테이션, 조디악, 우초, 워디, 웨이보, 바유, 하후무, 위레파, \n",
      "어드벤처: 루거, 이디스, 로르카, 프리몬트, 투탕, 리아쯔, 머펫들, 뉴트, 대븐포트, 에레보스, 다릭, 파비, 앤트, 헤르미온느, 볼드모트, \n",
      "전쟁: 립튼, 이지중대, 미헌, 윈터스, 검봉, 안명, 환연, 만철, 헤롤트, 탕기, 혁리, 조나라, 올로, 미츠나리, 남건, \n",
      "코미디: 준추, 네나, 옹알스, 용훈, 간트, 구구, 후쿠하, 요술쟁이, 가킨초, 마르꼬, 홍경민, 아이보리, 트러키, 티탕, 쥬랜더, \n",
      "판타지: 울브스, 탁일항, 남보라, 바버라, 양쟈린, 나니아, 성주신, 홀터, 츄제, 집신, 도둑고양이, 디거, 아국, 자홍, 광전사, \n"
     ]
    }
   ],
   "source": [
    "genre_txt = ['synopsis_SF.txt', 'synopsis_family.txt', 'synopsis_show.txt', 'synopsis_horror.txt', 'synopsis_etc.txt', \n",
    "             'synopsis_documentary.txt', 'synopsis_drama.txt', 'synopsis_romance.txt', 'synopsis_musical.txt', \n",
    "             'synopsis_mystery.txt', 'synopsis_crime.txt', 'synopsis_historical.txt', 'synopsis_western.txt', \n",
    "             'synopsis_adult.txt', 'synopsis_thriller.txt', 'synopsis_animation.txt', 'synopsis_action.txt', \n",
    "             'synopsis_adventure.txt', 'synopsis_war.txt', 'synopsis_comedy.txt', 'synopsis_fantasy.txt']\n",
    "genre_name = ['SF', '가족', '공연', '공포(호러)', '기타', '다큐멘터리', '드라마', '멜로로맨스', '뮤지컬', '미스터리', '범죄', '사극', '서부극(웨스턴)',\n",
    "         '성인물(에로)', '스릴러', '애니메이션', '액션', '어드벤처', '전쟁', '코미디', '판타지']\n",
    "\n",
    "genre = []\n",
    "for file_name in genre_txt:\n",
    "    genre.append(read_token(file_name))\n",
    "\n",
    "vectorizer = TfidfVectorizer()\n",
    "X = vectorizer.fit_transform(genre)\n",
    "\n",
    "m = [X[i].tocoo() for i in range(X.shape[0])]\n",
    "\n",
    "w = [[[i, j] for i, j in zip(mm.col, mm.data)] for mm in m]\n",
    "\n",
    "# 중복 단어를 추적할 set 생성\n",
    "seen_words = set()\n",
    "\n",
    "# 상위 15개의 단어 추출\n",
    "attributes = []\n",
    "for i in range(len(w)):\n",
    "    print(genre_name[i], end=': ')\n",
    "    attr = []\n",
    "    j = 0\n",
    "    while len(attr) < 15:\n",
    "        word = vectorizer.get_feature_names_out()[w[i][j][0]]\n",
    "        \n",
    "        # Word2Vec 모델 사전에 존재하고, 중복되지 않는 단어만 추가\n",
    "        if word in model.wv and word not in seen_words:\n",
    "            attr.append(word)\n",
    "            seen_words.add(word)  # 중복 방지를 위해 추가된 단어는 seen_words에 기록\n",
    "            print(word, end=', ')\n",
    "        j += 1\n",
    "    attributes.append(attr)\n",
    "    print()"
   ]
  },
  {
   "cell_type": "markdown",
   "id": "15ed421c",
   "metadata": {},
   "source": [
    "# STEP 4. WEAT score 계산과 시각화"
   ]
  },
  {
   "cell_type": "markdown",
   "id": "8042cdeb",
   "metadata": {},
   "source": [
    "WEAT score 계산"
   ]
  },
  {
   "cell_type": "code",
   "execution_count": 12,
   "id": "30ac69a1",
   "metadata": {},
   "outputs": [],
   "source": [
    "matrix = [[0 for _ in range(len(genre_name))] for _ in range(len(genre_name))]"
   ]
  },
  {
   "cell_type": "code",
   "execution_count": 16,
   "id": "06e0858f",
   "metadata": {},
   "outputs": [],
   "source": [
    "def cos_sim(i, j):\n",
    "    return dot(i, j.T)/(norm(i)*norm(j))\n",
    "\n",
    "def s(w, A, B):\n",
    "    c_a = cos_sim(w, A)\n",
    "    c_b = cos_sim(w, B)\n",
    "    mean_A = np.mean(c_a, axis=-1)\n",
    "    mean_B = np.mean(c_b, axis=-1)\n",
    "    return mean_A - mean_B #, c_a, c_b\n",
    "\n",
    "def weat_score(X, Y, A, B):\n",
    "    \n",
    "    s_X = s(X, A, B)\n",
    "    s_Y = s(Y, A, B)\n",
    "\n",
    "    mean_X = np.mean(s_X)\n",
    "    mean_Y = np.mean(s_Y)\n",
    "    \n",
    "    std_dev = np.std(np.concatenate([s_X, s_Y], axis=0))\n",
    "    \n",
    "    return  (mean_X-mean_Y)/std_dev"
   ]
  },
  {
   "cell_type": "code",
   "execution_count": 19,
   "id": "fdda7d60",
   "metadata": {},
   "outputs": [],
   "source": [
    "X = np.array([model.wv[word] for word in target_art])\n",
    "Y = np.array([model.wv[word] for word in target_gen])\n",
    "\n",
    "for i in range(len(genre_name)-1):\n",
    "    for j in range(i+1, len(genre_name)):\n",
    "        A = np.array([model.wv[word] for word in attributes[i]])\n",
    "        B = np.array([model.wv[word] for word in attributes[j]])\n",
    "        matrix[i][j] = weat_score(X, Y, A, B)"
   ]
  },
  {
   "cell_type": "code",
   "execution_count": 20,
   "id": "ec4eea10",
   "metadata": {
    "scrolled": true
   },
   "outputs": [
    {
     "name": "stdout",
     "output_type": "stream",
     "text": [
      "SF 가족 0.40916762\n",
      "SF 공연 -0.04393486\n",
      "SF 공포(호러) -0.9121653\n",
      "SF 기타 -0.94232446\n",
      "SF 다큐멘터리 0.4519706\n",
      "SF 드라마 -0.79373705\n",
      "SF 멜로로맨스 -0.78315556\n",
      "SF 뮤지컬 -0.3944253\n",
      "SF 미스터리 0.21122146\n",
      "SF 범죄 -0.5020833\n",
      "SF 사극 -0.05129551\n",
      "SF 서부극(웨스턴) 0.018777255\n",
      "SF 성인물(에로) -0.5942815\n",
      "SF 스릴러 -0.04529676\n",
      "SF 애니메이션 -0.7212682\n",
      "SF 액션 -0.2283425\n",
      "SF 어드벤처 -0.15544714\n",
      "SF 전쟁 0.77294916\n",
      "SF 코미디 0.14495315\n",
      "SF 판타지 -0.3784852\n",
      "가족 공연 -0.7008439\n",
      "가족 공포(호러) -0.976556\n",
      "가족 기타 -0.89454705\n",
      "가족 다큐멘터리 0.23575158\n",
      "가족 드라마 -0.74821436\n",
      "가족 멜로로맨스 -0.6875971\n",
      "가족 뮤지컬 -0.671064\n",
      "가족 미스터리 -0.18057579\n",
      "가족 범죄 -0.52570015\n",
      "가족 사극 -0.3633818\n",
      "가족 서부극(웨스턴) -0.30214235\n",
      "가족 성인물(에로) -0.67342293\n",
      "가족 스릴러 -0.27512586\n",
      "가족 애니메이션 -0.8358756\n",
      "가족 액션 -0.34243113\n",
      "가족 어드벤처 -0.42661184\n",
      "가족 전쟁 0.48142356\n",
      "가족 코미디 -0.25267288\n",
      "가족 판타지 -0.51475114\n",
      "공연 공포(호러) -0.8789147\n",
      "공연 기타 -0.5691344\n",
      "공연 다큐멘터리 0.7168103\n",
      "공연 드라마 -0.47738665\n",
      "공연 멜로로맨스 -0.50060415\n",
      "공연 뮤지컬 -0.381485\n",
      "공연 미스터리 0.23721682\n",
      "공연 범죄 -0.30877212\n",
      "공연 사극 0.0018696608\n",
      "공연 서부극(웨스턴) 0.05142209\n",
      "공연 성인물(에로) -0.53904444\n",
      "공연 스릴러 -0.0031663768\n",
      "공연 애니메이션 -0.44182542\n",
      "공연 액션 -0.1516224\n",
      "공연 어드벤처 -0.067180015\n",
      "공연 전쟁 0.79949176\n",
      "공연 코미디 0.27745184\n",
      "공연 판타지 -0.21413429\n",
      "공포(호러) 기타 0.56919354\n",
      "공포(호러) 다큐멘터리 0.9482299\n",
      "공포(호러) 드라마 0.18559247\n",
      "공포(호러) 멜로로맨스 0.12009697\n",
      "공포(호러) 뮤지컬 0.46300676\n",
      "공포(호러) 미스터리 0.8693429\n",
      "공포(호러) 범죄 0.22616786\n",
      "공포(호러) 사극 0.72732687\n",
      "공포(호러) 서부극(웨스턴) 0.6527898\n",
      "공포(호러) 성인물(에로) 0.09497134\n",
      "공포(호러) 스릴러 0.54080266\n",
      "공포(호러) 애니메이션 0.2532724\n",
      "공포(호러) 액션 0.2532055\n",
      "공포(호러) 어드벤처 0.5678907\n",
      "공포(호러) 전쟁 1.0545578\n",
      "공포(호러) 코미디 0.8857995\n",
      "공포(호러) 판타지 0.42196214\n",
      "기타 다큐멘터리 0.78245515\n",
      "기타 드라마 -0.15005895\n",
      "기타 멜로로맨스 -0.23204625\n",
      "기타 뮤지컬 0.15635164\n",
      "기타 미스터리 0.662003\n",
      "기타 범죄 0.013182305\n",
      "기타 사극 0.50862855\n",
      "기타 서부극(웨스턴) 0.46859598\n",
      "기타 성인물(에로) -0.18771051\n",
      "기타 스릴러 0.39843667\n",
      "기타 애니메이션 0.0033636156\n",
      "기타 액션 0.115363084\n",
      "기타 어드벤처 0.41845754\n",
      "기타 전쟁 0.9347515\n",
      "기타 코미디 0.62177414\n",
      "기타 판타지 0.22539586\n",
      "다큐멘터리 드라마 -0.7714996\n",
      "다큐멘터리 멜로로맨스 -0.7266087\n",
      "다큐멘터리 뮤지컬 -0.9795488\n",
      "다큐멘터리 미스터리 -0.4544208\n",
      "다큐멘터리 범죄 -0.5921153\n",
      "다큐멘터리 사극 -0.5682744\n",
      "다큐멘터리 서부극(웨스턴) -0.53461224\n",
      "다큐멘터리 성인물(에로) -0.76744276\n",
      "다큐멘터리 스릴러 -0.38213477\n",
      "다큐멘터리 애니메이션 -0.90935826\n",
      "다큐멘터리 액션 -0.42229632\n",
      "다큐멘터리 어드벤처 -0.5613692\n",
      "다큐멘터리 전쟁 0.48211402\n",
      "다큐멘터리 코미디 -0.61527926\n",
      "다큐멘터리 판타지 -0.6490618\n",
      "드라마 멜로로맨스 -0.12291714\n",
      "드라마 뮤지컬 0.2783057\n",
      "드라마 미스터리 0.850644\n",
      "드라마 범죄 0.18687172\n",
      "드라마 사극 0.75993574\n",
      "드라마 서부극(웨스턴) 0.63166493\n",
      "드라마 성인물(에로) -0.08982376\n",
      "드라마 스릴러 0.6267183\n",
      "드라마 애니메이션 0.15124795\n",
      "드라마 액션 0.25020015\n",
      "드라마 어드벤처 0.6447374\n",
      "드라마 전쟁 1.0575882\n",
      "드라마 코미디 0.6808679\n",
      "드라마 판타지 0.42510065\n",
      "멜로로맨스 뮤지컬 0.31044015\n",
      "멜로로맨스 미스터리 0.7418745\n",
      "멜로로맨스 범죄 0.24790005\n",
      "멜로로맨스 사극 0.69753164\n",
      "멜로로맨스 서부극(웨스턴) 0.58041674\n",
      "멜로로맨스 성인물(에로) -0.018158952\n",
      "멜로로맨스 스릴러 0.5678113\n",
      "멜로로맨스 애니메이션 0.17243396\n",
      "멜로로맨스 액션 0.2654814\n",
      "멜로로맨스 어드벤처 0.5445918\n",
      "멜로로맨스 전쟁 0.98011076\n",
      "멜로로맨스 코미디 0.65201855\n",
      "멜로로맨스 판타지 0.4027891\n",
      "뮤지컬 미스터리 1.0615237\n",
      "뮤지컬 범죄 -0.12825333\n",
      "뮤지컬 사극 0.65338355\n",
      "뮤지컬 서부극(웨스턴) 0.753892\n",
      "뮤지컬 성인물(에로) -0.3806765\n",
      "뮤지컬 스릴러 0.34727952\n",
      "뮤지컬 애니메이션 -0.21619335\n",
      "뮤지컬 액션 0.02812537\n",
      "뮤지컬 어드벤처 0.35884395\n",
      "뮤지컬 전쟁 1.3304255\n",
      "뮤지컬 코미디 1.0488979\n",
      "뮤지컬 판타지 0.09786002\n",
      "미스터리 범죄 -0.63466793\n",
      "미스터리 사극 -0.51220745\n",
      "미스터리 서부극(웨스턴) -0.34115973\n",
      "미스터리 성인물(에로) -0.7723167\n",
      "미스터리 스릴러 -0.2583587\n",
      "미스터리 애니메이션 -0.9590524\n",
      "미스터리 액션 -0.37969032\n",
      "미스터리 어드벤처 -0.47144285\n",
      "미스터리 전쟁 1.142023\n",
      "미스터리 코미디 -0.07545214\n",
      "미스터리 판타지 -0.6815362\n",
      "범죄 사극 0.58231384\n",
      "범죄 서부극(웨스턴) 0.53176385\n",
      "범죄 성인물(에로) -0.20734462\n",
      "범죄 스릴러 0.7642136\n",
      "범죄 애니메이션 -0.013532792\n",
      "범죄 액션 0.27447203\n",
      "범죄 어드벤처 0.5122862\n",
      "범죄 전쟁 0.9954014\n",
      "범죄 코미디 0.50515056\n",
      "범죄 판타지 0.30441085\n",
      "사극 서부극(웨스턴) 0.13897502\n",
      "사극 성인물(에로) -0.66832614\n",
      "사극 스릴러 -0.0097644245\n",
      "사극 애니메이션 -0.7848852\n",
      "사극 액션 -0.26269963\n",
      "사극 어드벤처 -0.1595849\n",
      "사극 전쟁 1.2810674\n",
      "사극 코미디 0.2779861\n",
      "사극 판타지 -0.49947095\n",
      "서부극(웨스턴) 성인물(에로) -0.59594256\n",
      "서부극(웨스턴) 스릴러 -0.091753714\n",
      "서부극(웨스턴) 애니메이션 -0.8511234\n",
      "서부극(웨스턴) 액션 -0.3039559\n",
      "서부극(웨스턴) 어드벤처 -0.2706928\n",
      "서부극(웨스턴) 전쟁 1.3656089\n",
      "서부극(웨스턴) 코미디 0.1925519\n",
      "서부극(웨스턴) 판타지 -0.56440717\n",
      "성인물(에로) 스릴러 0.52030396\n",
      "성인물(에로) 애니메이션 0.16195124\n",
      "성인물(에로) 액션 0.2575456\n",
      "성인물(에로) 어드벤처 0.50986314\n",
      "성인물(에로) 전쟁 1.0229725\n",
      "성인물(에로) 코미디 0.7806736\n",
      "성인물(에로) 판타지 0.38474488\n",
      "스릴러 애니메이션 -0.6492021\n",
      "스릴러 액션 -0.4353077\n",
      "스릴러 어드벤처 -0.13704756\n",
      "스릴러 전쟁 0.92880845\n",
      "스릴러 코미디 0.16758731\n",
      "스릴러 판타지 -0.4882543\n",
      "애니메이션 액션 0.15940198\n",
      "애니메이션 어드벤처 1.0143634\n",
      "애니메이션 전쟁 1.2336972\n",
      "애니메이션 코미디 0.73883235\n",
      "애니메이션 판타지 0.49888024\n",
      "액션 어드벤처 0.22478543\n",
      "액션 전쟁 0.81271946\n",
      "액션 코미디 0.29891637\n",
      "액션 판타지 0.03264204\n",
      "어드벤처 전쟁 1.0936998\n",
      "어드벤처 코미디 0.3088865\n",
      "어드벤처 판타지 -0.58744484\n",
      "전쟁 코미디 -1.0153532\n",
      "전쟁 판타지 -1.138422\n",
      "코미디 판타지 -0.4789572\n"
     ]
    }
   ],
   "source": [
    "for i in range(len(genre_name)-1):\n",
    "    for j in range(i+1, len(genre_name)):\n",
    "        print(genre_name[i], genre_name[j],matrix[i][j])"
   ]
  },
  {
   "cell_type": "markdown",
   "id": "35b72b5c",
   "metadata": {},
   "source": [
    "**요약 v.chatGPT**\n",
    "\n",
    "**SF (공상과학)**:\n",
    "\n",
    "- **SF-전쟁**은 0.772로 상업영화와 더 연관성이 있음\n",
    "    - 반면, **SF-멜로로맨스**(-0.783), **SF-공포(호러)**(-0.912) 등은 예술영화에 더 가까운 경향이 있음\n",
    "\n",
    "---\n",
    "\n",
    "**가족**:\n",
    "\n",
    "- **가족-다큐멘터리**(0.235)는 상업영화에 가까우나, 대부분의 장르에서 음수 점수를 보여 예술영화에 더 가까운 편임\n",
    "    - 예를 들어 **가족-공포(호러)**(-0.976)는 아주 강하게 예술영화와 연관됨\n",
    "\n",
    "---\n",
    "\n",
    "**공연**:\n",
    "- **공연-전쟁**(0.799), **공연-코미디**(0.277)는 상업영화에 가까운 경향을 보임\n",
    "    - 공연은 다른 장르와의 관계에서는 대체로 편향이 적음\n",
    "    \n",
    "---\n",
    "\n",
    "**공포(호러)**:\n",
    "- **공포(호러)-전쟁**(1.054)와 같이 상업영화에 더 가까운 강한 편향이 보이기도 함 \n",
    "    - 대부분은 예술영화와 강한 연관성이 있음 (**공포-다큐멘터리**(0.948)는 상업영화와 연관)\n",
    "\n",
    "---\n",
    "\n",
    "**기타**:\n",
    "- **기타-다큐멘터리**(0.782), **기타-전쟁**(0.934) 등에서 상업영화와 강한 연관성을 보임\n",
    "\n",
    "---\n",
    "\n",
    "**다큐멘터리**:\n",
    "- 다큐멘터리는 대부분 예술영화와 강한 관계를 나타내고 있음\n",
    "    - 예를 들어 **다큐멘터리-드라마**(-0.771), **다큐멘터리-멜로로맨스**(-0.726) 등의 관계는 예술영화와의 강한 연관성을 보여줌\n",
    "\n",
    "---\n",
    "\n",
    "**드라마**:\n",
    "- **드라마-전쟁**(1.057), **드라마-코미디**(0.680)처럼 상업영화와 가까운 성향을 가짐\n",
    "    - 나머지 대부분의 장르에 대해서는 예술영화와 연관됨\n",
    "\n",
    "---\n",
    "\n",
    "**멜로로맨스**:\n",
    "- **멜로로맨스-전쟁**(0.980), **멜로로맨스-코미디**(0.652) 등은 상업영화와의 연관성을 보임\n",
    "\n",
    "---\n",
    "\n",
    "**뮤지컬**:\n",
    "- **뮤지컬-전쟁**(1.330), **뮤지컬-코미디**(1.048)는 상업영화와 매우 강한 연관을 나타냄\n",
    "\n",
    "---\n",
    "\n",
    "**미스터리**:\n",
    "- **미스터리-전쟁**(1.142)는 상업영화와 강한 연관\n",
    "    - 대부분의 경우 예술영화와 관련이 강함\n",
    "\n",
    "---\n",
    "\n",
    "**범죄**:\n",
    "- **범죄-전쟁**(0.995), **범죄-코미디**(0.505) 등에서 상업영화와 가까운 성향을 보임\n",
    "\n",
    "---\n",
    "\n",
    "**사극**:\n",
    "- **사극-전쟁**(1.281)처럼 상업영화와 강하게 연관된 경우도 있음\n",
    "    - 대체로 예술영화와 가까움\n",
    "\n",
    "---\n",
    "\n",
    "**서부극(웨스턴)**:\n",
    "- **서부극-전쟁**(1.365)는 상업영화와의 매우 강한 연관성을 보임\n",
    "\n",
    "---\n",
    "\n",
    "**성인물(에로)**:\n",
    "- **성인물-전쟁**(1.022)은 상업영화와 연관되며, 다른 장르에서도 비슷한 경향을 보임\n",
    "\n",
    "---\n",
    "\n",
    "**스릴러**:\n",
    "- **스릴러-전쟁**(0.928)과 상업영화와 가까운 성향을 가짐\n",
    "    - 대부분은 예술영화와 강한 연관성을 나타냄\n",
    "\n",
    "---\n",
    "\n",
    "**애니메이션**:\n",
    "- **애니메이션-전쟁**(1.233), **애니메이션-코미디**(0.738)에서 상업영화와 강하게 연관됨\n",
    "\n",
    "---\n",
    "\n",
    "**액션**:\n",
    "- **액션-전쟁**(0.812), **액션-코미디**(0.298) 등 상업영화와 연관성을 보임\n",
    "\n",
    "---\n",
    "\n",
    "**어드벤처**:\n",
    "- **어드벤처-전쟁**(1.093)과 상업영화와의 관계가 두드러지게 나타남\n",
    "\n",
    "---\n",
    "\n",
    "**전쟁**:\n",
    "- 전쟁 장르는 대체로 상업영화와 가까운 경향이 강하게 나타남 \n",
    "    - (**전쟁-판타지**(-1.138)와 같은 예외적 경우 제외)\n",
    "\n",
    "---\n",
    "\n",
    "**코미디**:\n",
    "- **코미디-전쟁**(-1.015)는 전쟁과의 관계에서 상업영화와 반대되는 경향을 보임\n",
    "\n",
    "---\n",
    "\n",
    "**판타지**:\n",
    "- **판타지-전쟁**(-1.138)는 예술영화와 강하게 연관되어 있음."
   ]
  },
  {
   "cell_type": "markdown",
   "id": "cbb28daa",
   "metadata": {},
   "source": [
    "시각화"
   ]
  },
  {
   "cell_type": "code",
   "execution_count": 23,
   "id": "19120852",
   "metadata": {},
   "outputs": [
    {
     "data": {
      "text/plain": [
       "<AxesSubplot:>"
      ]
     },
     "execution_count": 23,
     "metadata": {},
     "output_type": "execute_result"
    },
    {
     "data": {
      "image/png": "[encoded data removed]",
      "text/plain": [
       "<Figure size 432x288 with 2 Axes>"
      ]
     },
     "metadata": {},
     "output_type": "display_data"
    }
   ],
   "source": [
    "np.random.seed(0)\n",
    "\n",
    "# 한글 지원 폰트\n",
    "sns.set(font='NanumGothic')\n",
    "\n",
    "# 마이너스 부호 \n",
    "\n",
    "plt.rcParams['axes.unicode_minus'] = False\n",
    "\n",
    "ax = sns.heatmap(matrix, xticklabels=genre_name, yticklabels=genre_name, annot=True,  cmap='RdYlGn_r')\n",
    "ax"
   ]
  },
  {
   "cell_type": "markdown",
   "id": "8394f3dd",
   "metadata": {},
   "source": [
    "# 회고"
   ]
  },
  {
   "cell_type": "markdown",
   "id": "64ff152b",
   "metadata": {},
   "source": [
    "- attribute 단어셋 생성 부분에서 중복 제거를 위해 set 메서드 사용\n",
    "    - 결과를 확인해 본 결과 반절 정도는 대표성을 띄고\n",
    "    - 나머지 반절 정도는 약간 이름? 같은 단어들이 선정되 대표성을 띄는지는 의문이 생김\n",
    "\n",
    "- WEAT score를 통한 편향성 조사\n",
    "    - 이 장르에서는 이게 맞다! 하는것이 반정도\n",
    "    - 이 장르에서는 이게 맞나? 하는게 나머지 반정도\n",
    "        - 대표성을 띄는 단어가 적절하지 않아서 그런가??\n",
    "\n",
    "다음번에 이와 같은 편향성과 관련된 실험을 하게 된다면 중복을 제거하지 않거나, 중복 제거하는 방법을 다르게 해 성능을 높여보고 싶음\n",
    "\n"
   ]
  }
 ],
 "metadata": {
  "kernelspec": {
   "display_name": "Python 3 (ipykernel)",
   "language": "python",
   "name": "python3"
  },
  "language_info": {
   "codemirror_mode": {
    "name": "ipython",
    "version": 3
   },
   "file_extension": ".py",
   "mimetype": "text/x-python",
   "name": "python",
   "nbconvert_exporter": "python",
   "pygments_lexer": "ipython3",
   "version": "3.9.7"
  }
 },
 "nbformat": 4,
 "nbformat_minor": 5
}
