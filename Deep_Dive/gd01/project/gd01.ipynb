{
 "cells": [
  {
   "cell_type": "markdown",
   "id": "51694932",
   "metadata": {},
   "source": [
    "# step 0. 필요한 라이브러리 import"
   ]
  },
  {
   "cell_type": "code",
   "execution_count": 1,
   "id": "a9cb3d13",
   "metadata": {},
   "outputs": [],
   "source": [
    "import tensorflow as tf\n",
    "import numpy as np\n",
    "import matplotlib.pyplot as plt\n",
    "import konlpy\n",
    "import sentencepiece as spm\n",
    "import os\n",
    "import pandas as pd\n",
    "import seaborn as sns\n",
    "from sklearn.model_selection import train_test_split"
   ]
  },
  {
   "cell_type": "markdown",
   "id": "8416598b",
   "metadata": {},
   "source": [
    "# step 1. 데이터 다운"
   ]
  },
  {
   "cell_type": "markdown",
   "id": "a4e63a91",
   "metadata": {},
   "source": [
    "네이버 영화리뷰 감정 분석 태스크 데이터셋 사용"
   ]
  },
  {
   "cell_type": "code",
   "execution_count": 2,
   "id": "3ad49a0e",
   "metadata": {},
   "outputs": [
    {
     "data": {
      "text/html": [
       "<div>\n",
       "<style scoped>\n",
       "    .dataframe tbody tr th:only-of-type {\n",
       "        vertical-align: middle;\n",
       "    }\n",
       "\n",
       "    .dataframe tbody tr th {\n",
       "        vertical-align: top;\n",
       "    }\n",
       "\n",
       "    .dataframe thead th {\n",
       "        text-align: right;\n",
       "    }\n",
       "</style>\n",
       "<table border=\"1\" class=\"dataframe\">\n",
       "  <thead>\n",
       "    <tr style=\"text-align: right;\">\n",
       "      <th></th>\n",
       "      <th>id</th>\n",
       "      <th>document</th>\n",
       "      <th>label</th>\n",
       "    </tr>\n",
       "  </thead>\n",
       "  <tbody>\n",
       "    <tr>\n",
       "      <th>0</th>\n",
       "      <td>9976970</td>\n",
       "      <td>아 더빙.. 진짜 짜증나네요 목소리</td>\n",
       "      <td>0</td>\n",
       "    </tr>\n",
       "    <tr>\n",
       "      <th>1</th>\n",
       "      <td>3819312</td>\n",
       "      <td>흠...포스터보고 초딩영화줄....오버연기조차 가볍지 않구나</td>\n",
       "      <td>1</td>\n",
       "    </tr>\n",
       "    <tr>\n",
       "      <th>2</th>\n",
       "      <td>10265843</td>\n",
       "      <td>너무재밓었다그래서보는것을추천한다</td>\n",
       "      <td>0</td>\n",
       "    </tr>\n",
       "    <tr>\n",
       "      <th>3</th>\n",
       "      <td>9045019</td>\n",
       "      <td>교도소 이야기구먼 ..솔직히 재미는 없다..평점 조정</td>\n",
       "      <td>0</td>\n",
       "    </tr>\n",
       "    <tr>\n",
       "      <th>4</th>\n",
       "      <td>6483659</td>\n",
       "      <td>사이몬페그의 익살스런 연기가 돋보였던 영화!스파이더맨에서 늙어보이기만 했던 커스틴 ...</td>\n",
       "      <td>1</td>\n",
       "    </tr>\n",
       "  </tbody>\n",
       "</table>\n",
       "</div>"
      ],
      "text/plain": [
       "         id                                           document  label\n",
       "0   9976970                                아 더빙.. 진짜 짜증나네요 목소리      0\n",
       "1   3819312                  흠...포스터보고 초딩영화줄....오버연기조차 가볍지 않구나      1\n",
       "2  10265843                                  너무재밓었다그래서보는것을추천한다      0\n",
       "3   9045019                      교도소 이야기구먼 ..솔직히 재미는 없다..평점 조정      0\n",
       "4   6483659  사이몬페그의 익살스런 연기가 돋보였던 영화!스파이더맨에서 늙어보이기만 했던 커스틴 ...      1"
      ]
     },
     "execution_count": 2,
     "metadata": {},
     "output_type": "execute_result"
    }
   ],
   "source": [
    "# 데이터를 읽어봅시다. \n",
    "train_data = pd.read_table(os.getenv('HOME')+'/aiffel/aiffel/AIFFEL_quest_rs/GoingDeeper/Gd01/ratings_train.txt')\n",
    "test_data = pd.read_table(os.getenv('HOME')+'/aiffel/aiffel/AIFFEL_quest_rs/GoingDeeper/Gd01/ratings_test.txt')\n",
    "\n",
    "train_data.head()"
   ]
  },
  {
   "cell_type": "markdown",
   "id": "c3df2edf",
   "metadata": {},
   "source": [
    "# step 2. 데이터 전처리 "
   ]
  },
  {
   "cell_type": "markdown",
   "id": "a652a394",
   "metadata": {},
   "source": [
    "결측치 처리"
   ]
  },
  {
   "cell_type": "code",
   "execution_count": 3,
   "id": "45e8bbdb",
   "metadata": {
    "scrolled": true
   },
   "outputs": [
    {
     "data": {
      "text/plain": [
       "id          0\n",
       "document    5\n",
       "label       0\n",
       "dtype: int64"
      ]
     },
     "execution_count": 3,
     "metadata": {},
     "output_type": "execute_result"
    }
   ],
   "source": [
    "train_data.isnull().sum()"
   ]
  },
  {
   "cell_type": "code",
   "execution_count": 4,
   "id": "44ac6bd7",
   "metadata": {},
   "outputs": [],
   "source": [
    "train_data.dropna(inplace=True)"
   ]
  },
  {
   "cell_type": "code",
   "execution_count": 5,
   "id": "8ccb618d",
   "metadata": {},
   "outputs": [
    {
     "data": {
      "text/plain": [
       "id          0\n",
       "document    0\n",
       "label       0\n",
       "dtype: int64"
      ]
     },
     "execution_count": 5,
     "metadata": {},
     "output_type": "execute_result"
    }
   ],
   "source": [
    "train_data.isnull().sum()"
   ]
  },
  {
   "cell_type": "code",
   "execution_count": 6,
   "id": "6b9c5717",
   "metadata": {
    "scrolled": true
   },
   "outputs": [
    {
     "data": {
      "text/plain": [
       "id          0\n",
       "document    3\n",
       "label       0\n",
       "dtype: int64"
      ]
     },
     "execution_count": 6,
     "metadata": {},
     "output_type": "execute_result"
    }
   ],
   "source": [
    "test_data.isnull().sum()"
   ]
  },
  {
   "cell_type": "code",
   "execution_count": 7,
   "id": "456b9c3a",
   "metadata": {},
   "outputs": [],
   "source": [
    "test_data.dropna(inplace=True)"
   ]
  },
  {
   "cell_type": "code",
   "execution_count": 8,
   "id": "7d9ed45c",
   "metadata": {
    "scrolled": true
   },
   "outputs": [
    {
     "data": {
      "text/plain": [
       "id          0\n",
       "document    0\n",
       "label       0\n",
       "dtype: int64"
      ]
     },
     "execution_count": 8,
     "metadata": {},
     "output_type": "execute_result"
    }
   ],
   "source": [
    "test_data.isnull().sum()"
   ]
  },
  {
   "cell_type": "markdown",
   "id": "c50efa4e",
   "metadata": {},
   "source": [
    "데이터 중복 확인"
   ]
  },
  {
   "cell_type": "code",
   "execution_count": 9,
   "id": "de8819ab",
   "metadata": {},
   "outputs": [
    {
     "data": {
      "text/plain": [
       "3813"
      ]
     },
     "execution_count": 9,
     "metadata": {},
     "output_type": "execute_result"
    }
   ],
   "source": [
    "train_data['document'].duplicated().sum()"
   ]
  },
  {
   "cell_type": "code",
   "execution_count": 10,
   "id": "8ef26f18",
   "metadata": {},
   "outputs": [],
   "source": [
    "train_data.drop_duplicates(subset = ['document'], inplace=True)"
   ]
  },
  {
   "cell_type": "code",
   "execution_count": 11,
   "id": "d3f6bb4f",
   "metadata": {},
   "outputs": [
    {
     "data": {
      "text/plain": [
       "146182"
      ]
     },
     "execution_count": 11,
     "metadata": {},
     "output_type": "execute_result"
    }
   ],
   "source": [
    "len(train_data)"
   ]
  },
  {
   "cell_type": "code",
   "execution_count": 12,
   "id": "0efc3312",
   "metadata": {},
   "outputs": [
    {
     "data": {
      "text/plain": [
       "840"
      ]
     },
     "execution_count": 12,
     "metadata": {},
     "output_type": "execute_result"
    }
   ],
   "source": [
    "test_data['document'].duplicated().sum()"
   ]
  },
  {
   "cell_type": "code",
   "execution_count": 13,
   "id": "52ebef09",
   "metadata": {},
   "outputs": [],
   "source": [
    "test_data.drop_duplicates(subset = ['document'], inplace=True)"
   ]
  },
  {
   "cell_type": "code",
   "execution_count": 14,
   "id": "c4518b9a",
   "metadata": {},
   "outputs": [
    {
     "data": {
      "text/plain": [
       "49157"
      ]
     },
     "execution_count": 14,
     "metadata": {},
     "output_type": "execute_result"
    }
   ],
   "source": [
    "len(test_data)"
   ]
  },
  {
   "cell_type": "markdown",
   "id": "89d9e697",
   "metadata": {},
   "source": [
    "데이터 분포 확인 - train_data"
   ]
  },
  {
   "cell_type": "code",
   "execution_count": 15,
   "id": "a1f2403b",
   "metadata": {
    "scrolled": true
   },
   "outputs": [
    {
     "name": "stdout",
     "output_type": "stream",
     "text": [
      "문장의 최단 길이: 1\n",
      "문장의 최장 길이: 146\n",
      "문장의 평균 길이: 35\n"
     ]
    },
    {
     "data": {
      "image/png": "[encoded data removed]",
      "text/plain": [
       "<Figure size 432x288 with 1 Axes>"
      ]
     },
     "metadata": {
      "needs_background": "light"
     },
     "output_type": "display_data"
    }
   ],
   "source": [
    "min_len = 999\n",
    "max_len = 0\n",
    "sum_len = 0\n",
    "\n",
    "for sen in train_data['document']:\n",
    "    length = len(sen)\n",
    "    if min_len > length: min_len = length\n",
    "    if max_len < length: max_len = length\n",
    "    sum_len += length\n",
    "\n",
    "print(\"문장의 최단 길이:\", min_len)\n",
    "print(\"문장의 최장 길이:\", max_len)\n",
    "print(\"문장의 평균 길이:\", sum_len // len(train_data['document']))\n",
    "\n",
    "sentence_length = np.zeros((max_len), dtype=int)\n",
    "\n",
    "for sen in train_data['document']:\n",
    "    sentence_length[len(sen)-1] += 1\n",
    "\n",
    "plt.bar(range(max_len), sentence_length, width=1.0)\n",
    "plt.title(\"Sentence Length Distribution\")\n",
    "plt.show()"
   ]
  },
  {
   "cell_type": "markdown",
   "id": "688a18c8",
   "metadata": {},
   "source": [
    "데이터 분포 확인 - test_data"
   ]
  },
  {
   "cell_type": "code",
   "execution_count": 16,
   "id": "f5ccee87",
   "metadata": {},
   "outputs": [
    {
     "name": "stdout",
     "output_type": "stream",
     "text": [
      "문장의 최단 길이: 1\n",
      "문장의 최장 길이: 144\n",
      "문장의 평균 길이: 35\n"
     ]
    },
    {
     "data": {
      "image/png": "[encoded data removed]",
      "text/plain": [
       "<Figure size 432x288 with 1 Axes>"
      ]
     },
     "metadata": {
      "needs_background": "light"
     },
     "output_type": "display_data"
    }
   ],
   "source": [
    "min_len = 999\n",
    "max_len = 0\n",
    "sum_len = 0\n",
    "\n",
    "for sen in test_data['document']:\n",
    "    length = len(sen)\n",
    "    if min_len > length: min_len = length\n",
    "    if max_len < length: max_len = length\n",
    "    sum_len += length\n",
    "\n",
    "print(\"문장의 최단 길이:\", min_len)\n",
    "print(\"문장의 최장 길이:\", max_len)\n",
    "print(\"문장의 평균 길이:\", sum_len // len(test_data['document']))\n",
    "\n",
    "sentence_length = np.zeros((max_len), dtype=int)\n",
    "\n",
    "for sen in test_data['document']:\n",
    "    sentence_length[len(sen)-1] += 1\n",
    "\n",
    "plt.bar(range(max_len), sentence_length, width=1.0)\n",
    "plt.title(\"Sentence Length Distribution\")\n",
    "plt.show()"
   ]
  },
  {
   "cell_type": "markdown",
   "id": "621f3178",
   "metadata": {},
   "source": [
    "문장의 길이의 이상치 데이터 확인 - train_data"
   ]
  },
  {
   "cell_type": "code",
   "execution_count": 17,
   "id": "f8b48a73",
   "metadata": {},
   "outputs": [],
   "source": [
    "# 문장 길이별 확인 해보는 함수\n",
    "def check_sentence_with_length(raw, length):\n",
    "    count = 0\n",
    "    \n",
    "    for sen in raw:\n",
    "        if len(sen) == length:\n",
    "            print(sen)\n",
    "            count += 1\n",
    "            if count > 100: return"
   ]
  },
  {
   "cell_type": "code",
   "execution_count": 18,
   "id": "866edb87",
   "metadata": {
    "scrolled": true
   },
   "outputs": [
    {
     "name": "stdout",
     "output_type": "stream",
     "text": [
      "아\n",
      "잼\n",
      "1\n",
      "4\n",
      "굿\n",
      "짱\n",
      "휴\n",
      ".\n",
      "음\n",
      "?\n",
      "ㅎ\n",
      "ㅋ\n",
      "즐\n",
      "♥\n",
      "굳\n",
      "네\n",
      "ㅇ\n",
      "k\n",
      "ㅠ\n",
      "쒯\n",
      "♬\n",
      "토\n",
      "O\n",
      "똥\n",
      "z\n",
      "헐\n",
      "삼\n",
      "꽝\n",
      "!\n",
      "풉\n",
      "ㅅ\n",
      "왜\n",
      "ㄴ\n",
      "쉣\n",
      "봐\n",
      "뿌\n",
      "ㅜ\n",
      "♡\n",
      "ㅁ\n",
      "0\n",
      "ㅉ\n",
      "d\n",
      "흥\n",
      "乃\n",
      "찜\n",
      "귯\n",
      "린\n",
      "시\n",
      "ㅗ\n",
      "a\n",
      "c\n",
      "흠\n",
      "웅\n",
      "ㅣ\n",
      "오\n",
      "9\n",
      "쩜\n",
      "애\n",
      "헝\n",
      "쨩\n",
      "f\n",
      "움\n",
      "ㄳ\n",
      "업\n",
      "헉\n",
      "군\n",
      "b\n",
      ";\n",
      "g\n",
      "올\n",
      "걍\n",
      "허\n",
      "-\n",
      "쀍\n",
      "로\n",
      "ㄹ\n",
      "ㅂ\n",
      "갑\n",
      "즛\n",
      "킥\n",
      "함\n",
      "진\n",
      "ㅡ\n",
      "잠\n",
      "곧\n",
      "ㅍ\n",
      "h\n",
      "·\n",
      "캬\n",
      "ㅆ\n",
      ",\n",
      "풋\n",
      "ㄱ\n",
      "파\n",
      "ㄷ\n",
      "웩\n",
      "꺅\n",
      "욜\n",
      "ㅄ\n",
      "2\n",
      "핡\n"
     ]
    }
   ],
   "source": [
    "check_sentence_with_length(train_data['document'], 1)"
   ]
  },
  {
   "cell_type": "code",
   "execution_count": 19,
   "id": "a6f2f6ef",
   "metadata": {},
   "outputs": [],
   "source": [
    "for idx, _sum in enumerate(sentence_length):\n",
    "    # 문장의 수가 4000을 초과하는 문장 길이를 추출합니다.\n",
    "    if _sum > 4000:\n",
    "        print(\"Outlier Index:\", idx+1)"
   ]
  },
  {
   "cell_type": "code",
   "execution_count": 20,
   "id": "9821170f",
   "metadata": {
    "scrolled": true
   },
   "outputs": [
    {
     "name": "stdout",
     "output_type": "stream",
     "text": [
      "어설픈 전개 어이없는 결말\n",
      "크리스마스하면 떠오르는영화\n",
      "절대 보지마라 쓰레기 영화\n",
      "베댓이 말을 아주 잘써놨네\n",
      "정말 아름다운 영화 입니다\n",
      "그저 한마디뿐 '알리시아'\n",
      "또 보고 또 울.었.다..\n",
      "딱히 재미는 없네요 킁;;\n",
      "신선하네..,,..,,..\n",
      "페이스 허거 같음ㅋㅋㅋㅋㅋ\n",
      "전 정말 재미있게 봤습니다\n",
      "그냥 레전드다 레전드!!!\n",
      "짜가인가 이게뭐여..뭔..\n",
      "굿 10자 이상 .가나다라\n",
      "연기력에서 유혹하지 못한다\n",
      "몇 안되는 재밌게 본 영화\n",
      "역시 명작은 명작이다...\n",
      "그냥 안보는게 이득 ...\n",
      "중고생들의 마마추어 포르노\n",
      "좋은 소재에 만족할 연출.\n",
      "지들이 뭔데 대우를 까냐?\n",
      "난이게 제일 재밌었는데..\n",
      "영화보다 댓글이 더 재밌어\n",
      "김민종 최고! 더 잘되시요\n",
      "제 취향은 아니네요~~~~\n",
      "크리스 터커 짱이삼! ㅋㅋ\n",
      "대표적인 쓰레기 김치드라마\n",
      "꽃 한송이 놓고 갑니다ㅋㅋ\n",
      "아이들이 보기엔 좋을지도?\n",
      "소희가 귀엽다 귀엽다 졸귀\n",
      "왜 0점은 줄 수 없나요?\n",
      "최강 전차부대 ..,,..\n",
      "1점 주기도 아까운 쓰레기\n",
      "급식충들이나 물고 빨 영화\n",
      "이딴게 이렇게 평이 높다니\n",
      "날고기와 코스요리의 공존.\n",
      "록키는 무조건 10점줘야함\n",
      "스타트랙보다100배재미있음\n",
      "이거야말로 구제불능이군..\n",
      "평점에 오류가 있는 영화다\n",
      "휴.. 나 이거 왜봤지..\n",
      "우아하다는 말에 공감 ㅎㅎ\n",
      "영화보다나간적은처음..ㅠㅠ\n",
      "호화 배우들 잡아 죽이기.\n",
      "원작이 대단하긴 한가보다,\n",
      "난 이거 되게 재밌네 ㅋㅋ\n",
      "아 언제 4가 나오려나!!\n",
      "좋아 아주 젛아 젛 아젛아\n",
      "어른이 보기에도 잼남...\n",
      "꼭 보세요 후회 안합니다?\n",
      "윤하♥ 때문에 10점 ..\n",
      "몇번째 보는지 모르겠다..\n",
      "너희가 이 영화를 봤느뇨?\n",
      "우아한 공포영화를 본거같다\n",
      "거의 공감을 강요하는 영화\n",
      "스토리가 무슨.. 막장이냐\n",
      "와 ~ 완전 허접하다 ㅋㅋ\n",
      "이건 그냥 닥치고 봐야된다\n",
      "백인 여배우는 사랑한다..\n",
      "잼남ㅋㅋㅋ시간가는줄몰랐네여\n",
      "순진함을 가장한 억지영화.\n",
      "유치해 너무 재미없어...\n",
      "이건무슨 내용이 없어...\n",
      "최고중에 하나였던 영화..\n",
      "죄 짓고 못산다.. 참말로\n",
      "너와나함께라면 우린 최고야\n",
      "자각과 깨달음의 무서움!!\n",
      "감동적인 부녀드라마에요 굿\n",
      "그녀의 용기에 박수룰,,,\n",
      "얍얍 콩 나와라 뚝딱!!!\n",
      "블렉코메디? 걍 코메딘데?\n",
      "저도 지금보고있어요 ㅋㅋㅋ\n",
      "제 아들이 제목이 야하대요\n",
      "서른살이다 개잼있다ㅋㅋㅋㄱ\n",
      "꿀잼 허니잼 포도잼 딸기잼\n",
      "슈퍼맨 死 - 최악의 편.\n",
      "무조건 봐야되여~~강추!!\n",
      "이건 1점도 아까운 영화.\n",
      "우리나라 최고의 애니메이션\n",
      "연출완전신선 ㄷㄷ 핵꿀잼!\n",
      "그냥 킬링타임용 영화일뿐!\n",
      "상당히 고급진 에로 영화네\n",
      "한장면한장면이 예술이다 .\n",
      "제목으로 사람 속이지 마라\n",
      "역대 쓰레기 1점도 아깝다\n",
      "나는 흐림 보다잠들어버렸네\n",
      "역시 오현경은 미중년이다.\n",
      "안봤는데평점높아ㅠ이딴영화가\n",
      "명불허전 서극의 숨은 명작\n",
      "성룡영화는 전부 명작 ㅠㅠ\n",
      "정말 재미없고 유치하 영화\n",
      "에수님ㅜㅠ♥우아아아아유ㅠㅜ\n",
      "-_- 정말 어이없는 영화\n",
      "준면이 더빙 겁ㄴ나잘해요♥\n",
      "존큐는 매우 대단한영화인듯\n",
      "북한을 미화한 쓰레기 영화\n",
      "좋았다 인상깊은 내용이었다\n",
      "어우..지루의 끝판왕이네.\n",
      "점수 주기도 아깝다 쓰레기\n",
      "쓰레기네요 더 할말 없슴다\n",
      "임권택영화는 졸라 재미없어\n"
     ]
    }
   ],
   "source": [
    "check_sentence_with_length(train_data['document'],14)"
   ]
  },
  {
   "cell_type": "markdown",
   "id": "52c2f5d2",
   "metadata": {},
   "source": [
    "문장의 길이의 이상치 데이터 확인 - test_data"
   ]
  },
  {
   "cell_type": "code",
   "execution_count": 21,
   "id": "f026d272",
   "metadata": {
    "scrolled": true
   },
   "outputs": [
    {
     "name": "stdout",
     "output_type": "stream",
     "text": [
      ".\n",
      "굿\n",
      "헐\n",
      "d\n",
      "굳\n",
      "b\n",
      "ㅗ\n",
      "ㄱ\n",
      "ㄹ\n",
      "하\n",
      "?\n",
      "1\n",
      "ㅋ\n",
      "음\n",
      "꿈\n",
      "뻑\n",
      "땡\n",
      "ㅂ\n",
      "좀\n",
      "g\n",
      "ㅇ\n",
      "♥\n",
      "짱\n",
      "ㅉ\n",
      "뷁\n",
      "ㅜ\n",
      "ㅄ\n",
      "ㅣ\n",
      "찜\n",
      "헷\n",
      "ㅎ\n",
      "쨩\n",
      "3\n",
      "싫\n",
      "0\n",
      "우\n",
      "악\n",
      "쩝\n",
      "f\n",
      "오\n",
      "쒯\n",
      "h\n",
      "풋\n",
      "z\n",
      "ㅈ\n",
      "엿\n",
      "잏\n",
      "헉\n",
      "흐\n",
      "망\n",
      "훗\n",
      "와\n",
      "ㅍ\n",
      "‥\n",
      "4\n",
      "k\n",
      "즐\n",
      "꽉\n",
      "호\n",
      "·\n"
     ]
    }
   ],
   "source": [
    "check_sentence_with_length(test_data['document'], 1)"
   ]
  },
  {
   "cell_type": "markdown",
   "id": "b3d0d52e",
   "metadata": {},
   "source": [
    "Min_len 이하 데이터 제외"
   ]
  },
  {
   "cell_type": "code",
   "execution_count": 22,
   "id": "d3fc5bf8",
   "metadata": {},
   "outputs": [],
   "source": [
    "min_len = 1\n",
    "\n",
    "# 길이 조건에 맞는 문장만 선택합니다.\n",
    "train_data = train_data[train_data['document'].apply(lambda s: len(s) > min_len)]\n",
    "test_data = test_data[test_data['document'].apply(lambda s: len(s) > min_len)]"
   ]
  },
  {
   "cell_type": "markdown",
   "id": "b403116e",
   "metadata": {},
   "source": [
    "# step 3. SentencePiece 모델 학습"
   ]
  },
  {
   "cell_type": "markdown",
   "id": "f6a70d06",
   "metadata": {},
   "source": [
    "단어 사전 생성을 위한 말뭉치 생성"
   ]
  },
  {
   "cell_type": "code",
   "execution_count": 23,
   "id": "4d78d071",
   "metadata": {},
   "outputs": [
    {
     "data": {
      "text/plain": [
       "146081"
      ]
     },
     "execution_count": 23,
     "metadata": {},
     "output_type": "execute_result"
    }
   ],
   "source": [
    "len(train_data)"
   ]
  },
  {
   "cell_type": "code",
   "execution_count": 24,
   "id": "3000f48a",
   "metadata": {},
   "outputs": [
    {
     "data": {
      "text/plain": [
       "49097"
      ]
     },
     "execution_count": 24,
     "metadata": {},
     "output_type": "execute_result"
    }
   ],
   "source": [
    "len(test_data)"
   ]
  },
  {
   "cell_type": "code",
   "execution_count": 25,
   "id": "f796fdef",
   "metadata": {},
   "outputs": [],
   "source": [
    "corpus = []\n",
    "for x in train_data['document']:\n",
    "    corpus.append(x)\n",
    "for x in test_data['document']:\n",
    "    corpus.append(x)"
   ]
  },
  {
   "cell_type": "code",
   "execution_count": 26,
   "id": "bc35d047",
   "metadata": {
    "scrolled": true
   },
   "outputs": [
    {
     "data": {
      "text/plain": [
       "195178"
      ]
     },
     "execution_count": 26,
     "metadata": {},
     "output_type": "execute_result"
    }
   ],
   "source": [
    "len(corpus)"
   ]
  },
  {
   "cell_type": "markdown",
   "id": "b54f9959",
   "metadata": {},
   "source": [
    "SentencePiece 모델 학습"
   ]
  },
  {
   "cell_type": "code",
   "execution_count": 27,
   "id": "407cd1dc",
   "metadata": {
    "scrolled": true
   },
   "outputs": [
    {
     "name": "stderr",
     "output_type": "stream",
     "text": [
      "sentencepiece_trainer.cc(177) LOG(INFO) Running command: --input=/aiffel/aiffel/aiffel/AIFFEL_quest_rs/GoingDeeper/Gd01/korean-english-park.train.ko.temp --model_prefix=korean_spm --vocab_size=8000\n",
      "sentencepiece_trainer.cc(77) LOG(INFO) Starts training with : \n",
      "trainer_spec {\n",
      "  input: /aiffel/aiffel/aiffel/AIFFEL_quest_rs/GoingDeeper/Gd01/korean-english-park.train.ko.temp\n",
      "  input_format: \n",
      "  model_prefix: korean_spm\n",
      "  model_type: UNIGRAM\n",
      "  vocab_size: 8000\n",
      "  self_test_sample_size: 0\n",
      "  character_coverage: 0.9995\n",
      "  input_sentence_size: 0\n",
      "  shuffle_input_sentence: 1\n",
      "  seed_sentencepiece_size: 1000000\n",
      "  shrinking_factor: 0.75\n",
      "  max_sentence_length: 4192\n",
      "  num_threads: 16\n",
      "  num_sub_iterations: 2\n",
      "  max_sentencepiece_length: 16\n",
      "  split_by_unicode_script: 1\n",
      "  split_by_number: 1\n",
      "  split_by_whitespace: 1\n",
      "  split_digits: 0\n",
      "  treat_whitespace_as_suffix: 0\n",
      "  allow_whitespace_only_pieces: 0\n",
      "  required_chars: \n",
      "  byte_fallback: 0\n",
      "  vocabulary_output_piece_score: 1\n",
      "  train_extremely_large_corpus: 0\n",
      "  hard_vocab_limit: 1\n",
      "  use_all_vocab: 0\n",
      "  unk_id: 0\n",
      "  bos_id: 1\n",
      "  eos_id: 2\n",
      "  pad_id: -1\n",
      "  unk_piece: <unk>\n",
      "  bos_piece: <s>\n",
      "  eos_piece: </s>\n",
      "  pad_piece: <pad>\n",
      "  unk_surface:  ⁇ \n",
      "}\n",
      "normalizer_spec {\n",
      "  name: nmt_nfkc\n",
      "  add_dummy_prefix: 1\n",
      "  remove_extra_whitespaces: 1\n",
      "  escape_whitespaces: 1\n",
      "  normalization_rule_tsv: \n",
      "}\n",
      "denormalizer_spec {}\n",
      "trainer_interface.cc(329) LOG(INFO) SentenceIterator is not specified. Using MultiFileSentenceIterator.\n",
      "trainer_interface.cc(178) LOG(INFO) Loading corpus: /aiffel/aiffel/aiffel/AIFFEL_quest_rs/GoingDeeper/Gd01/korean-english-park.train.ko.temp\n",
      "trainer_interface.cc(385) LOG(INFO) Loaded all 195178 sentences\n",
      "trainer_interface.cc(400) LOG(INFO) Adding meta_piece: <unk>\n",
      "trainer_interface.cc(400) LOG(INFO) Adding meta_piece: <s>\n",
      "trainer_interface.cc(400) LOG(INFO) Adding meta_piece: </s>\n",
      "trainer_interface.cc(405) LOG(INFO) Normalizing sentences...\n",
      "trainer_interface.cc(466) LOG(INFO) all chars count=7217142\n",
      "trainer_interface.cc(477) LOG(INFO) Done: 99.95% characters are covered.\n",
      "trainer_interface.cc(487) LOG(INFO) Alphabet size=1725\n",
      "trainer_interface.cc(488) LOG(INFO) Final character coverage=0.9995\n",
      "trainer_interface.cc(520) LOG(INFO) Done! preprocessed 195178 sentences.\n",
      "unigram_model_trainer.cc(139) LOG(INFO) Making suffix array...\n",
      "unigram_model_trainer.cc(143) LOG(INFO) Extracting frequent sub strings...\n",
      "unigram_model_trainer.cc(194) LOG(INFO) Initialized 386395 seed sentencepieces\n",
      "trainer_interface.cc(526) LOG(INFO) Tokenizing input sentences with whitespace: 195178\n",
      "trainer_interface.cc(537) LOG(INFO) Done! 450120\n",
      "unigram_model_trainer.cc(489) LOG(INFO) Using 450120 sentences for EM training\n",
      "unigram_model_trainer.cc(505) LOG(INFO) EM sub_iter=0 size=194119 obj=15.3937 num_tokens=1064122 num_tokens/piece=5.4818\n",
      "unigram_model_trainer.cc(505) LOG(INFO) EM sub_iter=1 size=179395 obj=14.3051 num_tokens=1070722 num_tokens/piece=5.96852\n",
      "unigram_model_trainer.cc(505) LOG(INFO) EM sub_iter=0 size=134470 obj=14.3847 num_tokens=1113991 num_tokens/piece=8.28431\n",
      "unigram_model_trainer.cc(505) LOG(INFO) EM sub_iter=1 size=134241 obj=14.3333 num_tokens=1114606 num_tokens/piece=8.30302\n",
      "unigram_model_trainer.cc(505) LOG(INFO) EM sub_iter=0 size=100675 obj=14.5462 num_tokens=1167694 num_tokens/piece=11.5986\n",
      "unigram_model_trainer.cc(505) LOG(INFO) EM sub_iter=1 size=100662 obj=14.4903 num_tokens=1167803 num_tokens/piece=11.6012\n",
      "unigram_model_trainer.cc(505) LOG(INFO) EM sub_iter=0 size=75496 obj=14.7227 num_tokens=1218268 num_tokens/piece=16.1369\n",
      "unigram_model_trainer.cc(505) LOG(INFO) EM sub_iter=1 size=75495 obj=14.6676 num_tokens=1218278 num_tokens/piece=16.1372\n",
      "unigram_model_trainer.cc(505) LOG(INFO) EM sub_iter=0 size=56621 obj=14.935 num_tokens=1272462 num_tokens/piece=22.4733\n",
      "unigram_model_trainer.cc(505) LOG(INFO) EM sub_iter=1 size=56621 obj=14.8756 num_tokens=1272493 num_tokens/piece=22.4739\n",
      "unigram_model_trainer.cc(505) LOG(INFO) EM sub_iter=0 size=42465 obj=15.1707 num_tokens=1327538 num_tokens/piece=31.2619\n",
      "unigram_model_trainer.cc(505) LOG(INFO) EM sub_iter=1 size=42465 obj=15.1089 num_tokens=1327579 num_tokens/piece=31.2629\n",
      "unigram_model_trainer.cc(505) LOG(INFO) EM sub_iter=0 size=31848 obj=15.4342 num_tokens=1384607 num_tokens/piece=43.4755\n",
      "unigram_model_trainer.cc(505) LOG(INFO) EM sub_iter=1 size=31848 obj=15.3668 num_tokens=1384609 num_tokens/piece=43.4755\n",
      "unigram_model_trainer.cc(505) LOG(INFO) EM sub_iter=0 size=23886 obj=15.7253 num_tokens=1445546 num_tokens/piece=60.5185\n",
      "unigram_model_trainer.cc(505) LOG(INFO) EM sub_iter=1 size=23886 obj=15.6503 num_tokens=1445560 num_tokens/piece=60.5191\n",
      "unigram_model_trainer.cc(505) LOG(INFO) EM sub_iter=0 size=17914 obj=16.0449 num_tokens=1510329 num_tokens/piece=84.31\n",
      "unigram_model_trainer.cc(505) LOG(INFO) EM sub_iter=1 size=17914 obj=15.9602 num_tokens=1510361 num_tokens/piece=84.3118\n",
      "unigram_model_trainer.cc(505) LOG(INFO) EM sub_iter=0 size=13435 obj=16.3879 num_tokens=1579513 num_tokens/piece=117.567\n",
      "unigram_model_trainer.cc(505) LOG(INFO) EM sub_iter=1 size=13435 obj=16.2858 num_tokens=1579626 num_tokens/piece=117.575\n",
      "unigram_model_trainer.cc(505) LOG(INFO) EM sub_iter=0 size=10076 obj=16.7628 num_tokens=1652932 num_tokens/piece=164.046\n",
      "unigram_model_trainer.cc(505) LOG(INFO) EM sub_iter=1 size=10076 obj=16.652 num_tokens=1652954 num_tokens/piece=164.049\n",
      "unigram_model_trainer.cc(505) LOG(INFO) EM sub_iter=0 size=8800 obj=16.895 num_tokens=1689206 num_tokens/piece=191.955\n",
      "unigram_model_trainer.cc(505) LOG(INFO) EM sub_iter=1 size=8800 obj=16.8429 num_tokens=1689231 num_tokens/piece=191.958\n",
      "trainer_interface.cc(615) LOG(INFO) Saving model: korean_spm.model\n",
      "trainer_interface.cc(626) LOG(INFO) Saving vocabs: korean_spm.vocab\n"
     ]
    },
    {
     "name": "stdout",
     "output_type": "stream",
     "text": [
      "-rw-r--r-- 1 root root 374807 Oct 11 01:46 korean_spm.model\r\n",
      "-rw-r--r-- 1 root root 144146 Oct 11 01:46 korean_spm.vocab\r\n"
     ]
    }
   ],
   "source": [
    "temp_file = os.getenv('HOME')+'/aiffel/aiffel/AIFFEL_quest_rs/GoingDeeper/Gd01/korean-english-park.train.ko.temp'\n",
    "\n",
    "vocab_size = 8000\n",
    "\n",
    "with open(temp_file, 'w') as f:\n",
    "    for row in corpus:   \n",
    "        f.write(str(row) + '\\n')\n",
    "\n",
    "spm.SentencePieceTrainer.Train(\n",
    "    '--input={} --model_prefix=korean_spm --vocab_size={}'.format(temp_file, vocab_size)    \n",
    ")\n",
    "#위 Train에서  --model_type = unigram이 디폴트 적용되어 있습니다. --model_type = bpe로 옵션을 주어 변경할 수 있습니다.\n",
    "\n",
    "!ls -l korean_spm*"
   ]
  },
  {
   "cell_type": "code",
   "execution_count": 28,
   "id": "9474034f",
   "metadata": {},
   "outputs": [
    {
     "name": "stdout",
     "output_type": "stream",
     "text": [
      "[1398, 10, 382, 15, 1319, 10, 133, 17, 4]\n",
      "['▁아버지', '가', '방', '에', '들어', '가', '신', '다', '.']\n",
      "아버지가방에들어가신다.\n"
     ]
    }
   ],
   "source": [
    "s = spm.SentencePieceProcessor()\n",
    "s.Load('korean_spm.model')\n",
    "\n",
    "# SentencePiece를 활용한 sentence -> encoding\n",
    "tokensIDs = s.EncodeAsIds('아버지가방에들어가신다.')\n",
    "print(tokensIDs)\n",
    "\n",
    "# SentencePiece를 활용한 sentence -> encoded pieces\n",
    "print(s.SampleEncodeAsPieces('아버지가방에들어가신다.',1, 0.0))\n",
    "\n",
    "# SentencePiece를 활용한 encoding -> sentence 복원\n",
    "print(s.DecodeIds(tokensIDs))"
   ]
  },
  {
   "cell_type": "markdown",
   "id": "0f7feff3",
   "metadata": {},
   "source": [
    "# Step 4. Tokenizer 함수 작성"
   ]
  },
  {
   "cell_type": "code",
   "execution_count": 29,
   "id": "7d7737b0",
   "metadata": {},
   "outputs": [],
   "source": [
    "def sp_tokenize(s, corpus): \n",
    "\n",
    "    tensor = []\n",
    "\n",
    "    for sen in corpus:\n",
    "        tensor.append(s.EncodeAsIds(sen))\n",
    "\n",
    "    with open(\"./korean_spm.vocab\", 'r') as f:\n",
    "        vocab = f.readlines()\n",
    "\n",
    "    word_index = {}\n",
    "    index_word = {}\n",
    "\n",
    "    for idx, line in enumerate(vocab):\n",
    "        word = line.split(\"\\t\")[0]\n",
    "\n",
    "        word_index.update({word:idx})\n",
    "        index_word.update({idx:word})\n",
    "\n",
    "    tensor = tf.keras.preprocessing.sequence.pad_sequences(tensor, padding='pre')\n",
    "\n",
    "    return tensor, word_index, index_word"
   ]
  },
  {
   "cell_type": "markdown",
   "id": "8cececd7",
   "metadata": {},
   "source": [
    "토큰화 진행"
   ]
  },
  {
   "cell_type": "code",
   "execution_count": 30,
   "id": "6a7aafe9",
   "metadata": {},
   "outputs": [],
   "source": [
    "tensor, word_index, index_word = sp_tokenize(s, corpus)"
   ]
  },
  {
   "cell_type": "markdown",
   "id": "e4acc065",
   "metadata": {},
   "source": [
    "# Step 5. 데이터셋 분리"
   ]
  },
  {
   "cell_type": "code",
   "execution_count": 31,
   "id": "5c43aa18",
   "metadata": {
    "scrolled": true
   },
   "outputs": [],
   "source": [
    "x_train = tensor[:146081]"
   ]
  },
  {
   "cell_type": "code",
   "execution_count": 32,
   "id": "9bda9034",
   "metadata": {},
   "outputs": [],
   "source": [
    "y_train = np.array(list(train_data['label']))"
   ]
  },
  {
   "cell_type": "code",
   "execution_count": 33,
   "id": "7a4eb25a",
   "metadata": {},
   "outputs": [],
   "source": [
    "x_test = tensor[146081:]"
   ]
  },
  {
   "cell_type": "code",
   "execution_count": 34,
   "id": "032f9234",
   "metadata": {},
   "outputs": [],
   "source": [
    "y_test = np.array(list(test_data['label']))"
   ]
  },
  {
   "cell_type": "markdown",
   "id": "397b8db8",
   "metadata": {},
   "source": [
    "validation set 구성"
   ]
  },
  {
   "cell_type": "code",
   "execution_count": 35,
   "id": "79cb429d",
   "metadata": {},
   "outputs": [],
   "source": [
    "x_train, x_val, y_train, y_val = train_test_split(x_train, \n",
    "                                                  y_train, \n",
    "                                                  test_size=0.2, \n",
    "                                                  random_state=42)"
   ]
  },
  {
   "cell_type": "markdown",
   "id": "77f4a362",
   "metadata": {},
   "source": [
    "# step 6. 모델 구성"
   ]
  },
  {
   "cell_type": "code",
   "execution_count": 36,
   "id": "c8ccb687",
   "metadata": {
    "scrolled": false
   },
   "outputs": [
    {
     "name": "stdout",
     "output_type": "stream",
     "text": [
      "WARNING:tensorflow:Layer gru will not use cuDNN kernels since it doesn't meet the criteria. It will use a generic GPU kernel as fallback when running on GPU.\n",
      "WARNING:tensorflow:Layer gru_1 will not use cuDNN kernels since it doesn't meet the criteria. It will use a generic GPU kernel as fallback when running on GPU.\n",
      "Epoch 1/10\n",
      "229/229 [==============================] - 188s 803ms/step - loss: 0.4274 - accuracy: 0.8029 - val_loss: 0.3538 - val_accuracy: 0.8450\n",
      "Epoch 2/10\n",
      "229/229 [==============================] - 183s 798ms/step - loss: 0.3176 - accuracy: 0.8666 - val_loss: 0.3345 - val_accuracy: 0.8553\n",
      "Epoch 3/10\n",
      "229/229 [==============================] - 183s 798ms/step - loss: 0.2816 - accuracy: 0.8818 - val_loss: 0.3339 - val_accuracy: 0.8560\n",
      "Epoch 4/10\n",
      "229/229 [==============================] - 184s 801ms/step - loss: 0.2528 - accuracy: 0.8936 - val_loss: 0.3431 - val_accuracy: 0.8534\n",
      "Epoch 5/10\n",
      "229/229 [==============================] - 183s 799ms/step - loss: 0.2322 - accuracy: 0.9013 - val_loss: 0.3634 - val_accuracy: 0.8520\n",
      "Epoch 6/10\n",
      "229/229 [==============================] - 182s 796ms/step - loss: 0.2132 - accuracy: 0.9100 - val_loss: 0.3832 - val_accuracy: 0.8532\n",
      "Epoch 7/10\n",
      "229/229 [==============================] - 182s 795ms/step - loss: 0.1959 - accuracy: 0.9171 - val_loss: 0.3992 - val_accuracy: 0.8473\n",
      "Epoch 8/10\n",
      "229/229 [==============================] - 183s 801ms/step - loss: 0.1800 - accuracy: 0.9236 - val_loss: 0.4289 - val_accuracy: 0.8472\n",
      "Epoch 9/10\n",
      "229/229 [==============================] - 184s 804ms/step - loss: 0.1626 - accuracy: 0.9309 - val_loss: 0.4645 - val_accuracy: 0.8446\n",
      "Epoch 10/10\n",
      "229/229 [==============================] - 185s 809ms/step - loss: 0.1489 - accuracy: 0.9366 - val_loss: 0.4982 - val_accuracy: 0.8425\n",
      "WARNING:tensorflow:Layer gru will not use cuDNN kernels since it doesn't meet the criteria. It will use a generic GPU kernel as fallback when running on GPU.\n",
      "WARNING:tensorflow:Layer gru_1 will not use cuDNN kernels since it doesn't meet the criteria. It will use a generic GPU kernel as fallback when running on GPU.\n",
      "1535/1535 - 91s - loss: 0.3285 - accuracy: 0.8566\n"
     ]
    },
    {
     "data": {
      "image/png": "[encoded data removed]",
      "text/plain": [
       "<Figure size 432x288 with 1 Axes>"
      ]
     },
     "metadata": {
      "needs_background": "light"
     },
     "output_type": "display_data"
    }
   ],
   "source": [
    "word_vector_dim = 256\n",
    "gru_units = 64\n",
    "dropout_rate = 0.5\n",
    "\n",
    "# 모델 구성\n",
    "model = tf.keras.Sequential()\n",
    "model.add(tf.keras.layers.Embedding(vocab_size, word_vector_dim, input_shape=(None,)))\n",
    "model.add(tf.keras.layers.GRU(gru_units, recurrent_dropout=dropout_rate, return_sequences=True))\n",
    "model.add(tf.keras.layers.GRU(gru_units, recurrent_dropout=dropout_rate))\n",
    "model.add(tf.keras.layers.Dropout(dropout_rate))\n",
    "model.add(tf.keras.layers.Dense(8, activation='relu'))\n",
    "model.add(tf.keras.layers.Dense(1, activation='sigmoid'))  # 최종 출력은 긍정/부정을 나타내는 1dim 입니다.\n",
    "\n",
    "callbacks=[\n",
    "    tf.keras.callbacks.ModelCheckpoint(\"sentencepiece_model.keras\",\n",
    "                                       \n",
    "                                       save_best_only=True)\n",
    "]\n",
    "\n",
    "# 학습의 진행\n",
    "model.compile(optimizer='adam',\n",
    "              loss='binary_crossentropy',\n",
    "              metrics=['accuracy'])\n",
    "              \n",
    "epochs=10  # 몇 epoch를 훈련하면 좋을지 결과를 보면서 바꾸어 봅시다. \n",
    "\n",
    "history = model.fit(x_train,\n",
    "                    y_train,\n",
    "                    epochs=epochs,\n",
    "                    batch_size=512,\n",
    "                    validation_data=(x_val, y_val),\n",
    "                    verbose=1,\n",
    "                    callbacks=callbacks)\n",
    "\n",
    "\n",
    "model = tf.keras.models.load_model('sentencepiece_model.keras')\n",
    "\n",
    "# 테스트셋을 통한 모델 평가\n",
    "results = model.evaluate(x_test,  y_test, verbose=2)\n",
    "\n",
    "history_dict = history.history\n",
    "loss = history_dict['loss']\n",
    "val_loss = history_dict['val_loss']\n",
    "\n",
    "epochs = range(1, len(loss) + 1)\n",
    "\n",
    "# \"bo\"는 \"파란색 점\"입니다\n",
    "plt.plot(epochs, loss, 'bo', label='Training loss')\n",
    "# b는 \"파란 실선\"입니다\n",
    "plt.plot(epochs, val_loss, 'b', label='Validation loss')\n",
    "plt.title('Training and validation loss')\n",
    "plt.xlabel('Epochs')\n",
    "plt.ylabel('Loss')\n",
    "plt.legend()\n",
    "\n",
    "plt.show()"
   ]
  },
  {
   "cell_type": "markdown",
   "id": "45ba9b85",
   "metadata": {},
   "source": [
    "# step 7. KoNLPy 형태소 분석기를 사용한 모델과 성능 비교"
   ]
  },
  {
   "cell_type": "markdown",
   "id": "3e566231",
   "metadata": {},
   "source": [
    "KoNLPy 형태소 분석기 사용"
   ]
  },
  {
   "cell_type": "code",
   "execution_count": 37,
   "id": "87381efa",
   "metadata": {},
   "outputs": [],
   "source": [
    "def tokenize(corpus):  # corpus: Tokenized Sentence's List\n",
    "    tokenizer = tf.keras.preprocessing.text.Tokenizer(filters='')\n",
    "    tokenizer.fit_on_texts(corpus)\n",
    "\n",
    "    tensor = tokenizer.texts_to_sequences(corpus)\n",
    "\n",
    "    tensor = tf.keras.preprocessing.sequence.pad_sequences(tensor, padding='pre')\n",
    "\n",
    "    return tensor, tokenizer"
   ]
  },
  {
   "cell_type": "code",
   "execution_count": 38,
   "id": "37bad9c8",
   "metadata": {},
   "outputs": [],
   "source": [
    "from konlpy.tag import Mecab\n",
    "mecab = Mecab()\n",
    "\n",
    "def mecab_split(sentence):\n",
    "    return mecab.morphs(sentence)\n",
    "\n",
    "mecab_corpus = []\n",
    "\n",
    "for kor in corpus:\n",
    "    mecab_corpus.append(mecab_split(kor))"
   ]
  },
  {
   "cell_type": "markdown",
   "id": "8515e6bd",
   "metadata": {},
   "source": [
    "토큰화 진행"
   ]
  },
  {
   "cell_type": "code",
   "execution_count": 39,
   "id": "20e44aac",
   "metadata": {},
   "outputs": [],
   "source": [
    "mecab_tensor, mecab_tokenizer = tokenize(mecab_corpus)"
   ]
  },
  {
   "cell_type": "markdown",
   "id": "bfb51f54",
   "metadata": {},
   "source": [
    "데이터셋 분리"
   ]
  },
  {
   "cell_type": "code",
   "execution_count": 40,
   "id": "85cbd3e9",
   "metadata": {
    "scrolled": true
   },
   "outputs": [],
   "source": [
    "mecab_x_train = mecab_tensor[:146081]"
   ]
  },
  {
   "cell_type": "code",
   "execution_count": 41,
   "id": "6c60c75d",
   "metadata": {},
   "outputs": [],
   "source": [
    "mecab_y_train = np.array(list(train_data['label']))"
   ]
  },
  {
   "cell_type": "code",
   "execution_count": 42,
   "id": "011e3eb9",
   "metadata": {},
   "outputs": [],
   "source": [
    "mecab_x_test = mecab_tensor[146081:]"
   ]
  },
  {
   "cell_type": "code",
   "execution_count": 43,
   "id": "715b7615",
   "metadata": {},
   "outputs": [],
   "source": [
    "mecab_y_test = np.array(list(test_data['label']))"
   ]
  },
  {
   "cell_type": "markdown",
   "id": "301f4323",
   "metadata": {},
   "source": [
    "validation set 구성"
   ]
  },
  {
   "cell_type": "code",
   "execution_count": 44,
   "id": "b29d7c7e",
   "metadata": {},
   "outputs": [],
   "source": [
    "mecab_x_train, mecab_x_val, mecab_y_train, mecab_y_val = train_test_split(mecab_x_train,\n",
    "                                                                          mecab_y_train,\n",
    "                                                                          test_size=0.2,\n",
    "                                                                          random_state=42)"
   ]
  },
  {
   "cell_type": "markdown",
   "id": "599350ce",
   "metadata": {},
   "source": [
    "모델 구성 및 훈련"
   ]
  },
  {
   "cell_type": "code",
   "execution_count": 45,
   "id": "d30d6785",
   "metadata": {},
   "outputs": [
    {
     "name": "stdout",
     "output_type": "stream",
     "text": [
      "WARNING:tensorflow:Layer gru_2 will not use cuDNN kernels since it doesn't meet the criteria. It will use a generic GPU kernel as fallback when running on GPU.\n",
      "WARNING:tensorflow:Layer gru_3 will not use cuDNN kernels since it doesn't meet the criteria. It will use a generic GPU kernel as fallback when running on GPU.\n",
      "Epoch 1/10\n",
      "229/229 [==============================] - 163s 699ms/step - loss: 0.4169 - accuracy: 0.8115 - val_loss: 0.3540 - val_accuracy: 0.8460\n",
      "Epoch 2/10\n",
      "229/229 [==============================] - 160s 698ms/step - loss: 0.3262 - accuracy: 0.8624 - val_loss: 0.3440 - val_accuracy: 0.8530\n",
      "Epoch 3/10\n",
      "229/229 [==============================] - 160s 697ms/step - loss: 0.2923 - accuracy: 0.8781 - val_loss: 0.3310 - val_accuracy: 0.8554\n",
      "Epoch 4/10\n",
      "229/229 [==============================] - 161s 703ms/step - loss: 0.2682 - accuracy: 0.8875 - val_loss: 0.3316 - val_accuracy: 0.8583\n",
      "Epoch 5/10\n",
      "229/229 [==============================] - 160s 701ms/step - loss: 0.2473 - accuracy: 0.8976 - val_loss: 0.3381 - val_accuracy: 0.8561\n",
      "Epoch 6/10\n",
      "229/229 [==============================] - 160s 699ms/step - loss: 0.2288 - accuracy: 0.9063 - val_loss: 0.3492 - val_accuracy: 0.8557\n",
      "Epoch 7/10\n",
      "229/229 [==============================] - 161s 703ms/step - loss: 0.2132 - accuracy: 0.9131 - val_loss: 0.3812 - val_accuracy: 0.8524\n",
      "Epoch 8/10\n",
      "229/229 [==============================] - 161s 703ms/step - loss: 0.1992 - accuracy: 0.9191 - val_loss: 0.3868 - val_accuracy: 0.8487\n",
      "Epoch 9/10\n",
      "229/229 [==============================] - 160s 699ms/step - loss: 0.1845 - accuracy: 0.9259 - val_loss: 0.4290 - val_accuracy: 0.8513\n",
      "Epoch 10/10\n",
      "229/229 [==============================] - 160s 700ms/step - loss: 0.1710 - accuracy: 0.9310 - val_loss: 0.4307 - val_accuracy: 0.8491\n",
      "WARNING:tensorflow:Layer gru_2 will not use cuDNN kernels since it doesn't meet the criteria. It will use a generic GPU kernel as fallback when running on GPU.\n",
      "WARNING:tensorflow:Layer gru_3 will not use cuDNN kernels since it doesn't meet the criteria. It will use a generic GPU kernel as fallback when running on GPU.\n",
      "1535/1535 - 79s - loss: 0.3309 - accuracy: 0.8560\n"
     ]
    },
    {
     "data": {
      "image/png": "[encoded data removed]",
      "text/plain": [
       "<Figure size 432x288 with 1 Axes>"
      ]
     },
     "metadata": {
      "needs_background": "light"
     },
     "output_type": "display_data"
    }
   ],
   "source": [
    "word_vector_dim = 256\n",
    "gru_units = 64\n",
    "dropout_rate = 0.5\n",
    "\n",
    "# 모델 구성\n",
    "model = tf.keras.Sequential()\n",
    "model.add(tf.keras.layers.Embedding(vocab_size, word_vector_dim, input_shape=(None,)))\n",
    "model.add(tf.keras.layers.GRU(gru_units, recurrent_dropout=dropout_rate, return_sequences=True))\n",
    "model.add(tf.keras.layers.GRU(gru_units, recurrent_dropout=dropout_rate))\n",
    "model.add(tf.keras.layers.Dropout(dropout_rate))\n",
    "model.add(tf.keras.layers.Dense(8, activation='relu'))\n",
    "model.add(tf.keras.layers.Dense(1, activation='sigmoid'))  # 최종 출력은 긍정/부정을 나타내는 1dim 입니다.\n",
    "\n",
    "callbacks=[\n",
    "    tf.keras.callbacks.ModelCheckpoint(\"mecab_model.keras\",\n",
    "                                       \n",
    "                                       save_best_only=True)\n",
    "]\n",
    "\n",
    "# 학습의 진행\n",
    "model.compile(optimizer='adam',\n",
    "              loss='binary_crossentropy',\n",
    "              metrics=['accuracy'])\n",
    "              \n",
    "epochs=10  # 몇 epoch를 훈련하면 좋을지 결과를 보면서 바꾸어 봅시다. \n",
    "\n",
    "history = model.fit(mecab_x_train,\n",
    "                    mecab_y_train,\n",
    "                    epochs=epochs,\n",
    "                    batch_size=512,\n",
    "                    validation_data=(mecab_x_val, mecab_y_val),\n",
    "                    verbose=1,\n",
    "                    callbacks=callbacks)\n",
    "\n",
    "\n",
    "model = tf.keras.models.load_model('mecab_model.keras')\n",
    "\n",
    "# 테스트셋을 통한 모델 평가\n",
    "results = model.evaluate(mecab_x_test,  mecab_y_test, verbose=2)\n",
    "\n",
    "history_dict = history.history\n",
    "loss = history_dict['loss']\n",
    "val_loss = history_dict['val_loss']\n",
    "\n",
    "epochs = range(1, len(loss) + 1)\n",
    "\n",
    "# \"bo\"는 \"파란색 점\"입니다\n",
    "plt.plot(epochs, loss, 'bo', label='Training loss')\n",
    "# b는 \"파란 실선\"입니다\n",
    "plt.plot(epochs, val_loss, 'b', label='Validation loss')\n",
    "plt.title('Training and validation loss')\n",
    "plt.xlabel('Epochs')\n",
    "plt.ylabel('Loss')\n",
    "plt.legend()\n",
    "\n",
    "plt.show()"
   ]
  },
  {
   "cell_type": "markdown",
   "id": "46c1f915",
   "metadata": {},
   "source": [
    "## KoNLPy VS SentencePiece\n",
    "\n",
    "- KoNLPy\n",
    "    - accuracy: 0.8560\n",
    "- SentencePiece\n",
    "    - accuracy: 0.8566\n",
    "    \n",
    "한국어는 보통 형태소 분석기가 좋은 성능을 냄\n",
    "\n",
    "하지만 SentencePiece 또한 형태소 분석기와 차이가 없을 정도의 성능을 냄\n",
    "\n",
    "왜 huggingface의 모델들이 SentencePiece 토큰화를 하는지 잘 알 수 있는 실험 결과였다."
   ]
  },
  {
   "cell_type": "markdown",
   "id": "3160b9a5",
   "metadata": {},
   "source": [
    "# step 8. SentencePiece 모델의 성능 개선 여부 확인"
   ]
  },
  {
   "cell_type": "markdown",
   "id": "95d4d148",
   "metadata": {},
   "source": [
    "위의 정의된 모델과 동일한 모델 구조 사용"
   ]
  },
  {
   "cell_type": "code",
   "execution_count": 46,
   "id": "f801666a",
   "metadata": {
    "scrolled": true
   },
   "outputs": [
    {
     "name": "stderr",
     "output_type": "stream",
     "text": [
      "sentencepiece_trainer.cc(177) LOG(INFO) Running command: --input=/aiffel/aiffel/aiffel/AIFFEL_quest_rs/GoingDeeper/Gd01/full_vocab_size_korean-english-park.train.ko.temp --model_prefix=korean_spm --vocab_size=32000\n",
      "sentencepiece_trainer.cc(77) LOG(INFO) Starts training with : \n",
      "trainer_spec {\n",
      "  input: /aiffel/aiffel/aiffel/AIFFEL_quest_rs/GoingDeeper/Gd01/full_vocab_size_korean-english-park.train.ko.temp\n",
      "  input_format: \n",
      "  model_prefix: korean_spm\n",
      "  model_type: UNIGRAM\n",
      "  vocab_size: 32000\n",
      "  self_test_sample_size: 0\n",
      "  character_coverage: 0.9995\n",
      "  input_sentence_size: 0\n",
      "  shuffle_input_sentence: 1\n",
      "  seed_sentencepiece_size: 1000000\n",
      "  shrinking_factor: 0.75\n",
      "  max_sentence_length: 4192\n",
      "  num_threads: 16\n",
      "  num_sub_iterations: 2\n",
      "  max_sentencepiece_length: 16\n",
      "  split_by_unicode_script: 1\n",
      "  split_by_number: 1\n",
      "  split_by_whitespace: 1\n",
      "  split_digits: 0\n",
      "  treat_whitespace_as_suffix: 0\n",
      "  allow_whitespace_only_pieces: 0\n",
      "  required_chars: \n",
      "  byte_fallback: 0\n",
      "  vocabulary_output_piece_score: 1\n",
      "  train_extremely_large_corpus: 0\n",
      "  hard_vocab_limit: 1\n",
      "  use_all_vocab: 0\n",
      "  unk_id: 0\n",
      "  bos_id: 1\n",
      "  eos_id: 2\n",
      "  pad_id: -1\n",
      "  unk_piece: <unk>\n",
      "  bos_piece: <s>\n",
      "  eos_piece: </s>\n",
      "  pad_piece: <pad>\n",
      "  unk_surface:  ⁇ \n",
      "}\n",
      "normalizer_spec {\n",
      "  name: nmt_nfkc\n",
      "  add_dummy_prefix: 1\n",
      "  remove_extra_whitespaces: 1\n",
      "  escape_whitespaces: 1\n",
      "  normalization_rule_tsv: \n",
      "}\n",
      "denormalizer_spec {}\n",
      "trainer_interface.cc(329) LOG(INFO) SentenceIterator is not specified. Using MultiFileSentenceIterator.\n",
      "trainer_interface.cc(178) LOG(INFO) Loading corpus: /aiffel/aiffel/aiffel/AIFFEL_quest_rs/GoingDeeper/Gd01/full_vocab_size_korean-english-park.train.ko.temp\n",
      "trainer_interface.cc(385) LOG(INFO) Loaded all 195178 sentences\n",
      "trainer_interface.cc(400) LOG(INFO) Adding meta_piece: <unk>\n",
      "trainer_interface.cc(400) LOG(INFO) Adding meta_piece: <s>\n",
      "trainer_interface.cc(400) LOG(INFO) Adding meta_piece: </s>\n",
      "trainer_interface.cc(405) LOG(INFO) Normalizing sentences...\n",
      "trainer_interface.cc(466) LOG(INFO) all chars count=7217142\n",
      "trainer_interface.cc(477) LOG(INFO) Done: 99.95% characters are covered.\n",
      "trainer_interface.cc(487) LOG(INFO) Alphabet size=1725\n",
      "trainer_interface.cc(488) LOG(INFO) Final character coverage=0.9995\n",
      "trainer_interface.cc(520) LOG(INFO) Done! preprocessed 195178 sentences.\n",
      "unigram_model_trainer.cc(139) LOG(INFO) Making suffix array...\n",
      "unigram_model_trainer.cc(143) LOG(INFO) Extracting frequent sub strings...\n",
      "unigram_model_trainer.cc(194) LOG(INFO) Initialized 386395 seed sentencepieces\n",
      "trainer_interface.cc(526) LOG(INFO) Tokenizing input sentences with whitespace: 195178\n",
      "trainer_interface.cc(537) LOG(INFO) Done! 450120\n",
      "unigram_model_trainer.cc(489) LOG(INFO) Using 450120 sentences for EM training\n",
      "unigram_model_trainer.cc(505) LOG(INFO) EM sub_iter=0 size=194119 obj=15.3937 num_tokens=1064122 num_tokens/piece=5.4818\n",
      "unigram_model_trainer.cc(505) LOG(INFO) EM sub_iter=1 size=179395 obj=14.3051 num_tokens=1070722 num_tokens/piece=5.96852\n",
      "unigram_model_trainer.cc(505) LOG(INFO) EM sub_iter=0 size=134470 obj=14.3847 num_tokens=1113991 num_tokens/piece=8.28431\n",
      "unigram_model_trainer.cc(505) LOG(INFO) EM sub_iter=1 size=134241 obj=14.3333 num_tokens=1114606 num_tokens/piece=8.30302\n",
      "unigram_model_trainer.cc(505) LOG(INFO) EM sub_iter=0 size=100675 obj=14.5462 num_tokens=1167694 num_tokens/piece=11.5986\n",
      "unigram_model_trainer.cc(505) LOG(INFO) EM sub_iter=1 size=100662 obj=14.4903 num_tokens=1167803 num_tokens/piece=11.6012\n",
      "unigram_model_trainer.cc(505) LOG(INFO) EM sub_iter=0 size=75496 obj=14.7227 num_tokens=1218268 num_tokens/piece=16.1369\n",
      "unigram_model_trainer.cc(505) LOG(INFO) EM sub_iter=1 size=75495 obj=14.6676 num_tokens=1218278 num_tokens/piece=16.1372\n",
      "unigram_model_trainer.cc(505) LOG(INFO) EM sub_iter=0 size=56621 obj=14.935 num_tokens=1272462 num_tokens/piece=22.4733\n",
      "unigram_model_trainer.cc(505) LOG(INFO) EM sub_iter=1 size=56621 obj=14.8756 num_tokens=1272493 num_tokens/piece=22.4739\n",
      "unigram_model_trainer.cc(505) LOG(INFO) EM sub_iter=0 size=42465 obj=15.1707 num_tokens=1327538 num_tokens/piece=31.2619\n",
      "unigram_model_trainer.cc(505) LOG(INFO) EM sub_iter=1 size=42465 obj=15.1089 num_tokens=1327579 num_tokens/piece=31.2629\n",
      "unigram_model_trainer.cc(505) LOG(INFO) EM sub_iter=0 size=35200 obj=15.3126 num_tokens=1363752 num_tokens/piece=38.743\n",
      "unigram_model_trainer.cc(505) LOG(INFO) EM sub_iter=1 size=35200 obj=15.2711 num_tokens=1363759 num_tokens/piece=38.7432\n",
      "trainer_interface.cc(615) LOG(INFO) Saving model: korean_spm.model\n",
      "trainer_interface.cc(626) LOG(INFO) Saving vocabs: korean_spm.vocab\n"
     ]
    },
    {
     "name": "stdout",
     "output_type": "stream",
     "text": [
      "-rw-r--r-- 1 root root 863495 Oct 11 02:48 korean_spm.model\r\n",
      "-rw-r--r-- 1 root root 654228 Oct 11 02:48 korean_spm.vocab\r\n"
     ]
    }
   ],
   "source": [
    "# vocab_size 8000 -> 32000\n",
    "temp_file = os.getenv('HOME')+'/aiffel/aiffel/AIFFEL_quest_rs/GoingDeeper/Gd01/full_vocab_size_korean-english-park.train.ko.temp'\n",
    "\n",
    "with open(temp_file, 'w') as f:\n",
    "    for row in corpus:   \n",
    "        f.write(str(row) + '\\n')\n",
    "\n",
    "vocab_size=32000\n",
    "\n",
    "spm.SentencePieceTrainer.Train(\n",
    "    '--input={} --model_prefix=korean_spm --vocab_size={}'.format(temp_file, vocab_size)    \n",
    ")\n",
    "#위 Train에서  --model_type = unigram이 디폴트 적용되어 있습니다. --model_type = bpe로 옵션을 주어 변경할 수 있습니다.\n",
    "\n",
    "!ls -l korean_spm*"
   ]
  },
  {
   "cell_type": "markdown",
   "id": "158f2faa",
   "metadata": {},
   "source": [
    "토큰화 진행"
   ]
  },
  {
   "cell_type": "code",
   "execution_count": 47,
   "id": "ff84400a",
   "metadata": {},
   "outputs": [],
   "source": [
    "s = spm.SentencePieceProcessor()\n",
    "s.Load('korean_spm.model')\n",
    "\n",
    "tensor, word_index, index_word = sp_tokenize(s, corpus)"
   ]
  },
  {
   "cell_type": "markdown",
   "id": "e9e2f739",
   "metadata": {},
   "source": [
    "데이터셋 분리"
   ]
  },
  {
   "cell_type": "code",
   "execution_count": 48,
   "id": "cd0f0e88",
   "metadata": {
    "scrolled": true
   },
   "outputs": [],
   "source": [
    "x_train = tensor[:146081]"
   ]
  },
  {
   "cell_type": "code",
   "execution_count": 49,
   "id": "0afc1b08",
   "metadata": {},
   "outputs": [],
   "source": [
    "y_train = np.array(list(train_data['label']))"
   ]
  },
  {
   "cell_type": "code",
   "execution_count": 50,
   "id": "76468cec",
   "metadata": {},
   "outputs": [],
   "source": [
    "x_test = tensor[146081:]"
   ]
  },
  {
   "cell_type": "code",
   "execution_count": 51,
   "id": "e3fbf479",
   "metadata": {},
   "outputs": [],
   "source": [
    "y_test = np.array(list(test_data['label']))"
   ]
  },
  {
   "cell_type": "markdown",
   "id": "9a17e5be",
   "metadata": {},
   "source": [
    "validation set 구성"
   ]
  },
  {
   "cell_type": "code",
   "execution_count": 52,
   "id": "400dcd17",
   "metadata": {},
   "outputs": [],
   "source": [
    "x_train, x_val, y_train, y_val = train_test_split(x_train, \n",
    "                                                  y_train, \n",
    "                                                  test_size=0.2, \n",
    "                                                  random_state=42)"
   ]
  },
  {
   "cell_type": "code",
   "execution_count": 53,
   "id": "a701d2af",
   "metadata": {
    "scrolled": false
   },
   "outputs": [
    {
     "name": "stdout",
     "output_type": "stream",
     "text": [
      "WARNING:tensorflow:Layer gru_4 will not use cuDNN kernels since it doesn't meet the criteria. It will use a generic GPU kernel as fallback when running on GPU.\n",
      "WARNING:tensorflow:Layer gru_5 will not use cuDNN kernels since it doesn't meet the criteria. It will use a generic GPU kernel as fallback when running on GPU.\n",
      "Epoch 1/2\n",
      "229/229 [==============================] - 148s 633ms/step - loss: 0.4273 - accuracy: 0.7987 - val_loss: 0.3441 - val_accuracy: 0.8500\n",
      "Epoch 2/2\n",
      "229/229 [==============================] - 144s 629ms/step - loss: 0.2705 - accuracy: 0.8901 - val_loss: 0.3528 - val_accuracy: 0.8541\n",
      "1535/1535 - 72s - loss: 0.3529 - accuracy: 0.8529\n"
     ]
    }
   ],
   "source": [
    "word_vector_dim = 256\n",
    "gru_units = 64\n",
    "dropout_rate = 0.5\n",
    "\n",
    "# 모델 구성\n",
    "model = tf.keras.Sequential()\n",
    "model.add(tf.keras.layers.Embedding(vocab_size, word_vector_dim, input_shape=(None,)))\n",
    "model.add(tf.keras.layers.GRU(gru_units, recurrent_dropout=dropout_rate, return_sequences=True))\n",
    "model.add(tf.keras.layers.GRU(gru_units, recurrent_dropout=dropout_rate))\n",
    "model.add(tf.keras.layers.Dropout(dropout_rate))\n",
    "model.add(tf.keras.layers.Dense(8, activation='relu'))\n",
    "model.add(tf.keras.layers.Dense(1, activation='sigmoid'))  # 최종 출력은 긍정/부정을 나타내는 1dim 입니다.\n",
    "\n",
    "# 학습의 진행\n",
    "model.compile(optimizer='adam',\n",
    "              loss='binary_crossentropy',\n",
    "              metrics=['accuracy'])\n",
    "              \n",
    "epochs=2  # 몇 epoch를 훈련하면 좋을지 결과를 보면서 바꾸어 봅시다. \n",
    "\n",
    "history = model.fit(x_train,\n",
    "                    y_train,\n",
    "                    epochs=epochs,\n",
    "                    batch_size=512,\n",
    "                    validation_data=(x_val, y_val),\n",
    "                    verbose=1)\n",
    "\n",
    "results = model.evaluate(x_test, y_test, verbose=2)"
   ]
  },
  {
   "cell_type": "markdown",
   "id": "bb8d2664",
   "metadata": {},
   "source": [
    "- vocab_size 8000 -> 32000\n",
    "    - accuracy: 0.8566 -> 0.8529"
   ]
  },
  {
   "cell_type": "markdown",
   "id": "f8435099",
   "metadata": {},
   "source": [
    "---"
   ]
  },
  {
   "cell_type": "code",
   "execution_count": 54,
   "id": "130d6230",
   "metadata": {
    "scrolled": true
   },
   "outputs": [
    {
     "name": "stderr",
     "output_type": "stream",
     "text": [
      "sentencepiece_trainer.cc(177) LOG(INFO) Running command: --input=/aiffel/aiffel/aiffel/AIFFEL_quest_rs/GoingDeeper/Gd01/bpe_korean-english-park.train.ko.temp --model_prefix=korean_spm --vocab_size=8000 --model_type=bpe\n",
      "sentencepiece_trainer.cc(77) LOG(INFO) Starts training with : \n",
      "trainer_spec {\n",
      "  input: /aiffel/aiffel/aiffel/AIFFEL_quest_rs/GoingDeeper/Gd01/bpe_korean-english-park.train.ko.temp\n",
      "  input_format: \n",
      "  model_prefix: korean_spm\n",
      "  model_type: BPE\n",
      "  vocab_size: 8000\n",
      "  self_test_sample_size: 0\n",
      "  character_coverage: 0.9995\n",
      "  input_sentence_size: 0\n",
      "  shuffle_input_sentence: 1\n",
      "  seed_sentencepiece_size: 1000000\n",
      "  shrinking_factor: 0.75\n",
      "  max_sentence_length: 4192\n",
      "  num_threads: 16\n",
      "  num_sub_iterations: 2\n",
      "  max_sentencepiece_length: 16\n",
      "  split_by_unicode_script: 1\n",
      "  split_by_number: 1\n",
      "  split_by_whitespace: 1\n",
      "  split_digits: 0\n",
      "  treat_whitespace_as_suffix: 0\n",
      "  allow_whitespace_only_pieces: 0\n",
      "  required_chars: \n",
      "  byte_fallback: 0\n",
      "  vocabulary_output_piece_score: 1\n",
      "  train_extremely_large_corpus: 0\n",
      "  hard_vocab_limit: 1\n",
      "  use_all_vocab: 0\n",
      "  unk_id: 0\n",
      "  bos_id: 1\n",
      "  eos_id: 2\n",
      "  pad_id: -1\n",
      "  unk_piece: <unk>\n",
      "  bos_piece: <s>\n",
      "  eos_piece: </s>\n",
      "  pad_piece: <pad>\n",
      "  unk_surface:  ⁇ \n",
      "}\n",
      "normalizer_spec {\n",
      "  name: nmt_nfkc\n",
      "  add_dummy_prefix: 1\n",
      "  remove_extra_whitespaces: 1\n",
      "  escape_whitespaces: 1\n",
      "  normalization_rule_tsv: \n",
      "}\n",
      "denormalizer_spec {}\n",
      "trainer_interface.cc(329) LOG(INFO) SentenceIterator is not specified. Using MultiFileSentenceIterator.\n",
      "trainer_interface.cc(178) LOG(INFO) Loading corpus: /aiffel/aiffel/aiffel/AIFFEL_quest_rs/GoingDeeper/Gd01/bpe_korean-english-park.train.ko.temp\n",
      "trainer_interface.cc(385) LOG(INFO) Loaded all 195178 sentences\n",
      "trainer_interface.cc(400) LOG(INFO) Adding meta_piece: <unk>\n",
      "trainer_interface.cc(400) LOG(INFO) Adding meta_piece: <s>\n",
      "trainer_interface.cc(400) LOG(INFO) Adding meta_piece: </s>\n",
      "trainer_interface.cc(405) LOG(INFO) Normalizing sentences...\n",
      "trainer_interface.cc(466) LOG(INFO) all chars count=7217142\n",
      "trainer_interface.cc(477) LOG(INFO) Done: 99.95% characters are covered.\n",
      "trainer_interface.cc(487) LOG(INFO) Alphabet size=1725\n",
      "trainer_interface.cc(488) LOG(INFO) Final character coverage=0.9995\n",
      "trainer_interface.cc(520) LOG(INFO) Done! preprocessed 195178 sentences.\n",
      "trainer_interface.cc(526) LOG(INFO) Tokenizing input sentences with whitespace: 195178\n",
      "trainer_interface.cc(537) LOG(INFO) Done! 450120\n",
      "bpe_model_trainer.cc(167) LOG(INFO) Updating active symbols. max_freq=96654 min_freq=99\n",
      "bpe_model_trainer.cc(258) LOG(INFO) Added: freq=14493 size=20 all=124359 active=11715 piece=▁너무\n",
      "bpe_model_trainer.cc(258) LOG(INFO) Added: freq=11772 size=40 all=129425 active=16781 piece=▁1\n",
      "bpe_model_trainer.cc(258) LOG(INFO) Added: freq=8413 size=60 all=133231 active=20587 piece=▁생\n",
      "bpe_model_trainer.cc(258) LOG(INFO) Added: freq=6983 size=80 all=137623 active=24979 piece=드라마\n",
      "bpe_model_trainer.cc(258) LOG(INFO) Added: freq=5619 size=100 all=141778 active=29134 piece=▁감동\n",
      "bpe_model_trainer.cc(167) LOG(INFO) Updating active symbols. max_freq=5501 min_freq=83\n",
      "bpe_model_trainer.cc(258) LOG(INFO) Added: freq=4788 size=120 all=145100 active=10310 piece=▁배우\n",
      "bpe_model_trainer.cc(258) LOG(INFO) Added: freq=4287 size=140 all=147983 active=13193 piece=적인\n",
      "bpe_model_trainer.cc(258) LOG(INFO) Added: freq=3767 size=160 all=150520 active=15730 piece=▁예\n",
      "bpe_model_trainer.cc(258) LOG(INFO) Added: freq=3528 size=180 all=153318 active=18528 piece=▁처\n",
      "bpe_model_trainer.cc(258) LOG(INFO) Added: freq=3182 size=200 all=156214 active=21424 piece=▁마지막\n",
      "bpe_model_trainer.cc(167) LOG(INFO) Updating active symbols. max_freq=3163 min_freq=74\n",
      "bpe_model_trainer.cc(258) LOG(INFO) Added: freq=2940 size=220 all=158904 active=10417 piece=▁처음\n",
      "bpe_model_trainer.cc(258) LOG(INFO) Added: freq=2751 size=240 all=162115 active=13628 piece=인데\n",
      "bpe_model_trainer.cc(258) LOG(INFO) Added: freq=2546 size=260 all=165427 active=16940 piece=▁허\n",
      "bpe_model_trainer.cc(258) LOG(INFO) Added: freq=2395 size=280 all=168300 active=19813 piece=한다\n",
      "bpe_model_trainer.cc(258) LOG(INFO) Added: freq=2248 size=300 all=170134 active=21647 piece=정도\n",
      "bpe_model_trainer.cc(167) LOG(INFO) Updating active symbols. max_freq=2238 min_freq=67\n",
      "bpe_model_trainer.cc(258) LOG(INFO) Added: freq=2072 size=320 all=172604 active=10703 piece=▁발\n",
      "bpe_model_trainer.cc(258) LOG(INFO) Added: freq=1928 size=340 all=175198 active=13296 piece=▁특\n",
      "bpe_model_trainer.cc(258) LOG(INFO) Added: freq=1854 size=360 all=177664 active=15762 piece=▁없고\n",
      "bpe_model_trainer.cc(258) LOG(INFO) Added: freq=1760 size=380 all=180098 active=18196 piece=▁소재\n",
      "bpe_model_trainer.cc(258) LOG(INFO) Added: freq=1676 size=400 all=182495 active=20593 piece=▁리\n",
      "bpe_model_trainer.cc(167) LOG(INFO) Updating active symbols. max_freq=1675 min_freq=61\n",
      "bpe_model_trainer.cc(258) LOG(INFO) Added: freq=1622 size=420 all=184213 active=10746 piece=▁OO\n",
      "bpe_model_trainer.cc(258) LOG(INFO) Added: freq=1559 size=440 all=186112 active=12645 piece=재밌\n",
      "bpe_model_trainer.cc(258) LOG(INFO) Added: freq=1482 size=460 all=188682 active=15215 piece=▁극장\n",
      "bpe_model_trainer.cc(258) LOG(INFO) Added: freq=1427 size=480 all=190741 active=17274 piece=▁간\n",
      "bpe_model_trainer.cc(258) LOG(INFO) Added: freq=1366 size=500 all=192504 active=19037 piece=었음\n",
      "bpe_model_trainer.cc(167) LOG(INFO) Updating active symbols. max_freq=1361 min_freq=57\n",
      "bpe_model_trainer.cc(258) LOG(INFO) Added: freq=1312 size=520 all=194451 active=11439 piece=중에\n",
      "bpe_model_trainer.cc(258) LOG(INFO) Added: freq=1246 size=540 all=196111 active=13099 piece=했던\n",
      "bpe_model_trainer.cc(258) LOG(INFO) Added: freq=1200 size=560 all=198172 active=15160 piece=▁독\n",
      "bpe_model_trainer.cc(258) LOG(INFO) Added: freq=1172 size=580 all=201230 active=18218 piece=▁계속\n",
      "bpe_model_trainer.cc(258) LOG(INFO) Added: freq=1139 size=600 all=203296 active=20284 piece=이가\n",
      "bpe_model_trainer.cc(167) LOG(INFO) Updating active symbols. max_freq=1138 min_freq=53\n",
      "bpe_model_trainer.cc(258) LOG(INFO) Added: freq=1111 size=620 all=205714 active=12275 piece=점도\n",
      "bpe_model_trainer.cc(258) LOG(INFO) Added: freq=1066 size=640 all=207882 active=14443 piece=있다\n",
      "bpe_model_trainer.cc(258) LOG(INFO) Added: freq=1039 size=660 all=209639 active=16200 piece=▁재밌다\n",
      "bpe_model_trainer.cc(258) LOG(INFO) Added: freq=1012 size=680 all=212089 active=18650 piece=하면서\n",
      "bpe_model_trainer.cc(258) LOG(INFO) Added: freq=979 size=700 all=214278 active=20839 piece=▁근데\n",
      "bpe_model_trainer.cc(167) LOG(INFO) Updating active symbols. max_freq=977 min_freq=49\n",
      "bpe_model_trainer.cc(258) LOG(INFO) Added: freq=949 size=720 all=215954 active=12350 piece=▁보다가\n",
      "bpe_model_trainer.cc(258) LOG(INFO) Added: freq=921 size=740 all=217699 active=14095 piece=▁미국\n",
      "bpe_model_trainer.cc(258) LOG(INFO) Added: freq=889 size=760 all=218895 active=15291 piece=▁삼\n",
      "bpe_model_trainer.cc(258) LOG(INFO) Added: freq=867 size=780 all=220587 active=16983 piece=▁영화로\n",
      "bpe_model_trainer.cc(258) LOG(INFO) Added: freq=851 size=800 all=222483 active=18879 piece=기를\n",
      "bpe_model_trainer.cc(167) LOG(INFO) Updating active symbols. max_freq=850 min_freq=46\n",
      "bpe_model_trainer.cc(258) LOG(INFO) Added: freq=828 size=820 all=223974 active=12415 piece=소리\n",
      "bpe_model_trainer.cc(258) LOG(INFO) Added: freq=814 size=840 all=225351 active=13792 piece=▁되는\n",
      "bpe_model_trainer.cc(258) LOG(INFO) Added: freq=789 size=860 all=226495 active=14936 piece=해야\n",
      "bpe_model_trainer.cc(258) LOG(INFO) Added: freq=772 size=880 all=228171 active=16612 piece=싶은\n",
      "bpe_model_trainer.cc(258) LOG(INFO) Added: freq=757 size=900 all=229455 active=17896 piece=;;;\n",
      "bpe_model_trainer.cc(167) LOG(INFO) Updating active symbols. max_freq=757 min_freq=44\n",
      "bpe_model_trainer.cc(258) LOG(INFO) Added: freq=741 size=920 all=230904 active=12894 piece=▁배우들의\n",
      "bpe_model_trainer.cc(258) LOG(INFO) Added: freq=726 size=940 all=232370 active=14360 piece=▁영화관\n",
      "bpe_model_trainer.cc(258) LOG(INFO) Added: freq=711 size=960 all=233753 active=15743 piece=▁함께\n",
      "bpe_model_trainer.cc(258) LOG(INFO) Added: freq=700 size=980 all=234880 active=16870 piece=▁임\n",
      "bpe_model_trainer.cc(258) LOG(INFO) Added: freq=682 size=1000 all=235916 active=17906 piece=▁\"\n",
      "bpe_model_trainer.cc(167) LOG(INFO) Updating active symbols. max_freq=681 min_freq=43\n",
      "bpe_model_trainer.cc(258) LOG(INFO) Added: freq=669 size=1020 all=237648 active=13515 piece=그래\n",
      "bpe_model_trainer.cc(258) LOG(INFO) Added: freq=659 size=1040 all=239067 active=14934 piece=▁꿈\n",
      "bpe_model_trainer.cc(258) LOG(INFO) Added: freq=638 size=1060 all=240902 active=16769 piece=하며\n",
      "bpe_model_trainer.cc(258) LOG(INFO) Added: freq=625 size=1080 all=242372 active=18239 piece=▁한국영화\n",
      "bpe_model_trainer.cc(258) LOG(INFO) Added: freq=612 size=1100 all=243873 active=19740 piece=▁같이\n",
      "bpe_model_trainer.cc(167) LOG(INFO) Updating active symbols. max_freq=612 min_freq=41\n",
      "bpe_model_trainer.cc(258) LOG(INFO) Added: freq=595 size=1120 all=245104 active=13395 piece=▁"
     ]
    },
    {
     "name": "stdout",
     "output_type": "stream",
     "text": [
      "-rw-r--r-- 1 root root 370245 Oct 11 02:55 korean_spm.model\r\n",
      "-rw-r--r-- 1 root root 115425 Oct 11 02:55 korean_spm.vocab\r\n"
     ]
    }
   ],
   "source": [
    "# model_type unigram -> bpe\n",
    "temp_file = os.getenv('HOME')+'/aiffel/aiffel/AIFFEL_quest_rs/GoingDeeper/Gd01/bpe_korean-english-park.train.ko.temp'\n",
    "\n",
    "with open(temp_file, 'w') as f:\n",
    "    for row in corpus:   \n",
    "        f.write(str(row) + '\\n')\n",
    "\n",
    "vocab_size=8000\n",
    "\n",
    "spm.SentencePieceTrainer.Train(\n",
    "    '--input={} --model_prefix=korean_spm --vocab_size={} --model_type={}'.format(temp_file, vocab_size, 'bpe')    \n",
    ")\n",
    "#위 Train에서  --model_type = unigram이 디폴트 적용되어 있습니다. --model_type = bpe로 옵션을 주어 변경할 수 있습니다.\n",
    "\n",
    "!ls -l korean_spm*"
   ]
  },
  {
   "cell_type": "markdown",
   "id": "35e3b59b",
   "metadata": {},
   "source": [
    "토큰화 진행"
   ]
  },
  {
   "cell_type": "code",
   "execution_count": 55,
   "id": "860a8d4c",
   "metadata": {},
   "outputs": [],
   "source": [
    "s = spm.SentencePieceProcessor()\n",
    "s.Load('korean_spm.model')\n",
    "\n",
    "tensor, word_index, index_word = sp_tokenize(s, corpus)"
   ]
  },
  {
   "cell_type": "markdown",
   "id": "b7699fce",
   "metadata": {},
   "source": [
    "데이터셋 분리"
   ]
  },
  {
   "cell_type": "code",
   "execution_count": 56,
   "id": "b19833a5",
   "metadata": {
    "scrolled": true
   },
   "outputs": [],
   "source": [
    "x_train = tensor[:146081]"
   ]
  },
  {
   "cell_type": "code",
   "execution_count": 57,
   "id": "634e8336",
   "metadata": {},
   "outputs": [],
   "source": [
    "y_train = np.array(list(train_data['label']))"
   ]
  },
  {
   "cell_type": "code",
   "execution_count": 58,
   "id": "1fe12b3b",
   "metadata": {},
   "outputs": [],
   "source": [
    "x_test = tensor[146081:]"
   ]
  },
  {
   "cell_type": "code",
   "execution_count": 59,
   "id": "d03741d9",
   "metadata": {},
   "outputs": [],
   "source": [
    "y_test = np.array(list(test_data['label']))"
   ]
  },
  {
   "cell_type": "markdown",
   "id": "7422e121",
   "metadata": {},
   "source": [
    "validation set 구성"
   ]
  },
  {
   "cell_type": "code",
   "execution_count": 60,
   "id": "8442a878",
   "metadata": {},
   "outputs": [],
   "source": [
    "x_train, x_val, y_train, y_val = train_test_split(x_train, \n",
    "                                                  y_train, \n",
    "                                                  test_size=0.2, \n",
    "                                                  random_state=42)"
   ]
  },
  {
   "cell_type": "code",
   "execution_count": 61,
   "id": "c9e67ddb",
   "metadata": {
    "scrolled": false
   },
   "outputs": [
    {
     "name": "stdout",
     "output_type": "stream",
     "text": [
      "WARNING:tensorflow:Layer gru_6 will not use cuDNN kernels since it doesn't meet the criteria. It will use a generic GPU kernel as fallback when running on GPU.\n",
      "WARNING:tensorflow:Layer gru_7 will not use cuDNN kernels since it doesn't meet the criteria. It will use a generic GPU kernel as fallback when running on GPU.\n",
      "Epoch 1/3\n",
      "229/229 [==============================] - 183s 786ms/step - loss: 0.4268 - accuracy: 0.8040 - val_loss: 0.3541 - val_accuracy: 0.8440\n",
      "Epoch 2/3\n",
      "229/229 [==============================] - 180s 786ms/step - loss: 0.3221 - accuracy: 0.8638 - val_loss: 0.3352 - val_accuracy: 0.8486\n",
      "Epoch 3/3\n",
      "229/229 [==============================] - 179s 782ms/step - loss: 0.2842 - accuracy: 0.8802 - val_loss: 0.3399 - val_accuracy: 0.8523\n",
      "1535/1535 - 90s - loss: 0.3379 - accuracy: 0.8558\n"
     ]
    }
   ],
   "source": [
    "word_vector_dim = 256\n",
    "gru_units = 64\n",
    "dropout_rate = 0.5\n",
    "\n",
    "# 모델 구성\n",
    "model = tf.keras.Sequential()\n",
    "model.add(tf.keras.layers.Embedding(vocab_size, word_vector_dim, input_shape=(None,)))\n",
    "model.add(tf.keras.layers.GRU(gru_units, recurrent_dropout=dropout_rate, return_sequences=True))\n",
    "model.add(tf.keras.layers.GRU(gru_units, recurrent_dropout=dropout_rate))\n",
    "model.add(tf.keras.layers.Dropout(dropout_rate))\n",
    "model.add(tf.keras.layers.Dense(8, activation='relu'))\n",
    "model.add(tf.keras.layers.Dense(1, activation='sigmoid'))  # 최종 출력은 긍정/부정을 나타내는 1dim 입니다.\n",
    "\n",
    "# 학습의 진행\n",
    "model.compile(optimizer='adam',\n",
    "              loss='binary_crossentropy',\n",
    "              metrics=['accuracy'])\n",
    "              \n",
    "epochs=3  # 몇 epoch를 훈련하면 좋을지 결과를 보면서 바꾸어 봅시다. \n",
    "\n",
    "history = model.fit(x_train,\n",
    "                    y_train,\n",
    "                    epochs=epochs,\n",
    "                    batch_size=512,\n",
    "                    validation_data=(x_val, y_val),\n",
    "                    verbose=1)\n",
    "\n",
    "results = model.evaluate(x_test, y_test, verbose=2)"
   ]
  },
  {
   "cell_type": "markdown",
   "id": "8caed4de",
   "metadata": {},
   "source": [
    "- model_type unigram -> bpe\n",
    "    - accuracy: 0.8566 -> 0.8558"
   ]
  },
  {
   "cell_type": "markdown",
   "id": "d0d0cdcd",
   "metadata": {},
   "source": [
    "---"
   ]
  },
  {
   "cell_type": "code",
   "execution_count": 63,
   "id": "11eee849",
   "metadata": {
    "scrolled": true
   },
   "outputs": [
    {
     "name": "stdout",
     "output_type": "stream",
     "text": [
      "-rw-r--r-- 1 root root 839707 Oct 11 03:44 korean_spm.model\r\n",
      "-rw-r--r-- 1 root root 558865 Oct 11 03:44 korean_spm.vocab\r\n"
     ]
    }
   ],
   "source": [
    "# model_type unigram -> bpe, vocab_size 8000 -> 32000\n",
    "temp_file = os.getenv('HOME')+'/aiffel/aiffel/AIFFEL_quest_rs/GoingDeeper/Gd01/bpe_vocab_size_32000_korean-english-park.train.ko.temp'\n",
    "\n",
    "with open(temp_file, 'w') as f:\n",
    "    for row in corpus:   \n",
    "        f.write(str(row) + '\\n')\n",
    "\n",
    "vocab_size=32000\n",
    "\n",
    "spm.SentencePieceTrainer.Train(\n",
    "    '--input={} --model_prefix=korean_spm --vocab_size={} --model_type={}'.format(temp_file, vocab_size, 'bpe')    \n",
    ")\n",
    "#위 Train에서  --model_type = unigram이 디폴트 적용되어 있습니다. --model_type = bpe로 옵션을 주어 변경할 수 있습니다.\n",
    "\n",
    "!ls -l korean_spm*"
   ]
  },
  {
   "cell_type": "markdown",
   "id": "1eb06b60",
   "metadata": {},
   "source": [
    "토큰화 진행"
   ]
  },
  {
   "cell_type": "code",
   "execution_count": 64,
   "id": "5fa6b866",
   "metadata": {},
   "outputs": [],
   "source": [
    "s = spm.SentencePieceProcessor()\n",
    "s.Load('korean_spm.model')\n",
    "\n",
    "tensor, word_index, index_word = sp_tokenize(s, corpus)"
   ]
  },
  {
   "cell_type": "markdown",
   "id": "02213262",
   "metadata": {},
   "source": [
    "데이터셋 분리"
   ]
  },
  {
   "cell_type": "code",
   "execution_count": 65,
   "id": "1d507741",
   "metadata": {
    "scrolled": true
   },
   "outputs": [],
   "source": [
    "x_train = tensor[:146081]"
   ]
  },
  {
   "cell_type": "code",
   "execution_count": 66,
   "id": "f61798a1",
   "metadata": {},
   "outputs": [],
   "source": [
    "y_train = np.array(list(train_data['label']))"
   ]
  },
  {
   "cell_type": "code",
   "execution_count": 67,
   "id": "4684d6d6",
   "metadata": {},
   "outputs": [],
   "source": [
    "x_test = tensor[146081:]"
   ]
  },
  {
   "cell_type": "code",
   "execution_count": 68,
   "id": "d3506cd1",
   "metadata": {},
   "outputs": [],
   "source": [
    "y_test = np.array(list(test_data['label']))"
   ]
  },
  {
   "cell_type": "markdown",
   "id": "9ae49780",
   "metadata": {},
   "source": [
    "validation set 구성"
   ]
  },
  {
   "cell_type": "code",
   "execution_count": 69,
   "id": "b5e7201b",
   "metadata": {},
   "outputs": [],
   "source": [
    "x_train, x_val, y_train, y_val = train_test_split(x_train, \n",
    "                                                  y_train, \n",
    "                                                  test_size=0.2, \n",
    "                                                  random_state=42)"
   ]
  },
  {
   "cell_type": "code",
   "execution_count": 70,
   "id": "c0bc8f19",
   "metadata": {},
   "outputs": [
    {
     "name": "stdout",
     "output_type": "stream",
     "text": [
      "WARNING:tensorflow:Layer gru_8 will not use cuDNN kernels since it doesn't meet the criteria. It will use a generic GPU kernel as fallback when running on GPU.\n",
      "WARNING:tensorflow:Layer gru_9 will not use cuDNN kernels since it doesn't meet the criteria. It will use a generic GPU kernel as fallback when running on GPU.\n",
      "Epoch 1/2\n",
      "229/229 [==============================] - 160s 687ms/step - loss: 0.4305 - accuracy: 0.7986 - val_loss: 0.3444 - val_accuracy: 0.8511\n",
      "Epoch 2/2\n",
      "229/229 [==============================] - 157s 684ms/step - loss: 0.2701 - accuracy: 0.8908 - val_loss: 0.3447 - val_accuracy: 0.8534\n",
      "1535/1535 - 78s - loss: 0.3481 - accuracy: 0.8524\n"
     ]
    }
   ],
   "source": [
    "word_vector_dim = 256\n",
    "gru_units = 64\n",
    "dropout_rate = 0.5\n",
    "\n",
    "# 모델 구성\n",
    "model = tf.keras.Sequential()\n",
    "model.add(tf.keras.layers.Embedding(vocab_size, word_vector_dim, input_shape=(None,)))\n",
    "model.add(tf.keras.layers.GRU(gru_units, recurrent_dropout=dropout_rate, return_sequences=True))\n",
    "model.add(tf.keras.layers.GRU(gru_units, recurrent_dropout=dropout_rate))\n",
    "model.add(tf.keras.layers.Dropout(dropout_rate))\n",
    "model.add(tf.keras.layers.Dense(8, activation='relu'))\n",
    "model.add(tf.keras.layers.Dense(1, activation='sigmoid'))  # 최종 출력은 긍정/부정을 나타내는 1dim 입니다.\n",
    "\n",
    "# 학습의 진행\n",
    "model.compile(optimizer='adam',\n",
    "              loss='binary_crossentropy',\n",
    "              metrics=['accuracy'])\n",
    "              \n",
    "epochs=2  # 몇 epoch를 훈련하면 좋을지 결과를 보면서 바꾸어 봅시다. \n",
    "\n",
    "history = model.fit(x_train,\n",
    "                    y_train,\n",
    "                    epochs=epochs,\n",
    "                    batch_size=512,\n",
    "                    validation_data=(x_val, y_val),\n",
    "                    verbose=1)\n",
    "\n",
    "results = model.evaluate(x_test, y_test, verbose=2)"
   ]
  },
  {
   "cell_type": "markdown",
   "id": "2b0d9c38",
   "metadata": {},
   "source": [
    "- model_type unigram -> bpe, vocab_size 8000 -> 32000\n",
    "    - accuracy: 0.8566 -> 0.8524"
   ]
  },
  {
   "cell_type": "markdown",
   "id": "d2f88d1c",
   "metadata": {},
   "source": [
    "# 회고"
   ]
  },
  {
   "cell_type": "markdown",
   "id": "5ad288ee",
   "metadata": {},
   "source": [
    "- 형태소 분석기와 SentencePiece의 성능을 비교했을 때 성능 차이가 거의 없는 것을 확인할 수 있었다. \n",
    "    - 범용성이 좋은 SentencePiece을 앞으로 자주 사용할 거 같은 느낌이 든다!!\n",
    "\n",
    "- SentencePiece 모델의 성능 개선을 위해 3개 정도의 실험을 진행했으나 오차 범위로 생각될 정도의 결과가 나왔다. \n",
    "    - 기본으로 설정되어 있는 model_type = unigram, vocab_size = 8000이 제일 좋은 거 같다."
   ]
  }
 ],
 "metadata": {
  "kernelspec": {
   "display_name": "Python 3 (ipykernel)",
   "language": "python",
   "name": "python3"
  },
  "language_info": {
   "codemirror_mode": {
    "name": "ipython",
    "version": 3
   },
   "file_extension": ".py",
   "mimetype": "text/x-python",
   "name": "python",
   "nbconvert_exporter": "python",
   "pygments_lexer": "ipython3",
   "version": "3.9.7"
  }
 },
 "nbformat": 4,
 "nbformat_minor": 5
}
