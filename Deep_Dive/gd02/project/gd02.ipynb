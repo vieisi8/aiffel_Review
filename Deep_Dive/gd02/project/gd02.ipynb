{
 "cells": [
  {
   "cell_type": "markdown",
   "id": "48818d3f",
   "metadata": {},
   "source": [
    "# step 0. 필요 라이브러리 import"
   ]
  },
  {
   "cell_type": "code",
   "execution_count": 3,
   "id": "8a6ef2fc",
   "metadata": {},
   "outputs": [],
   "source": [
    "from tensorflow.keras.datasets import reuters\n",
    "import matplotlib.pyplot as plt\n",
    "import seaborn as sns\n",
    "import numpy as np\n",
    "import pandas as pd\n",
    "from sklearn.feature_extraction.text import CountVectorizer\n",
    "from sklearn.feature_extraction.text import TfidfTransformer\n",
    "from sklearn.naive_bayes import MultinomialNB #다항분포 나이브 베이즈 모델\n",
    "from sklearn.linear_model import LogisticRegression, SGDClassifier\n",
    "from sklearn.naive_bayes import ComplementNB\n",
    "from sklearn.tree import DecisionTreeClassifier\n",
    "from sklearn.ensemble import RandomForestClassifier\n",
    "from sklearn.ensemble import GradientBoostingClassifier\n",
    "from sklearn.ensemble import VotingClassifier\n",
    "from sklearn.svm import LinearSVC\n",
    "from sklearn.metrics import accuracy_score #정확도 계산\n",
    "from sklearn.metrics import classification_report\n",
    "from sklearn.metrics import confusion_matrix\n",
    "import tensorflow as tf\n",
    "from sklearn.model_selection import train_test_split"
   ]
  },
  {
   "cell_type": "markdown",
   "id": "5cfdf923",
   "metadata": {},
   "source": [
    "# step 1. 모든 단어 사용"
   ]
  },
  {
   "cell_type": "markdown",
   "id": "6c4447be",
   "metadata": {},
   "source": [
    "1. 데이터 다운"
   ]
  },
  {
   "cell_type": "code",
   "execution_count": 2,
   "id": "ebe2438b",
   "metadata": {},
   "outputs": [],
   "source": [
    "(x_train, y_train), (x_test, y_test) = reuters.load_data(num_words=None, test_split=0.2)"
   ]
  },
  {
   "cell_type": "markdown",
   "id": "0ddef9bc",
   "metadata": {},
   "source": [
    "2. 데이터 분포 확인"
   ]
  },
  {
   "cell_type": "code",
   "execution_count": 3,
   "id": "a1d5c9d3",
   "metadata": {
    "scrolled": true
   },
   "outputs": [
    {
     "name": "stdout",
     "output_type": "stream",
     "text": [
      "훈련용 뉴스의 최대 길이 :2376\n",
      "훈련용 뉴스의 평균 길이 :145.5398574927633\n"
     ]
    },
    {
     "data": {
      "image/png": "[encoded data removed]",
      "text/plain": [
       "<Figure size 432x288 with 1 Axes>"
      ]
     },
     "metadata": {
      "needs_background": "light"
     },
     "output_type": "display_data"
    }
   ],
   "source": [
    "print('훈련용 뉴스의 최대 길이 :{}'.format(max(len(l) for l in x_train)))\n",
    "print('훈련용 뉴스의 평균 길이 :{}'.format(sum(map(len, x_train))/len(x_train)))\n",
    "\n",
    "plt.hist([len(s) for s in x_train], bins=50)\n",
    "plt.xlabel('length of samples')\n",
    "plt.ylabel('number of samples')\n",
    "plt.show()"
   ]
  },
  {
   "cell_type": "code",
   "execution_count": 4,
   "id": "445d8e2d",
   "metadata": {
    "scrolled": true
   },
   "outputs": [
    {
     "data": {
      "image/png": "[encoded data removed]",
      "text/plain": [
       "<Figure size 792x360 with 1 Axes>"
      ]
     },
     "metadata": {
      "needs_background": "light"
     },
     "output_type": "display_data"
    }
   ],
   "source": [
    "fig, axe = plt.subplots(ncols=1)\n",
    "fig.set_size_inches(11,5)\n",
    "sns.countplot(x=y_train)\n",
    "plt.show()"
   ]
  },
  {
   "cell_type": "markdown",
   "id": "3ae76ee5",
   "metadata": {},
   "source": [
    "3. 데이터 복원"
   ]
  },
  {
   "cell_type": "markdown",
   "id": "6ee3c6af",
   "metadata": {},
   "source": [
    "'단어'를 key값으로, 고유한 '정수'를 value로 가지는 dictionary -> word_index로 저장"
   ]
  },
  {
   "cell_type": "code",
   "execution_count": 5,
   "id": "bc595216",
   "metadata": {
    "scrolled": false
   },
   "outputs": [],
   "source": [
    "word_index = reuters.get_word_index(path=\"reuters_word_index.json\")"
   ]
  },
  {
   "cell_type": "markdown",
   "id": "ee5ecf75",
   "metadata": {},
   "source": [
    "(pad, sos, unk)특별한 토큰 매핑"
   ]
  },
  {
   "cell_type": "code",
   "execution_count": 6,
   "id": "c099b932",
   "metadata": {},
   "outputs": [],
   "source": [
    "index_to_word = { index+3 : word for word, index in word_index.items() }\n",
    "\n",
    "# index_to_word에 숫자 0은 <pad>, 숫자 1은 <sos>, 숫자 2는 <unk>를 넣어줍니다.\n",
    "for index, token in enumerate((\"<pad>\", \"<sos>\", \"<unk>\")):\n",
    "  index_to_word[index]=token"
   ]
  },
  {
   "cell_type": "markdown",
   "id": "1e532d2e",
   "metadata": {},
   "source": [
    "데이터셋 문자로 복원"
   ]
  },
  {
   "cell_type": "code",
   "execution_count": 7,
   "id": "f95ab7c6",
   "metadata": {
    "scrolled": true
   },
   "outputs": [
    {
     "name": "stdout",
     "output_type": "stream",
     "text": [
      "8982\n",
      "x_train[5]:  ['<sos> mcgrath rentcorp said as a result of its december acquisition of space co it expects earnings per share in 1987 of 1 15 to 1 30 dlrs per share up from 70 cts in 1986 the company said pretax net should rise to nine to 10 mln dlrs from six mln dlrs in 1986 and rental operation revenues to 19 to 22 mln dlrs from 12 5 mln dlrs it said cash flow per share this year should be 2 50 to three dlrs reuter 3', \"<sos> generale de banque sa lt genb br and lt heller overseas corp of chicago have each taken 50 pct stakes in factoring company sa belgo factors generale de banque said in a statement it gave no financial details of the transaction sa belgo factors' turnover in 1986 was 17 5 billion belgian francs reuter 3\", '<sos> shr 3 28 dlrs vs 22 cts shr diluted 2 99 dlrs vs 22 cts net 46 0 mln vs 3 328 000 avg shrs 14 0 mln vs 15 2 mln year shr 5 41 dlrs vs 1 56 dlrs shr diluted 4 94 dlrs vs 1 50 dlrs net 78 2 mln vs 25 9 mln avg shrs 14 5 mln vs 15 1 mln note earnings per share reflect the two for one split effective january 6 1987 per share amounts are calculated after preferred stock dividends loss continuing operations for the qtr 1986 includes gains of sale of investments in enron corp of 14 mln dlrs and associated companies of 4 189 000 less writedowns of investments in national intergroup inc of 11 8 mln and brae corp of 15 6 mln reuter 3', \"<sos> the farmers home administration the u s agriculture department's farm lending arm could lose about seven billion dlrs in outstanding principal on its severely delinquent borrowers or about one fourth of its farm loan portfolio the general accounting office gao said in remarks prepared for delivery to the senate agriculture committee brian crowley senior associate director of gao also said that a preliminary analysis of proposed changes in fmha's financial eligibility standards indicated as many as one half of fmha borrowers who received new loans from the agency in 1986 would be ineligible under the proposed system the agency has proposed evaluating applicants' credit using a variety of financial ratios instead of relying solely on cashflow ability senate agriculture committee chairman patrick leahy d vt slammed the proposed eligibility changes telling fmha administrator vance clark at a hearing that they would mark a dramatic shift in the agency's purpose away from being farmers' lender of last resort toward becoming a big city bank but clark defended the new regulations saying the agency had a responsibility to administer its 70 billion dlr loan portfolio in a compassionate yet judicious manner crowley of gao congress' investigative arm said the proposed credit scoring system attempted to ensure that fmha would make loans only to borrowers who had a reasonable change of repaying their debt reuter 3\", '<sos> seton co said its board has received a proposal from chairman and chief executive officer philip d kaltenbacher to acquire seton for 15 75 dlrs per share in cash seton said the acquisition bid is subject to kaltenbacher arranging the necessary financing it said he intends to ask other members of senior management to participate the company said kaltenbacher owns 30 pct of seton stock and other management members another 7 5 pct seton said it has formed an independent board committee to consider the offer and has deferred the annual meeting it had scheduled for march 31 reuter 3']\n"
     ]
    }
   ],
   "source": [
    "decoded = []\n",
    "for i in range(len(x_train)):\n",
    "    t = ' '.join([index_to_word[index] for index in x_train[i]])\n",
    "    decoded.append(t)\n",
    "\n",
    "x_train = decoded\n",
    "\n",
    "print(len(x_train))\n",
    "print('x_train[5]: ', x_train[:5])"
   ]
  },
  {
   "cell_type": "code",
   "execution_count": 8,
   "id": "224d5ffa",
   "metadata": {
    "scrolled": true
   },
   "outputs": [
    {
     "name": "stdout",
     "output_type": "stream",
     "text": [
      "2246\n",
      "x_test[5]:  ['<sos> the great atlantic and pacific tea co said its three year 345 mln dlr capital program will be be substantially increased to accommodate growth and expansion plans for waldbaum inc and shopwell inc over the next two years a and p said the acquisition of shopwell in august 1986 and waldbaum in december helped us achieve better than expected results in the fourth quarter ended february 28 its net income from continuing operations jumped 52 6 pct to 20 7 mln dlrs or 55 cts a share in the latest quarter as sales increased 48 3 pct to 1 58 billion dlrs a and p gave no details on the expanded capital program but it did say it completed the first year of the program during 1986 a and p is 52 4 pct owned by lt tengelmann warenhandelsgesellschaft of west germany reuter 3', \"<sos> philippine sugar production in the 1987 88 crop year ending august has been set at 1 6 mln tonnes up from a provisional 1 3 mln tonnes this year sugar regulatory administration sra chairman arsenio yulo said yulo told reuters a survey during the current milling season which ends next month showed the 1986 87 estimate would almost certainly be met he said at least 1 2 mln tonnes of the 1987 88 crop would be earmarked for domestic consumption yulo said about 130 000 tonnes would be set aside for the u s sugar quota 150 000 tonnes for strategic reserves and 50 000 tonnes would be sold on the world market he said if the government approved a long standing sra recommendation to manufacture ethanol the project would take up another 150 000 tonnes slightly raising the target the government for its own reasons has been delaying approval of the project but we expect it to come through by july yulo said ethanol could make up five pct of gasoline cutting the oil import bill by about 300 mln pesos yulo said three major philippine distilleries were ready to start manufacturing ethanol if the project was approved the ethanol project would result in employment for about 100 000 people sharply reducing those thrown out of work by depressed world sugar prices and a moribund domestic industry production quotas set for the first time in 1987 88 had been submitted to president corazon aquino i think the president would rather wait till the new congress convenes after the may elections he said but there is really no need for such quotas we are right now producing just slightly over our own consumption level the producers have never enjoyed such high prices yulo said adding sugar was currently selling locally for 320 pesos per picul up from 190 pesos last august yulo said prices were driven up because of speculation following the sra's bid to control production we are no longer concerned so much with the world market he said adding producers in the negros region had learned from their mistakes and diversified into corn and prawn farming and cloth production he said diversification into products other than ethanol was also possible within the sugar industry the brazilians long ago learnt their lessons yulo said they have 300 sugar mills compared with our 41 but they relocated many of them and diversified production we want to call this a 'sugarcane industry' instead of the sugar industry he said sugarcane could be fed to pigs and livestock used for thatching roofs or used in room panelling when you cut sugarcane you don't even have to produce sugar he said yulo said the philippines was lobbying for a renewal of the international sugar agreement which expired in 1984 as a major sugar producer we are urging them to write a new agreement which would revive world prices yulo said if there is no agreement world prices will always be depressed particularly because the european community is subsidising its producers and dumping sugar on the markets he said current world prices holding steady at about 7 60 cents per pound were uneconomical for the philippines where production costs ranged from 12 to 14 cents a pound if the price holds steady for a while at 7 60 cents i expect the level to rise to about 11 cents a pound by the end of this year he said yulo said economists forecast a bullish sugar market by 1990 with world consumption outstripping production he said sugar markets were holding up despite encroachments from artificial sweeteners and high fructose corn syrup but we are not happy with the reagan administration he said since 1935 we have been regular suppliers of sugar to the u s in 1982 when they restored the quota system they cut ours in half without any justification manila was keenly watching washington's moves to cut domestic support prices to 12 cents a pound from 18 cents the u s agriculture department last december slashed its 12 month 1987 sugar import quota from the philippines to 143 780 short tons from 231 660 short tons in 1986 yulo said despite next year's increased production target some philippine mills were expected to shut down at least four of the 41 mills were not working during the 1986 87 season he said we expect two or three more to follow suit during the next season reuter 3\", \"<sos> the agriculture department's widening of louisiana gulf differentials will affect county posted prices for number two yellow corn in ten states a usda official said all counties in iowa will be affected as will counties which use the gulf to price corn in illinois indiana tennessee kentucky missouri mississippi arkansas alabama and louisiana said ron burgess deputy director of commodity operations division for the usda usda last night notified the grain industry that effective immediately all gulf differentials used to price interior corn would be widened on a sliding scale basis of four to eight cts depending on what the differential is usda's action was taken to lower excessively high posted county prices for corn caused by high gulf prices we've been following this louisiana gulf situation for a month and we don't think it's going to get back in line in any nearby time burgess said burgess said usda will probably narrow back the gulf differentials when and if gulf prices recede if we're off the mark now because we're too high wouldn't we be as much off the mark if we're too low he said while forecasting more adjustments if gulf prices fall burgess said no other changes in usda's price system are being planned right now we don't tinker we don't make changes lightly and we don't make changes often he said reuter 3\", '<sos> graham mccormick oil and gas partnership said it completed the sale of interests in two major oil and gas fields to lt energy assets international corp for 21 mln dlrs the company said it sold about one half of its 50 pct interest in the oak hill and north rucias fields its two largest producing properties it said it used about 20 mln dlrs of the proceeds to prepay principal on its senior secured notes semi annual principal payments on the remaining 40 mln dlrs of notes have been satisfied until december 1988 as a result it said the company said the note agreements were amended to reflect an easing of some financial covenants and an increase of interest to 13 5 pct from 13 0 pct until december 1990 it said the noteholders exercise price for 1 125 000 warrants was also reduced to 50 cts from 1 50 dlrs the company said energy assets agreed to share the costs of increasing production at the oak hill field reuter 3', '<sos> strong south easterly winds were keeping many vessels trapped in the ice off the finnish and swedish coasts in one of the worst icy periods in the baltic for many years the finnish board of navigation said in finland and sweden up to 50 vessels were reported to be stuck in the ice and even the largest of the assisting icebreakers were having difficulties in breaking through to the stranded ships coastguard officials said however icy conditions in the southern baltic at the soviet oil ports of ventspils and klaipeda had eased they said weather officials in neighbouring sweden said the icy conditions in the baltic were the worst for 30 years with ships fighting a losing battle to keep moving in the coastal stretches of the gulf of bothnia which divides finland and sweden the ice is up to one metre thick with drifts and currents packing it into almost impenetrable walls three metres high swedish coastguard officials said weather forecasts say winds may ease during the weekend but a further drop in temperature could bring shipping to a standstill the officials said reuter 3']\n"
     ]
    }
   ],
   "source": [
    "decoded = []\n",
    "for i in range(len(x_test)):\n",
    "    t = ' '.join([index_to_word[index] for index in x_test[i]])\n",
    "    decoded.append(t)\n",
    "\n",
    "x_test = decoded\n",
    "print(len(x_test))\n",
    "print('x_test[5]: ', x_test[:5])"
   ]
  },
  {
   "cell_type": "markdown",
   "id": "7e02ac9f",
   "metadata": {},
   "source": [
    "4. 벡터화(DTM, TF-IDF 행렬 사용)"
   ]
  },
  {
   "cell_type": "markdown",
   "id": "b4342c86",
   "metadata": {},
   "source": [
    "DTM 생성"
   ]
  },
  {
   "cell_type": "code",
   "execution_count": 9,
   "id": "dcf4608c",
   "metadata": {},
   "outputs": [
    {
     "name": "stdout",
     "output_type": "stream",
     "text": [
      "(8982, 26506)\n"
     ]
    }
   ],
   "source": [
    "dtmvector = CountVectorizer()\n",
    "x_train_dtm = dtmvector.fit_transform(x_train)\n",
    "print(x_train_dtm.shape)"
   ]
  },
  {
   "cell_type": "markdown",
   "id": "32a6ff90",
   "metadata": {},
   "source": [
    "TF-IDF Matrix 생성"
   ]
  },
  {
   "cell_type": "code",
   "execution_count": 10,
   "id": "5bfbf81a",
   "metadata": {},
   "outputs": [
    {
     "name": "stdout",
     "output_type": "stream",
     "text": [
      "(8982, 26506)\n"
     ]
    }
   ],
   "source": [
    "tfidf_transformer = TfidfTransformer()\n",
    "tfidfv = tfidf_transformer.fit_transform(x_train_dtm)\n",
    "print(tfidfv.shape)"
   ]
  },
  {
   "cell_type": "markdown",
   "id": "f317f68f",
   "metadata": {},
   "source": [
    "테스트 데이터의 TF-IDF Matrix 생성"
   ]
  },
  {
   "cell_type": "code",
   "execution_count": 11,
   "id": "c5c62c0f",
   "metadata": {},
   "outputs": [],
   "source": [
    "#테스트 데이터를 DTM으로 변환\n",
    "x_test_dtm = dtmvector.transform(x_test)\n",
    "\n",
    "#DTM을 TF-IDF 행렬로 변환\n",
    "tfidfv_test = tfidf_transformer.transform(x_test_dtm)"
   ]
  },
  {
   "cell_type": "markdown",
   "id": "0c96b2e4",
   "metadata": {},
   "source": [
    "5. 모델 학습 및 예측, 평가"
   ]
  },
  {
   "cell_type": "markdown",
   "id": "6076303b",
   "metadata": {},
   "source": [
    "나이브 베이즈 분류기"
   ]
  },
  {
   "cell_type": "code",
   "execution_count": 12,
   "id": "926c54f4",
   "metadata": {},
   "outputs": [
    {
     "data": {
      "text/plain": [
       "MultinomialNB()"
      ]
     },
     "execution_count": 12,
     "metadata": {},
     "output_type": "execute_result"
    }
   ],
   "source": [
    "# 모델 정의 및 훈련\n",
    "nb = MultinomialNB()\n",
    "nb.fit(tfidfv, y_train)"
   ]
  },
  {
   "cell_type": "code",
   "execution_count": 13,
   "id": "4b7296c0",
   "metadata": {},
   "outputs": [
    {
     "name": "stdout",
     "output_type": "stream",
     "text": [
      "정확도: 0.5997328584149599\n"
     ]
    }
   ],
   "source": [
    "#테스트 데이터에 대한 예측\n",
    "predicted = nb.predict(tfidfv_test)\n",
    "print(\"정확도:\", accuracy_score(y_test, predicted)) #예측값과 실제값 비교"
   ]
  },
  {
   "cell_type": "code",
   "execution_count": 14,
   "id": "185afc1c",
   "metadata": {
    "scrolled": true
   },
   "outputs": [
    {
     "name": "stdout",
     "output_type": "stream",
     "text": [
      "              precision    recall  f1-score   support\n",
      "\n",
      "           0       0.00      0.00      0.00        12\n",
      "           1       0.79      0.21      0.33       105\n",
      "           2       0.00      0.00      0.00        20\n",
      "           3       0.72      0.92      0.81       813\n",
      "           4       0.45      0.96      0.61       474\n",
      "           5       0.00      0.00      0.00         5\n",
      "           6       0.00      0.00      0.00        14\n",
      "           7       0.00      0.00      0.00         3\n",
      "           8       0.00      0.00      0.00        38\n",
      "           9       0.00      0.00      0.00        25\n",
      "          10       0.00      0.00      0.00        30\n",
      "          11       0.80      0.29      0.42        83\n",
      "          12       0.00      0.00      0.00        13\n",
      "          13       0.00      0.00      0.00        37\n",
      "          14       0.00      0.00      0.00         2\n",
      "          15       0.00      0.00      0.00         9\n",
      "          16       0.75      0.18      0.29        99\n",
      "          17       0.00      0.00      0.00        12\n",
      "          18       0.00      0.00      0.00        20\n",
      "          19       0.73      0.58      0.64       133\n",
      "          20       0.00      0.00      0.00        70\n",
      "          21       0.00      0.00      0.00        27\n",
      "          22       0.00      0.00      0.00         7\n",
      "          23       0.00      0.00      0.00        12\n",
      "          24       0.00      0.00      0.00        19\n",
      "          25       0.00      0.00      0.00        31\n",
      "          26       0.00      0.00      0.00         8\n",
      "          27       0.00      0.00      0.00         4\n",
      "          28       0.00      0.00      0.00        10\n",
      "          29       0.00      0.00      0.00         4\n",
      "          30       0.00      0.00      0.00        12\n",
      "          31       0.00      0.00      0.00        13\n",
      "          32       0.00      0.00      0.00        10\n",
      "          33       0.00      0.00      0.00         5\n",
      "          34       0.00      0.00      0.00         7\n",
      "          35       0.00      0.00      0.00         6\n",
      "          36       0.00      0.00      0.00        11\n",
      "          37       0.00      0.00      0.00         2\n",
      "          38       0.00      0.00      0.00         3\n",
      "          39       0.00      0.00      0.00         5\n",
      "          40       0.00      0.00      0.00        10\n",
      "          41       0.00      0.00      0.00         8\n",
      "          42       0.00      0.00      0.00         3\n",
      "          43       0.00      0.00      0.00         6\n",
      "          44       0.00      0.00      0.00         5\n",
      "          45       0.00      0.00      0.00         1\n",
      "\n",
      "    accuracy                           0.60      2246\n",
      "   macro avg       0.09      0.07      0.07      2246\n",
      "weighted avg       0.50      0.60      0.50      2246\n",
      "\n"
     ]
    }
   ],
   "source": [
    "# 정밀도, 재현율, F1점수 확인\n",
    "print(classification_report(y_test, predicted, zero_division=0))"
   ]
  },
  {
   "cell_type": "code",
   "execution_count": 15,
   "id": "a0690d16",
   "metadata": {},
   "outputs": [
    {
     "name": "stdout",
     "output_type": "stream",
     "text": [
      "Weighted Avg F1-score: 0.5045670886188423\n"
     ]
    }
   ],
   "source": [
    "# F1 score weighted avg만 평가 하겠음\n",
    "report = classification_report(y_test, predicted, zero_division=0, output_dict=True)\n",
    "print(\"Weighted Avg F1-score:\", report['weighted avg']['f1-score'])"
   ]
  },
  {
   "cell_type": "markdown",
   "id": "4c154bed",
   "metadata": {},
   "source": [
    "CNB"
   ]
  },
  {
   "cell_type": "code",
   "execution_count": 16,
   "id": "58927d37",
   "metadata": {},
   "outputs": [
    {
     "data": {
      "text/plain": [
       "ComplementNB()"
      ]
     },
     "execution_count": 16,
     "metadata": {},
     "output_type": "execute_result"
    }
   ],
   "source": [
    "# 모델 정의 및 훈련\n",
    "cb = ComplementNB()\n",
    "cb.fit(tfidfv, y_train)"
   ]
  },
  {
   "cell_type": "code",
   "execution_count": 17,
   "id": "df176bca",
   "metadata": {},
   "outputs": [
    {
     "name": "stdout",
     "output_type": "stream",
     "text": [
      "정확도: 0.7649154051647373\n"
     ]
    }
   ],
   "source": [
    "#테스트 데이터에 대한 예측\n",
    "predicted = cb.predict(tfidfv_test)\n",
    "print(\"정확도:\", accuracy_score(y_test, predicted)) #예측값과 실제값 비교"
   ]
  },
  {
   "cell_type": "code",
   "execution_count": 18,
   "id": "51b300e6",
   "metadata": {
    "scrolled": true
   },
   "outputs": [
    {
     "name": "stdout",
     "output_type": "stream",
     "text": [
      "              precision    recall  f1-score   support\n",
      "\n",
      "           0       0.86      0.50      0.63        12\n",
      "           1       0.63      0.88      0.73       105\n",
      "           2       0.91      0.50      0.65        20\n",
      "           3       0.87      0.91      0.89       813\n",
      "           4       0.75      0.93      0.83       474\n",
      "           5       0.00      0.00      0.00         5\n",
      "           6       0.92      0.86      0.89        14\n",
      "           7       1.00      0.67      0.80         3\n",
      "           8       0.43      0.08      0.13        38\n",
      "           9       0.81      0.88      0.85        25\n",
      "          10       0.96      0.73      0.83        30\n",
      "          11       0.55      0.67      0.61        83\n",
      "          12       0.00      0.00      0.00        13\n",
      "          13       0.62      0.54      0.58        37\n",
      "          14       0.00      0.00      0.00         2\n",
      "          15       0.50      0.11      0.18         9\n",
      "          16       0.67      0.77      0.71        99\n",
      "          17       0.00      0.00      0.00        12\n",
      "          18       0.65      0.55      0.59        20\n",
      "          19       0.55      0.80      0.65       133\n",
      "          20       0.89      0.23      0.36        70\n",
      "          21       0.84      0.59      0.70        27\n",
      "          22       0.00      0.00      0.00         7\n",
      "          23       0.71      0.42      0.53        12\n",
      "          24       0.50      0.11      0.17        19\n",
      "          25       0.83      0.61      0.70        31\n",
      "          26       1.00      0.88      0.93         8\n",
      "          27       0.00      0.00      0.00         4\n",
      "          28       0.33      0.10      0.15        10\n",
      "          29       0.00      0.00      0.00         4\n",
      "          30       0.00      0.00      0.00        12\n",
      "          31       1.00      0.31      0.47        13\n",
      "          32       1.00      0.80      0.89        10\n",
      "          33       1.00      0.80      0.89         5\n",
      "          34       1.00      0.71      0.83         7\n",
      "          35       1.00      0.17      0.29         6\n",
      "          36       0.00      0.00      0.00        11\n",
      "          37       0.00      0.00      0.00         2\n",
      "          38       1.00      0.33      0.50         3\n",
      "          39       1.00      0.20      0.33         5\n",
      "          40       0.00      0.00      0.00        10\n",
      "          41       0.67      0.25      0.36         8\n",
      "          42       1.00      0.33      0.50         3\n",
      "          43       1.00      0.17      0.29         6\n",
      "          44       1.00      0.80      0.89         5\n",
      "          45       1.00      1.00      1.00         1\n",
      "\n",
      "    accuracy                           0.76      2246\n",
      "   macro avg       0.62      0.42      0.46      2246\n",
      "weighted avg       0.75      0.76      0.73      2246\n",
      "\n"
     ]
    }
   ],
   "source": [
    "# 정밀도, 재현율, F1점수 확인\n",
    "print(classification_report(y_test, predicted, zero_division=0))"
   ]
  },
  {
   "cell_type": "code",
   "execution_count": 19,
   "id": "d176c7cc",
   "metadata": {},
   "outputs": [
    {
     "name": "stdout",
     "output_type": "stream",
     "text": [
      "Weighted Avg F1-score: 0.7346534179503126\n"
     ]
    }
   ],
   "source": [
    "# F1 score weighted avg만 평가 하겠음\n",
    "report = classification_report(y_test, predicted, zero_division=0, output_dict=True)\n",
    "print(\"Weighted Avg F1-score:\", report['weighted avg']['f1-score'])"
   ]
  },
  {
   "cell_type": "markdown",
   "id": "17794473",
   "metadata": {},
   "source": [
    "로지스틱 회귀"
   ]
  },
  {
   "cell_type": "code",
   "execution_count": 20,
   "id": "79a7a24d",
   "metadata": {},
   "outputs": [
    {
     "data": {
      "text/plain": [
       "LogisticRegression(C=10000, max_iter=3000)"
      ]
     },
     "execution_count": 20,
     "metadata": {},
     "output_type": "execute_result"
    }
   ],
   "source": [
    "# 모델 정의 및 훈련\n",
    "lr = LogisticRegression(C=10000, penalty='l2', max_iter=3000)\n",
    "lr.fit(tfidfv, y_train)"
   ]
  },
  {
   "cell_type": "code",
   "execution_count": 21,
   "id": "666ddd07",
   "metadata": {},
   "outputs": [
    {
     "name": "stdout",
     "output_type": "stream",
     "text": [
      "정확도: 0.8165627782724845\n"
     ]
    }
   ],
   "source": [
    "#테스트 데이터에 대한 예측\n",
    "predicted = lr.predict(tfidfv_test)\n",
    "print(\"정확도:\", accuracy_score(y_test, predicted)) #예측값과 실제값 비교"
   ]
  },
  {
   "cell_type": "code",
   "execution_count": 22,
   "id": "d6d5a5d9",
   "metadata": {
    "scrolled": true
   },
   "outputs": [
    {
     "name": "stdout",
     "output_type": "stream",
     "text": [
      "              precision    recall  f1-score   support\n",
      "\n",
      "           0       0.89      0.67      0.76        12\n",
      "           1       0.75      0.79      0.77       105\n",
      "           2       0.78      0.70      0.74        20\n",
      "           3       0.92      0.93      0.93       813\n",
      "           4       0.81      0.88      0.84       474\n",
      "           5       1.00      0.20      0.33         5\n",
      "           6       0.93      0.93      0.93        14\n",
      "           7       1.00      0.33      0.50         3\n",
      "           8       0.69      0.71      0.70        38\n",
      "           9       0.85      0.88      0.86        25\n",
      "          10       0.93      0.90      0.92        30\n",
      "          11       0.67      0.72      0.69        83\n",
      "          12       0.57      0.31      0.40        13\n",
      "          13       0.64      0.62      0.63        37\n",
      "          14       0.67      1.00      0.80         2\n",
      "          15       0.80      0.44      0.57         9\n",
      "          16       0.71      0.77      0.74        99\n",
      "          17       0.82      0.75      0.78        12\n",
      "          18       0.81      0.65      0.72        20\n",
      "          19       0.70      0.73      0.71       133\n",
      "          20       0.64      0.53      0.58        70\n",
      "          21       0.69      0.81      0.75        27\n",
      "          22       1.00      0.14      0.25         7\n",
      "          23       0.64      0.75      0.69        12\n",
      "          24       0.62      0.53      0.57        19\n",
      "          25       0.89      0.77      0.83        31\n",
      "          26       1.00      0.88      0.93         8\n",
      "          27       1.00      0.25      0.40         4\n",
      "          28       0.50      0.30      0.37        10\n",
      "          29       0.57      1.00      0.73         4\n",
      "          30       1.00      0.67      0.80        12\n",
      "          31       0.78      0.54      0.64        13\n",
      "          32       1.00      0.80      0.89        10\n",
      "          33       0.80      0.80      0.80         5\n",
      "          34       0.80      0.57      0.67         7\n",
      "          35       1.00      0.33      0.50         6\n",
      "          36       0.44      0.36      0.40        11\n",
      "          37       0.50      0.50      0.50         2\n",
      "          38       0.50      0.33      0.40         3\n",
      "          39       0.50      0.40      0.44         5\n",
      "          40       1.00      0.30      0.46        10\n",
      "          41       0.75      0.38      0.50         8\n",
      "          42       1.00      0.67      0.80         3\n",
      "          43       0.86      1.00      0.92         6\n",
      "          44       0.67      0.80      0.73         5\n",
      "          45       1.00      1.00      1.00         1\n",
      "\n",
      "    accuracy                           0.82      2246\n",
      "   macro avg       0.78      0.64      0.67      2246\n",
      "weighted avg       0.82      0.82      0.81      2246\n",
      "\n"
     ]
    }
   ],
   "source": [
    "# 정밀도, 재현율, F1점수 확인\n",
    "print(classification_report(y_test, predicted, zero_division=0))"
   ]
  },
  {
   "cell_type": "code",
   "execution_count": 23,
   "id": "c4e7693a",
   "metadata": {},
   "outputs": [
    {
     "name": "stdout",
     "output_type": "stream",
     "text": [
      "Weighted Avg F1-score: 0.8114428402876209\n"
     ]
    }
   ],
   "source": [
    "# F1 score weighted avg만 평가 하겠음\n",
    "report = classification_report(y_test, predicted, zero_division=0, output_dict=True)\n",
    "print(\"Weighted Avg F1-score:\", report['weighted avg']['f1-score'])"
   ]
  },
  {
   "cell_type": "markdown",
   "id": "804c2027",
   "metadata": {},
   "source": [
    "서포트 벡터 머신"
   ]
  },
  {
   "cell_type": "code",
   "execution_count": 24,
   "id": "a611721f",
   "metadata": {},
   "outputs": [
    {
     "name": "stderr",
     "output_type": "stream",
     "text": [
      "/opt/conda/lib/python3.9/site-packages/sklearn/svm/_base.py:1199: ConvergenceWarning: Liblinear failed to converge, increase the number of iterations.\n",
      "  warnings.warn(\n"
     ]
    },
    {
     "data": {
      "text/plain": [
       "LinearSVC(C=1000, dual=False, max_iter=3000, penalty='l1')"
      ]
     },
     "execution_count": 24,
     "metadata": {},
     "output_type": "execute_result"
    }
   ],
   "source": [
    "# 모델 정의 및 훈련\n",
    "lsvc = LinearSVC(C=1000, penalty='l1', max_iter=3000, dual=False)\n",
    "lsvc.fit(tfidfv, y_train)"
   ]
  },
  {
   "cell_type": "code",
   "execution_count": 25,
   "id": "93102c02",
   "metadata": {},
   "outputs": [
    {
     "name": "stdout",
     "output_type": "stream",
     "text": [
      "정확도: 0.7916295636687445\n"
     ]
    }
   ],
   "source": [
    "#테스트 데이터에 대한 예측\n",
    "predicted = lsvc.predict(tfidfv_test)\n",
    "print(\"정확도:\", accuracy_score(y_test, predicted)) #예측값과 실제값 비교"
   ]
  },
  {
   "cell_type": "code",
   "execution_count": 26,
   "id": "14400ef0",
   "metadata": {
    "scrolled": true
   },
   "outputs": [
    {
     "name": "stdout",
     "output_type": "stream",
     "text": [
      "              precision    recall  f1-score   support\n",
      "\n",
      "           0       0.89      0.67      0.76        12\n",
      "           1       0.74      0.77      0.76       105\n",
      "           2       0.62      0.65      0.63        20\n",
      "           3       0.91      0.92      0.92       813\n",
      "           4       0.82      0.86      0.84       474\n",
      "           5       0.00      0.00      0.00         5\n",
      "           6       0.87      0.93      0.90        14\n",
      "           7       1.00      0.33      0.50         3\n",
      "           8       0.59      0.71      0.64        38\n",
      "           9       0.84      0.84      0.84        25\n",
      "          10       0.83      0.80      0.81        30\n",
      "          11       0.67      0.75      0.71        83\n",
      "          12       0.33      0.31      0.32        13\n",
      "          13       0.61      0.59      0.60        37\n",
      "          14       1.00      0.50      0.67         2\n",
      "          15       0.57      0.44      0.50         9\n",
      "          16       0.65      0.75      0.70        99\n",
      "          17       0.67      0.33      0.44        12\n",
      "          18       0.71      0.60      0.65        20\n",
      "          19       0.63      0.67      0.65       133\n",
      "          20       0.57      0.41      0.48        70\n",
      "          21       0.57      0.78      0.66        27\n",
      "          22       0.25      0.14      0.18         7\n",
      "          23       0.64      0.58      0.61        12\n",
      "          24       0.67      0.42      0.52        19\n",
      "          25       0.95      0.65      0.77        31\n",
      "          26       0.88      0.88      0.88         8\n",
      "          27       1.00      0.50      0.67         4\n",
      "          28       0.40      0.40      0.40        10\n",
      "          29       0.38      0.75      0.50         4\n",
      "          30       0.67      0.50      0.57        12\n",
      "          31       0.90      0.69      0.78        13\n",
      "          32       1.00      0.90      0.95        10\n",
      "          33       0.80      0.80      0.80         5\n",
      "          34       1.00      0.57      0.73         7\n",
      "          35       1.00      0.33      0.50         6\n",
      "          36       0.50      0.36      0.42        11\n",
      "          37       0.50      0.50      0.50         2\n",
      "          38       0.50      0.33      0.40         3\n",
      "          39       0.67      0.40      0.50         5\n",
      "          40       0.67      0.20      0.31        10\n",
      "          41       0.80      0.50      0.62         8\n",
      "          42       1.00      0.67      0.80         3\n",
      "          43       0.60      1.00      0.75         6\n",
      "          44       0.57      0.80      0.67         5\n",
      "          45       1.00      1.00      1.00         1\n",
      "\n",
      "    accuracy                           0.79      2246\n",
      "   macro avg       0.70      0.60      0.63      2246\n",
      "weighted avg       0.79      0.79      0.79      2246\n",
      "\n"
     ]
    }
   ],
   "source": [
    "# 정밀도, 재현율, F1점수 확인\n",
    "print(classification_report(y_test, predicted, zero_division=0))"
   ]
  },
  {
   "cell_type": "code",
   "execution_count": 27,
   "id": "17bb4896",
   "metadata": {},
   "outputs": [
    {
     "name": "stdout",
     "output_type": "stream",
     "text": [
      "Weighted Avg F1-score: 0.7870524130224487\n"
     ]
    }
   ],
   "source": [
    "# F1 score weighted avg만 평가 하겠음\n",
    "report = classification_report(y_test, predicted, zero_division=0, output_dict=True)\n",
    "print(\"Weighted Avg F1-score:\", report['weighted avg']['f1-score'])"
   ]
  },
  {
   "cell_type": "markdown",
   "id": "e516bb3e",
   "metadata": {},
   "source": [
    "결정 트리"
   ]
  },
  {
   "cell_type": "code",
   "execution_count": 28,
   "id": "15854c3a",
   "metadata": {},
   "outputs": [
    {
     "data": {
      "text/plain": [
       "DecisionTreeClassifier(max_depth=10, random_state=0)"
      ]
     },
     "execution_count": 28,
     "metadata": {},
     "output_type": "execute_result"
    }
   ],
   "source": [
    "# 모델 정의 및 훈련\n",
    "tree = DecisionTreeClassifier(max_depth=10, random_state=0)\n",
    "tree.fit(tfidfv, y_train)"
   ]
  },
  {
   "cell_type": "code",
   "execution_count": 29,
   "id": "aa3ec6cf",
   "metadata": {},
   "outputs": [
    {
     "name": "stdout",
     "output_type": "stream",
     "text": [
      "정확도: 0.6211041852181657\n"
     ]
    }
   ],
   "source": [
    "#테스트 데이터에 대한 예측\n",
    "predicted = tree.predict(tfidfv_test)\n",
    "print(\"정확도:\", accuracy_score(y_test, predicted)) #예측값과 실제값 비교"
   ]
  },
  {
   "cell_type": "code",
   "execution_count": 30,
   "id": "b5428a92",
   "metadata": {
    "scrolled": true
   },
   "outputs": [
    {
     "name": "stdout",
     "output_type": "stream",
     "text": [
      "              precision    recall  f1-score   support\n",
      "\n",
      "           0       0.00      0.00      0.00        12\n",
      "           1       0.69      0.43      0.53       105\n",
      "           2       0.75      0.45      0.56        20\n",
      "           3       0.94      0.85      0.89       813\n",
      "           4       0.40      0.89      0.55       474\n",
      "           5       0.00      0.00      0.00         5\n",
      "           6       0.00      0.00      0.00        14\n",
      "           7       0.00      0.00      0.00         3\n",
      "           8       0.00      0.00      0.00        38\n",
      "           9       1.00      0.16      0.28        25\n",
      "          10       0.89      0.80      0.84        30\n",
      "          11       0.58      0.60      0.59        83\n",
      "          12       0.00      0.00      0.00        13\n",
      "          13       0.00      0.00      0.00        37\n",
      "          14       0.00      0.00      0.00         2\n",
      "          15       0.00      0.00      0.00         9\n",
      "          16       0.61      0.83      0.70        99\n",
      "          17       0.00      0.00      0.00        12\n",
      "          18       0.00      0.00      0.00        20\n",
      "          19       0.67      0.41      0.50       133\n",
      "          20       0.83      0.07      0.13        70\n",
      "          21       0.00      0.00      0.00        27\n",
      "          22       0.00      0.00      0.00         7\n",
      "          23       0.00      0.00      0.00        12\n",
      "          24       0.67      0.11      0.18        19\n",
      "          25       0.60      0.19      0.29        31\n",
      "          26       0.00      0.00      0.00         8\n",
      "          27       0.00      0.00      0.00         4\n",
      "          28       0.50      0.10      0.17        10\n",
      "          29       0.00      0.00      0.00         4\n",
      "          30       0.00      0.00      0.00        12\n",
      "          31       0.00      0.00      0.00        13\n",
      "          32       0.00      0.00      0.00        10\n",
      "          33       1.00      0.80      0.89         5\n",
      "          34       0.00      0.00      0.00         7\n",
      "          35       0.00      0.00      0.00         6\n",
      "          36       0.00      0.00      0.00        11\n",
      "          37       0.00      0.00      0.00         2\n",
      "          38       0.00      0.00      0.00         3\n",
      "          39       0.00      0.00      0.00         5\n",
      "          40       0.00      0.00      0.00        10\n",
      "          41       0.00      0.00      0.00         8\n",
      "          42       0.00      0.00      0.00         3\n",
      "          43       0.00      0.00      0.00         6\n",
      "          44       0.00      0.00      0.00         5\n",
      "          45       0.00      0.00      0.00         1\n",
      "\n",
      "    accuracy                           0.62      2246\n",
      "   macro avg       0.22      0.15      0.15      2246\n",
      "weighted avg       0.62      0.62      0.58      2246\n",
      "\n"
     ]
    }
   ],
   "source": [
    "# 정밀도, 재현율, F1점수 확인\n",
    "print(classification_report(y_test, predicted, zero_division=0))"
   ]
  },
  {
   "cell_type": "code",
   "execution_count": 31,
   "id": "e45d80f1",
   "metadata": {},
   "outputs": [
    {
     "name": "stdout",
     "output_type": "stream",
     "text": [
      "Weighted Avg F1-score: 0.5769283128518846\n"
     ]
    }
   ],
   "source": [
    "# F1 score weighted avg만 평가 하겠음\n",
    "report = classification_report(y_test, predicted, zero_division=0, output_dict=True)\n",
    "print(\"Weighted Avg F1-score:\", report['weighted avg']['f1-score'])"
   ]
  },
  {
   "cell_type": "markdown",
   "id": "07a9e7c6",
   "metadata": {},
   "source": [
    "랜덤 포레스트"
   ]
  },
  {
   "cell_type": "code",
   "execution_count": 32,
   "id": "e19eebd6",
   "metadata": {},
   "outputs": [
    {
     "data": {
      "text/plain": [
       "RandomForestClassifier(n_estimators=5, random_state=0)"
      ]
     },
     "execution_count": 32,
     "metadata": {},
     "output_type": "execute_result"
    }
   ],
   "source": [
    "# 모델 정의 및 훈련\n",
    "forest = RandomForestClassifier(n_estimators=5, random_state=0)\n",
    "forest.fit(tfidfv, y_train)"
   ]
  },
  {
   "cell_type": "code",
   "execution_count": 33,
   "id": "57503927",
   "metadata": {},
   "outputs": [
    {
     "name": "stdout",
     "output_type": "stream",
     "text": [
      "정확도: 0.6544968833481746\n"
     ]
    }
   ],
   "source": [
    "#테스트 데이터에 대한 예측\n",
    "predicted = forest.predict(tfidfv_test)\n",
    "print(\"정확도:\", accuracy_score(y_test, predicted)) #예측값과 실제값 비교"
   ]
  },
  {
   "cell_type": "code",
   "execution_count": 34,
   "id": "76f1d5de",
   "metadata": {
    "scrolled": true
   },
   "outputs": [
    {
     "name": "stdout",
     "output_type": "stream",
     "text": [
      "              precision    recall  f1-score   support\n",
      "\n",
      "           0       0.25      0.58      0.35        12\n",
      "           1       0.35      0.60      0.44       105\n",
      "           2       0.32      0.40      0.36        20\n",
      "           3       0.82      0.89      0.85       813\n",
      "           4       0.62      0.84      0.71       474\n",
      "           5       0.00      0.00      0.00         5\n",
      "           6       0.67      0.43      0.52        14\n",
      "           7       0.50      0.33      0.40         3\n",
      "           8       0.51      0.47      0.49        38\n",
      "           9       1.00      0.28      0.44        25\n",
      "          10       0.46      0.20      0.28        30\n",
      "          11       0.56      0.64      0.60        83\n",
      "          12       0.40      0.15      0.22        13\n",
      "          13       0.33      0.16      0.22        37\n",
      "          14       0.00      0.00      0.00         2\n",
      "          15       0.00      0.00      0.00         9\n",
      "          16       0.59      0.46      0.52        99\n",
      "          17       0.00      0.00      0.00        12\n",
      "          18       0.44      0.20      0.28        20\n",
      "          19       0.61      0.50      0.55       133\n",
      "          20       0.51      0.33      0.40        70\n",
      "          21       0.55      0.22      0.32        27\n",
      "          22       0.00      0.00      0.00         7\n",
      "          23       0.33      0.08      0.13        12\n",
      "          24       0.33      0.05      0.09        19\n",
      "          25       1.00      0.23      0.37        31\n",
      "          26       0.00      0.00      0.00         8\n",
      "          27       0.00      0.00      0.00         4\n",
      "          28       0.00      0.00      0.00        10\n",
      "          29       0.00      0.00      0.00         4\n",
      "          30       0.00      0.00      0.00        12\n",
      "          31       0.00      0.00      0.00        13\n",
      "          32       1.00      0.10      0.18        10\n",
      "          33       1.00      0.40      0.57         5\n",
      "          34       0.00      0.00      0.00         7\n",
      "          35       1.00      0.17      0.29         6\n",
      "          36       0.43      0.27      0.33        11\n",
      "          37       0.00      0.00      0.00         2\n",
      "          38       0.00      0.00      0.00         3\n",
      "          39       0.00      0.00      0.00         5\n",
      "          40       1.00      0.30      0.46        10\n",
      "          41       0.00      0.00      0.00         8\n",
      "          42       0.00      0.00      0.00         3\n",
      "          43       0.75      0.50      0.60         6\n",
      "          44       1.00      0.80      0.89         5\n",
      "          45       1.00      1.00      1.00         1\n",
      "\n",
      "    accuracy                           0.65      2246\n",
      "   macro avg       0.40      0.25      0.28      2246\n",
      "weighted avg       0.63      0.65      0.62      2246\n",
      "\n"
     ]
    }
   ],
   "source": [
    "# 정밀도, 재현율, F1점수 확인\n",
    "print(classification_report(y_test, predicted, zero_division=0))"
   ]
  },
  {
   "cell_type": "code",
   "execution_count": 35,
   "id": "17e26ced",
   "metadata": {},
   "outputs": [
    {
     "name": "stdout",
     "output_type": "stream",
     "text": [
      "Weighted Avg F1-score: 0.6225909375608356\n"
     ]
    }
   ],
   "source": [
    "# F1 score weighted avg만 평가 하겠음\n",
    "report = classification_report(y_test, predicted, zero_division=0, output_dict=True)\n",
    "print(\"Weighted Avg F1-score:\", report['weighted avg']['f1-score'])"
   ]
  },
  {
   "cell_type": "markdown",
   "id": "24010c2e",
   "metadata": {},
   "source": [
    "그래디언트 부스팅 트리"
   ]
  },
  {
   "cell_type": "code",
   "execution_count": 36,
   "id": "5a11aa3d",
   "metadata": {},
   "outputs": [
    {
     "data": {
      "text/plain": [
       "GradientBoostingClassifier(random_state=0)"
      ]
     },
     "execution_count": 36,
     "metadata": {},
     "output_type": "execute_result"
    }
   ],
   "source": [
    "# 모델 정의 및 훈련\n",
    "grbt = GradientBoostingClassifier(random_state=0) # verbose=3\n",
    "grbt.fit(tfidfv, y_train)"
   ]
  },
  {
   "cell_type": "code",
   "execution_count": 37,
   "id": "f890acda",
   "metadata": {},
   "outputs": [
    {
     "name": "stdout",
     "output_type": "stream",
     "text": [
      "정확도: 0.7702582368655387\n"
     ]
    }
   ],
   "source": [
    "#테스트 데이터에 대한 예측\n",
    "predicted = grbt.predict(tfidfv_test)\n",
    "print(\"정확도:\", accuracy_score(y_test, predicted)) #예측값과 실제값 비교"
   ]
  },
  {
   "cell_type": "code",
   "execution_count": 38,
   "id": "723bfdbc",
   "metadata": {
    "scrolled": true
   },
   "outputs": [
    {
     "name": "stdout",
     "output_type": "stream",
     "text": [
      "              precision    recall  f1-score   support\n",
      "\n",
      "           0       0.60      0.50      0.55        12\n",
      "           1       0.81      0.71      0.76       105\n",
      "           2       0.58      0.70      0.64        20\n",
      "           3       0.87      0.91      0.89       813\n",
      "           4       0.78      0.86      0.82       474\n",
      "           5       1.00      0.20      0.33         5\n",
      "           6       0.77      0.71      0.74        14\n",
      "           7       1.00      0.33      0.50         3\n",
      "           8       0.60      0.63      0.62        38\n",
      "           9       0.91      0.80      0.85        25\n",
      "          10       0.79      0.77      0.78        30\n",
      "          11       0.61      0.65      0.63        83\n",
      "          12       0.50      0.46      0.48        13\n",
      "          13       0.48      0.32      0.39        37\n",
      "          14       0.00      0.00      0.00         2\n",
      "          15       0.25      0.11      0.15         9\n",
      "          16       0.72      0.71      0.71        99\n",
      "          17       0.83      0.42      0.56        12\n",
      "          18       0.59      0.50      0.54        20\n",
      "          19       0.71      0.64      0.67       133\n",
      "          20       0.64      0.41      0.50        70\n",
      "          21       0.61      0.63      0.62        27\n",
      "          22       0.33      0.14      0.20         7\n",
      "          23       0.62      0.67      0.64        12\n",
      "          24       0.69      0.47      0.56        19\n",
      "          25       0.83      0.65      0.73        31\n",
      "          26       1.00      1.00      1.00         8\n",
      "          27       0.33      0.50      0.40         4\n",
      "          28       0.25      0.20      0.22        10\n",
      "          29       0.43      0.75      0.55         4\n",
      "          30       0.36      0.42      0.38        12\n",
      "          31       0.50      0.54      0.52        13\n",
      "          32       1.00      1.00      1.00        10\n",
      "          33       0.83      1.00      0.91         5\n",
      "          34       0.60      0.43      0.50         7\n",
      "          35       0.33      0.17      0.22         6\n",
      "          36       0.50      0.64      0.56        11\n",
      "          37       0.50      1.00      0.67         2\n",
      "          38       0.33      0.33      0.33         3\n",
      "          39       0.33      0.20      0.25         5\n",
      "          40       0.83      0.50      0.62        10\n",
      "          41       0.62      0.62      0.62         8\n",
      "          42       1.00      0.67      0.80         3\n",
      "          43       0.43      0.50      0.46         6\n",
      "          44       0.80      0.80      0.80         5\n",
      "          45       0.50      1.00      0.67         1\n",
      "\n",
      "    accuracy                           0.77      2246\n",
      "   macro avg       0.62      0.57      0.57      2246\n",
      "weighted avg       0.77      0.77      0.76      2246\n",
      "\n"
     ]
    }
   ],
   "source": [
    "# 정밀도, 재현율, F1점수 확인\n",
    "print(classification_report(y_test, predicted, zero_division=0))"
   ]
  },
  {
   "cell_type": "code",
   "execution_count": 39,
   "id": "433e34aa",
   "metadata": {},
   "outputs": [
    {
     "name": "stdout",
     "output_type": "stream",
     "text": [
      "Weighted Avg F1-score: 0.7641672650539437\n"
     ]
    }
   ],
   "source": [
    "# F1 score weighted avg만 평가 하겠음\n",
    "report = classification_report(y_test, predicted, zero_division=0, output_dict=True)\n",
    "print(\"Weighted Avg F1-score:\", report['weighted avg']['f1-score'])"
   ]
  },
  {
   "cell_type": "markdown",
   "id": "3f0c3eb1",
   "metadata": {},
   "source": [
    "보팅"
   ]
  },
  {
   "cell_type": "code",
   "execution_count": 40,
   "id": "2aea94e8",
   "metadata": {},
   "outputs": [
    {
     "data": {
      "text/plain": [
       "VotingClassifier(estimators=[('lr', LogisticRegression(solver='liblinear')),\n",
       "                             ('cnb', ComplementNB()),\n",
       "                             ('gb', GradientBoostingClassifier())],\n",
       "                 voting='soft')"
      ]
     },
     "execution_count": 40,
     "metadata": {},
     "output_type": "execute_result"
    }
   ],
   "source": [
    "# 개별 분류기 정의\n",
    "log_reg = LogisticRegression(penalty='l2', solver='liblinear')\n",
    "complement_nb = ComplementNB()\n",
    "gradient_boost = GradientBoostingClassifier()\n",
    "\n",
    "# VotingClassifier 정의\n",
    "voting_classifier = VotingClassifier(\n",
    "    estimators=[('lr', log_reg), ('cnb', complement_nb), ('gb', gradient_boost)],\n",
    "    voting='soft'\n",
    ")\n",
    "\n",
    "voting_classifier.fit(tfidfv, y_train)"
   ]
  },
  {
   "cell_type": "code",
   "execution_count": 41,
   "id": "4b57f5ad",
   "metadata": {},
   "outputs": [
    {
     "name": "stdout",
     "output_type": "stream",
     "text": [
      "정확도: 0.7956366874443455\n"
     ]
    }
   ],
   "source": [
    "#테스트 데이터에 대한 예측\n",
    "predicted = voting_classifier.predict(tfidfv_test)\n",
    "print(\"정확도:\", accuracy_score(y_test, predicted)) #예측값과 실제값 비교"
   ]
  },
  {
   "cell_type": "code",
   "execution_count": 42,
   "id": "303ec1f2",
   "metadata": {
    "scrolled": true
   },
   "outputs": [
    {
     "name": "stdout",
     "output_type": "stream",
     "text": [
      "              precision    recall  f1-score   support\n",
      "\n",
      "           0       0.89      0.67      0.76        12\n",
      "           1       0.79      0.81      0.80       105\n",
      "           2       0.74      0.70      0.72        20\n",
      "           3       0.91      0.93      0.92       813\n",
      "           4       0.77      0.88      0.82       474\n",
      "           5       0.50      0.20      0.29         5\n",
      "           6       0.83      0.71      0.77        14\n",
      "           7       1.00      0.33      0.50         3\n",
      "           8       0.67      0.68      0.68        38\n",
      "           9       0.91      0.80      0.85        25\n",
      "          10       0.83      0.80      0.81        30\n",
      "          11       0.68      0.69      0.68        83\n",
      "          12       0.55      0.46      0.50        13\n",
      "          13       0.66      0.57      0.61        37\n",
      "          14       0.00      0.00      0.00         2\n",
      "          15       0.25      0.11      0.15         9\n",
      "          16       0.75      0.73      0.74        99\n",
      "          17       0.71      0.42      0.53        12\n",
      "          18       0.62      0.50      0.56        20\n",
      "          19       0.71      0.68      0.69       133\n",
      "          20       0.67      0.47      0.55        70\n",
      "          21       0.67      0.67      0.67        27\n",
      "          22       0.50      0.14      0.22         7\n",
      "          23       0.62      0.67      0.64        12\n",
      "          24       0.75      0.47      0.58        19\n",
      "          25       0.87      0.65      0.74        31\n",
      "          26       0.78      0.88      0.82         8\n",
      "          27       1.00      0.50      0.67         4\n",
      "          28       0.25      0.20      0.22        10\n",
      "          29       0.50      0.75      0.60         4\n",
      "          30       0.45      0.42      0.43        12\n",
      "          31       0.54      0.54      0.54        13\n",
      "          32       1.00      1.00      1.00        10\n",
      "          33       0.71      1.00      0.83         5\n",
      "          34       0.80      0.57      0.67         7\n",
      "          35       0.25      0.17      0.20         6\n",
      "          36       0.54      0.64      0.58        11\n",
      "          37       0.50      1.00      0.67         2\n",
      "          38       0.50      0.33      0.40         3\n",
      "          39       0.33      0.20      0.25         5\n",
      "          40       0.67      0.20      0.31        10\n",
      "          41       0.62      0.62      0.62         8\n",
      "          42       1.00      0.67      0.80         3\n",
      "          43       0.50      0.50      0.50         6\n",
      "          44       0.80      0.80      0.80         5\n",
      "          45       0.50      1.00      0.67         1\n",
      "\n",
      "    accuracy                           0.80      2246\n",
      "   macro avg       0.65      0.58      0.59      2246\n",
      "weighted avg       0.79      0.80      0.79      2246\n",
      "\n"
     ]
    }
   ],
   "source": [
    "# 정밀도, 재현율, F1점수 확인\n",
    "print(classification_report(y_test, predicted, zero_division=0))"
   ]
  },
  {
   "cell_type": "code",
   "execution_count": 43,
   "id": "a7234eac",
   "metadata": {},
   "outputs": [
    {
     "name": "stdout",
     "output_type": "stream",
     "text": [
      "Weighted Avg F1-score: 0.7895657638554769\n"
     ]
    }
   ],
   "source": [
    "# F1 score weighted avg만 평가 하겠음\n",
    "report = classification_report(y_test, predicted, zero_division=0, output_dict=True)\n",
    "print(\"Weighted Avg F1-score:\", report['weighted avg']['f1-score'])"
   ]
  },
  {
   "cell_type": "markdown",
   "id": "236c1865",
   "metadata": {},
   "source": [
    "# step 2. 빈도수 상위 5,000개의 단어만 사용"
   ]
  },
  {
   "cell_type": "markdown",
   "id": "f98257d8",
   "metadata": {},
   "source": [
    "1. 데이터 다운"
   ]
  },
  {
   "cell_type": "code",
   "execution_count": 44,
   "id": "9b08863e",
   "metadata": {},
   "outputs": [],
   "source": [
    "(x_train, y_train), (x_test, y_test) = reuters.load_data(num_words=5000, test_split=0.2)"
   ]
  },
  {
   "cell_type": "markdown",
   "id": "c75d161c",
   "metadata": {},
   "source": [
    "2. 데이터 분포 확인"
   ]
  },
  {
   "cell_type": "code",
   "execution_count": 45,
   "id": "abd32303",
   "metadata": {
    "scrolled": true
   },
   "outputs": [
    {
     "name": "stdout",
     "output_type": "stream",
     "text": [
      "훈련용 뉴스의 최대 길이 :2376\n",
      "훈련용 뉴스의 평균 길이 :145.5398574927633\n"
     ]
    },
    {
     "data": {
      "image/png": "[encoded data removed]",
      "text/plain": [
       "<Figure size 432x288 with 1 Axes>"
      ]
     },
     "metadata": {
      "needs_background": "light"
     },
     "output_type": "display_data"
    }
   ],
   "source": [
    "print('훈련용 뉴스의 최대 길이 :{}'.format(max(len(l) for l in x_train)))\n",
    "print('훈련용 뉴스의 평균 길이 :{}'.format(sum(map(len, x_train))/len(x_train)))\n",
    "\n",
    "plt.hist([len(s) for s in x_train], bins=50)\n",
    "plt.xlabel('length of samples')\n",
    "plt.ylabel('number of samples')\n",
    "plt.show()"
   ]
  },
  {
   "cell_type": "code",
   "execution_count": 46,
   "id": "8686b07a",
   "metadata": {
    "scrolled": true
   },
   "outputs": [
    {
     "data": {
      "image/png": "[encoded data removed]",
      "text/plain": [
       "<Figure size 792x360 with 1 Axes>"
      ]
     },
     "metadata": {
      "needs_background": "light"
     },
     "output_type": "display_data"
    }
   ],
   "source": [
    "fig, axe = plt.subplots(ncols=1)\n",
    "fig.set_size_inches(11,5)\n",
    "sns.countplot(x=y_train)\n",
    "plt.show()"
   ]
  },
  {
   "cell_type": "markdown",
   "id": "9d276af5",
   "metadata": {},
   "source": [
    "3. 데이터 복원"
   ]
  },
  {
   "cell_type": "markdown",
   "id": "954d4f98",
   "metadata": {},
   "source": [
    "'단어'를 key값으로, 고유한 '정수'를 value로 가지는 dictionary -> word_index로 저장"
   ]
  },
  {
   "cell_type": "code",
   "execution_count": 47,
   "id": "f78225a7",
   "metadata": {
    "scrolled": false
   },
   "outputs": [],
   "source": [
    "word_index = reuters.get_word_index(path=\"reuters_word_index.json\")"
   ]
  },
  {
   "cell_type": "markdown",
   "id": "1b4e1bcf",
   "metadata": {},
   "source": [
    "(pad, sos, unk)특별한 토큰 매핑"
   ]
  },
  {
   "cell_type": "code",
   "execution_count": 48,
   "id": "7cfd99de",
   "metadata": {},
   "outputs": [],
   "source": [
    "index_to_word = { index+3 : word for word, index in word_index.items() }\n",
    "\n",
    "# index_to_word에 숫자 0은 <pad>, 숫자 1은 <sos>, 숫자 2는 <unk>를 넣어줍니다.\n",
    "for index, token in enumerate((\"<pad>\", \"<sos>\", \"<unk>\")):\n",
    "  index_to_word[index]=token"
   ]
  },
  {
   "cell_type": "markdown",
   "id": "f3e5b9ca",
   "metadata": {},
   "source": [
    "데이터셋 문자로 복원"
   ]
  },
  {
   "cell_type": "code",
   "execution_count": 49,
   "id": "f12a7ffc",
   "metadata": {
    "scrolled": true
   },
   "outputs": [
    {
     "name": "stdout",
     "output_type": "stream",
     "text": [
      "8982\n",
      "x_train[5]:  ['<sos> <unk> <unk> said as a result of its december acquisition of space co it expects earnings per share in 1987 of 1 15 to 1 30 dlrs per share up from 70 cts in 1986 the company said pretax net should rise to nine to 10 mln dlrs from six mln dlrs in 1986 and rental operation revenues to 19 to 22 mln dlrs from 12 5 mln dlrs it said cash flow per share this year should be 2 50 to three dlrs reuter 3', '<sos> generale de banque sa lt <unk> <unk> and lt heller overseas corp of chicago have each taken 50 pct stakes in <unk> company sa <unk> factors generale de banque said in a statement it gave no financial details of the transaction sa <unk> <unk> turnover in 1986 was 17 5 billion belgian francs reuter 3', '<sos> shr 3 28 dlrs vs 22 cts shr diluted 2 99 dlrs vs 22 cts net 46 0 mln vs 3 328 000 avg shrs 14 0 mln vs 15 2 mln year shr 5 41 dlrs vs 1 56 dlrs shr diluted 4 94 dlrs vs 1 50 dlrs net 78 2 mln vs 25 9 mln avg shrs 14 5 mln vs 15 1 mln note earnings per share reflect the two for one split effective january 6 1987 per share amounts are calculated after preferred stock dividends loss continuing operations for the qtr 1986 includes gains of sale of investments in <unk> corp of 14 mln dlrs and associated companies of 4 189 000 less writedowns of investments in national <unk> inc of 11 8 mln and <unk> corp of 15 6 mln reuter 3', \"<sos> the farmers home administration the u s agriculture department's farm lending arm could lose about seven billion dlrs in outstanding principal on its severely <unk> borrowers or about one fourth of its farm loan portfolio the general accounting office gao said in remarks prepared for delivery to the senate agriculture committee brian <unk> senior associate director of gao also said that a preliminary analysis of proposed changes in <unk> financial <unk> standards indicated as many as one half of <unk> borrowers who received new loans from the agency in 1986 would be <unk> under the proposed system the agency has proposed <unk> <unk> credit using a variety of financial <unk> instead of <unk> <unk> on <unk> ability senate agriculture committee chairman <unk> <unk> d <unk> <unk> the proposed <unk> changes telling <unk> administrator <unk> clark at a hearing that they would mark a dramatic shift in the <unk> purpose away from being <unk> <unk> of last <unk> toward becoming a big city bank but clark <unk> the new regulations saying the agency had a responsibility to <unk> its 70 billion dlr loan portfolio in a <unk> yet <unk> manner <unk> of gao <unk> <unk> arm said the proposed credit <unk> system attempted to ensure that <unk> would make loans only to borrowers who had a reasonable change of <unk> their debt reuter 3\", '<sos> <unk> co said its board has received a proposal from chairman and chief executive officer philip d <unk> to acquire <unk> for 15 75 dlrs per share in cash <unk> said the acquisition bid is subject to <unk> arranging the necessary financing it said he intends to ask other members of senior management to participate the company said <unk> owns 30 pct of <unk> stock and other management members another 7 5 pct <unk> said it has formed an independent board committee to consider the offer and has deferred the annual meeting it had scheduled for march 31 reuter 3']\n"
     ]
    }
   ],
   "source": [
    "decoded = []\n",
    "for i in range(len(x_train)):\n",
    "    t = ' '.join([index_to_word[index] for index in x_train[i]])\n",
    "    decoded.append(t)\n",
    "\n",
    "x_train = decoded\n",
    "\n",
    "print(len(x_train))\n",
    "print('x_train[5]: ', x_train[:5])"
   ]
  },
  {
   "cell_type": "code",
   "execution_count": 50,
   "id": "ae1924ad",
   "metadata": {
    "scrolled": true
   },
   "outputs": [
    {
     "name": "stdout",
     "output_type": "stream",
     "text": [
      "2246\n",
      "x_test[5]:  ['<sos> the great atlantic and pacific tea co said its three year 345 mln dlr capital program will be be substantially increased to <unk> growth and expansion plans for <unk> inc and <unk> inc over the next two years a and p said the acquisition of <unk> in august 1986 and <unk> in december helped us achieve better than expected results in the fourth quarter ended february 28 its net income from continuing operations jumped 52 6 pct to 20 7 mln dlrs or 55 cts a share in the latest quarter as sales increased 48 3 pct to 1 58 billion dlrs a and p gave no details on the expanded capital program but it did say it completed the first year of the program during 1986 a and p is 52 4 pct owned by lt <unk> <unk> of west germany reuter 3', \"<sos> philippine sugar production in the 1987 88 crop year ending august has been set at 1 6 mln tonnes up from a provisional 1 3 mln tonnes this year sugar regulatory administration <unk> chairman <unk> <unk> said <unk> told reuters a survey during the current milling season which ends next month showed the 1986 87 estimate would almost certainly be met he said at least 1 2 mln tonnes of the 1987 88 crop would be <unk> for domestic consumption <unk> said about 130 000 tonnes would be set aside for the u s sugar quota 150 000 tonnes for strategic reserves and 50 000 tonnes would be sold on the world market he said if the government approved a long standing <unk> recommendation to manufacture <unk> the project would take up another 150 000 tonnes slightly raising the target the government for its own reasons has been <unk> approval of the project but we expect it to come through by july <unk> said <unk> could make up five pct of gasoline cutting the oil import bill by about 300 mln pesos <unk> said three major philippine <unk> were ready to start manufacturing <unk> if the project was approved the <unk> project would result in employment for about 100 000 people sharply reducing those <unk> out of work by depressed world sugar prices and a <unk> domestic industry production quotas set for the first time in 1987 88 had been submitted to president <unk> <unk> i think the president would rather wait <unk> the new congress <unk> after the may elections he said but there is really no need for such quotas we are right now producing just slightly over our own consumption level the producers have never <unk> such high prices <unk> said adding sugar was currently selling <unk> for 320 pesos per <unk> up from 190 pesos last august <unk> said prices were <unk> up because of speculation following the <unk> bid to control production we are no longer concerned so much with the world market he said adding producers in the <unk> region had <unk> from their <unk> and diversified into corn and <unk> <unk> and <unk> production he said <unk> into products other than <unk> was also possible within the sugar industry the <unk> long ago <unk> their <unk> <unk> said they have 300 sugar mills compared with our 41 but they <unk> many of them and diversified production we want to call this a <unk> <unk> instead of the sugar industry he said <unk> could be fed to <unk> and livestock used for <unk> <unk> or used in room <unk> when you cut <unk> you don't even have to produce sugar he said <unk> said the philippines was <unk> for a renewal of the international sugar agreement which expired in 1984 as a major sugar producer we are urging them to write a new agreement which would <unk> world prices <unk> said if there is no agreement world prices will always be depressed particularly because the european community is <unk> its producers and dumping sugar on the markets he said current world prices holding steady at about 7 60 cents per pound were <unk> for the philippines where production costs ranged from 12 to 14 cents a pound if the price holds steady for a while at 7 60 cents i expect the level to rise to about 11 cents a pound by the end of this year he said <unk> said economists forecast a bullish sugar market by 1990 with world consumption <unk> production he said sugar markets were holding up despite <unk> from <unk> <unk> and high <unk> corn <unk> but we are not happy with the reagan administration he said since <unk> we have been regular suppliers of sugar to the u s in 1982 when they restored the quota system they cut <unk> in half without any <unk> <unk> was <unk> <unk> washington's moves to cut domestic support prices to 12 cents a pound from 18 cents the u s agriculture department last december <unk> its 12 month 1987 sugar import quota from the philippines to 143 780 short tons from 231 660 short tons in 1986 <unk> said despite next year's increased production target some philippine mills were expected to shut down at least four of the 41 mills were not working during the 1986 87 season he said we expect two or three more to follow suit during the next season reuter 3\", \"<sos> the agriculture department's widening of louisiana gulf differentials will affect county posted prices for number two <unk> corn in ten states a usda official said all <unk> in iowa will be affected as will <unk> which use the gulf to price corn in illinois indiana <unk> <unk> missouri mississippi <unk> <unk> and louisiana said <unk> <unk> deputy director of commodity operations division for the usda usda last night <unk> the grain industry that effective immediately all gulf differentials used to price interior corn would be widened on a <unk> scale basis of four to eight cts depending on what the differential is usda's action was taken to lower <unk> high posted county prices for corn caused by high gulf prices we've been following this louisiana gulf situation for a month and we don't think it's going to get back in line in any nearby time <unk> said <unk> said usda will probably narrow back the gulf differentials when and if gulf prices <unk> if we're off the mark now because we're too high <unk> we be as much off the mark if we're too low he said while forecasting more adjustments if gulf prices fall <unk> said no other changes in usda's price system are being planned right now we don't <unk> we don't make changes <unk> and we don't make changes often he said reuter 3\", '<sos> <unk> <unk> oil and gas partnership said it completed the sale of interests in two major oil and gas fields to lt energy assets international corp for 21 mln dlrs the company said it sold about one half of its 50 pct interest in the <unk> hill and north <unk> fields its two largest producing properties it said it used about 20 mln dlrs of the proceeds to <unk> principal on its senior secured notes semi annual principal payments on the remaining 40 mln dlrs of notes have been satisfied until december 1988 as a result it said the company said the note agreements were amended to reflect an easing of some financial <unk> and an increase of interest to 13 5 pct from 13 0 pct until december 1990 it said the <unk> exercise price for 1 125 000 warrants was also reduced to 50 cts from 1 50 dlrs the company said energy assets agreed to share the costs of increasing production at the <unk> hill field reuter 3', '<sos> strong south <unk> winds were keeping many vessels <unk> in the ice off the <unk> and swedish <unk> in one of the worst <unk> periods in the baltic for many years the <unk> board of navigation said in <unk> and sweden up to 50 vessels were reported to be <unk> in the ice and even the largest of the <unk> <unk> were having difficulties in breaking through to the <unk> ships <unk> officials said however <unk> conditions in the southern baltic at the soviet oil ports of <unk> and <unk> had eased they said weather officials in <unk> sweden said the <unk> conditions in the baltic were the worst for 30 years with ships fighting a losing battle to keep moving in the coastal <unk> of the gulf of <unk> which <unk> <unk> and sweden the ice is up to one <unk> <unk> with <unk> and <unk> <unk> it into almost <unk> <unk> three metres high swedish <unk> officials said weather forecasts say winds may ease during the weekend but a further drop in <unk> could bring shipping to a standstill the officials said reuter 3']\n"
     ]
    }
   ],
   "source": [
    "decoded = []\n",
    "for i in range(len(x_test)):\n",
    "    t = ' '.join([index_to_word[index] for index in x_test[i]])\n",
    "    decoded.append(t)\n",
    "\n",
    "x_test = decoded\n",
    "print(len(x_test))\n",
    "print('x_test[5]: ', x_test[:5])"
   ]
  },
  {
   "cell_type": "markdown",
   "id": "6d73711d",
   "metadata": {},
   "source": [
    "4. 벡터화(DTM, TF-IDF 행렬 사용)"
   ]
  },
  {
   "cell_type": "markdown",
   "id": "03b008a7",
   "metadata": {},
   "source": [
    "DTM 생성"
   ]
  },
  {
   "cell_type": "code",
   "execution_count": 51,
   "id": "9679ed79",
   "metadata": {},
   "outputs": [
    {
     "name": "stdout",
     "output_type": "stream",
     "text": [
      "(8982, 4867)\n"
     ]
    }
   ],
   "source": [
    "dtmvector = CountVectorizer()\n",
    "x_train_dtm = dtmvector.fit_transform(x_train)\n",
    "print(x_train_dtm.shape)"
   ]
  },
  {
   "cell_type": "markdown",
   "id": "b23973dc",
   "metadata": {},
   "source": [
    "TF-IDF Matrix 생성"
   ]
  },
  {
   "cell_type": "code",
   "execution_count": 52,
   "id": "92b290a0",
   "metadata": {},
   "outputs": [
    {
     "name": "stdout",
     "output_type": "stream",
     "text": [
      "(8982, 4867)\n"
     ]
    }
   ],
   "source": [
    "tfidf_transformer = TfidfTransformer()\n",
    "tfidfv = tfidf_transformer.fit_transform(x_train_dtm)\n",
    "print(tfidfv.shape)"
   ]
  },
  {
   "cell_type": "markdown",
   "id": "2b1a66e5",
   "metadata": {},
   "source": [
    "테스트 데이터의 TF-IDF Matrix 생성"
   ]
  },
  {
   "cell_type": "code",
   "execution_count": 53,
   "id": "6453c853",
   "metadata": {},
   "outputs": [],
   "source": [
    "#테스트 데이터를 DTM으로 변환\n",
    "x_test_dtm = dtmvector.transform(x_test)\n",
    "\n",
    "#DTM을 TF-IDF 행렬로 변환\n",
    "tfidfv_test = tfidf_transformer.transform(x_test_dtm)"
   ]
  },
  {
   "cell_type": "markdown",
   "id": "e20a3c0e",
   "metadata": {},
   "source": [
    "5. 모델 학습 및 예측, 평가"
   ]
  },
  {
   "cell_type": "markdown",
   "id": "4b114827",
   "metadata": {},
   "source": [
    "나이브 베이즈 분류기"
   ]
  },
  {
   "cell_type": "code",
   "execution_count": 54,
   "id": "f6d56b43",
   "metadata": {},
   "outputs": [
    {
     "data": {
      "text/plain": [
       "MultinomialNB()"
      ]
     },
     "execution_count": 54,
     "metadata": {},
     "output_type": "execute_result"
    }
   ],
   "source": [
    "# 모델 정의 및 훈련\n",
    "nb = MultinomialNB()\n",
    "nb.fit(tfidfv, y_train)"
   ]
  },
  {
   "cell_type": "code",
   "execution_count": 55,
   "id": "3b80306a",
   "metadata": {},
   "outputs": [
    {
     "name": "stdout",
     "output_type": "stream",
     "text": [
      "정확도: 0.6731967943009796\n"
     ]
    }
   ],
   "source": [
    "#테스트 데이터에 대한 예측\n",
    "predicted = nb.predict(tfidfv_test)\n",
    "print(\"정확도:\", accuracy_score(y_test, predicted)) #예측값과 실제값 비교"
   ]
  },
  {
   "cell_type": "code",
   "execution_count": 56,
   "id": "b331de32",
   "metadata": {
    "scrolled": true
   },
   "outputs": [
    {
     "name": "stdout",
     "output_type": "stream",
     "text": [
      "              precision    recall  f1-score   support\n",
      "\n",
      "           0       0.00      0.00      0.00        12\n",
      "           1       0.50      0.80      0.62       105\n",
      "           2       0.00      0.00      0.00        20\n",
      "           3       0.86      0.89      0.87       813\n",
      "           4       0.59      0.95      0.73       474\n",
      "           5       0.00      0.00      0.00         5\n",
      "           6       0.00      0.00      0.00        14\n",
      "           7       0.00      0.00      0.00         3\n",
      "           8       0.00      0.00      0.00        38\n",
      "           9       1.00      0.28      0.44        25\n",
      "          10       0.00      0.00      0.00        30\n",
      "          11       0.48      0.73      0.58        83\n",
      "          12       0.00      0.00      0.00        13\n",
      "          13       1.00      0.14      0.24        37\n",
      "          14       0.00      0.00      0.00         2\n",
      "          15       0.00      0.00      0.00         9\n",
      "          16       0.60      0.66      0.62        99\n",
      "          17       0.00      0.00      0.00        12\n",
      "          18       0.00      0.00      0.00        20\n",
      "          19       0.51      0.81      0.63       133\n",
      "          20       0.90      0.13      0.23        70\n",
      "          21       0.00      0.00      0.00        27\n",
      "          22       0.00      0.00      0.00         7\n",
      "          23       0.00      0.00      0.00        12\n",
      "          24       0.00      0.00      0.00        19\n",
      "          25       1.00      0.06      0.12        31\n",
      "          26       0.00      0.00      0.00         8\n",
      "          27       0.00      0.00      0.00         4\n",
      "          28       0.00      0.00      0.00        10\n",
      "          29       0.00      0.00      0.00         4\n",
      "          30       0.00      0.00      0.00        12\n",
      "          31       0.00      0.00      0.00        13\n",
      "          32       0.00      0.00      0.00        10\n",
      "          33       0.00      0.00      0.00         5\n",
      "          34       0.00      0.00      0.00         7\n",
      "          35       0.00      0.00      0.00         6\n",
      "          36       0.00      0.00      0.00        11\n",
      "          37       0.00      0.00      0.00         2\n",
      "          38       0.00      0.00      0.00         3\n",
      "          39       0.00      0.00      0.00         5\n",
      "          40       0.00      0.00      0.00        10\n",
      "          41       0.00      0.00      0.00         8\n",
      "          42       0.00      0.00      0.00         3\n",
      "          43       0.00      0.00      0.00         6\n",
      "          44       0.00      0.00      0.00         5\n",
      "          45       0.00      0.00      0.00         1\n",
      "\n",
      "    accuracy                           0.67      2246\n",
      "   macro avg       0.16      0.12      0.11      2246\n",
      "weighted avg       0.60      0.67      0.60      2246\n",
      "\n"
     ]
    }
   ],
   "source": [
    "# 정밀도, 재현율, F1점수 확인\n",
    "print(classification_report(y_test, predicted, zero_division=0))"
   ]
  },
  {
   "cell_type": "code",
   "execution_count": 57,
   "id": "76775a12",
   "metadata": {},
   "outputs": [
    {
     "name": "stdout",
     "output_type": "stream",
     "text": [
      "Weighted Avg F1-score: 0.6012501291711391\n"
     ]
    }
   ],
   "source": [
    "# F1 score weighted avg만 평가 하겠음\n",
    "report = classification_report(y_test, predicted, zero_division=0, output_dict=True)\n",
    "print(\"Weighted Avg F1-score:\", report['weighted avg']['f1-score'])"
   ]
  },
  {
   "cell_type": "markdown",
   "id": "111bed09",
   "metadata": {},
   "source": [
    "CNB"
   ]
  },
  {
   "cell_type": "code",
   "execution_count": 58,
   "id": "59dc8e98",
   "metadata": {},
   "outputs": [
    {
     "data": {
      "text/plain": [
       "ComplementNB()"
      ]
     },
     "execution_count": 58,
     "metadata": {},
     "output_type": "execute_result"
    }
   ],
   "source": [
    "# 모델 정의 및 훈련\n",
    "cb = ComplementNB()\n",
    "cb.fit(tfidfv, y_train)"
   ]
  },
  {
   "cell_type": "code",
   "execution_count": 59,
   "id": "4c234e5c",
   "metadata": {},
   "outputs": [
    {
     "name": "stdout",
     "output_type": "stream",
     "text": [
      "정확도: 0.7707034728406055\n"
     ]
    }
   ],
   "source": [
    "#테스트 데이터에 대한 예측\n",
    "predicted = cb.predict(tfidfv_test)\n",
    "print(\"정확도:\", accuracy_score(y_test, predicted)) #예측값과 실제값 비교"
   ]
  },
  {
   "cell_type": "code",
   "execution_count": 60,
   "id": "9eeccae6",
   "metadata": {
    "scrolled": true
   },
   "outputs": [
    {
     "name": "stdout",
     "output_type": "stream",
     "text": [
      "              precision    recall  f1-score   support\n",
      "\n",
      "           0       0.88      0.58      0.70        12\n",
      "           1       0.63      0.86      0.73       105\n",
      "           2       0.91      0.50      0.65        20\n",
      "           3       0.91      0.89      0.90       813\n",
      "           4       0.74      0.92      0.82       474\n",
      "           5       0.00      0.00      0.00         5\n",
      "           6       0.86      0.86      0.86        14\n",
      "           7       1.00      0.67      0.80         3\n",
      "           8       0.57      0.21      0.31        38\n",
      "           9       0.82      0.92      0.87        25\n",
      "          10       0.96      0.80      0.87        30\n",
      "          11       0.54      0.76      0.63        83\n",
      "          12       0.00      0.00      0.00        13\n",
      "          13       0.69      0.59      0.64        37\n",
      "          14       0.00      0.00      0.00         2\n",
      "          15       0.00      0.00      0.00         9\n",
      "          16       0.67      0.79      0.72        99\n",
      "          17       0.00      0.00      0.00        12\n",
      "          18       0.55      0.60      0.57        20\n",
      "          19       0.56      0.80      0.66       133\n",
      "          20       0.79      0.33      0.46        70\n",
      "          21       0.78      0.67      0.72        27\n",
      "          22       0.00      0.00      0.00         7\n",
      "          23       0.67      0.33      0.44        12\n",
      "          24       0.67      0.11      0.18        19\n",
      "          25       0.86      0.77      0.81        31\n",
      "          26       0.88      0.88      0.88         8\n",
      "          27       1.00      0.25      0.40         4\n",
      "          28       0.33      0.20      0.25        10\n",
      "          29       0.00      0.00      0.00         4\n",
      "          30       0.00      0.00      0.00        12\n",
      "          31       1.00      0.15      0.27        13\n",
      "          32       1.00      0.70      0.82        10\n",
      "          33       1.00      0.80      0.89         5\n",
      "          34       1.00      0.71      0.83         7\n",
      "          35       1.00      0.17      0.29         6\n",
      "          36       0.00      0.00      0.00        11\n",
      "          37       1.00      0.50      0.67         2\n",
      "          38       1.00      0.33      0.50         3\n",
      "          39       0.00      0.00      0.00         5\n",
      "          40       0.00      0.00      0.00        10\n",
      "          41       0.67      0.25      0.36         8\n",
      "          42       1.00      0.33      0.50         3\n",
      "          43       1.00      0.17      0.29         6\n",
      "          44       1.00      0.80      0.89         5\n",
      "          45       1.00      1.00      1.00         1\n",
      "\n",
      "    accuracy                           0.77      2246\n",
      "   macro avg       0.63      0.44      0.48      2246\n",
      "weighted avg       0.76      0.77      0.75      2246\n",
      "\n"
     ]
    }
   ],
   "source": [
    "# 정밀도, 재현율, F1점수 확인\n",
    "print(classification_report(y_test, predicted, zero_division=0))"
   ]
  },
  {
   "cell_type": "code",
   "execution_count": 61,
   "id": "41a9f08a",
   "metadata": {},
   "outputs": [
    {
     "name": "stdout",
     "output_type": "stream",
     "text": [
      "Weighted Avg F1-score: 0.7458990404916549\n"
     ]
    }
   ],
   "source": [
    "# F1 score weighted avg만 평가 하겠음\n",
    "report = classification_report(y_test, predicted, zero_division=0, output_dict=True)\n",
    "print(\"Weighted Avg F1-score:\", report['weighted avg']['f1-score'])"
   ]
  },
  {
   "cell_type": "markdown",
   "id": "feeb7c5e",
   "metadata": {},
   "source": [
    "로지스틱 회귀"
   ]
  },
  {
   "cell_type": "code",
   "execution_count": 62,
   "id": "407ffa43",
   "metadata": {},
   "outputs": [
    {
     "data": {
      "text/plain": [
       "LogisticRegression(C=10000, max_iter=3000)"
      ]
     },
     "execution_count": 62,
     "metadata": {},
     "output_type": "execute_result"
    }
   ],
   "source": [
    "# 모델 정의 및 훈련\n",
    "lr = LogisticRegression(C=10000, penalty='l2', max_iter=3000)\n",
    "lr.fit(tfidfv, y_train)"
   ]
  },
  {
   "cell_type": "code",
   "execution_count": 63,
   "id": "45139d13",
   "metadata": {},
   "outputs": [
    {
     "name": "stdout",
     "output_type": "stream",
     "text": [
      "정확도: 0.8036509349955476\n"
     ]
    }
   ],
   "source": [
    "#테스트 데이터에 대한 예측\n",
    "predicted = lr.predict(tfidfv_test)\n",
    "print(\"정확도:\", accuracy_score(y_test, predicted)) #예측값과 실제값 비교"
   ]
  },
  {
   "cell_type": "code",
   "execution_count": 64,
   "id": "a80912a7",
   "metadata": {
    "scrolled": true
   },
   "outputs": [
    {
     "name": "stdout",
     "output_type": "stream",
     "text": [
      "              precision    recall  f1-score   support\n",
      "\n",
      "           0       0.89      0.67      0.76        12\n",
      "           1       0.73      0.77      0.75       105\n",
      "           2       0.76      0.80      0.78        20\n",
      "           3       0.90      0.93      0.91       813\n",
      "           4       0.80      0.86      0.83       474\n",
      "           5       0.00      0.00      0.00         5\n",
      "           6       0.93      0.93      0.93        14\n",
      "           7       1.00      0.33      0.50         3\n",
      "           8       0.66      0.71      0.68        38\n",
      "           9       0.81      0.88      0.85        25\n",
      "          10       0.89      0.83      0.86        30\n",
      "          11       0.64      0.73      0.69        83\n",
      "          12       0.57      0.31      0.40        13\n",
      "          13       0.63      0.65      0.64        37\n",
      "          14       0.50      0.50      0.50         2\n",
      "          15       0.75      0.33      0.46         9\n",
      "          16       0.70      0.75      0.73        99\n",
      "          17       0.80      0.67      0.73        12\n",
      "          18       0.87      0.65      0.74        20\n",
      "          19       0.69      0.68      0.68       133\n",
      "          20       0.57      0.50      0.53        70\n",
      "          21       0.72      0.85      0.78        27\n",
      "          22       1.00      0.29      0.44         7\n",
      "          23       0.64      0.75      0.69        12\n",
      "          24       0.67      0.53      0.59        19\n",
      "          25       0.87      0.65      0.74        31\n",
      "          26       1.00      0.88      0.93         8\n",
      "          27       1.00      0.25      0.40         4\n",
      "          28       0.40      0.40      0.40        10\n",
      "          29       0.57      1.00      0.73         4\n",
      "          30       1.00      0.58      0.74        12\n",
      "          31       0.80      0.62      0.70        13\n",
      "          32       1.00      0.80      0.89        10\n",
      "          33       0.80      0.80      0.80         5\n",
      "          34       0.80      0.57      0.67         7\n",
      "          35       1.00      0.33      0.50         6\n",
      "          36       0.43      0.27      0.33        11\n",
      "          37       0.50      0.50      0.50         2\n",
      "          38       1.00      0.33      0.50         3\n",
      "          39       0.25      0.20      0.22         5\n",
      "          40       0.60      0.30      0.40        10\n",
      "          41       0.75      0.38      0.50         8\n",
      "          42       1.00      0.67      0.80         3\n",
      "          43       0.86      1.00      0.92         6\n",
      "          44       1.00      0.80      0.89         5\n",
      "          45       1.00      1.00      1.00         1\n",
      "\n",
      "    accuracy                           0.80      2246\n",
      "   macro avg       0.76      0.61      0.65      2246\n",
      "weighted avg       0.80      0.80      0.80      2246\n",
      "\n"
     ]
    }
   ],
   "source": [
    "# 정밀도, 재현율, F1점수 확인\n",
    "print(classification_report(y_test, predicted, zero_division=0))"
   ]
  },
  {
   "cell_type": "code",
   "execution_count": 65,
   "id": "22ec2396",
   "metadata": {},
   "outputs": [
    {
     "name": "stdout",
     "output_type": "stream",
     "text": [
      "Weighted Avg F1-score: 0.7985602317931111\n"
     ]
    }
   ],
   "source": [
    "# F1 score weighted avg만 평가 하겠음\n",
    "report = classification_report(y_test, predicted, zero_division=0, output_dict=True)\n",
    "print(\"Weighted Avg F1-score:\", report['weighted avg']['f1-score'])"
   ]
  },
  {
   "cell_type": "markdown",
   "id": "92e074ae",
   "metadata": {},
   "source": [
    "서포트 벡터 머신"
   ]
  },
  {
   "cell_type": "code",
   "execution_count": 66,
   "id": "d69cad49",
   "metadata": {},
   "outputs": [
    {
     "name": "stderr",
     "output_type": "stream",
     "text": [
      "/opt/conda/lib/python3.9/site-packages/sklearn/svm/_base.py:1199: ConvergenceWarning: Liblinear failed to converge, increase the number of iterations.\n",
      "  warnings.warn(\n"
     ]
    },
    {
     "data": {
      "text/plain": [
       "LinearSVC(C=1000, dual=False, max_iter=3000, penalty='l1')"
      ]
     },
     "execution_count": 66,
     "metadata": {},
     "output_type": "execute_result"
    }
   ],
   "source": [
    "# 모델 정의 및 훈련\n",
    "lsvc = LinearSVC(C=1000, penalty='l1', max_iter=3000, dual=False)\n",
    "lsvc.fit(tfidfv, y_train)"
   ]
  },
  {
   "cell_type": "code",
   "execution_count": 67,
   "id": "18f97fa6",
   "metadata": {},
   "outputs": [
    {
     "name": "stdout",
     "output_type": "stream",
     "text": [
      "정확도: 0.7729296527159395\n"
     ]
    }
   ],
   "source": [
    "#테스트 데이터에 대한 예측\n",
    "predicted = lsvc.predict(tfidfv_test)\n",
    "print(\"정확도:\", accuracy_score(y_test, predicted)) #예측값과 실제값 비교"
   ]
  },
  {
   "cell_type": "code",
   "execution_count": 68,
   "id": "5bf74ccb",
   "metadata": {
    "scrolled": true
   },
   "outputs": [
    {
     "name": "stdout",
     "output_type": "stream",
     "text": [
      "              precision    recall  f1-score   support\n",
      "\n",
      "           0       0.67      0.67      0.67        12\n",
      "           1       0.75      0.72      0.73       105\n",
      "           2       0.75      0.75      0.75        20\n",
      "           3       0.89      0.90      0.90       813\n",
      "           4       0.81      0.82      0.82       474\n",
      "           5       0.00      0.00      0.00         5\n",
      "           6       0.81      0.93      0.87        14\n",
      "           7       0.50      0.33      0.40         3\n",
      "           8       0.59      0.71      0.64        38\n",
      "           9       0.81      0.84      0.82        25\n",
      "          10       0.79      0.77      0.78        30\n",
      "          11       0.64      0.73      0.68        83\n",
      "          12       0.33      0.31      0.32        13\n",
      "          13       0.55      0.62      0.58        37\n",
      "          14       0.50      1.00      0.67         2\n",
      "          15       0.40      0.22      0.29         9\n",
      "          16       0.65      0.71      0.68        99\n",
      "          17       0.88      0.58      0.70        12\n",
      "          18       0.80      0.60      0.69        20\n",
      "          19       0.64      0.65      0.64       133\n",
      "          20       0.49      0.40      0.44        70\n",
      "          21       0.55      0.78      0.65        27\n",
      "          22       0.00      0.00      0.00         7\n",
      "          23       0.57      0.67      0.62        12\n",
      "          24       0.65      0.58      0.61        19\n",
      "          25       0.80      0.52      0.63        31\n",
      "          26       1.00      0.88      0.93         8\n",
      "          27       0.50      0.50      0.50         4\n",
      "          28       0.50      0.40      0.44        10\n",
      "          29       0.33      0.50      0.40         4\n",
      "          30       0.56      0.42      0.48        12\n",
      "          31       0.75      0.69      0.72        13\n",
      "          32       1.00      0.70      0.82        10\n",
      "          33       0.80      0.80      0.80         5\n",
      "          34       0.67      0.57      0.62         7\n",
      "          35       1.00      0.50      0.67         6\n",
      "          36       0.50      0.45      0.48        11\n",
      "          37       0.50      0.50      0.50         2\n",
      "          38       0.33      0.33      0.33         3\n",
      "          39       0.25      0.20      0.22         5\n",
      "          40       0.60      0.30      0.40        10\n",
      "          41       0.71      0.62      0.67         8\n",
      "          42       1.00      0.67      0.80         3\n",
      "          43       0.75      1.00      0.86         6\n",
      "          44       1.00      0.80      0.89         5\n",
      "          45       0.50      1.00      0.67         1\n",
      "\n",
      "    accuracy                           0.77      2246\n",
      "   macro avg       0.63      0.60      0.60      2246\n",
      "weighted avg       0.77      0.77      0.77      2246\n",
      "\n"
     ]
    }
   ],
   "source": [
    "# 정밀도, 재현율, F1점수 확인\n",
    "print(classification_report(y_test, predicted, zero_division=0))"
   ]
  },
  {
   "cell_type": "code",
   "execution_count": 69,
   "id": "d823e298",
   "metadata": {},
   "outputs": [
    {
     "name": "stdout",
     "output_type": "stream",
     "text": [
      "Weighted Avg F1-score: 0.7694057464576125\n"
     ]
    }
   ],
   "source": [
    "# F1 score weighted avg만 평가 하겠음\n",
    "report = classification_report(y_test, predicted, zero_division=0, output_dict=True)\n",
    "print(\"Weighted Avg F1-score:\", report['weighted avg']['f1-score'])"
   ]
  },
  {
   "cell_type": "markdown",
   "id": "4dde89d7",
   "metadata": {},
   "source": [
    "결정 트리"
   ]
  },
  {
   "cell_type": "code",
   "execution_count": 70,
   "id": "f7089fef",
   "metadata": {},
   "outputs": [
    {
     "data": {
      "text/plain": [
       "DecisionTreeClassifier(max_depth=10, random_state=0)"
      ]
     },
     "execution_count": 70,
     "metadata": {},
     "output_type": "execute_result"
    }
   ],
   "source": [
    "# 모델 정의 및 훈련\n",
    "tree = DecisionTreeClassifier(max_depth=10, random_state=0)\n",
    "tree.fit(tfidfv, y_train)"
   ]
  },
  {
   "cell_type": "code",
   "execution_count": 71,
   "id": "896ed5fe",
   "metadata": {},
   "outputs": [
    {
     "name": "stdout",
     "output_type": "stream",
     "text": [
      "정확도: 0.6179875333926982\n"
     ]
    }
   ],
   "source": [
    "#테스트 데이터에 대한 예측\n",
    "predicted = tree.predict(tfidfv_test)\n",
    "print(\"정확도:\", accuracy_score(y_test, predicted)) #예측값과 실제값 비교"
   ]
  },
  {
   "cell_type": "code",
   "execution_count": 72,
   "id": "8fa40255",
   "metadata": {
    "scrolled": true
   },
   "outputs": [
    {
     "name": "stdout",
     "output_type": "stream",
     "text": [
      "              precision    recall  f1-score   support\n",
      "\n",
      "           0       0.00      0.00      0.00        12\n",
      "           1       0.72      0.40      0.52       105\n",
      "           2       0.60      0.45      0.51        20\n",
      "           3       0.94      0.84      0.89       813\n",
      "           4       0.39      0.91      0.55       474\n",
      "           5       0.00      0.00      0.00         5\n",
      "           6       1.00      0.57      0.73        14\n",
      "           7       0.00      0.00      0.00         3\n",
      "           8       0.00      0.00      0.00        38\n",
      "           9       0.88      0.88      0.88        25\n",
      "          10       0.87      0.87      0.87        30\n",
      "          11       0.62      0.48      0.54        83\n",
      "          12       0.17      0.08      0.11        13\n",
      "          13       0.00      0.00      0.00        37\n",
      "          14       0.00      0.00      0.00         2\n",
      "          15       0.00      0.00      0.00         9\n",
      "          16       0.60      0.82      0.69        99\n",
      "          17       0.00      0.00      0.00        12\n",
      "          18       0.00      0.00      0.00        20\n",
      "          19       0.62      0.26      0.37       133\n",
      "          20       0.33      0.03      0.05        70\n",
      "          21       0.00      0.00      0.00        27\n",
      "          22       0.00      0.00      0.00         7\n",
      "          23       0.00      0.00      0.00        12\n",
      "          24       1.00      0.05      0.10        19\n",
      "          25       0.86      0.19      0.32        31\n",
      "          26       0.00      0.00      0.00         8\n",
      "          27       0.00      0.00      0.00         4\n",
      "          28       0.50      0.10      0.17        10\n",
      "          29       0.00      0.00      0.00         4\n",
      "          30       0.00      0.00      0.00        12\n",
      "          31       0.00      0.00      0.00        13\n",
      "          32       0.00      0.00      0.00        10\n",
      "          33       0.83      1.00      0.91         5\n",
      "          34       0.00      0.00      0.00         7\n",
      "          35       0.00      0.00      0.00         6\n",
      "          36       0.00      0.00      0.00        11\n",
      "          37       0.00      0.00      0.00         2\n",
      "          38       0.00      0.00      0.00         3\n",
      "          39       0.00      0.00      0.00         5\n",
      "          40       0.00      0.00      0.00        10\n",
      "          41       0.00      0.00      0.00         8\n",
      "          42       0.00      0.00      0.00         3\n",
      "          43       0.00      0.00      0.00         6\n",
      "          44       0.00      0.00      0.00         5\n",
      "          45       0.00      0.00      0.00         1\n",
      "\n",
      "    accuracy                           0.62      2246\n",
      "   macro avg       0.24      0.17      0.18      2246\n",
      "weighted avg       0.61      0.62      0.57      2246\n",
      "\n"
     ]
    }
   ],
   "source": [
    "# 정밀도, 재현율, F1점수 확인\n",
    "print(classification_report(y_test, predicted, zero_division=0))"
   ]
  },
  {
   "cell_type": "code",
   "execution_count": 73,
   "id": "eef899c5",
   "metadata": {},
   "outputs": [
    {
     "name": "stdout",
     "output_type": "stream",
     "text": [
      "Weighted Avg F1-score: 0.5729970881280324\n"
     ]
    }
   ],
   "source": [
    "# F1 score weighted avg만 평가 하겠음\n",
    "report = classification_report(y_test, predicted, zero_division=0, output_dict=True)\n",
    "print(\"Weighted Avg F1-score:\", report['weighted avg']['f1-score'])"
   ]
  },
  {
   "cell_type": "markdown",
   "id": "ab0ca388",
   "metadata": {},
   "source": [
    "랜덤 포레스트"
   ]
  },
  {
   "cell_type": "code",
   "execution_count": 74,
   "id": "1fb06864",
   "metadata": {},
   "outputs": [
    {
     "data": {
      "text/plain": [
       "RandomForestClassifier(n_estimators=5, random_state=0)"
      ]
     },
     "execution_count": 74,
     "metadata": {},
     "output_type": "execute_result"
    }
   ],
   "source": [
    "# 모델 정의 및 훈련\n",
    "forest = RandomForestClassifier(n_estimators=5, random_state=0)\n",
    "forest.fit(tfidfv, y_train)"
   ]
  },
  {
   "cell_type": "code",
   "execution_count": 75,
   "id": "444e9706",
   "metadata": {},
   "outputs": [
    {
     "name": "stdout",
     "output_type": "stream",
     "text": [
      "정확도: 0.701246660730187\n"
     ]
    }
   ],
   "source": [
    "#테스트 데이터에 대한 예측\n",
    "predicted = forest.predict(tfidfv_test)\n",
    "print(\"정확도:\", accuracy_score(y_test, predicted)) #예측값과 실제값 비교"
   ]
  },
  {
   "cell_type": "code",
   "execution_count": 76,
   "id": "f1c92233",
   "metadata": {
    "scrolled": true
   },
   "outputs": [
    {
     "name": "stdout",
     "output_type": "stream",
     "text": [
      "              precision    recall  f1-score   support\n",
      "\n",
      "           0       0.28      0.42      0.33        12\n",
      "           1       0.42      0.78      0.55       105\n",
      "           2       0.44      0.35      0.39        20\n",
      "           3       0.84      0.90      0.87       813\n",
      "           4       0.68      0.84      0.75       474\n",
      "           5       0.00      0.00      0.00         5\n",
      "           6       0.86      0.43      0.57        14\n",
      "           7       1.00      0.33      0.50         3\n",
      "           8       0.59      0.53      0.56        38\n",
      "           9       0.71      0.40      0.51        25\n",
      "          10       0.89      0.53      0.67        30\n",
      "          11       0.57      0.69      0.62        83\n",
      "          12       0.33      0.15      0.21        13\n",
      "          13       0.46      0.32      0.38        37\n",
      "          14       0.00      0.00      0.00         2\n",
      "          15       1.00      0.11      0.20         9\n",
      "          16       0.70      0.67      0.68        99\n",
      "          17       0.00      0.00      0.00        12\n",
      "          18       0.60      0.45      0.51        20\n",
      "          19       0.62      0.64      0.63       133\n",
      "          20       0.46      0.33      0.38        70\n",
      "          21       0.65      0.41      0.50        27\n",
      "          22       0.00      0.00      0.00         7\n",
      "          23       0.75      0.25      0.38        12\n",
      "          24       0.33      0.05      0.09        19\n",
      "          25       0.87      0.42      0.57        31\n",
      "          26       1.00      0.12      0.22         8\n",
      "          27       1.00      0.25      0.40         4\n",
      "          28       0.00      0.00      0.00        10\n",
      "          29       0.33      0.25      0.29         4\n",
      "          30       0.00      0.00      0.00        12\n",
      "          31       0.00      0.00      0.00        13\n",
      "          32       1.00      0.30      0.46        10\n",
      "          33       1.00      0.20      0.33         5\n",
      "          34       0.00      0.00      0.00         7\n",
      "          35       1.00      0.17      0.29         6\n",
      "          36       0.33      0.09      0.14        11\n",
      "          37       1.00      0.50      0.67         2\n",
      "          38       0.00      0.00      0.00         3\n",
      "          39       0.00      0.00      0.00         5\n",
      "          40       1.00      0.20      0.33        10\n",
      "          41       0.25      0.12      0.17         8\n",
      "          42       0.00      0.00      0.00         3\n",
      "          43       1.00      0.33      0.50         6\n",
      "          44       1.00      0.80      0.89         5\n",
      "          45       1.00      1.00      1.00         1\n",
      "\n",
      "    accuracy                           0.70      2246\n",
      "   macro avg       0.54      0.31      0.36      2246\n",
      "weighted avg       0.69      0.70      0.68      2246\n",
      "\n"
     ]
    }
   ],
   "source": [
    "# 정밀도, 재현율, F1점수 확인\n",
    "print(classification_report(y_test, predicted, zero_division=0))"
   ]
  },
  {
   "cell_type": "code",
   "execution_count": 77,
   "id": "29939ff8",
   "metadata": {},
   "outputs": [
    {
     "name": "stdout",
     "output_type": "stream",
     "text": [
      "Weighted Avg F1-score: 0.6770217603524399\n"
     ]
    }
   ],
   "source": [
    "# F1 score weighted avg만 평가 하겠음\n",
    "report = classification_report(y_test, predicted, zero_division=0, output_dict=True)\n",
    "print(\"Weighted Avg F1-score:\", report['weighted avg']['f1-score'])"
   ]
  },
  {
   "cell_type": "markdown",
   "id": "5ef876c1",
   "metadata": {},
   "source": [
    "그래디언트 부스팅 트리"
   ]
  },
  {
   "cell_type": "code",
   "execution_count": 78,
   "id": "bf537f0e",
   "metadata": {},
   "outputs": [
    {
     "data": {
      "text/plain": [
       "GradientBoostingClassifier(random_state=0)"
      ]
     },
     "execution_count": 78,
     "metadata": {},
     "output_type": "execute_result"
    }
   ],
   "source": [
    "# 모델 정의 및 훈련\n",
    "grbt = GradientBoostingClassifier(random_state=0) # verbose=3\n",
    "grbt.fit(tfidfv, y_train)"
   ]
  },
  {
   "cell_type": "code",
   "execution_count": 79,
   "id": "5aab73ed",
   "metadata": {},
   "outputs": [
    {
     "name": "stdout",
     "output_type": "stream",
     "text": [
      "정확도: 0.767586821015138\n"
     ]
    }
   ],
   "source": [
    "#테스트 데이터에 대한 예측\n",
    "predicted = grbt.predict(tfidfv_test)\n",
    "print(\"정확도:\", accuracy_score(y_test, predicted)) #예측값과 실제값 비교"
   ]
  },
  {
   "cell_type": "code",
   "execution_count": 80,
   "id": "0da278ab",
   "metadata": {
    "scrolled": true
   },
   "outputs": [
    {
     "name": "stdout",
     "output_type": "stream",
     "text": [
      "              precision    recall  f1-score   support\n",
      "\n",
      "           0       0.89      0.67      0.76        12\n",
      "           1       0.80      0.68      0.73       105\n",
      "           2       0.70      0.70      0.70        20\n",
      "           3       0.90      0.90      0.90       813\n",
      "           4       0.76      0.83      0.79       474\n",
      "           5       0.14      0.20      0.17         5\n",
      "           6       0.93      0.93      0.93        14\n",
      "           7       0.50      0.33      0.40         3\n",
      "           8       0.64      0.66      0.65        38\n",
      "           9       0.91      0.84      0.87        25\n",
      "          10       0.87      0.87      0.87        30\n",
      "          11       0.62      0.66      0.64        83\n",
      "          12       0.46      0.46      0.46        13\n",
      "          13       0.55      0.43      0.48        37\n",
      "          14       0.08      0.50      0.14         2\n",
      "          15       0.33      0.22      0.27         9\n",
      "          16       0.72      0.77      0.75        99\n",
      "          17       0.33      0.33      0.33        12\n",
      "          18       0.61      0.55      0.58        20\n",
      "          19       0.71      0.65      0.68       133\n",
      "          20       0.56      0.44      0.50        70\n",
      "          21       0.67      0.67      0.67        27\n",
      "          22       0.50      0.14      0.22         7\n",
      "          23       0.36      0.42      0.38        12\n",
      "          24       0.71      0.63      0.67        19\n",
      "          25       0.91      0.65      0.75        31\n",
      "          26       0.75      0.75      0.75         8\n",
      "          27       0.40      0.50      0.44         4\n",
      "          28       0.38      0.30      0.33        10\n",
      "          29       0.22      0.50      0.31         4\n",
      "          30       0.38      0.42      0.40        12\n",
      "          31       0.60      0.46      0.52        13\n",
      "          32       0.88      0.70      0.78        10\n",
      "          33       0.71      1.00      0.83         5\n",
      "          34       0.50      0.29      0.36         7\n",
      "          35       1.00      0.50      0.67         6\n",
      "          36       0.67      0.55      0.60        11\n",
      "          37       0.67      1.00      0.80         2\n",
      "          38       0.25      0.33      0.29         3\n",
      "          39       0.25      0.20      0.22         5\n",
      "          40       0.71      0.50      0.59        10\n",
      "          41       0.44      0.50      0.47         8\n",
      "          42       0.75      1.00      0.86         3\n",
      "          43       0.50      0.67      0.57         6\n",
      "          44       1.00      0.80      0.89         5\n",
      "          45       0.50      1.00      0.67         1\n",
      "\n",
      "    accuracy                           0.77      2246\n",
      "   macro avg       0.60      0.59      0.58      2246\n",
      "weighted avg       0.77      0.77      0.77      2246\n",
      "\n"
     ]
    }
   ],
   "source": [
    "# 정밀도, 재현율, F1점수 확인\n",
    "print(classification_report(y_test, predicted, zero_division=0))"
   ]
  },
  {
   "cell_type": "code",
   "execution_count": 81,
   "id": "0788a970",
   "metadata": {},
   "outputs": [
    {
     "name": "stdout",
     "output_type": "stream",
     "text": [
      "Weighted Avg F1-score: 0.7662475269931749\n"
     ]
    }
   ],
   "source": [
    "# F1 score weighted avg만 평가 하겠음\n",
    "report = classification_report(y_test, predicted, zero_division=0, output_dict=True)\n",
    "print(\"Weighted Avg F1-score:\", report['weighted avg']['f1-score'])"
   ]
  },
  {
   "cell_type": "markdown",
   "id": "1f3287a2",
   "metadata": {},
   "source": [
    "보팅"
   ]
  },
  {
   "cell_type": "code",
   "execution_count": 82,
   "id": "60498b71",
   "metadata": {},
   "outputs": [
    {
     "data": {
      "text/plain": [
       "VotingClassifier(estimators=[('lr', LogisticRegression(solver='liblinear')),\n",
       "                             ('cnb', ComplementNB()),\n",
       "                             ('gb', GradientBoostingClassifier())],\n",
       "                 voting='soft')"
      ]
     },
     "execution_count": 82,
     "metadata": {},
     "output_type": "execute_result"
    }
   ],
   "source": [
    "# 개별 분류기 정의\n",
    "log_reg = LogisticRegression(penalty='l2', solver='liblinear')\n",
    "complement_nb = ComplementNB()\n",
    "gradient_boost = GradientBoostingClassifier()\n",
    "\n",
    "# VotingClassifier 정의\n",
    "voting_classifier = VotingClassifier(\n",
    "    estimators=[('lr', log_reg), ('cnb', complement_nb), ('gb', gradient_boost)],\n",
    "    voting='soft'\n",
    ")\n",
    "\n",
    "voting_classifier.fit(tfidfv, y_train)"
   ]
  },
  {
   "cell_type": "code",
   "execution_count": 83,
   "id": "3bd13978",
   "metadata": {},
   "outputs": [
    {
     "name": "stdout",
     "output_type": "stream",
     "text": [
      "정확도: 0.7907390917186109\n"
     ]
    }
   ],
   "source": [
    "#테스트 데이터에 대한 예측\n",
    "predicted = voting_classifier.predict(tfidfv_test)\n",
    "print(\"정확도:\", accuracy_score(y_test, predicted)) #예측값과 실제값 비교"
   ]
  },
  {
   "cell_type": "code",
   "execution_count": 84,
   "id": "39f3d5bc",
   "metadata": {
    "scrolled": true
   },
   "outputs": [
    {
     "name": "stdout",
     "output_type": "stream",
     "text": [
      "              precision    recall  f1-score   support\n",
      "\n",
      "           0       0.88      0.58      0.70        12\n",
      "           1       0.75      0.75      0.75       105\n",
      "           2       0.70      0.70      0.70        20\n",
      "           3       0.93      0.93      0.93       813\n",
      "           4       0.76      0.87      0.81       474\n",
      "           5       0.17      0.20      0.18         5\n",
      "           6       0.93      0.93      0.93        14\n",
      "           7       0.50      0.67      0.57         3\n",
      "           8       0.68      0.66      0.67        38\n",
      "           9       0.81      0.84      0.82        25\n",
      "          10       0.81      0.87      0.84        30\n",
      "          11       0.67      0.70      0.69        83\n",
      "          12       0.46      0.46      0.46        13\n",
      "          13       0.55      0.57      0.56        37\n",
      "          14       0.25      0.50      0.33         2\n",
      "          15       0.40      0.22      0.29         9\n",
      "          16       0.75      0.78      0.76        99\n",
      "          17       0.42      0.42      0.42        12\n",
      "          18       0.69      0.55      0.61        20\n",
      "          19       0.72      0.65      0.68       133\n",
      "          20       0.64      0.43      0.51        70\n",
      "          21       0.71      0.63      0.67        27\n",
      "          22       0.50      0.14      0.22         7\n",
      "          23       0.62      0.67      0.64        12\n",
      "          24       0.62      0.53      0.57        19\n",
      "          25       0.92      0.74      0.82        31\n",
      "          26       0.71      0.62      0.67         8\n",
      "          27       0.29      0.50      0.36         4\n",
      "          28       0.38      0.30      0.33        10\n",
      "          29       0.29      0.50      0.36         4\n",
      "          30       0.38      0.42      0.40        12\n",
      "          31       0.67      0.46      0.55        13\n",
      "          32       0.88      0.70      0.78        10\n",
      "          33       0.75      0.60      0.67         5\n",
      "          34       0.80      0.57      0.67         7\n",
      "          35       1.00      0.67      0.80         6\n",
      "          36       0.71      0.45      0.56        11\n",
      "          37       0.67      1.00      0.80         2\n",
      "          38       0.50      0.33      0.40         3\n",
      "          39       0.33      0.20      0.25         5\n",
      "          40       0.75      0.30      0.43        10\n",
      "          41       0.43      0.38      0.40         8\n",
      "          42       0.75      1.00      0.86         3\n",
      "          43       0.50      0.67      0.57         6\n",
      "          44       1.00      0.80      0.89         5\n",
      "          45       0.33      1.00      0.50         1\n",
      "\n",
      "    accuracy                           0.79      2246\n",
      "   macro avg       0.63      0.60      0.59      2246\n",
      "weighted avg       0.79      0.79      0.79      2246\n",
      "\n"
     ]
    }
   ],
   "source": [
    "# 정밀도, 재현율, F1점수 확인\n",
    "print(classification_report(y_test, predicted, zero_division=0))"
   ]
  },
  {
   "cell_type": "code",
   "execution_count": 85,
   "id": "a5c2908e",
   "metadata": {},
   "outputs": [
    {
     "name": "stdout",
     "output_type": "stream",
     "text": [
      "Weighted Avg F1-score: 0.7869037544793882\n"
     ]
    }
   ],
   "source": [
    "# F1 score weighted avg만 평가 하겠음\n",
    "report = classification_report(y_test, predicted, zero_division=0, output_dict=True)\n",
    "print(\"Weighted Avg F1-score:\", report['weighted avg']['f1-score'])"
   ]
  },
  {
   "cell_type": "markdown",
   "id": "3fe89bb8",
   "metadata": {},
   "source": [
    "# step 3. 직접 단어 개수를 설정해서 사용"
   ]
  },
  {
   "cell_type": "markdown",
   "id": "38831042",
   "metadata": {},
   "source": [
    "## step 3 - 1. 빈도수 상위 15,000개의 단어만 사용"
   ]
  },
  {
   "cell_type": "markdown",
   "id": "0849fb40",
   "metadata": {},
   "source": [
    "1. 데이터 다운"
   ]
  },
  {
   "cell_type": "code",
   "execution_count": 2,
   "id": "97cd9d61",
   "metadata": {},
   "outputs": [],
   "source": [
    "(x_train, y_train), (x_test, y_test) = reuters.load_data(num_words=15000, test_split=0.2)"
   ]
  },
  {
   "cell_type": "markdown",
   "id": "885b9f1a",
   "metadata": {},
   "source": [
    "2. 데이터 분포 확인"
   ]
  },
  {
   "cell_type": "code",
   "execution_count": 3,
   "id": "03275f9b",
   "metadata": {
    "scrolled": true
   },
   "outputs": [
    {
     "name": "stdout",
     "output_type": "stream",
     "text": [
      "훈련용 뉴스의 최대 길이 :2376\n",
      "훈련용 뉴스의 평균 길이 :145.5398574927633\n"
     ]
    },
    {
     "data": {
      "image/png": "[encoded data removed]",
      "text/plain": [
       "<Figure size 432x288 with 1 Axes>"
      ]
     },
     "metadata": {
      "needs_background": "light"
     },
     "output_type": "display_data"
    }
   ],
   "source": [
    "print('훈련용 뉴스의 최대 길이 :{}'.format(max(len(l) for l in x_train)))\n",
    "print('훈련용 뉴스의 평균 길이 :{}'.format(sum(map(len, x_train))/len(x_train)))\n",
    "\n",
    "plt.hist([len(s) for s in x_train], bins=50)\n",
    "plt.xlabel('length of samples')\n",
    "plt.ylabel('number of samples')\n",
    "plt.show()"
   ]
  },
  {
   "cell_type": "code",
   "execution_count": 4,
   "id": "7372b305",
   "metadata": {
    "scrolled": true
   },
   "outputs": [
    {
     "data": {
      "image/png": "[encoded data removed]",
      "text/plain": [
       "<Figure size 792x360 with 1 Axes>"
      ]
     },
     "metadata": {
      "needs_background": "light"
     },
     "output_type": "display_data"
    }
   ],
   "source": [
    "fig, axe = plt.subplots(ncols=1)\n",
    "fig.set_size_inches(11,5)\n",
    "sns.countplot(x=y_train)\n",
    "plt.show()"
   ]
  },
  {
   "cell_type": "markdown",
   "id": "34751eed",
   "metadata": {},
   "source": [
    "3. 데이터 복원"
   ]
  },
  {
   "cell_type": "markdown",
   "id": "d4946c26",
   "metadata": {},
   "source": [
    "'단어'를 key값으로, 고유한 '정수'를 value로 가지는 dictionary -> word_index로 저장"
   ]
  },
  {
   "cell_type": "code",
   "execution_count": 5,
   "id": "7614b605",
   "metadata": {
    "scrolled": false
   },
   "outputs": [],
   "source": [
    "word_index = reuters.get_word_index(path=\"reuters_word_index.json\")"
   ]
  },
  {
   "cell_type": "markdown",
   "id": "f826f100",
   "metadata": {},
   "source": [
    "(pad, sos, unk)특별한 토큰 매핑"
   ]
  },
  {
   "cell_type": "code",
   "execution_count": 6,
   "id": "d2e530c6",
   "metadata": {},
   "outputs": [],
   "source": [
    "index_to_word = { index+3 : word for word, index in word_index.items() }\n",
    "\n",
    "# index_to_word에 숫자 0은 <pad>, 숫자 1은 <sos>, 숫자 2는 <unk>를 넣어줍니다.\n",
    "for index, token in enumerate((\"<pad>\", \"<sos>\", \"<unk>\")):\n",
    "  index_to_word[index]=token"
   ]
  },
  {
   "cell_type": "markdown",
   "id": "ea70bf3f",
   "metadata": {},
   "source": [
    "데이터셋 문자로 복원"
   ]
  },
  {
   "cell_type": "code",
   "execution_count": 7,
   "id": "88689ff1",
   "metadata": {
    "scrolled": true
   },
   "outputs": [
    {
     "name": "stdout",
     "output_type": "stream",
     "text": [
      "8982\n",
      "x_train[5]:  ['<sos> <unk> <unk> said as a result of its december acquisition of space co it expects earnings per share in 1987 of 1 15 to 1 30 dlrs per share up from 70 cts in 1986 the company said pretax net should rise to nine to 10 mln dlrs from six mln dlrs in 1986 and rental operation revenues to 19 to 22 mln dlrs from 12 5 mln dlrs it said cash flow per share this year should be 2 50 to three dlrs reuter 3', '<sos> generale de banque sa lt <unk> br and lt heller overseas corp of chicago have each taken 50 pct stakes in <unk> company sa belgo factors generale de banque said in a statement it gave no financial details of the transaction sa belgo <unk> turnover in 1986 was 17 5 billion belgian francs reuter 3', '<sos> shr 3 28 dlrs vs 22 cts shr diluted 2 99 dlrs vs 22 cts net 46 0 mln vs 3 328 000 avg shrs 14 0 mln vs 15 2 mln year shr 5 41 dlrs vs 1 56 dlrs shr diluted 4 94 dlrs vs 1 50 dlrs net 78 2 mln vs 25 9 mln avg shrs 14 5 mln vs 15 1 mln note earnings per share reflect the two for one split effective january 6 1987 per share amounts are calculated after preferred stock dividends loss continuing operations for the qtr 1986 includes gains of sale of investments in enron corp of 14 mln dlrs and associated companies of 4 189 000 less writedowns of investments in national intergroup inc of 11 8 mln and <unk> corp of 15 6 mln reuter 3', \"<sos> the farmers home administration the u s agriculture department's farm lending arm could lose about seven billion dlrs in outstanding principal on its severely <unk> borrowers or about one fourth of its farm loan portfolio the general accounting office gao said in remarks prepared for delivery to the senate agriculture committee brian crowley senior associate director of gao also said that a preliminary analysis of proposed changes in <unk> financial eligibility standards indicated as many as one half of fmha borrowers who received new loans from the agency in 1986 would be ineligible under the proposed system the agency has proposed evaluating <unk> credit using a variety of financial ratios instead of relying solely on <unk> ability senate agriculture committee chairman patrick leahy d vt <unk> the proposed eligibility changes telling fmha administrator <unk> clark at a hearing that they would mark a dramatic shift in the agency's purpose away from being farmers' lender of last resort toward becoming a big city bank but clark defended the new regulations saying the agency had a responsibility to <unk> its 70 billion dlr loan portfolio in a <unk> yet <unk> manner crowley of gao congress' <unk> arm said the proposed credit <unk> system attempted to ensure that fmha would make loans only to borrowers who had a reasonable change of repaying their debt reuter 3\", '<sos> seton co said its board has received a proposal from chairman and chief executive officer philip d <unk> to acquire seton for 15 75 dlrs per share in cash seton said the acquisition bid is subject to <unk> arranging the necessary financing it said he intends to ask other members of senior management to participate the company said <unk> owns 30 pct of seton stock and other management members another 7 5 pct seton said it has formed an independent board committee to consider the offer and has deferred the annual meeting it had scheduled for march 31 reuter 3']\n"
     ]
    }
   ],
   "source": [
    "decoded = []\n",
    "for i in range(len(x_train)):\n",
    "    t = ' '.join([index_to_word[index] for index in x_train[i]])\n",
    "    decoded.append(t)\n",
    "\n",
    "x_train = decoded\n",
    "\n",
    "print(len(x_train))\n",
    "print('x_train[5]: ', x_train[:5])"
   ]
  },
  {
   "cell_type": "code",
   "execution_count": 8,
   "id": "29fa98ba",
   "metadata": {
    "scrolled": true
   },
   "outputs": [
    {
     "name": "stdout",
     "output_type": "stream",
     "text": [
      "2246\n",
      "x_test[5]:  ['<sos> the great atlantic and pacific tea co said its three year 345 mln dlr capital program will be be substantially increased to <unk> growth and expansion plans for <unk> inc and <unk> inc over the next two years a and p said the acquisition of <unk> in august 1986 and <unk> in december helped us achieve better than expected results in the fourth quarter ended february 28 its net income from continuing operations jumped 52 6 pct to 20 7 mln dlrs or 55 cts a share in the latest quarter as sales increased 48 3 pct to 1 58 billion dlrs a and p gave no details on the expanded capital program but it did say it completed the first year of the program during 1986 a and p is 52 4 pct owned by lt <unk> <unk> of west germany reuter 3', \"<sos> philippine sugar production in the 1987 88 crop year ending august has been set at 1 6 mln tonnes up from a provisional 1 3 mln tonnes this year sugar regulatory administration sra chairman <unk> yulo said yulo told reuters a survey during the current milling season which ends next month showed the 1986 87 estimate would almost certainly be met he said at least 1 2 mln tonnes of the 1987 88 crop would be earmarked for domestic consumption yulo said about 130 000 tonnes would be set aside for the u s sugar quota 150 000 tonnes for strategic reserves and 50 000 tonnes would be sold on the world market he said if the government approved a long standing sra recommendation to manufacture ethanol the project would take up another 150 000 tonnes slightly raising the target the government for its own reasons has been delaying approval of the project but we expect it to come through by july yulo said ethanol could make up five pct of gasoline cutting the oil import bill by about 300 mln pesos yulo said three major philippine <unk> were ready to start manufacturing ethanol if the project was approved the ethanol project would result in employment for about 100 000 people sharply reducing those thrown out of work by depressed world sugar prices and a <unk> domestic industry production quotas set for the first time in 1987 88 had been submitted to president corazon aquino i think the president would rather wait <unk> the new congress <unk> after the may elections he said but there is really no need for such quotas we are right now producing just slightly over our own consumption level the producers have never enjoyed such high prices yulo said adding sugar was currently selling locally for 320 pesos per <unk> up from 190 pesos last august yulo said prices were driven up because of speculation following the <unk> bid to control production we are no longer concerned so much with the world market he said adding producers in the <unk> region had learned from their <unk> and diversified into corn and <unk> farming and <unk> production he said diversification into products other than ethanol was also possible within the sugar industry the <unk> long ago <unk> their <unk> yulo said they have 300 sugar mills compared with our 41 but they relocated many of them and diversified production we want to call this a <unk> <unk> instead of the sugar industry he said sugarcane could be fed to pigs and livestock used for <unk> <unk> or used in room <unk> when you cut sugarcane you don't even have to produce sugar he said yulo said the philippines was lobbying for a renewal of the international sugar agreement which expired in 1984 as a major sugar producer we are urging them to write a new agreement which would revive world prices yulo said if there is no agreement world prices will always be depressed particularly because the european community is subsidising its producers and dumping sugar on the markets he said current world prices holding steady at about 7 60 cents per pound were uneconomical for the philippines where production costs ranged from 12 to 14 cents a pound if the price holds steady for a while at 7 60 cents i expect the level to rise to about 11 cents a pound by the end of this year he said yulo said economists forecast a bullish sugar market by 1990 with world consumption <unk> production he said sugar markets were holding up despite <unk> from artificial sweeteners and high fructose corn syrup but we are not happy with the reagan administration he said since <unk> we have been regular suppliers of sugar to the u s in 1982 when they restored the quota system they cut ours in half without any justification manila was keenly watching washington's moves to cut domestic support prices to 12 cents a pound from 18 cents the u s agriculture department last december slashed its 12 month 1987 sugar import quota from the philippines to 143 780 short tons from 231 660 short tons in 1986 yulo said despite next year's increased production target some philippine mills were expected to shut down at least four of the 41 mills were not working during the 1986 87 season he said we expect two or three more to follow suit during the next season reuter 3\", \"<sos> the agriculture department's widening of louisiana gulf differentials will affect county posted prices for number two yellow corn in ten states a usda official said all counties in iowa will be affected as will counties which use the gulf to price corn in illinois indiana tennessee kentucky missouri mississippi arkansas alabama and louisiana said ron burgess deputy director of commodity operations division for the usda usda last night notified the grain industry that effective immediately all gulf differentials used to price interior corn would be widened on a sliding scale basis of four to eight cts depending on what the differential is usda's action was taken to lower excessively high posted county prices for corn caused by high gulf prices we've been following this louisiana gulf situation for a month and we don't think it's going to get back in line in any nearby time burgess said burgess said usda will probably narrow back the gulf differentials when and if gulf prices recede if we're off the mark now because we're too high wouldn't we be as much off the mark if we're too low he said while forecasting more adjustments if gulf prices fall burgess said no other changes in usda's price system are being planned right now we don't tinker we don't make changes lightly and we don't make changes often he said reuter 3\", '<sos> graham mccormick oil and gas partnership said it completed the sale of interests in two major oil and gas fields to lt energy assets international corp for 21 mln dlrs the company said it sold about one half of its 50 pct interest in the oak hill and north <unk> fields its two largest producing properties it said it used about 20 mln dlrs of the proceeds to <unk> principal on its senior secured notes semi annual principal payments on the remaining 40 mln dlrs of notes have been satisfied until december 1988 as a result it said the company said the note agreements were amended to reflect an easing of some financial covenants and an increase of interest to 13 5 pct from 13 0 pct until december 1990 it said the <unk> exercise price for 1 125 000 warrants was also reduced to 50 cts from 1 50 dlrs the company said energy assets agreed to share the costs of increasing production at the oak hill field reuter 3', '<sos> strong south <unk> winds were keeping many vessels trapped in the ice off the finnish and swedish coasts in one of the worst icy periods in the baltic for many years the finnish board of navigation said in finland and sweden up to 50 vessels were reported to be stuck in the ice and even the largest of the assisting <unk> were having difficulties in breaking through to the stranded ships coastguard officials said however icy conditions in the southern baltic at the soviet oil ports of ventspils and klaipeda had eased they said weather officials in neighbouring sweden said the icy conditions in the baltic were the worst for 30 years with ships fighting a losing battle to keep moving in the coastal stretches of the gulf of <unk> which <unk> finland and sweden the ice is up to one metre thick with drifts and <unk> packing it into almost <unk> walls three metres high swedish coastguard officials said weather forecasts say winds may ease during the weekend but a further drop in temperature could bring shipping to a standstill the officials said reuter 3']\n"
     ]
    }
   ],
   "source": [
    "decoded = []\n",
    "for i in range(len(x_test)):\n",
    "    t = ' '.join([index_to_word[index] for index in x_test[i]])\n",
    "    decoded.append(t)\n",
    "\n",
    "x_test = decoded\n",
    "print(len(x_test))\n",
    "print('x_test[5]: ', x_test[:5])"
   ]
  },
  {
   "cell_type": "markdown",
   "id": "28de3ab5",
   "metadata": {},
   "source": [
    "4. 벡터화(DTM, TF-IDF 행렬 사용)"
   ]
  },
  {
   "cell_type": "markdown",
   "id": "e3b9201f",
   "metadata": {},
   "source": [
    "DTM 생성"
   ]
  },
  {
   "cell_type": "code",
   "execution_count": 9,
   "id": "c2d1b266",
   "metadata": {},
   "outputs": [
    {
     "name": "stdout",
     "output_type": "stream",
     "text": [
      "(8982, 14227)\n"
     ]
    }
   ],
   "source": [
    "dtmvector = CountVectorizer()\n",
    "x_train_dtm = dtmvector.fit_transform(x_train)\n",
    "print(x_train_dtm.shape)"
   ]
  },
  {
   "cell_type": "markdown",
   "id": "270df5c5",
   "metadata": {},
   "source": [
    "TF-IDF Matrix 생성"
   ]
  },
  {
   "cell_type": "code",
   "execution_count": 10,
   "id": "f368f775",
   "metadata": {},
   "outputs": [
    {
     "name": "stdout",
     "output_type": "stream",
     "text": [
      "(8982, 14227)\n"
     ]
    }
   ],
   "source": [
    "tfidf_transformer = TfidfTransformer()\n",
    "tfidfv = tfidf_transformer.fit_transform(x_train_dtm)\n",
    "print(tfidfv.shape)"
   ]
  },
  {
   "cell_type": "markdown",
   "id": "e05994e0",
   "metadata": {},
   "source": [
    "테스트 데이터의 TF-IDF Matrix 생성"
   ]
  },
  {
   "cell_type": "code",
   "execution_count": 11,
   "id": "fcf3e489",
   "metadata": {},
   "outputs": [],
   "source": [
    "#테스트 데이터를 DTM으로 변환\n",
    "x_test_dtm = dtmvector.transform(x_test)\n",
    "\n",
    "#DTM을 TF-IDF 행렬로 변환\n",
    "tfidfv_test = tfidf_transformer.transform(x_test_dtm)"
   ]
  },
  {
   "cell_type": "markdown",
   "id": "b05dc24a",
   "metadata": {},
   "source": [
    "5. 모델 학습 및 예측, 평가"
   ]
  },
  {
   "cell_type": "markdown",
   "id": "ba151837",
   "metadata": {},
   "source": [
    "나이브 베이즈 분류기"
   ]
  },
  {
   "cell_type": "code",
   "execution_count": 12,
   "id": "f9238614",
   "metadata": {},
   "outputs": [
    {
     "data": {
      "text/plain": [
       "MultinomialNB()"
      ]
     },
     "execution_count": 12,
     "metadata": {},
     "output_type": "execute_result"
    }
   ],
   "source": [
    "# 모델 정의 및 훈련\n",
    "nb = MultinomialNB()\n",
    "nb.fit(tfidfv, y_train)"
   ]
  },
  {
   "cell_type": "code",
   "execution_count": 13,
   "id": "25cf266e",
   "metadata": {},
   "outputs": [
    {
     "name": "stdout",
     "output_type": "stream",
     "text": [
      "정확도: 0.6331255565449688\n"
     ]
    }
   ],
   "source": [
    "#테스트 데이터에 대한 예측\n",
    "predicted = nb.predict(tfidfv_test)\n",
    "print(\"정확도:\", accuracy_score(y_test, predicted)) #예측값과 실제값 비교"
   ]
  },
  {
   "cell_type": "code",
   "execution_count": 14,
   "id": "af8fc17b",
   "metadata": {
    "scrolled": true
   },
   "outputs": [
    {
     "name": "stdout",
     "output_type": "stream",
     "text": [
      "              precision    recall  f1-score   support\n",
      "\n",
      "           0       0.00      0.00      0.00        12\n",
      "           1       0.77      0.53      0.63       105\n",
      "           2       0.00      0.00      0.00        20\n",
      "           3       0.77      0.91      0.84       813\n",
      "           4       0.47      0.96      0.63       474\n",
      "           5       0.00      0.00      0.00         5\n",
      "           6       0.00      0.00      0.00        14\n",
      "           7       0.00      0.00      0.00         3\n",
      "           8       0.00      0.00      0.00        38\n",
      "           9       1.00      0.04      0.08        25\n",
      "          10       0.00      0.00      0.00        30\n",
      "          11       0.69      0.40      0.50        83\n",
      "          12       0.00      0.00      0.00        13\n",
      "          13       0.00      0.00      0.00        37\n",
      "          14       0.00      0.00      0.00         2\n",
      "          15       0.00      0.00      0.00         9\n",
      "          16       0.75      0.41      0.53        99\n",
      "          17       0.00      0.00      0.00        12\n",
      "          18       0.00      0.00      0.00        20\n",
      "          19       0.64      0.74      0.69       133\n",
      "          20       1.00      0.01      0.03        70\n",
      "          21       0.00      0.00      0.00        27\n",
      "          22       0.00      0.00      0.00         7\n",
      "          23       0.00      0.00      0.00        12\n",
      "          24       0.00      0.00      0.00        19\n",
      "          25       0.00      0.00      0.00        31\n",
      "          26       0.00      0.00      0.00         8\n",
      "          27       0.00      0.00      0.00         4\n",
      "          28       0.00      0.00      0.00        10\n",
      "          29       0.00      0.00      0.00         4\n",
      "          30       0.00      0.00      0.00        12\n",
      "          31       0.00      0.00      0.00        13\n",
      "          32       0.00      0.00      0.00        10\n",
      "          33       0.00      0.00      0.00         5\n",
      "          34       0.00      0.00      0.00         7\n",
      "          35       0.00      0.00      0.00         6\n",
      "          36       0.00      0.00      0.00        11\n",
      "          37       0.00      0.00      0.00         2\n",
      "          38       0.00      0.00      0.00         3\n",
      "          39       0.00      0.00      0.00         5\n",
      "          40       0.00      0.00      0.00        10\n",
      "          41       0.00      0.00      0.00         8\n",
      "          42       0.00      0.00      0.00         3\n",
      "          43       0.00      0.00      0.00         6\n",
      "          44       0.00      0.00      0.00         5\n",
      "          45       0.00      0.00      0.00         1\n",
      "\n",
      "    accuracy                           0.63      2246\n",
      "   macro avg       0.13      0.09      0.09      2246\n",
      "weighted avg       0.55      0.63      0.55      2246\n",
      "\n"
     ]
    }
   ],
   "source": [
    "# 정밀도, 재현율, F1점수 확인\n",
    "print(classification_report(y_test, predicted, zero_division=0))"
   ]
  },
  {
   "cell_type": "code",
   "execution_count": 15,
   "id": "26f78b1b",
   "metadata": {},
   "outputs": [
    {
     "name": "stdout",
     "output_type": "stream",
     "text": [
      "Weighted Avg F1-score: 0.5498212868794679\n"
     ]
    }
   ],
   "source": [
    "# F1 score weighted avg만 평가 하겠음\n",
    "report = classification_report(y_test, predicted, zero_division=0, output_dict=True)\n",
    "print(\"Weighted Avg F1-score:\", report['weighted avg']['f1-score'])"
   ]
  },
  {
   "cell_type": "markdown",
   "id": "5a326bb2",
   "metadata": {},
   "source": [
    "CNB"
   ]
  },
  {
   "cell_type": "code",
   "execution_count": 16,
   "id": "8babe87f",
   "metadata": {},
   "outputs": [
    {
     "data": {
      "text/plain": [
       "ComplementNB()"
      ]
     },
     "execution_count": 16,
     "metadata": {},
     "output_type": "execute_result"
    }
   ],
   "source": [
    "# 모델 정의 및 훈련\n",
    "cb = ComplementNB()\n",
    "cb.fit(tfidfv, y_train)"
   ]
  },
  {
   "cell_type": "code",
   "execution_count": 17,
   "id": "72c86306",
   "metadata": {},
   "outputs": [
    {
     "name": "stdout",
     "output_type": "stream",
     "text": [
      "정확도: 0.7720391807658059\n"
     ]
    }
   ],
   "source": [
    "#테스트 데이터에 대한 예측\n",
    "predicted = cb.predict(tfidfv_test)\n",
    "print(\"정확도:\", accuracy_score(y_test, predicted)) #예측값과 실제값 비교"
   ]
  },
  {
   "cell_type": "code",
   "execution_count": 18,
   "id": "46ac6f03",
   "metadata": {
    "scrolled": true
   },
   "outputs": [
    {
     "name": "stdout",
     "output_type": "stream",
     "text": [
      "              precision    recall  f1-score   support\n",
      "\n",
      "           0       0.89      0.67      0.76        12\n",
      "           1       0.65      0.90      0.76       105\n",
      "           2       0.91      0.50      0.65        20\n",
      "           3       0.90      0.90      0.90       813\n",
      "           4       0.76      0.93      0.84       474\n",
      "           5       0.00      0.00      0.00         5\n",
      "           6       0.93      0.93      0.93        14\n",
      "           7       1.00      0.67      0.80         3\n",
      "           8       0.50      0.13      0.21        38\n",
      "           9       0.82      0.92      0.87        25\n",
      "          10       0.96      0.80      0.87        30\n",
      "          11       0.54      0.71      0.61        83\n",
      "          12       0.00      0.00      0.00        13\n",
      "          13       0.60      0.57      0.58        37\n",
      "          14       0.00      0.00      0.00         2\n",
      "          15       0.50      0.11      0.18         9\n",
      "          16       0.68      0.79      0.73        99\n",
      "          17       0.00      0.00      0.00        12\n",
      "          18       0.57      0.60      0.59        20\n",
      "          19       0.54      0.79      0.64       133\n",
      "          20       0.83      0.27      0.41        70\n",
      "          21       0.74      0.63      0.68        27\n",
      "          22       0.00      0.00      0.00         7\n",
      "          23       0.71      0.42      0.53        12\n",
      "          24       0.50      0.11      0.17        19\n",
      "          25       0.85      0.71      0.77        31\n",
      "          26       0.88      0.88      0.88         8\n",
      "          27       0.00      0.00      0.00         4\n",
      "          28       0.25      0.10      0.14        10\n",
      "          29       0.00      0.00      0.00         4\n",
      "          30       0.00      0.00      0.00        12\n",
      "          31       1.00      0.23      0.38        13\n",
      "          32       1.00      0.80      0.89        10\n",
      "          33       1.00      0.80      0.89         5\n",
      "          34       1.00      0.71      0.83         7\n",
      "          35       1.00      0.17      0.29         6\n",
      "          36       0.00      0.00      0.00        11\n",
      "          37       0.00      0.00      0.00         2\n",
      "          38       1.00      0.33      0.50         3\n",
      "          39       1.00      0.20      0.33         5\n",
      "          40       0.00      0.00      0.00        10\n",
      "          41       0.67      0.25      0.36         8\n",
      "          42       1.00      0.33      0.50         3\n",
      "          43       1.00      0.17      0.29         6\n",
      "          44       0.67      0.80      0.73         5\n",
      "          45       1.00      1.00      1.00         1\n",
      "\n",
      "    accuracy                           0.77      2246\n",
      "   macro avg       0.61      0.43      0.47      2246\n",
      "weighted avg       0.75      0.77      0.74      2246\n",
      "\n"
     ]
    }
   ],
   "source": [
    "# 정밀도, 재현율, F1점수 확인\n",
    "print(classification_report(y_test, predicted, zero_division=0))"
   ]
  },
  {
   "cell_type": "code",
   "execution_count": 19,
   "id": "0275a296",
   "metadata": {},
   "outputs": [
    {
     "name": "stdout",
     "output_type": "stream",
     "text": [
      "Weighted Avg F1-score: 0.7448186439256785\n"
     ]
    }
   ],
   "source": [
    "# F1 score weighted avg만 평가 하겠음\n",
    "report = classification_report(y_test, predicted, zero_division=0, output_dict=True)\n",
    "print(\"Weighted Avg F1-score:\", report['weighted avg']['f1-score'])"
   ]
  },
  {
   "cell_type": "markdown",
   "id": "036be289",
   "metadata": {},
   "source": [
    "로지스틱 회귀"
   ]
  },
  {
   "cell_type": "code",
   "execution_count": 20,
   "id": "3d5bd051",
   "metadata": {},
   "outputs": [
    {
     "data": {
      "text/plain": [
       "LogisticRegression(C=10000, max_iter=3000)"
      ]
     },
     "execution_count": 20,
     "metadata": {},
     "output_type": "execute_result"
    }
   ],
   "source": [
    "# 모델 정의 및 훈련\n",
    "lr = LogisticRegression(C=10000, penalty='l2', max_iter=3000)\n",
    "lr.fit(tfidfv, y_train)"
   ]
  },
  {
   "cell_type": "code",
   "execution_count": 21,
   "id": "aae50540",
   "metadata": {},
   "outputs": [
    {
     "name": "stdout",
     "output_type": "stream",
     "text": [
      "정확도: 0.8147818343722173\n"
     ]
    }
   ],
   "source": [
    "#테스트 데이터에 대한 예측\n",
    "predicted = lr.predict(tfidfv_test)\n",
    "print(\"정확도:\", accuracy_score(y_test, predicted)) #예측값과 실제값 비교"
   ]
  },
  {
   "cell_type": "code",
   "execution_count": 22,
   "id": "97b0ac83",
   "metadata": {
    "scrolled": true
   },
   "outputs": [
    {
     "name": "stdout",
     "output_type": "stream",
     "text": [
      "              precision    recall  f1-score   support\n",
      "\n",
      "           0       0.89      0.67      0.76        12\n",
      "           1       0.73      0.79      0.76       105\n",
      "           2       0.78      0.70      0.74        20\n",
      "           3       0.92      0.93      0.92       813\n",
      "           4       0.81      0.87      0.84       474\n",
      "           5       1.00      0.20      0.33         5\n",
      "           6       0.93      0.93      0.93        14\n",
      "           7       1.00      0.33      0.50         3\n",
      "           8       0.71      0.71      0.71        38\n",
      "           9       0.85      0.88      0.86        25\n",
      "          10       0.93      0.87      0.90        30\n",
      "          11       0.68      0.72      0.70        83\n",
      "          12       0.62      0.38      0.48        13\n",
      "          13       0.64      0.62      0.63        37\n",
      "          14       0.67      1.00      0.80         2\n",
      "          15       0.80      0.44      0.57         9\n",
      "          16       0.70      0.77      0.73        99\n",
      "          17       0.82      0.75      0.78        12\n",
      "          18       0.76      0.65      0.70        20\n",
      "          19       0.70      0.73      0.72       133\n",
      "          20       0.63      0.53      0.57        70\n",
      "          21       0.69      0.81      0.75        27\n",
      "          22       1.00      0.14      0.25         7\n",
      "          23       0.64      0.75      0.69        12\n",
      "          24       0.62      0.53      0.57        19\n",
      "          25       0.88      0.74      0.81        31\n",
      "          26       1.00      0.88      0.93         8\n",
      "          27       1.00      0.25      0.40         4\n",
      "          28       0.50      0.30      0.37        10\n",
      "          29       0.50      0.75      0.60         4\n",
      "          30       1.00      0.58      0.74        12\n",
      "          31       0.78      0.54      0.64        13\n",
      "          32       1.00      0.80      0.89        10\n",
      "          33       0.80      0.80      0.80         5\n",
      "          34       0.80      0.57      0.67         7\n",
      "          35       1.00      0.33      0.50         6\n",
      "          36       0.50      0.45      0.48        11\n",
      "          37       0.50      0.50      0.50         2\n",
      "          38       0.50      0.33      0.40         3\n",
      "          39       0.50      0.40      0.44         5\n",
      "          40       1.00      0.30      0.46        10\n",
      "          41       0.75      0.38      0.50         8\n",
      "          42       1.00      0.67      0.80         3\n",
      "          43       0.86      1.00      0.92         6\n",
      "          44       0.67      0.80      0.73         5\n",
      "          45       1.00      1.00      1.00         1\n",
      "\n",
      "    accuracy                           0.81      2246\n",
      "   macro avg       0.78      0.63      0.67      2246\n",
      "weighted avg       0.82      0.81      0.81      2246\n",
      "\n"
     ]
    }
   ],
   "source": [
    "# 정밀도, 재현율, F1점수 확인\n",
    "print(classification_report(y_test, predicted, zero_division=0))"
   ]
  },
  {
   "cell_type": "code",
   "execution_count": 23,
   "id": "2a891e58",
   "metadata": {},
   "outputs": [
    {
     "name": "stdout",
     "output_type": "stream",
     "text": [
      "Weighted Avg F1-score: 0.809871785370617\n"
     ]
    }
   ],
   "source": [
    "# F1 score weighted avg만 평가 하겠음\n",
    "report = classification_report(y_test, predicted, zero_division=0, output_dict=True)\n",
    "print(\"Weighted Avg F1-score:\", report['weighted avg']['f1-score'])"
   ]
  },
  {
   "cell_type": "markdown",
   "id": "ead3431a",
   "metadata": {},
   "source": [
    "서포트 벡터 머신"
   ]
  },
  {
   "cell_type": "code",
   "execution_count": 24,
   "id": "36e1dd55",
   "metadata": {},
   "outputs": [
    {
     "name": "stderr",
     "output_type": "stream",
     "text": [
      "/opt/conda/lib/python3.9/site-packages/sklearn/svm/_base.py:1199: ConvergenceWarning: Liblinear failed to converge, increase the number of iterations.\n",
      "  warnings.warn(\n"
     ]
    },
    {
     "data": {
      "text/plain": [
       "LinearSVC(C=1000, dual=False, max_iter=3000, penalty='l1')"
      ]
     },
     "execution_count": 24,
     "metadata": {},
     "output_type": "execute_result"
    }
   ],
   "source": [
    "# 모델 정의 및 훈련\n",
    "lsvc = LinearSVC(C=1000, penalty='l1', max_iter=3000, dual=False)\n",
    "lsvc.fit(tfidfv, y_train)"
   ]
  },
  {
   "cell_type": "code",
   "execution_count": 25,
   "id": "1c755997",
   "metadata": {},
   "outputs": [
    {
     "name": "stdout",
     "output_type": "stream",
     "text": [
      "정확도: 0.7818343722172751\n"
     ]
    }
   ],
   "source": [
    "#테스트 데이터에 대한 예측\n",
    "predicted = lsvc.predict(tfidfv_test)\n",
    "print(\"정확도:\", accuracy_score(y_test, predicted)) #예측값과 실제값 비교"
   ]
  },
  {
   "cell_type": "code",
   "execution_count": 26,
   "id": "fc9f8a9c",
   "metadata": {
    "scrolled": true
   },
   "outputs": [
    {
     "name": "stdout",
     "output_type": "stream",
     "text": [
      "              precision    recall  f1-score   support\n",
      "\n",
      "           0       0.89      0.67      0.76        12\n",
      "           1       0.72      0.74      0.73       105\n",
      "           2       0.60      0.60      0.60        20\n",
      "           3       0.90      0.91      0.91       813\n",
      "           4       0.80      0.84      0.81       474\n",
      "           5       0.00      0.00      0.00         5\n",
      "           6       0.86      0.86      0.86        14\n",
      "           7       1.00      0.33      0.50         3\n",
      "           8       0.59      0.68      0.63        38\n",
      "           9       0.88      0.84      0.86        25\n",
      "          10       0.96      0.77      0.85        30\n",
      "          11       0.65      0.75      0.70        83\n",
      "          12       0.44      0.31      0.36        13\n",
      "          13       0.62      0.54      0.58        37\n",
      "          14       1.00      0.50      0.67         2\n",
      "          15       0.67      0.44      0.53         9\n",
      "          16       0.66      0.73      0.69        99\n",
      "          17       0.83      0.42      0.56        12\n",
      "          18       0.76      0.65      0.70        20\n",
      "          19       0.64      0.68      0.66       133\n",
      "          20       0.52      0.43      0.47        70\n",
      "          21       0.59      0.74      0.66        27\n",
      "          22       0.20      0.14      0.17         7\n",
      "          23       0.67      0.67      0.67        12\n",
      "          24       0.65      0.58      0.61        19\n",
      "          25       0.83      0.61      0.70        31\n",
      "          26       0.88      0.88      0.88         8\n",
      "          27       1.00      0.50      0.67         4\n",
      "          28       0.43      0.30      0.35        10\n",
      "          29       0.33      0.75      0.46         4\n",
      "          30       0.71      0.42      0.53        12\n",
      "          31       0.75      0.46      0.57        13\n",
      "          32       1.00      0.90      0.95        10\n",
      "          33       0.83      1.00      0.91         5\n",
      "          34       0.57      0.57      0.57         7\n",
      "          35       1.00      0.17      0.29         6\n",
      "          36       0.50      0.45      0.48        11\n",
      "          37       0.50      1.00      0.67         2\n",
      "          38       0.67      0.67      0.67         3\n",
      "          39       1.00      0.40      0.57         5\n",
      "          40       1.00      0.20      0.33        10\n",
      "          41       0.56      0.62      0.59         8\n",
      "          42       0.67      0.67      0.67         3\n",
      "          43       0.75      1.00      0.86         6\n",
      "          44       0.50      1.00      0.67         5\n",
      "          45       1.00      1.00      1.00         1\n",
      "\n",
      "    accuracy                           0.78      2246\n",
      "   macro avg       0.71      0.62      0.63      2246\n",
      "weighted avg       0.78      0.78      0.78      2246\n",
      "\n"
     ]
    }
   ],
   "source": [
    "# 정밀도, 재현율, F1점수 확인\n",
    "print(classification_report(y_test, predicted, zero_division=0))"
   ]
  },
  {
   "cell_type": "code",
   "execution_count": 27,
   "id": "fcde7afe",
   "metadata": {},
   "outputs": [
    {
     "name": "stdout",
     "output_type": "stream",
     "text": [
      "Weighted Avg F1-score: 0.7774087362822074\n"
     ]
    }
   ],
   "source": [
    "# F1 score weighted avg만 평가 하겠음\n",
    "report = classification_report(y_test, predicted, zero_division=0, output_dict=True)\n",
    "print(\"Weighted Avg F1-score:\", report['weighted avg']['f1-score'])"
   ]
  },
  {
   "cell_type": "markdown",
   "id": "77c82b03",
   "metadata": {},
   "source": [
    "결정 트리"
   ]
  },
  {
   "cell_type": "code",
   "execution_count": 28,
   "id": "b67b3a49",
   "metadata": {},
   "outputs": [
    {
     "data": {
      "text/plain": [
       "DecisionTreeClassifier(max_depth=10, random_state=0)"
      ]
     },
     "execution_count": 28,
     "metadata": {},
     "output_type": "execute_result"
    }
   ],
   "source": [
    "# 모델 정의 및 훈련\n",
    "tree = DecisionTreeClassifier(max_depth=10, random_state=0)\n",
    "tree.fit(tfidfv, y_train)"
   ]
  },
  {
   "cell_type": "code",
   "execution_count": 29,
   "id": "0257ddb5",
   "metadata": {},
   "outputs": [
    {
     "name": "stdout",
     "output_type": "stream",
     "text": [
      "정확도: 0.6193232413178985\n"
     ]
    }
   ],
   "source": [
    "#테스트 데이터에 대한 예측\n",
    "predicted = tree.predict(tfidfv_test)\n",
    "print(\"정확도:\", accuracy_score(y_test, predicted)) #예측값과 실제값 비교"
   ]
  },
  {
   "cell_type": "code",
   "execution_count": 30,
   "id": "a25348ea",
   "metadata": {
    "scrolled": true
   },
   "outputs": [
    {
     "name": "stdout",
     "output_type": "stream",
     "text": [
      "              precision    recall  f1-score   support\n",
      "\n",
      "           0       0.00      0.00      0.00        12\n",
      "           1       0.73      0.42      0.53       105\n",
      "           2       0.75      0.45      0.56        20\n",
      "           3       0.94      0.83      0.88       813\n",
      "           4       0.40      0.91      0.55       474\n",
      "           5       0.00      0.00      0.00         5\n",
      "           6       0.90      0.64      0.75        14\n",
      "           7       0.00      0.00      0.00         3\n",
      "           8       0.00      0.00      0.00        38\n",
      "           9       0.88      0.88      0.88        25\n",
      "          10       0.86      0.80      0.83        30\n",
      "          11       0.64      0.49      0.56        83\n",
      "          12       0.14      0.08      0.10        13\n",
      "          13       0.00      0.00      0.00        37\n",
      "          14       0.00      0.00      0.00         2\n",
      "          15       0.00      0.00      0.00         9\n",
      "          16       0.61      0.82      0.70        99\n",
      "          17       0.00      0.00      0.00        12\n",
      "          18       0.00      0.00      0.00        20\n",
      "          19       0.60      0.29      0.39       133\n",
      "          20       0.40      0.03      0.05        70\n",
      "          21       0.00      0.00      0.00        27\n",
      "          22       0.00      0.00      0.00         7\n",
      "          23       0.00      0.00      0.00        12\n",
      "          24       0.50      0.05      0.10        19\n",
      "          25       0.86      0.19      0.32        31\n",
      "          26       0.00      0.00      0.00         8\n",
      "          27       0.00      0.00      0.00         4\n",
      "          28       0.50      0.10      0.17        10\n",
      "          29       0.00      0.00      0.00         4\n",
      "          30       0.00      0.00      0.00        12\n",
      "          31       0.00      0.00      0.00        13\n",
      "          32       0.00      0.00      0.00        10\n",
      "          33       1.00      1.00      1.00         5\n",
      "          34       0.00      0.00      0.00         7\n",
      "          35       0.00      0.00      0.00         6\n",
      "          36       0.00      0.00      0.00        11\n",
      "          37       0.00      0.00      0.00         2\n",
      "          38       0.00      0.00      0.00         3\n",
      "          39       0.00      0.00      0.00         5\n",
      "          40       0.00      0.00      0.00        10\n",
      "          41       0.00      0.00      0.00         8\n",
      "          42       0.00      0.00      0.00         3\n",
      "          43       0.00      0.00      0.00         6\n",
      "          44       0.00      0.00      0.00         5\n",
      "          45       0.00      0.00      0.00         1\n",
      "\n",
      "    accuracy                           0.62      2246\n",
      "   macro avg       0.23      0.17      0.18      2246\n",
      "weighted avg       0.61      0.62      0.58      2246\n",
      "\n"
     ]
    }
   ],
   "source": [
    "# 정밀도, 재현율, F1점수 확인\n",
    "print(classification_report(y_test, predicted, zero_division=0))"
   ]
  },
  {
   "cell_type": "code",
   "execution_count": 31,
   "id": "43eea28b",
   "metadata": {},
   "outputs": [
    {
     "name": "stdout",
     "output_type": "stream",
     "text": [
      "Weighted Avg F1-score: 0.5755585664009136\n"
     ]
    }
   ],
   "source": [
    "# F1 score weighted avg만 평가 하겠음\n",
    "report = classification_report(y_test, predicted, zero_division=0, output_dict=True)\n",
    "print(\"Weighted Avg F1-score:\", report['weighted avg']['f1-score'])"
   ]
  },
  {
   "cell_type": "markdown",
   "id": "f61d2e0f",
   "metadata": {},
   "source": [
    "랜덤 포레스트"
   ]
  },
  {
   "cell_type": "code",
   "execution_count": 32,
   "id": "976f343a",
   "metadata": {},
   "outputs": [
    {
     "data": {
      "text/plain": [
       "RandomForestClassifier(n_estimators=5, random_state=0)"
      ]
     },
     "execution_count": 32,
     "metadata": {},
     "output_type": "execute_result"
    }
   ],
   "source": [
    "# 모델 정의 및 훈련\n",
    "forest = RandomForestClassifier(n_estimators=5, random_state=0)\n",
    "forest.fit(tfidfv, y_train)"
   ]
  },
  {
   "cell_type": "code",
   "execution_count": 33,
   "id": "6541e4e6",
   "metadata": {},
   "outputs": [
    {
     "name": "stdout",
     "output_type": "stream",
     "text": [
      "정확도: 0.6714158504007124\n"
     ]
    }
   ],
   "source": [
    "#테스트 데이터에 대한 예측\n",
    "predicted = forest.predict(tfidfv_test)\n",
    "print(\"정확도:\", accuracy_score(y_test, predicted)) #예측값과 실제값 비교"
   ]
  },
  {
   "cell_type": "code",
   "execution_count": 34,
   "id": "ddf706a6",
   "metadata": {
    "scrolled": true
   },
   "outputs": [
    {
     "name": "stdout",
     "output_type": "stream",
     "text": [
      "              precision    recall  f1-score   support\n",
      "\n",
      "           0       0.25      0.50      0.33        12\n",
      "           1       0.42      0.69      0.52       105\n",
      "           2       0.13      0.10      0.11        20\n",
      "           3       0.81      0.90      0.85       813\n",
      "           4       0.65      0.85      0.74       474\n",
      "           5       0.00      0.00      0.00         5\n",
      "           6       0.83      0.36      0.50        14\n",
      "           7       0.50      0.67      0.57         3\n",
      "           8       0.62      0.53      0.57        38\n",
      "           9       0.71      0.40      0.51        25\n",
      "          10       0.60      0.20      0.30        30\n",
      "          11       0.45      0.51      0.47        83\n",
      "          12       0.60      0.23      0.33        13\n",
      "          13       0.40      0.22      0.28        37\n",
      "          14       0.00      0.00      0.00         2\n",
      "          15       0.00      0.00      0.00         9\n",
      "          16       0.55      0.46      0.50        99\n",
      "          17       0.00      0.00      0.00        12\n",
      "          18       0.55      0.30      0.39        20\n",
      "          19       0.65      0.56      0.60       133\n",
      "          20       0.60      0.37      0.46        70\n",
      "          21       0.56      0.33      0.42        27\n",
      "          22       0.00      0.00      0.00         7\n",
      "          23       0.50      0.17      0.25        12\n",
      "          24       0.33      0.05      0.09        19\n",
      "          25       1.00      0.35      0.52        31\n",
      "          26       0.00      0.00      0.00         8\n",
      "          27       0.00      0.00      0.00         4\n",
      "          28       1.00      0.10      0.18        10\n",
      "          29       0.00      0.00      0.00         4\n",
      "          30       0.00      0.00      0.00        12\n",
      "          31       0.00      0.00      0.00        13\n",
      "          32       1.00      0.20      0.33        10\n",
      "          33       1.00      0.60      0.75         5\n",
      "          34       0.00      0.00      0.00         7\n",
      "          35       1.00      0.33      0.50         6\n",
      "          36       0.40      0.18      0.25        11\n",
      "          37       1.00      0.50      0.67         2\n",
      "          38       0.00      0.00      0.00         3\n",
      "          39       0.00      0.00      0.00         5\n",
      "          40       1.00      0.20      0.33        10\n",
      "          41       0.50      0.12      0.20         8\n",
      "          42       0.00      0.00      0.00         3\n",
      "          43       0.33      0.17      0.22         6\n",
      "          44       1.00      0.80      0.89         5\n",
      "          45       0.00      0.00      0.00         1\n",
      "\n",
      "    accuracy                           0.67      2246\n",
      "   macro avg       0.43      0.26      0.30      2246\n",
      "weighted avg       0.65      0.67      0.64      2246\n",
      "\n"
     ]
    }
   ],
   "source": [
    "# 정밀도, 재현율, F1점수 확인\n",
    "print(classification_report(y_test, predicted, zero_division=0))"
   ]
  },
  {
   "cell_type": "code",
   "execution_count": 35,
   "id": "d4f4a3da",
   "metadata": {},
   "outputs": [
    {
     "name": "stdout",
     "output_type": "stream",
     "text": [
      "Weighted Avg F1-score: 0.6406930098492383\n"
     ]
    }
   ],
   "source": [
    "# F1 score weighted avg만 평가 하겠음\n",
    "report = classification_report(y_test, predicted, zero_division=0, output_dict=True)\n",
    "print(\"Weighted Avg F1-score:\", report['weighted avg']['f1-score'])"
   ]
  },
  {
   "cell_type": "markdown",
   "id": "317e23eb",
   "metadata": {},
   "source": [
    "그래디언트 부스팅 트리"
   ]
  },
  {
   "cell_type": "code",
   "execution_count": 36,
   "id": "8353e048",
   "metadata": {},
   "outputs": [
    {
     "data": {
      "text/plain": [
       "GradientBoostingClassifier(random_state=0)"
      ]
     },
     "execution_count": 36,
     "metadata": {},
     "output_type": "execute_result"
    }
   ],
   "source": [
    "# 모델 정의 및 훈련\n",
    "grbt = GradientBoostingClassifier(random_state=0) # verbose=3\n",
    "grbt.fit(tfidfv, y_train)"
   ]
  },
  {
   "cell_type": "code",
   "execution_count": 37,
   "id": "97105cac",
   "metadata": {},
   "outputs": [
    {
     "name": "stdout",
     "output_type": "stream",
     "text": [
      "정확도: 0.7707034728406055\n"
     ]
    }
   ],
   "source": [
    "#테스트 데이터에 대한 예측\n",
    "predicted = grbt.predict(tfidfv_test)\n",
    "print(\"정확도:\", accuracy_score(y_test, predicted)) #예측값과 실제값 비교"
   ]
  },
  {
   "cell_type": "code",
   "execution_count": 38,
   "id": "c77730e6",
   "metadata": {
    "scrolled": true
   },
   "outputs": [
    {
     "name": "stdout",
     "output_type": "stream",
     "text": [
      "              precision    recall  f1-score   support\n",
      "\n",
      "           0       0.90      0.75      0.82        12\n",
      "           1       0.79      0.70      0.74       105\n",
      "           2       0.62      0.65      0.63        20\n",
      "           3       0.88      0.91      0.89       813\n",
      "           4       0.78      0.84      0.81       474\n",
      "           5       0.00      0.00      0.00         5\n",
      "           6       0.83      0.71      0.77        14\n",
      "           7       1.00      0.67      0.80         3\n",
      "           8       0.59      0.63      0.61        38\n",
      "           9       0.86      0.76      0.81        25\n",
      "          10       0.86      0.80      0.83        30\n",
      "          11       0.64      0.67      0.66        83\n",
      "          12       0.35      0.54      0.42        13\n",
      "          13       0.54      0.41      0.46        37\n",
      "          14       0.08      0.50      0.13         2\n",
      "          15       0.38      0.33      0.35         9\n",
      "          16       0.72      0.74      0.73        99\n",
      "          17       0.56      0.42      0.48        12\n",
      "          18       0.61      0.55      0.58        20\n",
      "          19       0.73      0.66      0.69       133\n",
      "          20       0.71      0.50      0.59        70\n",
      "          21       0.67      0.59      0.63        27\n",
      "          22       0.33      0.14      0.20         7\n",
      "          23       0.58      0.58      0.58        12\n",
      "          24       0.47      0.47      0.47        19\n",
      "          25       0.86      0.61      0.72        31\n",
      "          26       0.75      0.75      0.75         8\n",
      "          27       0.33      0.50      0.40         4\n",
      "          28       0.43      0.30      0.35        10\n",
      "          29       0.50      0.75      0.60         4\n",
      "          30       0.40      0.33      0.36        12\n",
      "          31       0.62      0.38      0.48        13\n",
      "          32       0.89      0.80      0.84        10\n",
      "          33       0.80      0.80      0.80         5\n",
      "          34       0.50      0.43      0.46         7\n",
      "          35       0.25      0.17      0.20         6\n",
      "          36       0.80      0.73      0.76        11\n",
      "          37       0.29      1.00      0.44         2\n",
      "          38       0.33      0.33      0.33         3\n",
      "          39       0.67      0.40      0.50         5\n",
      "          40       0.67      0.40      0.50        10\n",
      "          41       0.50      0.50      0.50         8\n",
      "          42       1.00      0.67      0.80         3\n",
      "          43       0.67      0.67      0.67         6\n",
      "          44       0.80      0.80      0.80         5\n",
      "          45       0.20      1.00      0.33         1\n",
      "\n",
      "    accuracy                           0.77      2246\n",
      "   macro avg       0.60      0.58      0.57      2246\n",
      "weighted avg       0.77      0.77      0.77      2246\n",
      "\n"
     ]
    }
   ],
   "source": [
    "# 정밀도, 재현율, F1점수 확인\n",
    "print(classification_report(y_test, predicted, zero_division=0))"
   ]
  },
  {
   "cell_type": "code",
   "execution_count": 39,
   "id": "a538c26f",
   "metadata": {},
   "outputs": [
    {
     "name": "stdout",
     "output_type": "stream",
     "text": [
      "Weighted Avg F1-score: 0.7679654864390242\n"
     ]
    }
   ],
   "source": [
    "# F1 score weighted avg만 평가 하겠음\n",
    "report = classification_report(y_test, predicted, zero_division=0, output_dict=True)\n",
    "print(\"Weighted Avg F1-score:\", report['weighted avg']['f1-score'])"
   ]
  },
  {
   "cell_type": "markdown",
   "id": "3e302ed6",
   "metadata": {},
   "source": [
    "보팅"
   ]
  },
  {
   "cell_type": "code",
   "execution_count": 40,
   "id": "4cef81b2",
   "metadata": {},
   "outputs": [
    {
     "data": {
      "text/plain": [
       "VotingClassifier(estimators=[('lr', LogisticRegression(solver='liblinear')),\n",
       "                             ('cnb', ComplementNB()),\n",
       "                             ('gb', GradientBoostingClassifier())],\n",
       "                 voting='soft')"
      ]
     },
     "execution_count": 40,
     "metadata": {},
     "output_type": "execute_result"
    }
   ],
   "source": [
    "# 개별 분류기 정의\n",
    "log_reg = LogisticRegression(penalty='l2', solver='liblinear')\n",
    "complement_nb = ComplementNB()\n",
    "gradient_boost = GradientBoostingClassifier()\n",
    "\n",
    "# VotingClassifier 정의\n",
    "voting_classifier = VotingClassifier(\n",
    "    estimators=[('lr', log_reg), ('cnb', complement_nb), ('gb', gradient_boost)],\n",
    "    voting='soft'\n",
    ")\n",
    "\n",
    "voting_classifier.fit(tfidfv, y_train)"
   ]
  },
  {
   "cell_type": "code",
   "execution_count": 41,
   "id": "b366ede8",
   "metadata": {},
   "outputs": [
    {
     "name": "stdout",
     "output_type": "stream",
     "text": [
      "정확도: 0.7938557435440784\n"
     ]
    }
   ],
   "source": [
    "#테스트 데이터에 대한 예측\n",
    "predicted = voting_classifier.predict(tfidfv_test)\n",
    "print(\"정확도:\", accuracy_score(y_test, predicted)) #예측값과 실제값 비교"
   ]
  },
  {
   "cell_type": "code",
   "execution_count": 42,
   "id": "fbb74aaf",
   "metadata": {
    "scrolled": true
   },
   "outputs": [
    {
     "name": "stdout",
     "output_type": "stream",
     "text": [
      "              precision    recall  f1-score   support\n",
      "\n",
      "           0       0.82      0.75      0.78        12\n",
      "           1       0.78      0.72      0.75       105\n",
      "           2       0.68      0.65      0.67        20\n",
      "           3       0.92      0.93      0.92       813\n",
      "           4       0.75      0.86      0.80       474\n",
      "           5       0.00      0.00      0.00         5\n",
      "           6       0.91      0.71      0.80        14\n",
      "           7       0.67      0.67      0.67         3\n",
      "           8       0.74      0.66      0.69        38\n",
      "           9       0.96      0.88      0.92        25\n",
      "          10       0.93      0.83      0.88        30\n",
      "          11       0.70      0.73      0.72        83\n",
      "          12       0.50      0.46      0.48        13\n",
      "          13       0.63      0.51      0.57        37\n",
      "          14       0.10      0.50      0.17         2\n",
      "          15       0.17      0.11      0.13         9\n",
      "          16       0.73      0.77      0.75        99\n",
      "          17       0.67      0.50      0.57        12\n",
      "          18       0.69      0.55      0.61        20\n",
      "          19       0.75      0.68      0.71       133\n",
      "          20       0.73      0.47      0.57        70\n",
      "          21       0.63      0.70      0.67        27\n",
      "          22       0.40      0.29      0.33         7\n",
      "          23       0.50      0.58      0.54        12\n",
      "          24       0.60      0.63      0.62        19\n",
      "          25       0.92      0.71      0.80        31\n",
      "          26       0.75      0.75      0.75         8\n",
      "          27       0.67      0.50      0.57         4\n",
      "          28       0.33      0.30      0.32        10\n",
      "          29       0.30      0.75      0.43         4\n",
      "          30       0.45      0.42      0.43        12\n",
      "          31       0.86      0.46      0.60        13\n",
      "          32       0.89      0.80      0.84        10\n",
      "          33       0.80      0.80      0.80         5\n",
      "          34       0.80      0.57      0.67         7\n",
      "          35       0.25      0.17      0.20         6\n",
      "          36       0.88      0.64      0.74        11\n",
      "          37       0.50      0.50      0.50         2\n",
      "          38       0.20      0.33      0.25         3\n",
      "          39       0.67      0.40      0.50         5\n",
      "          40       0.67      0.40      0.50        10\n",
      "          41       0.56      0.62      0.59         8\n",
      "          42       1.00      0.67      0.80         3\n",
      "          43       0.57      0.67      0.62         6\n",
      "          44       0.80      0.80      0.80         5\n",
      "          45       0.33      1.00      0.50         1\n",
      "\n",
      "    accuracy                           0.79      2246\n",
      "   macro avg       0.63      0.60      0.60      2246\n",
      "weighted avg       0.80      0.79      0.79      2246\n",
      "\n"
     ]
    }
   ],
   "source": [
    "# 정밀도, 재현율, F1점수 확인\n",
    "print(classification_report(y_test, predicted, zero_division=0))"
   ]
  },
  {
   "cell_type": "code",
   "execution_count": 43,
   "id": "b6b757c3",
   "metadata": {},
   "outputs": [
    {
     "name": "stdout",
     "output_type": "stream",
     "text": [
      "Weighted Avg F1-score: 0.7915569286716847\n"
     ]
    }
   ],
   "source": [
    "# F1 score weighted avg만 평가 하겠음\n",
    "report = classification_report(y_test, predicted, zero_division=0, output_dict=True)\n",
    "print(\"Weighted Avg F1-score:\", report['weighted avg']['f1-score'])"
   ]
  },
  {
   "cell_type": "markdown",
   "id": "9909c65b",
   "metadata": {},
   "source": [
    "## step 3 - 2. 빈도수 상위 20,000개의 단어만 사용"
   ]
  },
  {
   "cell_type": "markdown",
   "id": "2e58bd70",
   "metadata": {},
   "source": [
    "1. 데이터 다운"
   ]
  },
  {
   "cell_type": "code",
   "execution_count": 44,
   "id": "2862e41f",
   "metadata": {},
   "outputs": [],
   "source": [
    "(x_train, y_train), (x_test, y_test) = reuters.load_data(num_words=20000, test_split=0.2)"
   ]
  },
  {
   "cell_type": "markdown",
   "id": "325ca127",
   "metadata": {},
   "source": [
    "2. 데이터 분포 확인"
   ]
  },
  {
   "cell_type": "code",
   "execution_count": 45,
   "id": "e2fc01bc",
   "metadata": {
    "scrolled": true
   },
   "outputs": [
    {
     "name": "stdout",
     "output_type": "stream",
     "text": [
      "훈련용 뉴스의 최대 길이 :2376\n",
      "훈련용 뉴스의 평균 길이 :145.5398574927633\n"
     ]
    },
    {
     "data": {
      "image/png": "[encoded data removed]",
      "text/plain": [
       "<Figure size 432x288 with 1 Axes>"
      ]
     },
     "metadata": {
      "needs_background": "light"
     },
     "output_type": "display_data"
    }
   ],
   "source": [
    "print('훈련용 뉴스의 최대 길이 :{}'.format(max(len(l) for l in x_train)))\n",
    "print('훈련용 뉴스의 평균 길이 :{}'.format(sum(map(len, x_train))/len(x_train)))\n",
    "\n",
    "plt.hist([len(s) for s in x_train], bins=50)\n",
    "plt.xlabel('length of samples')\n",
    "plt.ylabel('number of samples')\n",
    "plt.show()"
   ]
  },
  {
   "cell_type": "code",
   "execution_count": 46,
   "id": "d5d57fe5",
   "metadata": {
    "scrolled": true
   },
   "outputs": [
    {
     "data": {
      "image/png": "[encoded data removed]",
      "text/plain": [
       "<Figure size 792x360 with 1 Axes>"
      ]
     },
     "metadata": {
      "needs_background": "light"
     },
     "output_type": "display_data"
    }
   ],
   "source": [
    "fig, axe = plt.subplots(ncols=1)\n",
    "fig.set_size_inches(11,5)\n",
    "sns.countplot(x=y_train)\n",
    "plt.show()"
   ]
  },
  {
   "cell_type": "markdown",
   "id": "9d600127",
   "metadata": {},
   "source": [
    "3. 데이터 복원"
   ]
  },
  {
   "cell_type": "markdown",
   "id": "6d437bb9",
   "metadata": {},
   "source": [
    "'단어'를 key값으로, 고유한 '정수'를 value로 가지는 dictionary -> word_index로 저장"
   ]
  },
  {
   "cell_type": "code",
   "execution_count": 47,
   "id": "8e14ce12",
   "metadata": {
    "scrolled": false
   },
   "outputs": [],
   "source": [
    "word_index = reuters.get_word_index(path=\"reuters_word_index.json\")"
   ]
  },
  {
   "cell_type": "markdown",
   "id": "d4e68f61",
   "metadata": {},
   "source": [
    "(pad, sos, unk)특별한 토큰 매핑"
   ]
  },
  {
   "cell_type": "code",
   "execution_count": 48,
   "id": "2559139e",
   "metadata": {},
   "outputs": [],
   "source": [
    "index_to_word = { index+3 : word for word, index in word_index.items() }\n",
    "\n",
    "# index_to_word에 숫자 0은 <pad>, 숫자 1은 <sos>, 숫자 2는 <unk>를 넣어줍니다.\n",
    "for index, token in enumerate((\"<pad>\", \"<sos>\", \"<unk>\")):\n",
    "  index_to_word[index]=token"
   ]
  },
  {
   "cell_type": "markdown",
   "id": "7868a8b0",
   "metadata": {},
   "source": [
    "데이터셋 문자로 복원"
   ]
  },
  {
   "cell_type": "code",
   "execution_count": 49,
   "id": "ed43756c",
   "metadata": {
    "scrolled": true
   },
   "outputs": [
    {
     "name": "stdout",
     "output_type": "stream",
     "text": [
      "8982\n",
      "x_train[5]:  ['<sos> <unk> <unk> said as a result of its december acquisition of space co it expects earnings per share in 1987 of 1 15 to 1 30 dlrs per share up from 70 cts in 1986 the company said pretax net should rise to nine to 10 mln dlrs from six mln dlrs in 1986 and rental operation revenues to 19 to 22 mln dlrs from 12 5 mln dlrs it said cash flow per share this year should be 2 50 to three dlrs reuter 3', '<sos> generale de banque sa lt genb br and lt heller overseas corp of chicago have each taken 50 pct stakes in factoring company sa belgo factors generale de banque said in a statement it gave no financial details of the transaction sa belgo <unk> turnover in 1986 was 17 5 billion belgian francs reuter 3', '<sos> shr 3 28 dlrs vs 22 cts shr diluted 2 99 dlrs vs 22 cts net 46 0 mln vs 3 328 000 avg shrs 14 0 mln vs 15 2 mln year shr 5 41 dlrs vs 1 56 dlrs shr diluted 4 94 dlrs vs 1 50 dlrs net 78 2 mln vs 25 9 mln avg shrs 14 5 mln vs 15 1 mln note earnings per share reflect the two for one split effective january 6 1987 per share amounts are calculated after preferred stock dividends loss continuing operations for the qtr 1986 includes gains of sale of investments in enron corp of 14 mln dlrs and associated companies of 4 189 000 less writedowns of investments in national intergroup inc of 11 8 mln and <unk> corp of 15 6 mln reuter 3', \"<sos> the farmers home administration the u s agriculture department's farm lending arm could lose about seven billion dlrs in outstanding principal on its severely delinquent borrowers or about one fourth of its farm loan portfolio the general accounting office gao said in remarks prepared for delivery to the senate agriculture committee brian crowley senior associate director of gao also said that a preliminary analysis of proposed changes in <unk> financial eligibility standards indicated as many as one half of fmha borrowers who received new loans from the agency in 1986 would be ineligible under the proposed system the agency has proposed evaluating <unk> credit using a variety of financial ratios instead of relying solely on cashflow ability senate agriculture committee chairman patrick leahy d vt <unk> the proposed eligibility changes telling fmha administrator <unk> clark at a hearing that they would mark a dramatic shift in the agency's purpose away from being farmers' lender of last resort toward becoming a big city bank but clark defended the new regulations saying the agency had a responsibility to administer its 70 billion dlr loan portfolio in a <unk> yet <unk> manner crowley of gao congress' investigative arm said the proposed credit <unk> system attempted to ensure that fmha would make loans only to borrowers who had a reasonable change of repaying their debt reuter 3\", '<sos> seton co said its board has received a proposal from chairman and chief executive officer philip d kaltenbacher to acquire seton for 15 75 dlrs per share in cash seton said the acquisition bid is subject to kaltenbacher arranging the necessary financing it said he intends to ask other members of senior management to participate the company said kaltenbacher owns 30 pct of seton stock and other management members another 7 5 pct seton said it has formed an independent board committee to consider the offer and has deferred the annual meeting it had scheduled for march 31 reuter 3']\n"
     ]
    }
   ],
   "source": [
    "decoded = []\n",
    "for i in range(len(x_train)):\n",
    "    t = ' '.join([index_to_word[index] for index in x_train[i]])\n",
    "    decoded.append(t)\n",
    "\n",
    "x_train = decoded\n",
    "\n",
    "print(len(x_train))\n",
    "print('x_train[5]: ', x_train[:5])"
   ]
  },
  {
   "cell_type": "code",
   "execution_count": 50,
   "id": "7e17154f",
   "metadata": {
    "scrolled": true
   },
   "outputs": [
    {
     "name": "stdout",
     "output_type": "stream",
     "text": [
      "2246\n",
      "x_test[5]:  ['<sos> the great atlantic and pacific tea co said its three year 345 mln dlr capital program will be be substantially increased to accommodate growth and expansion plans for waldbaum inc and shopwell inc over the next two years a and p said the acquisition of shopwell in august 1986 and waldbaum in december helped us achieve better than expected results in the fourth quarter ended february 28 its net income from continuing operations jumped 52 6 pct to 20 7 mln dlrs or 55 cts a share in the latest quarter as sales increased 48 3 pct to 1 58 billion dlrs a and p gave no details on the expanded capital program but it did say it completed the first year of the program during 1986 a and p is 52 4 pct owned by lt <unk> <unk> of west germany reuter 3', \"<sos> philippine sugar production in the 1987 88 crop year ending august has been set at 1 6 mln tonnes up from a provisional 1 3 mln tonnes this year sugar regulatory administration sra chairman <unk> yulo said yulo told reuters a survey during the current milling season which ends next month showed the 1986 87 estimate would almost certainly be met he said at least 1 2 mln tonnes of the 1987 88 crop would be earmarked for domestic consumption yulo said about 130 000 tonnes would be set aside for the u s sugar quota 150 000 tonnes for strategic reserves and 50 000 tonnes would be sold on the world market he said if the government approved a long standing sra recommendation to manufacture ethanol the project would take up another 150 000 tonnes slightly raising the target the government for its own reasons has been delaying approval of the project but we expect it to come through by july yulo said ethanol could make up five pct of gasoline cutting the oil import bill by about 300 mln pesos yulo said three major philippine distilleries were ready to start manufacturing ethanol if the project was approved the ethanol project would result in employment for about 100 000 people sharply reducing those thrown out of work by depressed world sugar prices and a <unk> domestic industry production quotas set for the first time in 1987 88 had been submitted to president corazon aquino i think the president would rather wait till the new congress convenes after the may elections he said but there is really no need for such quotas we are right now producing just slightly over our own consumption level the producers have never enjoyed such high prices yulo said adding sugar was currently selling locally for 320 pesos per <unk> up from 190 pesos last august yulo said prices were driven up because of speculation following the <unk> bid to control production we are no longer concerned so much with the world market he said adding producers in the <unk> region had learned from their mistakes and diversified into corn and <unk> farming and cloth production he said diversification into products other than ethanol was also possible within the sugar industry the <unk> long ago <unk> their lessons yulo said they have 300 sugar mills compared with our 41 but they relocated many of them and diversified production we want to call this a <unk> <unk> instead of the sugar industry he said sugarcane could be fed to pigs and livestock used for <unk> <unk> or used in room <unk> when you cut sugarcane you don't even have to produce sugar he said yulo said the philippines was lobbying for a renewal of the international sugar agreement which expired in 1984 as a major sugar producer we are urging them to write a new agreement which would revive world prices yulo said if there is no agreement world prices will always be depressed particularly because the european community is subsidising its producers and dumping sugar on the markets he said current world prices holding steady at about 7 60 cents per pound were uneconomical for the philippines where production costs ranged from 12 to 14 cents a pound if the price holds steady for a while at 7 60 cents i expect the level to rise to about 11 cents a pound by the end of this year he said yulo said economists forecast a bullish sugar market by 1990 with world consumption outstripping production he said sugar markets were holding up despite encroachments from artificial sweeteners and high fructose corn syrup but we are not happy with the reagan administration he said since <unk> we have been regular suppliers of sugar to the u s in 1982 when they restored the quota system they cut ours in half without any justification manila was keenly watching washington's moves to cut domestic support prices to 12 cents a pound from 18 cents the u s agriculture department last december slashed its 12 month 1987 sugar import quota from the philippines to 143 780 short tons from 231 660 short tons in 1986 yulo said despite next year's increased production target some philippine mills were expected to shut down at least four of the 41 mills were not working during the 1986 87 season he said we expect two or three more to follow suit during the next season reuter 3\", \"<sos> the agriculture department's widening of louisiana gulf differentials will affect county posted prices for number two yellow corn in ten states a usda official said all counties in iowa will be affected as will counties which use the gulf to price corn in illinois indiana tennessee kentucky missouri mississippi arkansas alabama and louisiana said ron burgess deputy director of commodity operations division for the usda usda last night notified the grain industry that effective immediately all gulf differentials used to price interior corn would be widened on a sliding scale basis of four to eight cts depending on what the differential is usda's action was taken to lower excessively high posted county prices for corn caused by high gulf prices we've been following this louisiana gulf situation for a month and we don't think it's going to get back in line in any nearby time burgess said burgess said usda will probably narrow back the gulf differentials when and if gulf prices recede if we're off the mark now because we're too high wouldn't we be as much off the mark if we're too low he said while forecasting more adjustments if gulf prices fall burgess said no other changes in usda's price system are being planned right now we don't tinker we don't make changes lightly and we don't make changes often he said reuter 3\", '<sos> graham mccormick oil and gas partnership said it completed the sale of interests in two major oil and gas fields to lt energy assets international corp for 21 mln dlrs the company said it sold about one half of its 50 pct interest in the oak hill and north <unk> fields its two largest producing properties it said it used about 20 mln dlrs of the proceeds to prepay principal on its senior secured notes semi annual principal payments on the remaining 40 mln dlrs of notes have been satisfied until december 1988 as a result it said the company said the note agreements were amended to reflect an easing of some financial covenants and an increase of interest to 13 5 pct from 13 0 pct until december 1990 it said the noteholders exercise price for 1 125 000 warrants was also reduced to 50 cts from 1 50 dlrs the company said energy assets agreed to share the costs of increasing production at the oak hill field reuter 3', '<sos> strong south easterly winds were keeping many vessels trapped in the ice off the finnish and swedish coasts in one of the worst icy periods in the baltic for many years the finnish board of navigation said in finland and sweden up to 50 vessels were reported to be stuck in the ice and even the largest of the assisting icebreakers were having difficulties in breaking through to the stranded ships coastguard officials said however icy conditions in the southern baltic at the soviet oil ports of ventspils and klaipeda had eased they said weather officials in neighbouring sweden said the icy conditions in the baltic were the worst for 30 years with ships fighting a losing battle to keep moving in the coastal stretches of the gulf of bothnia which divides finland and sweden the ice is up to one metre thick with drifts and <unk> packing it into almost impenetrable walls three metres high swedish coastguard officials said weather forecasts say winds may ease during the weekend but a further drop in temperature could bring shipping to a standstill the officials said reuter 3']\n"
     ]
    }
   ],
   "source": [
    "decoded = []\n",
    "for i in range(len(x_test)):\n",
    "    t = ' '.join([index_to_word[index] for index in x_test[i]])\n",
    "    decoded.append(t)\n",
    "\n",
    "x_test = decoded\n",
    "print(len(x_test))\n",
    "print('x_test[5]: ', x_test[:5])"
   ]
  },
  {
   "cell_type": "markdown",
   "id": "153e7ee8",
   "metadata": {},
   "source": [
    "4. 벡터화(DTM, TF-IDF 행렬 사용)"
   ]
  },
  {
   "cell_type": "markdown",
   "id": "5ed75880",
   "metadata": {},
   "source": [
    "DTM 생성"
   ]
  },
  {
   "cell_type": "code",
   "execution_count": 51,
   "id": "f8165eeb",
   "metadata": {},
   "outputs": [
    {
     "name": "stdout",
     "output_type": "stream",
     "text": [
      "(8982, 18479)\n"
     ]
    }
   ],
   "source": [
    "dtmvector = CountVectorizer()\n",
    "x_train_dtm = dtmvector.fit_transform(x_train)\n",
    "print(x_train_dtm.shape)"
   ]
  },
  {
   "cell_type": "markdown",
   "id": "c69eb3ea",
   "metadata": {},
   "source": [
    "TF-IDF Matrix 생성"
   ]
  },
  {
   "cell_type": "code",
   "execution_count": 52,
   "id": "f0d5c723",
   "metadata": {},
   "outputs": [
    {
     "name": "stdout",
     "output_type": "stream",
     "text": [
      "(8982, 18479)\n"
     ]
    }
   ],
   "source": [
    "tfidf_transformer = TfidfTransformer()\n",
    "tfidfv = tfidf_transformer.fit_transform(x_train_dtm)\n",
    "print(tfidfv.shape)"
   ]
  },
  {
   "cell_type": "markdown",
   "id": "cc698cbb",
   "metadata": {},
   "source": [
    "테스트 데이터의 TF-IDF Matrix 생성"
   ]
  },
  {
   "cell_type": "code",
   "execution_count": 53,
   "id": "25658b46",
   "metadata": {},
   "outputs": [],
   "source": [
    "#테스트 데이터를 DTM으로 변환\n",
    "x_test_dtm = dtmvector.transform(x_test)\n",
    "\n",
    "#DTM을 TF-IDF 행렬로 변환\n",
    "tfidfv_test = tfidf_transformer.transform(x_test_dtm)"
   ]
  },
  {
   "cell_type": "markdown",
   "id": "92af01c0",
   "metadata": {},
   "source": [
    "5. 모델 학습 및 예측, 평가"
   ]
  },
  {
   "cell_type": "markdown",
   "id": "12612ed9",
   "metadata": {},
   "source": [
    "나이브 베이즈 분류기"
   ]
  },
  {
   "cell_type": "code",
   "execution_count": 54,
   "id": "2d9001c4",
   "metadata": {},
   "outputs": [
    {
     "data": {
      "text/plain": [
       "MultinomialNB()"
      ]
     },
     "execution_count": 54,
     "metadata": {},
     "output_type": "execute_result"
    }
   ],
   "source": [
    "# 모델 정의 및 훈련\n",
    "nb = MultinomialNB()\n",
    "nb.fit(tfidfv, y_train)"
   ]
  },
  {
   "cell_type": "code",
   "execution_count": 55,
   "id": "df440f99",
   "metadata": {},
   "outputs": [
    {
     "name": "stdout",
     "output_type": "stream",
     "text": [
      "정확도: 0.6193232413178985\n"
     ]
    }
   ],
   "source": [
    "#테스트 데이터에 대한 예측\n",
    "predicted = nb.predict(tfidfv_test)\n",
    "print(\"정확도:\", accuracy_score(y_test, predicted)) #예측값과 실제값 비교"
   ]
  },
  {
   "cell_type": "code",
   "execution_count": 56,
   "id": "45d7d64e",
   "metadata": {
    "scrolled": true
   },
   "outputs": [
    {
     "name": "stdout",
     "output_type": "stream",
     "text": [
      "              precision    recall  f1-score   support\n",
      "\n",
      "           0       0.00      0.00      0.00        12\n",
      "           1       0.79      0.39      0.52       105\n",
      "           2       0.00      0.00      0.00        20\n",
      "           3       0.75      0.92      0.82       813\n",
      "           4       0.46      0.96      0.62       474\n",
      "           5       0.00      0.00      0.00         5\n",
      "           6       0.00      0.00      0.00        14\n",
      "           7       0.00      0.00      0.00         3\n",
      "           8       0.00      0.00      0.00        38\n",
      "           9       1.00      0.04      0.08        25\n",
      "          10       0.00      0.00      0.00        30\n",
      "          11       0.76      0.37      0.50        83\n",
      "          12       0.00      0.00      0.00        13\n",
      "          13       0.00      0.00      0.00        37\n",
      "          14       0.00      0.00      0.00         2\n",
      "          15       0.00      0.00      0.00         9\n",
      "          16       0.74      0.28      0.41        99\n",
      "          17       0.00      0.00      0.00        12\n",
      "          18       0.00      0.00      0.00        20\n",
      "          19       0.67      0.67      0.67       133\n",
      "          20       0.00      0.00      0.00        70\n",
      "          21       0.00      0.00      0.00        27\n",
      "          22       0.00      0.00      0.00         7\n",
      "          23       0.00      0.00      0.00        12\n",
      "          24       0.00      0.00      0.00        19\n",
      "          25       0.00      0.00      0.00        31\n",
      "          26       0.00      0.00      0.00         8\n",
      "          27       0.00      0.00      0.00         4\n",
      "          28       0.00      0.00      0.00        10\n",
      "          29       0.00      0.00      0.00         4\n",
      "          30       0.00      0.00      0.00        12\n",
      "          31       0.00      0.00      0.00        13\n",
      "          32       0.00      0.00      0.00        10\n",
      "          33       0.00      0.00      0.00         5\n",
      "          34       0.00      0.00      0.00         7\n",
      "          35       0.00      0.00      0.00         6\n",
      "          36       0.00      0.00      0.00        11\n",
      "          37       0.00      0.00      0.00         2\n",
      "          38       0.00      0.00      0.00         3\n",
      "          39       0.00      0.00      0.00         5\n",
      "          40       0.00      0.00      0.00        10\n",
      "          41       0.00      0.00      0.00         8\n",
      "          42       0.00      0.00      0.00         3\n",
      "          43       0.00      0.00      0.00         6\n",
      "          44       0.00      0.00      0.00         5\n",
      "          45       0.00      0.00      0.00         1\n",
      "\n",
      "    accuracy                           0.62      2246\n",
      "   macro avg       0.11      0.08      0.08      2246\n",
      "weighted avg       0.52      0.62      0.53      2246\n",
      "\n"
     ]
    }
   ],
   "source": [
    "# 정밀도, 재현율, F1점수 확인\n",
    "print(classification_report(y_test, predicted, zero_division=0))"
   ]
  },
  {
   "cell_type": "code",
   "execution_count": 57,
   "id": "47c465f7",
   "metadata": {},
   "outputs": [
    {
     "name": "stdout",
     "output_type": "stream",
     "text": [
      "Weighted Avg F1-score: 0.5315181088041159\n"
     ]
    }
   ],
   "source": [
    "# F1 score weighted avg만 평가 하겠음\n",
    "report = classification_report(y_test, predicted, zero_division=0, output_dict=True)\n",
    "print(\"Weighted Avg F1-score:\", report['weighted avg']['f1-score'])"
   ]
  },
  {
   "cell_type": "markdown",
   "id": "fca6079f",
   "metadata": {},
   "source": [
    "CNB"
   ]
  },
  {
   "cell_type": "code",
   "execution_count": 58,
   "id": "35fadcd2",
   "metadata": {},
   "outputs": [
    {
     "data": {
      "text/plain": [
       "ComplementNB()"
      ]
     },
     "execution_count": 58,
     "metadata": {},
     "output_type": "execute_result"
    }
   ],
   "source": [
    "# 모델 정의 및 훈련\n",
    "cb = ComplementNB()\n",
    "cb.fit(tfidfv, y_train)"
   ]
  },
  {
   "cell_type": "code",
   "execution_count": 59,
   "id": "3dbb90e3",
   "metadata": {},
   "outputs": [
    {
     "name": "stdout",
     "output_type": "stream",
     "text": [
      "정확도: 0.7671415850400712\n"
     ]
    }
   ],
   "source": [
    "#테스트 데이터에 대한 예측\n",
    "predicted = cb.predict(tfidfv_test)\n",
    "print(\"정확도:\", accuracy_score(y_test, predicted)) #예측값과 실제값 비교"
   ]
  },
  {
   "cell_type": "code",
   "execution_count": 60,
   "id": "2c8141bb",
   "metadata": {
    "scrolled": true
   },
   "outputs": [
    {
     "name": "stdout",
     "output_type": "stream",
     "text": [
      "              precision    recall  f1-score   support\n",
      "\n",
      "           0       0.86      0.50      0.63        12\n",
      "           1       0.64      0.89      0.74       105\n",
      "           2       0.91      0.50      0.65        20\n",
      "           3       0.89      0.91      0.90       813\n",
      "           4       0.75      0.93      0.83       474\n",
      "           5       0.00      0.00      0.00         5\n",
      "           6       0.92      0.86      0.89        14\n",
      "           7       1.00      0.67      0.80         3\n",
      "           8       0.44      0.11      0.17        38\n",
      "           9       0.82      0.92      0.87        25\n",
      "          10       0.96      0.73      0.83        30\n",
      "          11       0.54      0.70      0.61        83\n",
      "          12       0.00      0.00      0.00        13\n",
      "          13       0.61      0.54      0.57        37\n",
      "          14       0.00      0.00      0.00         2\n",
      "          15       0.50      0.11      0.18         9\n",
      "          16       0.67      0.77      0.71        99\n",
      "          17       0.00      0.00      0.00        12\n",
      "          18       0.57      0.60      0.59        20\n",
      "          19       0.55      0.79      0.65       133\n",
      "          20       0.86      0.26      0.40        70\n",
      "          21       0.85      0.63      0.72        27\n",
      "          22       0.00      0.00      0.00         7\n",
      "          23       0.71      0.42      0.53        12\n",
      "          24       0.50      0.11      0.17        19\n",
      "          25       0.83      0.65      0.73        31\n",
      "          26       1.00      0.88      0.93         8\n",
      "          27       0.00      0.00      0.00         4\n",
      "          28       0.25      0.10      0.14        10\n",
      "          29       0.00      0.00      0.00         4\n",
      "          30       0.00      0.00      0.00        12\n",
      "          31       1.00      0.31      0.47        13\n",
      "          32       1.00      0.80      0.89        10\n",
      "          33       1.00      0.80      0.89         5\n",
      "          34       1.00      0.71      0.83         7\n",
      "          35       1.00      0.17      0.29         6\n",
      "          36       0.00      0.00      0.00        11\n",
      "          37       0.00      0.00      0.00         2\n",
      "          38       1.00      0.33      0.50         3\n",
      "          39       1.00      0.20      0.33         5\n",
      "          40       0.00      0.00      0.00        10\n",
      "          41       0.67      0.25      0.36         8\n",
      "          42       1.00      0.33      0.50         3\n",
      "          43       1.00      0.17      0.29         6\n",
      "          44       0.67      0.80      0.73         5\n",
      "          45       1.00      1.00      1.00         1\n",
      "\n",
      "    accuracy                           0.77      2246\n",
      "   macro avg       0.61      0.42      0.46      2246\n",
      "weighted avg       0.75      0.77      0.74      2246\n",
      "\n"
     ]
    }
   ],
   "source": [
    "# 정밀도, 재현율, F1점수 확인\n",
    "print(classification_report(y_test, predicted, zero_division=0))"
   ]
  },
  {
   "cell_type": "code",
   "execution_count": 61,
   "id": "61eaf98d",
   "metadata": {},
   "outputs": [
    {
     "name": "stdout",
     "output_type": "stream",
     "text": [
      "Weighted Avg F1-score: 0.7390612170450325\n"
     ]
    }
   ],
   "source": [
    "# F1 score weighted avg만 평가 하겠음\n",
    "report = classification_report(y_test, predicted, zero_division=0, output_dict=True)\n",
    "print(\"Weighted Avg F1-score:\", report['weighted avg']['f1-score'])"
   ]
  },
  {
   "cell_type": "markdown",
   "id": "272f182e",
   "metadata": {},
   "source": [
    "로지스틱 회귀"
   ]
  },
  {
   "cell_type": "code",
   "execution_count": 62,
   "id": "88f50795",
   "metadata": {},
   "outputs": [
    {
     "data": {
      "text/plain": [
       "LogisticRegression(C=10000, max_iter=3000)"
      ]
     },
     "execution_count": 62,
     "metadata": {},
     "output_type": "execute_result"
    }
   ],
   "source": [
    "# 모델 정의 및 훈련\n",
    "lr = LogisticRegression(C=10000, penalty='l2', max_iter=3000)\n",
    "lr.fit(tfidfv, y_train)"
   ]
  },
  {
   "cell_type": "code",
   "execution_count": 63,
   "id": "4f614f72",
   "metadata": {},
   "outputs": [
    {
     "name": "stdout",
     "output_type": "stream",
     "text": [
      "정확도: 0.8156723063223509\n"
     ]
    }
   ],
   "source": [
    "#테스트 데이터에 대한 예측\n",
    "predicted = lr.predict(tfidfv_test)\n",
    "print(\"정확도:\", accuracy_score(y_test, predicted)) #예측값과 실제값 비교"
   ]
  },
  {
   "cell_type": "code",
   "execution_count": 64,
   "id": "d67ad9fa",
   "metadata": {
    "scrolled": true
   },
   "outputs": [
    {
     "name": "stdout",
     "output_type": "stream",
     "text": [
      "              precision    recall  f1-score   support\n",
      "\n",
      "           0       0.89      0.67      0.76        12\n",
      "           1       0.73      0.79      0.76       105\n",
      "           2       0.78      0.70      0.74        20\n",
      "           3       0.92      0.93      0.92       813\n",
      "           4       0.81      0.88      0.84       474\n",
      "           5       1.00      0.20      0.33         5\n",
      "           6       0.93      0.93      0.93        14\n",
      "           7       1.00      0.33      0.50         3\n",
      "           8       0.69      0.71      0.70        38\n",
      "           9       0.85      0.88      0.86        25\n",
      "          10       0.96      0.90      0.93        30\n",
      "          11       0.68      0.72      0.70        83\n",
      "          12       0.62      0.38      0.48        13\n",
      "          13       0.65      0.65      0.65        37\n",
      "          14       0.67      1.00      0.80         2\n",
      "          15       0.80      0.44      0.57         9\n",
      "          16       0.70      0.77      0.73        99\n",
      "          17       0.82      0.75      0.78        12\n",
      "          18       0.81      0.65      0.72        20\n",
      "          19       0.70      0.73      0.71       133\n",
      "          20       0.62      0.53      0.57        70\n",
      "          21       0.71      0.81      0.76        27\n",
      "          22       1.00      0.14      0.25         7\n",
      "          23       0.64      0.75      0.69        12\n",
      "          24       0.62      0.53      0.57        19\n",
      "          25       0.88      0.74      0.81        31\n",
      "          26       1.00      0.88      0.93         8\n",
      "          27       1.00      0.25      0.40         4\n",
      "          28       0.60      0.30      0.40        10\n",
      "          29       0.50      0.75      0.60         4\n",
      "          30       1.00      0.58      0.74        12\n",
      "          31       0.78      0.54      0.64        13\n",
      "          32       1.00      0.80      0.89        10\n",
      "          33       0.80      0.80      0.80         5\n",
      "          34       0.80      0.57      0.67         7\n",
      "          35       1.00      0.33      0.50         6\n",
      "          36       0.50      0.45      0.48        11\n",
      "          37       0.50      0.50      0.50         2\n",
      "          38       0.50      0.33      0.40         3\n",
      "          39       0.50      0.40      0.44         5\n",
      "          40       1.00      0.20      0.33        10\n",
      "          41       0.75      0.38      0.50         8\n",
      "          42       1.00      0.67      0.80         3\n",
      "          43       0.86      1.00      0.92         6\n",
      "          44       0.67      0.80      0.73         5\n",
      "          45       1.00      1.00      1.00         1\n",
      "\n",
      "    accuracy                           0.82      2246\n",
      "   macro avg       0.79      0.63      0.67      2246\n",
      "weighted avg       0.82      0.82      0.81      2246\n",
      "\n"
     ]
    }
   ],
   "source": [
    "# 정밀도, 재현율, F1점수 확인\n",
    "print(classification_report(y_test, predicted, zero_division=0))"
   ]
  },
  {
   "cell_type": "code",
   "execution_count": 65,
   "id": "f3d2da1f",
   "metadata": {},
   "outputs": [
    {
     "name": "stdout",
     "output_type": "stream",
     "text": [
      "Weighted Avg F1-score: 0.8104596865918853\n"
     ]
    }
   ],
   "source": [
    "# F1 score weighted avg만 평가 하겠음\n",
    "report = classification_report(y_test, predicted, zero_division=0, output_dict=True)\n",
    "print(\"Weighted Avg F1-score:\", report['weighted avg']['f1-score'])"
   ]
  },
  {
   "cell_type": "markdown",
   "id": "afab9b73",
   "metadata": {},
   "source": [
    "서포트 벡터 머신"
   ]
  },
  {
   "cell_type": "code",
   "execution_count": 66,
   "id": "bcaca99a",
   "metadata": {},
   "outputs": [
    {
     "name": "stderr",
     "output_type": "stream",
     "text": [
      "/opt/conda/lib/python3.9/site-packages/sklearn/svm/_base.py:1199: ConvergenceWarning: Liblinear failed to converge, increase the number of iterations.\n",
      "  warnings.warn(\n"
     ]
    },
    {
     "data": {
      "text/plain": [
       "LinearSVC(C=1000, dual=False, max_iter=3000, penalty='l1')"
      ]
     },
     "execution_count": 66,
     "metadata": {},
     "output_type": "execute_result"
    }
   ],
   "source": [
    "# 모델 정의 및 훈련\n",
    "lsvc = LinearSVC(C=1000, penalty='l1', max_iter=3000, dual=False)\n",
    "lsvc.fit(tfidfv, y_train)"
   ]
  },
  {
   "cell_type": "code",
   "execution_count": 67,
   "id": "4dca7f86",
   "metadata": {},
   "outputs": [
    {
     "name": "stdout",
     "output_type": "stream",
     "text": [
      "정확도: 0.794746215494212\n"
     ]
    }
   ],
   "source": [
    "#테스트 데이터에 대한 예측\n",
    "predicted = lsvc.predict(tfidfv_test)\n",
    "print(\"정확도:\", accuracy_score(y_test, predicted)) #예측값과 실제값 비교"
   ]
  },
  {
   "cell_type": "code",
   "execution_count": 68,
   "id": "68171d44",
   "metadata": {
    "scrolled": true
   },
   "outputs": [
    {
     "name": "stdout",
     "output_type": "stream",
     "text": [
      "              precision    recall  f1-score   support\n",
      "\n",
      "           0       0.80      0.67      0.73        12\n",
      "           1       0.72      0.72      0.72       105\n",
      "           2       0.70      0.70      0.70        20\n",
      "           3       0.91      0.92      0.92       813\n",
      "           4       0.82      0.85      0.84       474\n",
      "           5       0.00      0.00      0.00         5\n",
      "           6       0.87      0.93      0.90        14\n",
      "           7       1.00      0.33      0.50         3\n",
      "           8       0.60      0.71      0.65        38\n",
      "           9       0.91      0.84      0.87        25\n",
      "          10       0.88      0.77      0.82        30\n",
      "          11       0.68      0.73      0.71        83\n",
      "          12       0.57      0.31      0.40        13\n",
      "          13       0.69      0.59      0.64        37\n",
      "          14       1.00      0.50      0.67         2\n",
      "          15       0.57      0.44      0.50         9\n",
      "          16       0.66      0.76      0.71        99\n",
      "          17       0.83      0.42      0.56        12\n",
      "          18       0.81      0.65      0.72        20\n",
      "          19       0.62      0.67      0.64       133\n",
      "          20       0.53      0.44      0.48        70\n",
      "          21       0.57      0.78      0.66        27\n",
      "          22       0.50      0.14      0.22         7\n",
      "          23       0.64      0.75      0.69        12\n",
      "          24       0.58      0.58      0.58        19\n",
      "          25       0.83      0.65      0.73        31\n",
      "          26       0.88      0.88      0.88         8\n",
      "          27       1.00      0.50      0.67         4\n",
      "          28       0.29      0.20      0.24        10\n",
      "          29       0.43      0.75      0.55         4\n",
      "          30       0.88      0.58      0.70        12\n",
      "          31       0.75      0.46      0.57        13\n",
      "          32       1.00      0.90      0.95        10\n",
      "          33       0.83      1.00      0.91         5\n",
      "          34       1.00      0.57      0.73         7\n",
      "          35       1.00      0.33      0.50         6\n",
      "          36       0.60      0.55      0.57        11\n",
      "          37       1.00      0.50      0.67         2\n",
      "          38       1.00      0.33      0.50         3\n",
      "          39       0.50      0.40      0.44         5\n",
      "          40       0.43      0.30      0.35        10\n",
      "          41       0.62      0.62      0.62         8\n",
      "          42       1.00      0.67      0.80         3\n",
      "          43       0.86      1.00      0.92         6\n",
      "          44       0.57      0.80      0.67         5\n",
      "          45       1.00      1.00      1.00         1\n",
      "\n",
      "    accuracy                           0.79      2246\n",
      "   macro avg       0.74      0.61      0.65      2246\n",
      "weighted avg       0.79      0.79      0.79      2246\n",
      "\n"
     ]
    }
   ],
   "source": [
    "# 정밀도, 재현율, F1점수 확인\n",
    "print(classification_report(y_test, predicted, zero_division=0))"
   ]
  },
  {
   "cell_type": "code",
   "execution_count": 69,
   "id": "ce1c3d7c",
   "metadata": {},
   "outputs": [
    {
     "name": "stdout",
     "output_type": "stream",
     "text": [
      "Weighted Avg F1-score: 0.7905998391762981\n"
     ]
    }
   ],
   "source": [
    "# F1 score weighted avg만 평가 하겠음\n",
    "report = classification_report(y_test, predicted, zero_division=0, output_dict=True)\n",
    "print(\"Weighted Avg F1-score:\", report['weighted avg']['f1-score'])"
   ]
  },
  {
   "cell_type": "markdown",
   "id": "e84f4d75",
   "metadata": {},
   "source": [
    "결정 트리"
   ]
  },
  {
   "cell_type": "code",
   "execution_count": 70,
   "id": "d5d36782",
   "metadata": {},
   "outputs": [
    {
     "data": {
      "text/plain": [
       "DecisionTreeClassifier(max_depth=10, random_state=0)"
      ]
     },
     "execution_count": 70,
     "metadata": {},
     "output_type": "execute_result"
    }
   ],
   "source": [
    "# 모델 정의 및 훈련\n",
    "tree = DecisionTreeClassifier(max_depth=10, random_state=0)\n",
    "tree.fit(tfidfv, y_train)"
   ]
  },
  {
   "cell_type": "code",
   "execution_count": 71,
   "id": "143dded1",
   "metadata": {},
   "outputs": [
    {
     "name": "stdout",
     "output_type": "stream",
     "text": [
      "정확도: 0.6211041852181657\n"
     ]
    }
   ],
   "source": [
    "#테스트 데이터에 대한 예측\n",
    "predicted = tree.predict(tfidfv_test)\n",
    "print(\"정확도:\", accuracy_score(y_test, predicted)) #예측값과 실제값 비교"
   ]
  },
  {
   "cell_type": "code",
   "execution_count": 72,
   "id": "0f8778da",
   "metadata": {
    "scrolled": true
   },
   "outputs": [
    {
     "name": "stdout",
     "output_type": "stream",
     "text": [
      "              precision    recall  f1-score   support\n",
      "\n",
      "           0       0.00      0.00      0.00        12\n",
      "           1       0.72      0.39      0.51       105\n",
      "           2       0.50      0.55      0.52        20\n",
      "           3       0.93      0.85      0.88       813\n",
      "           4       0.40      0.89      0.55       474\n",
      "           5       0.00      0.00      0.00         5\n",
      "           6       0.75      0.21      0.33        14\n",
      "           7       0.00      0.00      0.00         3\n",
      "           8       0.00      0.00      0.00        38\n",
      "           9       1.00      0.16      0.28        25\n",
      "          10       0.89      0.80      0.84        30\n",
      "          11       0.61      0.61      0.61        83\n",
      "          12       0.00      0.00      0.00        13\n",
      "          13       0.00      0.00      0.00        37\n",
      "          14       0.00      0.00      0.00         2\n",
      "          15       0.00      0.00      0.00         9\n",
      "          16       0.62      0.83      0.71        99\n",
      "          17       0.00      0.00      0.00        12\n",
      "          18       0.00      0.00      0.00        20\n",
      "          19       0.65      0.38      0.48       133\n",
      "          20       0.57      0.11      0.19        70\n",
      "          21       0.50      0.04      0.07        27\n",
      "          22       0.00      0.00      0.00         7\n",
      "          23       0.00      0.00      0.00        12\n",
      "          24       0.50      0.11      0.17        19\n",
      "          25       0.67      0.06      0.12        31\n",
      "          26       0.00      0.00      0.00         8\n",
      "          27       0.00      0.00      0.00         4\n",
      "          28       0.50      0.10      0.17        10\n",
      "          29       0.00      0.00      0.00         4\n",
      "          30       0.00      0.00      0.00        12\n",
      "          31       0.00      0.00      0.00        13\n",
      "          32       0.00      0.00      0.00        10\n",
      "          33       1.00      0.80      0.89         5\n",
      "          34       0.00      0.00      0.00         7\n",
      "          35       0.00      0.00      0.00         6\n",
      "          36       0.00      0.00      0.00        11\n",
      "          37       0.00      0.00      0.00         2\n",
      "          38       0.00      0.00      0.00         3\n",
      "          39       0.00      0.00      0.00         5\n",
      "          40       0.00      0.00      0.00        10\n",
      "          41       0.00      0.00      0.00         8\n",
      "          42       0.00      0.00      0.00         3\n",
      "          43       0.00      0.00      0.00         6\n",
      "          44       0.00      0.00      0.00         5\n",
      "          45       0.00      0.00      0.00         1\n",
      "\n",
      "    accuracy                           0.62      2246\n",
      "   macro avg       0.23      0.15      0.16      2246\n",
      "weighted avg       0.62      0.62      0.58      2246\n",
      "\n"
     ]
    }
   ],
   "source": [
    "# 정밀도, 재현율, F1점수 확인\n",
    "print(classification_report(y_test, predicted, zero_division=0))"
   ]
  },
  {
   "cell_type": "code",
   "execution_count": 73,
   "id": "4b7300b1",
   "metadata": {},
   "outputs": [
    {
     "name": "stdout",
     "output_type": "stream",
     "text": [
      "Weighted Avg F1-score: 0.576123209915252\n"
     ]
    }
   ],
   "source": [
    "# F1 score weighted avg만 평가 하겠음\n",
    "report = classification_report(y_test, predicted, zero_division=0, output_dict=True)\n",
    "print(\"Weighted Avg F1-score:\", report['weighted avg']['f1-score'])"
   ]
  },
  {
   "cell_type": "markdown",
   "id": "713ac1a9",
   "metadata": {},
   "source": [
    "랜덤 포레스트"
   ]
  },
  {
   "cell_type": "code",
   "execution_count": 74,
   "id": "c25302ff",
   "metadata": {},
   "outputs": [
    {
     "data": {
      "text/plain": [
       "RandomForestClassifier(n_estimators=5, random_state=0)"
      ]
     },
     "execution_count": 74,
     "metadata": {},
     "output_type": "execute_result"
    }
   ],
   "source": [
    "# 모델 정의 및 훈련\n",
    "forest = RandomForestClassifier(n_estimators=5, random_state=0)\n",
    "forest.fit(tfidfv, y_train)"
   ]
  },
  {
   "cell_type": "code",
   "execution_count": 75,
   "id": "5ff3d4ae",
   "metadata": {},
   "outputs": [
    {
     "name": "stdout",
     "output_type": "stream",
     "text": [
      "정확도: 0.6714158504007124\n"
     ]
    }
   ],
   "source": [
    "#테스트 데이터에 대한 예측\n",
    "predicted = forest.predict(tfidfv_test)\n",
    "print(\"정확도:\", accuracy_score(y_test, predicted)) #예측값과 실제값 비교"
   ]
  },
  {
   "cell_type": "code",
   "execution_count": 76,
   "id": "a2ffdd92",
   "metadata": {
    "scrolled": true
   },
   "outputs": [
    {
     "name": "stdout",
     "output_type": "stream",
     "text": [
      "              precision    recall  f1-score   support\n",
      "\n",
      "           0       0.17      0.33      0.23        12\n",
      "           1       0.40      0.70      0.51       105\n",
      "           2       0.19      0.20      0.20        20\n",
      "           3       0.83      0.91      0.87       813\n",
      "           4       0.65      0.86      0.74       474\n",
      "           5       0.00      0.00      0.00         5\n",
      "           6       1.00      0.29      0.44        14\n",
      "           7       0.33      0.33      0.33         3\n",
      "           8       0.48      0.42      0.45        38\n",
      "           9       0.54      0.28      0.37        25\n",
      "          10       0.53      0.27      0.36        30\n",
      "          11       0.49      0.57      0.53        83\n",
      "          12       0.50      0.15      0.24        13\n",
      "          13       0.43      0.27      0.33        37\n",
      "          14       0.00      0.00      0.00         2\n",
      "          15       0.00      0.00      0.00         9\n",
      "          16       0.56      0.45      0.50        99\n",
      "          17       0.00      0.00      0.00        12\n",
      "          18       0.57      0.40      0.47        20\n",
      "          19       0.59      0.52      0.55       133\n",
      "          20       0.53      0.30      0.38        70\n",
      "          21       0.89      0.30      0.44        27\n",
      "          22       0.00      0.00      0.00         7\n",
      "          23       0.33      0.08      0.13        12\n",
      "          24       0.40      0.11      0.17        19\n",
      "          25       1.00      0.39      0.56        31\n",
      "          26       1.00      0.12      0.22         8\n",
      "          27       0.00      0.00      0.00         4\n",
      "          28       0.00      0.00      0.00        10\n",
      "          29       0.00      0.00      0.00         4\n",
      "          30       0.00      0.00      0.00        12\n",
      "          31       0.00      0.00      0.00        13\n",
      "          32       1.00      0.10      0.18        10\n",
      "          33       1.00      0.40      0.57         5\n",
      "          34       0.50      0.14      0.22         7\n",
      "          35       1.00      0.17      0.29         6\n",
      "          36       0.20      0.09      0.13        11\n",
      "          37       0.00      0.00      0.00         2\n",
      "          38       0.00      0.00      0.00         3\n",
      "          39       0.00      0.00      0.00         5\n",
      "          40       1.00      0.20      0.33        10\n",
      "          41       0.00      0.00      0.00         8\n",
      "          42       0.00      0.00      0.00         3\n",
      "          43       1.00      0.67      0.80         6\n",
      "          44       1.00      0.80      0.89         5\n",
      "          45       1.00      1.00      1.00         1\n",
      "\n",
      "    accuracy                           0.67      2246\n",
      "   macro avg       0.44      0.26      0.29      2246\n",
      "weighted avg       0.65      0.67      0.64      2246\n",
      "\n"
     ]
    }
   ],
   "source": [
    "# 정밀도, 재현율, F1점수 확인\n",
    "print(classification_report(y_test, predicted, zero_division=0))"
   ]
  },
  {
   "cell_type": "code",
   "execution_count": 77,
   "id": "66aad286",
   "metadata": {},
   "outputs": [
    {
     "name": "stdout",
     "output_type": "stream",
     "text": [
      "Weighted Avg F1-score: 0.6408515630206083\n"
     ]
    }
   ],
   "source": [
    "# F1 score weighted avg만 평가 하겠음\n",
    "report = classification_report(y_test, predicted, zero_division=0, output_dict=True)\n",
    "print(\"Weighted Avg F1-score:\", report['weighted avg']['f1-score'])"
   ]
  },
  {
   "cell_type": "markdown",
   "id": "a434fd7b",
   "metadata": {},
   "source": [
    "그래디언트 부스팅 트리"
   ]
  },
  {
   "cell_type": "code",
   "execution_count": 78,
   "id": "30218088",
   "metadata": {},
   "outputs": [
    {
     "data": {
      "text/plain": [
       "GradientBoostingClassifier(random_state=0)"
      ]
     },
     "execution_count": 78,
     "metadata": {},
     "output_type": "execute_result"
    }
   ],
   "source": [
    "# 모델 정의 및 훈련\n",
    "grbt = GradientBoostingClassifier(random_state=0) # verbose=3\n",
    "grbt.fit(tfidfv, y_train)"
   ]
  },
  {
   "cell_type": "code",
   "execution_count": 79,
   "id": "66d647d0",
   "metadata": {},
   "outputs": [
    {
     "name": "stdout",
     "output_type": "stream",
     "text": [
      "정확도: 0.7702582368655387\n"
     ]
    }
   ],
   "source": [
    "#테스트 데이터에 대한 예측\n",
    "predicted = grbt.predict(tfidfv_test)\n",
    "print(\"정확도:\", accuracy_score(y_test, predicted)) #예측값과 실제값 비교"
   ]
  },
  {
   "cell_type": "code",
   "execution_count": 80,
   "id": "bb6add43",
   "metadata": {
    "scrolled": true
   },
   "outputs": [
    {
     "name": "stdout",
     "output_type": "stream",
     "text": [
      "              precision    recall  f1-score   support\n",
      "\n",
      "           0       0.80      0.67      0.73        12\n",
      "           1       0.75      0.70      0.72       105\n",
      "           2       0.65      0.75      0.70        20\n",
      "           3       0.87      0.91      0.89       813\n",
      "           4       0.77      0.84      0.81       474\n",
      "           5       0.50      0.20      0.29         5\n",
      "           6       0.91      0.71      0.80        14\n",
      "           7       0.25      0.33      0.29         3\n",
      "           8       0.60      0.63      0.62        38\n",
      "           9       0.90      0.76      0.83        25\n",
      "          10       0.80      0.80      0.80        30\n",
      "          11       0.62      0.67      0.65        83\n",
      "          12       0.50      0.46      0.48        13\n",
      "          13       0.54      0.35      0.43        37\n",
      "          14       0.14      0.50      0.22         2\n",
      "          15       0.33      0.33      0.33         9\n",
      "          16       0.71      0.71      0.71        99\n",
      "          17       0.56      0.42      0.48        12\n",
      "          18       0.71      0.50      0.59        20\n",
      "          19       0.73      0.68      0.70       133\n",
      "          20       0.69      0.44      0.54        70\n",
      "          21       0.68      0.63      0.65        27\n",
      "          22       0.33      0.14      0.20         7\n",
      "          23       0.67      0.67      0.67        12\n",
      "          24       0.60      0.47      0.53        19\n",
      "          25       0.81      0.68      0.74        31\n",
      "          26       0.75      0.75      0.75         8\n",
      "          27       1.00      0.50      0.67         4\n",
      "          28       0.33      0.20      0.25        10\n",
      "          29       0.33      0.75      0.46         4\n",
      "          30       0.45      0.42      0.43        12\n",
      "          31       0.60      0.46      0.52        13\n",
      "          32       1.00      0.80      0.89        10\n",
      "          33       0.71      1.00      0.83         5\n",
      "          34       0.75      0.43      0.55         7\n",
      "          35       0.33      0.17      0.22         6\n",
      "          36       0.50      0.55      0.52        11\n",
      "          37       0.50      1.00      0.67         2\n",
      "          38       0.33      0.33      0.33         3\n",
      "          39       0.67      0.40      0.50         5\n",
      "          40       1.00      0.40      0.57        10\n",
      "          41       0.50      0.62      0.56         8\n",
      "          42       1.00      0.67      0.80         3\n",
      "          43       0.60      0.50      0.55         6\n",
      "          44       0.57      0.80      0.67         5\n",
      "          45       0.33      1.00      0.50         1\n",
      "\n",
      "    accuracy                           0.77      2246\n",
      "   macro avg       0.62      0.58      0.58      2246\n",
      "weighted avg       0.77      0.77      0.76      2246\n",
      "\n"
     ]
    }
   ],
   "source": [
    "# 정밀도, 재현율, F1점수 확인\n",
    "print(classification_report(y_test, predicted, zero_division=0))"
   ]
  },
  {
   "cell_type": "code",
   "execution_count": 81,
   "id": "88a6eccf",
   "metadata": {},
   "outputs": [
    {
     "name": "stdout",
     "output_type": "stream",
     "text": [
      "Weighted Avg F1-score: 0.7647126117421563\n"
     ]
    }
   ],
   "source": [
    "# F1 score weighted avg만 평가 하겠음\n",
    "report = classification_report(y_test, predicted, zero_division=0, output_dict=True)\n",
    "print(\"Weighted Avg F1-score:\", report['weighted avg']['f1-score'])"
   ]
  },
  {
   "cell_type": "markdown",
   "id": "127e405d",
   "metadata": {},
   "source": [
    "보팅"
   ]
  },
  {
   "cell_type": "code",
   "execution_count": 82,
   "id": "c11b2b57",
   "metadata": {},
   "outputs": [
    {
     "data": {
      "text/plain": [
       "VotingClassifier(estimators=[('lr', LogisticRegression(solver='liblinear')),\n",
       "                             ('cnb', ComplementNB()),\n",
       "                             ('gb', GradientBoostingClassifier())],\n",
       "                 voting='soft')"
      ]
     },
     "execution_count": 82,
     "metadata": {},
     "output_type": "execute_result"
    }
   ],
   "source": [
    "# 개별 분류기 정의\n",
    "log_reg = LogisticRegression(penalty='l2', solver='liblinear')\n",
    "complement_nb = ComplementNB()\n",
    "gradient_boost = GradientBoostingClassifier()\n",
    "\n",
    "# VotingClassifier 정의\n",
    "voting_classifier = VotingClassifier(\n",
    "    estimators=[('lr', log_reg), ('cnb', complement_nb), ('gb', gradient_boost)],\n",
    "    voting='soft'\n",
    ")\n",
    "\n",
    "voting_classifier.fit(tfidfv, y_train)"
   ]
  },
  {
   "cell_type": "code",
   "execution_count": 83,
   "id": "4e2691ee",
   "metadata": {},
   "outputs": [
    {
     "name": "stdout",
     "output_type": "stream",
     "text": [
      "정확도: 0.7983081032947462\n"
     ]
    }
   ],
   "source": [
    "#테스트 데이터에 대한 예측\n",
    "predicted = voting_classifier.predict(tfidfv_test)\n",
    "print(\"정확도:\", accuracy_score(y_test, predicted)) #예측값과 실제값 비교"
   ]
  },
  {
   "cell_type": "code",
   "execution_count": 84,
   "id": "c97ca2ee",
   "metadata": {
    "scrolled": true
   },
   "outputs": [
    {
     "name": "stdout",
     "output_type": "stream",
     "text": [
      "              precision    recall  f1-score   support\n",
      "\n",
      "           0       0.89      0.67      0.76        12\n",
      "           1       0.81      0.77      0.79       105\n",
      "           2       0.71      0.75      0.73        20\n",
      "           3       0.90      0.93      0.92       813\n",
      "           4       0.77      0.87      0.82       474\n",
      "           5       1.00      0.20      0.33         5\n",
      "           6       0.92      0.79      0.85        14\n",
      "           7       1.00      0.67      0.80         3\n",
      "           8       0.67      0.68      0.68        38\n",
      "           9       0.95      0.80      0.87        25\n",
      "          10       0.89      0.83      0.86        30\n",
      "          11       0.69      0.73      0.71        83\n",
      "          12       0.50      0.46      0.48        13\n",
      "          13       0.62      0.54      0.58        37\n",
      "          14       0.12      0.50      0.20         2\n",
      "          15       0.43      0.33      0.38         9\n",
      "          16       0.76      0.75      0.75        99\n",
      "          17       0.67      0.50      0.57        12\n",
      "          18       0.69      0.55      0.61        20\n",
      "          19       0.75      0.69      0.72       133\n",
      "          20       0.67      0.47      0.55        70\n",
      "          21       0.68      0.70      0.69        27\n",
      "          22       0.67      0.29      0.40         7\n",
      "          23       0.62      0.67      0.64        12\n",
      "          24       0.62      0.42      0.50        19\n",
      "          25       0.92      0.71      0.80        31\n",
      "          26       0.75      0.75      0.75         8\n",
      "          27       0.50      0.50      0.50         4\n",
      "          28       0.29      0.20      0.24        10\n",
      "          29       0.43      0.75      0.55         4\n",
      "          30       0.45      0.42      0.43        12\n",
      "          31       0.75      0.46      0.57        13\n",
      "          32       1.00      0.80      0.89        10\n",
      "          33       0.80      0.80      0.80         5\n",
      "          34       0.80      0.57      0.67         7\n",
      "          35       0.33      0.17      0.22         6\n",
      "          36       0.50      0.55      0.52        11\n",
      "          37       0.50      1.00      0.67         2\n",
      "          38       0.25      0.33      0.29         3\n",
      "          39       0.67      0.40      0.50         5\n",
      "          40       0.60      0.30      0.40        10\n",
      "          41       0.62      0.62      0.62         8\n",
      "          42       1.00      0.67      0.80         3\n",
      "          43       0.50      0.50      0.50         6\n",
      "          44       0.67      0.80      0.73         5\n",
      "          45       1.00      1.00      1.00         1\n",
      "\n",
      "    accuracy                           0.80      2246\n",
      "   macro avg       0.68      0.61      0.62      2246\n",
      "weighted avg       0.80      0.80      0.79      2246\n",
      "\n"
     ]
    }
   ],
   "source": [
    "# 정밀도, 재현율, F1점수 확인\n",
    "print(classification_report(y_test, predicted, zero_division=0))"
   ]
  },
  {
   "cell_type": "code",
   "execution_count": 85,
   "id": "93db76c1",
   "metadata": {},
   "outputs": [
    {
     "name": "stdout",
     "output_type": "stream",
     "text": [
      "Weighted Avg F1-score: 0.7939743164246056\n"
     ]
    }
   ],
   "source": [
    "# F1 score weighted avg만 평가 하겠음\n",
    "report = classification_report(y_test, predicted, zero_division=0, output_dict=True)\n",
    "print(\"Weighted Avg F1-score:\", report['weighted avg']['f1-score'])"
   ]
  },
  {
   "cell_type": "markdown",
   "id": "0e69d3bd",
   "metadata": {},
   "source": [
    "# step 4. vocab_size마다 accuracy, f1-score(weighted avg) 비교"
   ]
  },
  {
   "attachments": {
    "image.png": {
     "image/png": "[encoded data removed]"
    }
   },
   "cell_type": "markdown",
   "id": "c2480124",
   "metadata": {},
   "source": [
    "![image.png](attachment:image.png)\n",
    "\n",
    "- 위 표를 살펴보면 모든 단어 성능을 상위 15,000개와 상위 20,000개 성능이 비슷 하다는걸 볼 수 있다.\n",
    "\n",
    "그중 vocab_size가 조금더 작은 상위 15,000개가 가장 적절한 vocab_size라고 생각이 든다.\n",
    "\n",
    "    -> 상위 20,000개와 성능은 비슷하되 연산수가 조금 더 적기 때문!!"
   ]
  },
  {
   "cell_type": "markdown",
   "id": "5062356c",
   "metadata": {},
   "source": [
    "# step 5. 딥러닝 모델과 비교해 보기"
   ]
  },
  {
   "cell_type": "markdown",
   "id": "a5cace63",
   "metadata": {},
   "source": [
    "1. 데이터 다운"
   ]
  },
  {
   "cell_type": "code",
   "execution_count": 88,
   "id": "7c15e9e0",
   "metadata": {},
   "outputs": [],
   "source": [
    "(x_train, y_train), (x_test, y_test) = reuters.load_data(num_words=15000, test_split=0.2)"
   ]
  },
  {
   "cell_type": "markdown",
   "id": "9e1e1ed4",
   "metadata": {},
   "source": [
    "2. 데이터 분포 확인"
   ]
  },
  {
   "cell_type": "code",
   "execution_count": 89,
   "id": "2ee268f6",
   "metadata": {
    "scrolled": true
   },
   "outputs": [
    {
     "name": "stdout",
     "output_type": "stream",
     "text": [
      "훈련용 뉴스의 최대 길이 :2376\n",
      "훈련용 뉴스의 평균 길이 :145.5398574927633\n"
     ]
    },
    {
     "data": {
      "image/png": "[encoded data removed]",
      "text/plain": [
       "<Figure size 432x288 with 1 Axes>"
      ]
     },
     "metadata": {
      "needs_background": "light"
     },
     "output_type": "display_data"
    }
   ],
   "source": [
    "print('훈련용 뉴스의 최대 길이 :{}'.format(max(len(l) for l in x_train)))\n",
    "print('훈련용 뉴스의 평균 길이 :{}'.format(sum(map(len, x_train))/len(x_train)))\n",
    "\n",
    "plt.hist([len(s) for s in x_train], bins=50)\n",
    "plt.xlabel('length of samples')\n",
    "plt.ylabel('number of samples')\n",
    "plt.show()"
   ]
  },
  {
   "cell_type": "code",
   "execution_count": 90,
   "id": "b3c6eaa3",
   "metadata": {
    "scrolled": true
   },
   "outputs": [
    {
     "data": {
      "image/png": "[encoded data removed]",
      "text/plain": [
       "<Figure size 792x360 with 1 Axes>"
      ]
     },
     "metadata": {
      "needs_background": "light"
     },
     "output_type": "display_data"
    }
   ],
   "source": [
    "fig, axe = plt.subplots(ncols=1)\n",
    "fig.set_size_inches(11,5)\n",
    "sns.countplot(x=y_train)\n",
    "plt.show()"
   ]
  },
  {
   "cell_type": "markdown",
   "id": "5f7802fd",
   "metadata": {},
   "source": [
    "3. 데이터 복원"
   ]
  },
  {
   "cell_type": "markdown",
   "id": "812b8f69",
   "metadata": {},
   "source": [
    "'단어'를 key값으로, 고유한 '정수'를 value로 가지는 dictionary -> word_index로 저장"
   ]
  },
  {
   "cell_type": "code",
   "execution_count": 91,
   "id": "fe63601f",
   "metadata": {
    "scrolled": false
   },
   "outputs": [],
   "source": [
    "word_index = reuters.get_word_index(path=\"reuters_word_index.json\")"
   ]
  },
  {
   "cell_type": "markdown",
   "id": "95d6a3a6",
   "metadata": {},
   "source": [
    "(pad, sos, unk)특별한 토큰 매핑"
   ]
  },
  {
   "cell_type": "code",
   "execution_count": 92,
   "id": "4910932f",
   "metadata": {},
   "outputs": [],
   "source": [
    "index_to_word = { index+3 : word for word, index in word_index.items() }\n",
    "\n",
    "# index_to_word에 숫자 0은 <pad>, 숫자 1은 <sos>, 숫자 2는 <unk>를 넣어줍니다.\n",
    "for index, token in enumerate((\"<pad>\", \"<sos>\", \"<unk>\")):\n",
    "  index_to_word[index]=token"
   ]
  },
  {
   "cell_type": "markdown",
   "id": "48dcb0e1",
   "metadata": {},
   "source": [
    "데이터셋 문자로 복원"
   ]
  },
  {
   "cell_type": "code",
   "execution_count": 93,
   "id": "92e35d3c",
   "metadata": {
    "scrolled": true
   },
   "outputs": [
    {
     "name": "stdout",
     "output_type": "stream",
     "text": [
      "8982\n",
      "x_train[5]:  ['<sos> <unk> <unk> said as a result of its december acquisition of space co it expects earnings per share in 1987 of 1 15 to 1 30 dlrs per share up from 70 cts in 1986 the company said pretax net should rise to nine to 10 mln dlrs from six mln dlrs in 1986 and rental operation revenues to 19 to 22 mln dlrs from 12 5 mln dlrs it said cash flow per share this year should be 2 50 to three dlrs reuter 3', '<sos> generale de banque sa lt <unk> br and lt heller overseas corp of chicago have each taken 50 pct stakes in <unk> company sa belgo factors generale de banque said in a statement it gave no financial details of the transaction sa belgo <unk> turnover in 1986 was 17 5 billion belgian francs reuter 3', '<sos> shr 3 28 dlrs vs 22 cts shr diluted 2 99 dlrs vs 22 cts net 46 0 mln vs 3 328 000 avg shrs 14 0 mln vs 15 2 mln year shr 5 41 dlrs vs 1 56 dlrs shr diluted 4 94 dlrs vs 1 50 dlrs net 78 2 mln vs 25 9 mln avg shrs 14 5 mln vs 15 1 mln note earnings per share reflect the two for one split effective january 6 1987 per share amounts are calculated after preferred stock dividends loss continuing operations for the qtr 1986 includes gains of sale of investments in enron corp of 14 mln dlrs and associated companies of 4 189 000 less writedowns of investments in national intergroup inc of 11 8 mln and <unk> corp of 15 6 mln reuter 3', \"<sos> the farmers home administration the u s agriculture department's farm lending arm could lose about seven billion dlrs in outstanding principal on its severely <unk> borrowers or about one fourth of its farm loan portfolio the general accounting office gao said in remarks prepared for delivery to the senate agriculture committee brian crowley senior associate director of gao also said that a preliminary analysis of proposed changes in <unk> financial eligibility standards indicated as many as one half of fmha borrowers who received new loans from the agency in 1986 would be ineligible under the proposed system the agency has proposed evaluating <unk> credit using a variety of financial ratios instead of relying solely on <unk> ability senate agriculture committee chairman patrick leahy d vt <unk> the proposed eligibility changes telling fmha administrator <unk> clark at a hearing that they would mark a dramatic shift in the agency's purpose away from being farmers' lender of last resort toward becoming a big city bank but clark defended the new regulations saying the agency had a responsibility to <unk> its 70 billion dlr loan portfolio in a <unk> yet <unk> manner crowley of gao congress' <unk> arm said the proposed credit <unk> system attempted to ensure that fmha would make loans only to borrowers who had a reasonable change of repaying their debt reuter 3\", '<sos> seton co said its board has received a proposal from chairman and chief executive officer philip d <unk> to acquire seton for 15 75 dlrs per share in cash seton said the acquisition bid is subject to <unk> arranging the necessary financing it said he intends to ask other members of senior management to participate the company said <unk> owns 30 pct of seton stock and other management members another 7 5 pct seton said it has formed an independent board committee to consider the offer and has deferred the annual meeting it had scheduled for march 31 reuter 3']\n"
     ]
    }
   ],
   "source": [
    "decoded = []\n",
    "for i in range(len(x_train)):\n",
    "    t = ' '.join([index_to_word[index] for index in x_train[i]])\n",
    "    decoded.append(t)\n",
    "\n",
    "x_train = decoded\n",
    "\n",
    "print(len(x_train))\n",
    "print('x_train[5]: ', x_train[:5])"
   ]
  },
  {
   "cell_type": "code",
   "execution_count": 94,
   "id": "72e3fe5d",
   "metadata": {
    "scrolled": true
   },
   "outputs": [
    {
     "name": "stdout",
     "output_type": "stream",
     "text": [
      "2246\n",
      "x_test[5]:  ['<sos> the great atlantic and pacific tea co said its three year 345 mln dlr capital program will be be substantially increased to <unk> growth and expansion plans for <unk> inc and <unk> inc over the next two years a and p said the acquisition of <unk> in august 1986 and <unk> in december helped us achieve better than expected results in the fourth quarter ended february 28 its net income from continuing operations jumped 52 6 pct to 20 7 mln dlrs or 55 cts a share in the latest quarter as sales increased 48 3 pct to 1 58 billion dlrs a and p gave no details on the expanded capital program but it did say it completed the first year of the program during 1986 a and p is 52 4 pct owned by lt <unk> <unk> of west germany reuter 3', \"<sos> philippine sugar production in the 1987 88 crop year ending august has been set at 1 6 mln tonnes up from a provisional 1 3 mln tonnes this year sugar regulatory administration sra chairman <unk> yulo said yulo told reuters a survey during the current milling season which ends next month showed the 1986 87 estimate would almost certainly be met he said at least 1 2 mln tonnes of the 1987 88 crop would be earmarked for domestic consumption yulo said about 130 000 tonnes would be set aside for the u s sugar quota 150 000 tonnes for strategic reserves and 50 000 tonnes would be sold on the world market he said if the government approved a long standing sra recommendation to manufacture ethanol the project would take up another 150 000 tonnes slightly raising the target the government for its own reasons has been delaying approval of the project but we expect it to come through by july yulo said ethanol could make up five pct of gasoline cutting the oil import bill by about 300 mln pesos yulo said three major philippine <unk> were ready to start manufacturing ethanol if the project was approved the ethanol project would result in employment for about 100 000 people sharply reducing those thrown out of work by depressed world sugar prices and a <unk> domestic industry production quotas set for the first time in 1987 88 had been submitted to president corazon aquino i think the president would rather wait <unk> the new congress <unk> after the may elections he said but there is really no need for such quotas we are right now producing just slightly over our own consumption level the producers have never enjoyed such high prices yulo said adding sugar was currently selling locally for 320 pesos per <unk> up from 190 pesos last august yulo said prices were driven up because of speculation following the <unk> bid to control production we are no longer concerned so much with the world market he said adding producers in the <unk> region had learned from their <unk> and diversified into corn and <unk> farming and <unk> production he said diversification into products other than ethanol was also possible within the sugar industry the <unk> long ago <unk> their <unk> yulo said they have 300 sugar mills compared with our 41 but they relocated many of them and diversified production we want to call this a <unk> <unk> instead of the sugar industry he said sugarcane could be fed to pigs and livestock used for <unk> <unk> or used in room <unk> when you cut sugarcane you don't even have to produce sugar he said yulo said the philippines was lobbying for a renewal of the international sugar agreement which expired in 1984 as a major sugar producer we are urging them to write a new agreement which would revive world prices yulo said if there is no agreement world prices will always be depressed particularly because the european community is subsidising its producers and dumping sugar on the markets he said current world prices holding steady at about 7 60 cents per pound were uneconomical for the philippines where production costs ranged from 12 to 14 cents a pound if the price holds steady for a while at 7 60 cents i expect the level to rise to about 11 cents a pound by the end of this year he said yulo said economists forecast a bullish sugar market by 1990 with world consumption <unk> production he said sugar markets were holding up despite <unk> from artificial sweeteners and high fructose corn syrup but we are not happy with the reagan administration he said since <unk> we have been regular suppliers of sugar to the u s in 1982 when they restored the quota system they cut ours in half without any justification manila was keenly watching washington's moves to cut domestic support prices to 12 cents a pound from 18 cents the u s agriculture department last december slashed its 12 month 1987 sugar import quota from the philippines to 143 780 short tons from 231 660 short tons in 1986 yulo said despite next year's increased production target some philippine mills were expected to shut down at least four of the 41 mills were not working during the 1986 87 season he said we expect two or three more to follow suit during the next season reuter 3\", \"<sos> the agriculture department's widening of louisiana gulf differentials will affect county posted prices for number two yellow corn in ten states a usda official said all counties in iowa will be affected as will counties which use the gulf to price corn in illinois indiana tennessee kentucky missouri mississippi arkansas alabama and louisiana said ron burgess deputy director of commodity operations division for the usda usda last night notified the grain industry that effective immediately all gulf differentials used to price interior corn would be widened on a sliding scale basis of four to eight cts depending on what the differential is usda's action was taken to lower excessively high posted county prices for corn caused by high gulf prices we've been following this louisiana gulf situation for a month and we don't think it's going to get back in line in any nearby time burgess said burgess said usda will probably narrow back the gulf differentials when and if gulf prices recede if we're off the mark now because we're too high wouldn't we be as much off the mark if we're too low he said while forecasting more adjustments if gulf prices fall burgess said no other changes in usda's price system are being planned right now we don't tinker we don't make changes lightly and we don't make changes often he said reuter 3\", '<sos> graham mccormick oil and gas partnership said it completed the sale of interests in two major oil and gas fields to lt energy assets international corp for 21 mln dlrs the company said it sold about one half of its 50 pct interest in the oak hill and north <unk> fields its two largest producing properties it said it used about 20 mln dlrs of the proceeds to <unk> principal on its senior secured notes semi annual principal payments on the remaining 40 mln dlrs of notes have been satisfied until december 1988 as a result it said the company said the note agreements were amended to reflect an easing of some financial covenants and an increase of interest to 13 5 pct from 13 0 pct until december 1990 it said the <unk> exercise price for 1 125 000 warrants was also reduced to 50 cts from 1 50 dlrs the company said energy assets agreed to share the costs of increasing production at the oak hill field reuter 3', '<sos> strong south <unk> winds were keeping many vessels trapped in the ice off the finnish and swedish coasts in one of the worst icy periods in the baltic for many years the finnish board of navigation said in finland and sweden up to 50 vessels were reported to be stuck in the ice and even the largest of the assisting <unk> were having difficulties in breaking through to the stranded ships coastguard officials said however icy conditions in the southern baltic at the soviet oil ports of ventspils and klaipeda had eased they said weather officials in neighbouring sweden said the icy conditions in the baltic were the worst for 30 years with ships fighting a losing battle to keep moving in the coastal stretches of the gulf of <unk> which <unk> finland and sweden the ice is up to one metre thick with drifts and <unk> packing it into almost <unk> walls three metres high swedish coastguard officials said weather forecasts say winds may ease during the weekend but a further drop in temperature could bring shipping to a standstill the officials said reuter 3']\n"
     ]
    }
   ],
   "source": [
    "decoded = []\n",
    "for i in range(len(x_test)):\n",
    "    t = ' '.join([index_to_word[index] for index in x_test[i]])\n",
    "    decoded.append(t)\n",
    "\n",
    "x_test = decoded\n",
    "print(len(x_test))\n",
    "print('x_test[5]: ', x_test[:5])"
   ]
  },
  {
   "cell_type": "markdown",
   "id": "ceab3186",
   "metadata": {},
   "source": [
    "4. 벡터화(DTM, TF-IDF 행렬 사용)"
   ]
  },
  {
   "cell_type": "markdown",
   "id": "ff11c180",
   "metadata": {},
   "source": [
    "DTM 생성"
   ]
  },
  {
   "cell_type": "code",
   "execution_count": 95,
   "id": "5f879c68",
   "metadata": {},
   "outputs": [
    {
     "name": "stdout",
     "output_type": "stream",
     "text": [
      "(8982, 14227)\n"
     ]
    }
   ],
   "source": [
    "dtmvector = CountVectorizer()\n",
    "x_train_dtm = dtmvector.fit_transform(x_train)\n",
    "print(x_train_dtm.shape)"
   ]
  },
  {
   "cell_type": "markdown",
   "id": "a78eda66",
   "metadata": {},
   "source": [
    "TF-IDF Matrix 생성"
   ]
  },
  {
   "cell_type": "code",
   "execution_count": 96,
   "id": "c9439edb",
   "metadata": {},
   "outputs": [
    {
     "name": "stdout",
     "output_type": "stream",
     "text": [
      "(8982, 14227)\n"
     ]
    }
   ],
   "source": [
    "tfidf_transformer = TfidfTransformer()\n",
    "tfidfv = tfidf_transformer.fit_transform(x_train_dtm)\n",
    "print(tfidfv.shape)"
   ]
  },
  {
   "cell_type": "markdown",
   "id": "2b1026ea",
   "metadata": {},
   "source": [
    "테스트 데이터의 TF-IDF Matrix 생성"
   ]
  },
  {
   "cell_type": "code",
   "execution_count": 97,
   "id": "80b2633d",
   "metadata": {},
   "outputs": [],
   "source": [
    "#테스트 데이터를 DTM으로 변환\n",
    "x_test_dtm = dtmvector.transform(x_test)\n",
    "\n",
    "#DTM을 TF-IDF 행렬로 변환\n",
    "tfidfv_test = tfidf_transformer.transform(x_test_dtm)"
   ]
  },
  {
   "cell_type": "markdown",
   "id": "55758e1a",
   "metadata": {},
   "source": [
    "5. validation set 구성"
   ]
  },
  {
   "cell_type": "code",
   "execution_count": 98,
   "id": "2496491b",
   "metadata": {},
   "outputs": [],
   "source": [
    "x_train, x_val, y_train, y_val = train_test_split(x_train_dtm, \n",
    "                                                  y_train, \n",
    "                                                  test_size=0.2, \n",
    "                                                  random_state=42)"
   ]
  },
  {
   "cell_type": "markdown",
   "id": "1744e0b4",
   "metadata": {},
   "source": [
    "6. 희소 행렬 -> 밀집 행렬"
   ]
  },
  {
   "cell_type": "code",
   "execution_count": 99,
   "id": "b0ed6cb3",
   "metadata": {},
   "outputs": [],
   "source": [
    "from scipy import sparse\n",
    "\n",
    "# 희소 행렬인지 확인\n",
    "if sparse.issparse(x_train):\n",
    "    x_train = x_train.toarray()\n",
    "    x_train = x_train.astype('float32')\n",
    "    x_train = x_train.reshape((x_train.shape[0], x_train.shape[1], 1))\n",
    "if sparse.issparse(x_val):\n",
    "    x_val = x_val.toarray()\n",
    "    x_val = x_val.astype('float32')\n",
    "    x_val = x_val.reshape((x_val.shape[0], x_val.shape[1], 1))"
   ]
  },
  {
   "cell_type": "code",
   "execution_count": 100,
   "id": "e25543eb",
   "metadata": {},
   "outputs": [
    {
     "data": {
      "text/plain": [
       "(7185, 14227, 1)"
      ]
     },
     "execution_count": 100,
     "metadata": {},
     "output_type": "execute_result"
    }
   ],
   "source": [
    "x_train.shape"
   ]
  },
  {
   "cell_type": "code",
   "execution_count": 101,
   "id": "3979d46e",
   "metadata": {},
   "outputs": [
    {
     "data": {
      "text/plain": [
       "(1797, 14227, 1)"
      ]
     },
     "execution_count": 101,
     "metadata": {},
     "output_type": "execute_result"
    }
   ],
   "source": [
    "x_val.shape"
   ]
  },
  {
   "cell_type": "markdown",
   "id": "0e055f97",
   "metadata": {},
   "source": [
    "7. 모델 정의 및 훈련"
   ]
  },
  {
   "cell_type": "markdown",
   "id": "3b7085bf",
   "metadata": {},
   "source": [
    "gru 모델 사용"
   ]
  },
  {
   "cell_type": "code",
   "execution_count": 112,
   "id": "1d0d1d50",
   "metadata": {},
   "outputs": [
    {
     "name": "stdout",
     "output_type": "stream",
     "text": [
      "WARNING:tensorflow:Layer gru_39 will not use cuDNN kernels since it doesn't meet the criteria. It will use a generic GPU kernel as fallback when running on GPU.\n",
      "Epoch 1/3\n",
      "57/57 [==============================] - 2129s 37s/step - loss: 3.2331 - accuracy: 0.2747 - val_loss: 2.4423 - val_accuracy: 0.3534\n",
      "Epoch 2/3\n",
      "57/57 [==============================] - 2123s 37s/step - loss: 2.4856 - accuracy: 0.3499 - val_loss: 2.4053 - val_accuracy: 0.3534\n",
      "Epoch 3/3\n",
      "57/57 [==============================] - 2114s 37s/step - loss: 2.4644 - accuracy: 0.3488 - val_loss: 2.3970 - val_accuracy: 0.3534\n"
     ]
    },
    {
     "data": {
      "text/plain": [
       "<keras.callbacks.History at 0x7d04fd80b430>"
      ]
     },
     "execution_count": 112,
     "metadata": {},
     "output_type": "execute_result"
    }
   ],
   "source": [
    "gru_units = 32\n",
    "dropout_rate = 0.5\n",
    "\n",
    "# 모델 구성\n",
    "model = tf.keras.Sequential()\n",
    "model.add(tf.keras.layers.GRU(gru_units, recurrent_dropout=dropout_rate))\n",
    "model.add(tf.keras.layers.Dropout(dropout_rate))\n",
    "model.add(tf.keras.layers.Dense(64, activation='relu'))\n",
    "model.add(tf.keras.layers.Dense(46, activation='softmax'))\n",
    "\n",
    "# 학습의 진행\n",
    "model.compile(optimizer='adam',\n",
    "              loss='sparse_categorical_crossentropy',\n",
    "              metrics=['accuracy'])\n",
    "              \n",
    "epochs=3  # 몇 epoch를 훈련하면 좋을지 결과를 보면서 바꾸어 봅시다. \n",
    "\n",
    "model.fit(x_train,\n",
    "          y_train,\n",
    "          epochs=epochs,\n",
    "          batch_size=128,\n",
    "          validation_data=(x_val, y_val),\n",
    "          verbose=1)"
   ]
  },
  {
   "cell_type": "markdown",
   "id": "6c74f503",
   "metadata": {},
   "source": [
    "8. 베스트 모델 load 후 테스트 데이터로 평가"
   ]
  },
  {
   "cell_type": "markdown",
   "id": "8f13e22d",
   "metadata": {},
   "source": [
    "희소 행렬 -> 밀집 행렬"
   ]
  },
  {
   "cell_type": "code",
   "execution_count": 113,
   "id": "e7c04d30",
   "metadata": {},
   "outputs": [],
   "source": [
    "if sparse.issparse(x_test_dtm):\n",
    "    x_test_dtm = x_test_dtm.toarray()\n",
    "    x_test_dtm = x_test_dtm.astype('float32')\n",
    "    x_test_dtm = x_test_dtm.reshape((x_test_dtm.shape[0], x_test_dtm.shape[1], 1))"
   ]
  },
  {
   "cell_type": "markdown",
   "id": "6832a955",
   "metadata": {},
   "source": [
    "테스트 데이터로 평가"
   ]
  },
  {
   "cell_type": "code",
   "execution_count": 114,
   "id": "7de9c357",
   "metadata": {},
   "outputs": [
    {
     "name": "stdout",
     "output_type": "stream",
     "text": [
      "71/71 [==============================] - 215s 3s/step - loss: 2.4141 - accuracy: 0.3620\n"
     ]
    },
    {
     "data": {
      "text/plain": [
       "[2.414149045944214, 0.36197686195373535]"
      ]
     },
     "execution_count": 114,
     "metadata": {},
     "output_type": "execute_result"
    }
   ],
   "source": [
    "model.evaluate(x_test_dtm, y_test)"
   ]
  },
  {
   "cell_type": "markdown",
   "id": "cbb6d266",
   "metadata": {},
   "source": [
    "예측값을 통한 F1 score weighted avg 값 확인"
   ]
  },
  {
   "cell_type": "code",
   "execution_count": 115,
   "id": "9a6f7626",
   "metadata": {},
   "outputs": [],
   "source": [
    "y_pred = model.predict(x_test_dtm)"
   ]
  },
  {
   "cell_type": "code",
   "execution_count": 120,
   "id": "9dd77c8c",
   "metadata": {},
   "outputs": [],
   "source": [
    "y_pred = np.argmax(y_pred, axis=1)"
   ]
  },
  {
   "cell_type": "code",
   "execution_count": 121,
   "id": "ce872e4d",
   "metadata": {},
   "outputs": [
    {
     "name": "stdout",
     "output_type": "stream",
     "text": [
      "Weighted Avg F1-score: 0.19240743851187844\n"
     ]
    }
   ],
   "source": [
    "report = classification_report(y_test, y_pred, zero_division=0, output_dict=True)\n",
    "print(\"Weighted Avg F1-score:\", report['weighted avg']['f1-score'])"
   ]
  },
  {
   "cell_type": "markdown",
   "id": "26fa7a00",
   "metadata": {},
   "source": [
    "## 머신러닝 모델과 딥러닝 모델 성능 비교"
   ]
  },
  {
   "cell_type": "markdown",
   "id": "0e44a965",
   "metadata": {},
   "source": [
    "- 머신러닝(로지스틱 회귀)\n",
    "    - accuracy: 0.8147\n",
    "    - Weighted Avg F1-score: 0.8098\n",
    "- 딥러닝 모델(gru 모델)\n",
    "    - accuracy: 0.3619\n",
    "    - Weighted Avg F1-score: 0.1924\n",
    "    \n",
    "딥러닝 모델이 쓸모없을 정도의 성능을 보임\n",
    "\n",
    "    - 임베딩 레이어를 제거하고 TF-IDF Matrix로 학습 했는데 성능이 쓰레기!!!!\n",
    "    - 딥러닝 모델에서 임베딩 레이어(벡터화)가 얼마나 중요한지 느끼게 됨"
   ]
  },
  {
   "cell_type": "markdown",
   "id": "16e66a50",
   "metadata": {},
   "source": [
    "# 회고"
   ]
  },
  {
   "cell_type": "markdown",
   "id": "36a9dd44",
   "metadata": {},
   "source": [
    "vocab size를 정할 때 직접 실험 해보고 여러 성능을 분석해보는 이런 실험은 해보지 않아서 신기했다.\n",
    "\n",
    "실험 도중에는 total vocab size가 26,000개가 조금 넘으니까 20,000개 정도가 제일 낫지 않을까 라는 생각을 했는데 내 생각은 틀리고 말았다ㅠ\n",
    "\n",
    "딥러닝 모델에 임베딩 레이어를 제거하고 TF-IDF Matrix화된 데이터로 학습을 진행 해봤는데 역시 딥러닝 모델에는 벡터화, 즉 임베딩 레이어가 얼마나 중요한지 느끼게 되었다!!!"
   ]
  }
 ],
 "metadata": {
  "kernelspec": {
   "display_name": "Python 3 (ipykernel)",
   "language": "python",
   "name": "python3"
  },
  "language_info": {
   "codemirror_mode": {
    "name": "ipython",
    "version": 3
   },
   "file_extension": ".py",
   "mimetype": "text/x-python",
   "name": "python",
   "nbconvert_exporter": "python",
   "pygments_lexer": "ipython3",
   "version": "3.9.7"
  }
 },
 "nbformat": 4,
 "nbformat_minor": 5
}
