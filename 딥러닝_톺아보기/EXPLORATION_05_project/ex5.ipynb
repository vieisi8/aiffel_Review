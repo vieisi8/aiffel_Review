{
 "cells": [
  {
   "cell_type": "markdown",
   "id": "8f758406",
   "metadata": {},
   "source": [
    "# 0.사용할 라이브러리 import"
   ]
  },
  {
   "cell_type": "code",
   "execution_count": 1,
   "id": "cd9d781e",
   "metadata": {},
   "outputs": [],
   "source": [
    "import pandas\n",
    "import konlpy\n",
    "import gensim"
   ]
  },
  {
   "cell_type": "markdown",
   "id": "4b2d4ce0",
   "metadata": {},
   "source": [
    "# 1.데이터 불러오고 확인하기"
   ]
  },
  {
   "cell_type": "code",
   "execution_count": 2,
   "id": "dd2d4ecc",
   "metadata": {},
   "outputs": [
    {
     "data": {
      "text/html": [
       "<div>\n",
       "<style scoped>\n",
       "    .dataframe tbody tr th:only-of-type {\n",
       "        vertical-align: middle;\n",
       "    }\n",
       "\n",
       "    .dataframe tbody tr th {\n",
       "        vertical-align: top;\n",
       "    }\n",
       "\n",
       "    .dataframe thead th {\n",
       "        text-align: right;\n",
       "    }\n",
       "</style>\n",
       "<table border=\"1\" class=\"dataframe\">\n",
       "  <thead>\n",
       "    <tr style=\"text-align: right;\">\n",
       "      <th></th>\n",
       "      <th>id</th>\n",
       "      <th>document</th>\n",
       "      <th>label</th>\n",
       "    </tr>\n",
       "  </thead>\n",
       "  <tbody>\n",
       "    <tr>\n",
       "      <th>0</th>\n",
       "      <td>9976970</td>\n",
       "      <td>아 더빙.. 진짜 짜증나네요 목소리</td>\n",
       "      <td>0</td>\n",
       "    </tr>\n",
       "    <tr>\n",
       "      <th>1</th>\n",
       "      <td>3819312</td>\n",
       "      <td>흠...포스터보고 초딩영화줄....오버연기조차 가볍지 않구나</td>\n",
       "      <td>1</td>\n",
       "    </tr>\n",
       "    <tr>\n",
       "      <th>2</th>\n",
       "      <td>10265843</td>\n",
       "      <td>너무재밓었다그래서보는것을추천한다</td>\n",
       "      <td>0</td>\n",
       "    </tr>\n",
       "    <tr>\n",
       "      <th>3</th>\n",
       "      <td>9045019</td>\n",
       "      <td>교도소 이야기구먼 ..솔직히 재미는 없다..평점 조정</td>\n",
       "      <td>0</td>\n",
       "    </tr>\n",
       "    <tr>\n",
       "      <th>4</th>\n",
       "      <td>6483659</td>\n",
       "      <td>사이몬페그의 익살스런 연기가 돋보였던 영화!스파이더맨에서 늙어보이기만 했던 커스틴 ...</td>\n",
       "      <td>1</td>\n",
       "    </tr>\n",
       "  </tbody>\n",
       "</table>\n",
       "</div>"
      ],
      "text/plain": [
       "         id                                           document  label\n",
       "0   9976970                                아 더빙.. 진짜 짜증나네요 목소리      0\n",
       "1   3819312                  흠...포스터보고 초딩영화줄....오버연기조차 가볍지 않구나      1\n",
       "2  10265843                                  너무재밓었다그래서보는것을추천한다      0\n",
       "3   9045019                      교도소 이야기구먼 ..솔직히 재미는 없다..평점 조정      0\n",
       "4   6483659  사이몬페그의 익살스런 연기가 돋보였던 영화!스파이더맨에서 늙어보이기만 했던 커스틴 ...      1"
      ]
     },
     "execution_count": 2,
     "metadata": {},
     "output_type": "execute_result"
    }
   ],
   "source": [
    "import pandas as pd\n",
    "\n",
    "# 데이터를 읽어봅시다. \n",
    "train_data = pd.read_table('~/aiffel/sentiment_classification/data/ratings_train.txt')\n",
    "test_data = pd.read_table('~/aiffel/sentiment_classification/data/ratings_test.txt')\n",
    "\n",
    "train_data.head()"
   ]
  },
  {
   "cell_type": "markdown",
   "id": "3044605c",
   "metadata": {},
   "source": [
    "# 2.데이터로더 구성"
   ]
  },
  {
   "cell_type": "markdown",
   "id": "eceb2197",
   "metadata": {},
   "source": [
    "id 컬럼을 통해 데이터 중복 확인"
   ]
  },
  {
   "cell_type": "code",
   "execution_count": 3,
   "id": "7b03e64e",
   "metadata": {},
   "outputs": [
    {
     "data": {
      "text/plain": [
       "150000"
      ]
     },
     "execution_count": 3,
     "metadata": {},
     "output_type": "execute_result"
    }
   ],
   "source": [
    "len(train_data['id'])"
   ]
  },
  {
   "cell_type": "code",
   "execution_count": 4,
   "id": "977e67b6",
   "metadata": {},
   "outputs": [
    {
     "data": {
      "text/plain": [
       "150000"
      ]
     },
     "execution_count": 4,
     "metadata": {},
     "output_type": "execute_result"
    }
   ],
   "source": [
    "len(set(train_data['id']))"
   ]
  },
  {
   "cell_type": "code",
   "execution_count": 5,
   "id": "97f370af",
   "metadata": {},
   "outputs": [
    {
     "data": {
      "text/plain": [
       "50000"
      ]
     },
     "execution_count": 5,
     "metadata": {},
     "output_type": "execute_result"
    }
   ],
   "source": [
    "len(test_data['id'])"
   ]
  },
  {
   "cell_type": "code",
   "execution_count": 6,
   "id": "0adbce0f",
   "metadata": {},
   "outputs": [
    {
     "data": {
      "text/plain": [
       "50000"
      ]
     },
     "execution_count": 6,
     "metadata": {},
     "output_type": "execute_result"
    }
   ],
   "source": [
    "len(set(test_data['id']))"
   ]
  },
  {
   "cell_type": "markdown",
   "id": "e86bc91c",
   "metadata": {},
   "source": [
    "데이터 결측치 확인"
   ]
  },
  {
   "cell_type": "code",
   "execution_count": 7,
   "id": "1f90aa67",
   "metadata": {},
   "outputs": [
    {
     "data": {
      "text/plain": [
       "id          0\n",
       "document    5\n",
       "label       0\n",
       "dtype: int64"
      ]
     },
     "execution_count": 7,
     "metadata": {},
     "output_type": "execute_result"
    }
   ],
   "source": [
    "train_data.isnull().sum()"
   ]
  },
  {
   "cell_type": "code",
   "execution_count": 8,
   "id": "c7926aaf",
   "metadata": {},
   "outputs": [
    {
     "data": {
      "text/plain": [
       "id          0\n",
       "document    3\n",
       "label       0\n",
       "dtype: int64"
      ]
     },
     "execution_count": 8,
     "metadata": {},
     "output_type": "execute_result"
    }
   ],
   "source": [
    "test_data.isnull().sum()"
   ]
  },
  {
   "cell_type": "code",
   "execution_count": 9,
   "id": "0a7e61d3",
   "metadata": {},
   "outputs": [
    {
     "data": {
      "text/plain": [
       "'아 더빙.. 진짜 짜증나네요 목소리'"
      ]
     },
     "execution_count": 9,
     "metadata": {},
     "output_type": "execute_result"
    }
   ],
   "source": [
    "train_data['document'][0]"
   ]
  },
  {
   "cell_type": "code",
   "execution_count": 10,
   "id": "06aacb68",
   "metadata": {
    "scrolled": true
   },
   "outputs": [
    {
     "data": {
      "text/plain": [
       "\"\\nfrom konlpy.tag import Mecab\\n\\ntokens=[]\\ntokenizer = Mecab()\\ntokens.append(tokenizer.morphs(train_data['document'][0]))\\n\\nprint(tokens)\\n\""
      ]
     },
     "execution_count": 10,
     "metadata": {},
     "output_type": "execute_result"
    }
   ],
   "source": [
    "'''\n",
    "from konlpy.tag import Mecab\n",
    "\n",
    "tokens=[]\n",
    "tokenizer = Mecab()\n",
    "tokens.append(tokenizer.morphs(train_data['document'][0]))\n",
    "\n",
    "print(tokens)\n",
    "'''"
   ]
  },
  {
   "cell_type": "code",
   "execution_count": 11,
   "id": "9c39146b",
   "metadata": {},
   "outputs": [
    {
     "data": {
      "text/plain": [
       "\"\\ntrain_data.dropna(axis=0,inplace = True)\\ntrain_data.reset_index(drop=True, inplace=True)  # 인덱스 재정렬\\n\\ntest_data.dropna(axis=0,inplace = True)\\ntest_data.reset_index(drop=True, inplace=True)\\n\\nfrom konlpy.tag import Mecab\\n\\ntokenizer = Mecab()\\ntokens=[]\\nfor x in range(len(train_data['document'])):\\n    token=tokenizer.morphs(train_data['document'][x])\\n    for y in range(len(token)):\\n        tokens.append(token[y])\\n\\nfor x in range(len(test_data['document'])):\\n    token=tokenizer.morphs(test_data['document'][x])\\n    for y in range(len(token)):\\n        tokens.append(token[y])\\n\\nprint(len(tokens))\\n\""
      ]
     },
     "execution_count": 11,
     "metadata": {},
     "output_type": "execute_result"
    }
   ],
   "source": [
    "'''\n",
    "train_data.dropna(axis=0,inplace = True)\n",
    "train_data.reset_index(drop=True, inplace=True)  # 인덱스 재정렬\n",
    "\n",
    "test_data.dropna(axis=0,inplace = True)\n",
    "test_data.reset_index(drop=True, inplace=True)\n",
    "\n",
    "from konlpy.tag import Mecab\n",
    "\n",
    "tokenizer = Mecab()\n",
    "tokens=[]\n",
    "for x in range(len(train_data['document'])):\n",
    "    token=tokenizer.morphs(train_data['document'][x])\n",
    "    for y in range(len(token)):\n",
    "        tokens.append(token[y])\n",
    "\n",
    "for x in range(len(test_data['document'])):\n",
    "    token=tokenizer.morphs(test_data['document'][x])\n",
    "    for y in range(len(token)):\n",
    "        tokens.append(token[y])\n",
    "\n",
    "print(len(tokens))\n",
    "'''"
   ]
  },
  {
   "cell_type": "code",
   "execution_count": 12,
   "id": "887f9801",
   "metadata": {},
   "outputs": [
    {
     "data": {
      "text/plain": [
       "\"\\ntokens=[]\\ntokenizer = Mecab()\\ntokens.append(tokenizer.morphs(train_data['document'][0]))\\n\\nstopwords = ['의','가','이','은','들','는','좀','잘','걍','과','도','를','으로','자','에','와','한','하다']\\n\\n# 불용어 제거\\ntokens_filtered = []\\n\\nfor token_list in tokens:\\n    filtered = [token for token in token_list if token not in stopwords]\\n    tokens_filtered.append(filtered)\\n    \\nprint(tokens_filtered)\\n\""
      ]
     },
     "execution_count": 12,
     "metadata": {},
     "output_type": "execute_result"
    }
   ],
   "source": [
    "'''\n",
    "tokens=[]\n",
    "tokenizer = Mecab()\n",
    "tokens.append(tokenizer.morphs(train_data['document'][0]))\n",
    "\n",
    "stopwords = ['의','가','이','은','들','는','좀','잘','걍','과','도','를','으로','자','에','와','한','하다']\n",
    "\n",
    "# 불용어 제거\n",
    "tokens_filtered = []\n",
    "\n",
    "for token_list in tokens:\n",
    "    filtered = [token for token in token_list if token not in stopwords]\n",
    "    tokens_filtered.append(filtered)\n",
    "    \n",
    "print(tokens_filtered)\n",
    "'''"
   ]
  },
  {
   "cell_type": "code",
   "execution_count": 13,
   "id": "bdb46a25",
   "metadata": {},
   "outputs": [],
   "source": [
    "from konlpy.tag import Mecab\n",
    "import numpy as np\n",
    "from collections import Counter\n",
    "\n",
    "tokenizer = Mecab()\n",
    "stopwords = ['의','가','이','은','들','는','좀','잘','걍','과','도','를','으로','자','에','와','한','하다']\n",
    "\n",
    "def load_data(train_data, test_data, num_words=10000):\n",
    "    train_data.drop_duplicates(subset=['document'], inplace=True)\n",
    "    train_data = train_data.dropna(how='any') \n",
    "    test_data.drop_duplicates(subset=['document'], inplace=True)\n",
    "    test_data = test_data.dropna(how='any') \n",
    "    \n",
    "    X_train = []\n",
    "    for sentence in train_data['document']:\n",
    "        temp_X = tokenizer.morphs(sentence)  # 토큰화\n",
    "        temp_X = [word for word in temp_X if not word in stopwords]  # 불용어 제거\n",
    "        X_train.append(temp_X)\n",
    "\n",
    "    X_test = []\n",
    "    for sentence in test_data['document']:\n",
    "        temp_X = tokenizer.morphs(sentence)  # 토큰화\n",
    "        temp_X = [word for word in temp_X if not word in stopwords]  # 불용어 제거\n",
    "        X_test.append(temp_X)\n",
    "    \n",
    "    # 단어 빈도수 계산\n",
    "    words = np.concatenate(X_train).tolist()\n",
    "    counter = Counter(words)\n",
    "    counter = counter.most_common(num_words - 4)  # 상위 num_words-4개의 단어 선택\n",
    "    \n",
    "    # 사전 구축\n",
    "    vocab = ['<PAD>', '<BOS>', '<UNK>', '<UNUSED>'] + [key for key, _ in counter]\n",
    "    word_to_index = {word: index for index, word in enumerate(vocab)}\n",
    "    \n",
    "    def wordlist_to_indexlist(wordlist):\n",
    "        return [word_to_index[word] if word in word_to_index else word_to_index['<UNK>'] for word in wordlist]\n",
    "        \n",
    "    X_train = list(map(wordlist_to_indexlist, X_train))\n",
    "    X_test = list(map(wordlist_to_indexlist, X_test))\n",
    "        \n",
    "    return X_train, np.array(list(train_data['label'])), X_test, np.array(list(test_data['label'])), word_to_index\n",
    "    \n",
    "X_train, y_train, X_test, y_test, word_to_index = load_data(train_data, test_data) "
   ]
  },
  {
   "cell_type": "code",
   "execution_count": 14,
   "id": "1fd6a597",
   "metadata": {},
   "outputs": [],
   "source": [
    "index_to_word = {index:word for word, index in word_to_index.items()}"
   ]
  },
  {
   "cell_type": "code",
   "execution_count": 15,
   "id": "fa229f51",
   "metadata": {},
   "outputs": [],
   "source": [
    "# 문장 1개를 활용할 딕셔너리와 함께 주면, 단어 인덱스 리스트 벡터로 변환해 주는 함수입니다. \n",
    "# 단, 모든 문장은 <BOS>로 시작하는 것으로 합니다. \n",
    "def get_encoded_sentence(sentence, word_to_index):\n",
    "    return [word_to_index['<BOS>']]+[word_to_index[word] if word in word_to_index else word_to_index['<UNK>'] for word in sentence.split()]\n",
    "\n",
    "# 여러 개의 문장 리스트를 한꺼번에 단어 인덱스 리스트 벡터로 encode해 주는 함수입니다. \n",
    "def get_encoded_sentences(sentences, word_to_index):\n",
    "    return [get_encoded_sentence(sentence, word_to_index) for sentence in sentences]\n",
    "\n",
    "# 숫자 벡터로 encode된 문장을 원래대로 decode하는 함수입니다. \n",
    "def get_decoded_sentence(encoded_sentence, index_to_word):\n",
    "    return ' '.join(index_to_word[index] if index in index_to_word else '<UNK>' for index in encoded_sentence[1:])  #[1:]를 통해 <BOS>를 제외\n",
    "\n",
    "# 여러 개의 숫자 벡터로 encode된 문장을 한꺼번에 원래대로 decode하는 함수입니다. \n",
    "def get_decoded_sentences(encoded_sentences, index_to_word):\n",
    "    return [get_decoded_sentence(encoded_sentence, index_to_word) for encoded_sentence in encoded_sentences]"
   ]
  },
  {
   "cell_type": "markdown",
   "id": "4a993e30",
   "metadata": {},
   "source": [
    "# 3.모델 구성을 위한 데이터 분석 및 가공"
   ]
  },
  {
   "cell_type": "code",
   "execution_count": 16,
   "id": "c913a2f1",
   "metadata": {},
   "outputs": [],
   "source": [
    "import numpy as np\n",
    "import tensorflow as tf\n",
    "import os\n",
    "\n",
    "maxlen=120\n",
    "\n",
    "x_train = tf.keras.preprocessing.sequence.pad_sequences(X_train,\n",
    "                                                        value=word_to_index[\"<PAD>\"],\n",
    "                                                        padding='pre',\n",
    "                                                        maxlen=maxlen)\n",
    "x_test = tf.keras.preprocessing.sequence.pad_sequences(X_test,\n",
    "                                                       value=word_to_index[\"<PAD>\"],\n",
    "                                                       padding='pre',\n",
    "                                                       maxlen=maxlen)"
   ]
  },
  {
   "cell_type": "markdown",
   "id": "92b3a21f",
   "metadata": {},
   "source": [
    "# 4.모델 구성 및 validation set 구성"
   ]
  },
  {
   "cell_type": "markdown",
   "id": "e391abe5",
   "metadata": {},
   "source": [
    "RNN(LSTM)"
   ]
  },
  {
   "cell_type": "code",
   "execution_count": 17,
   "id": "31d4e4c3",
   "metadata": {},
   "outputs": [
    {
     "name": "stdout",
     "output_type": "stream",
     "text": [
      "Model: \"sequential\"\n",
      "_________________________________________________________________\n",
      "Layer (type)                 Output Shape              Param #   \n",
      "=================================================================\n",
      "embedding (Embedding)        (None, None, 16)          160000    \n",
      "_________________________________________________________________\n",
      "lstm (LSTM)                  (None, 8)                 800       \n",
      "_________________________________________________________________\n",
      "dense (Dense)                (None, 8)                 72        \n",
      "_________________________________________________________________\n",
      "dense_1 (Dense)              (None, 1)                 9         \n",
      "=================================================================\n",
      "Total params: 160,881\n",
      "Trainable params: 160,881\n",
      "Non-trainable params: 0\n",
      "_________________________________________________________________\n"
     ]
    }
   ],
   "source": [
    "vocab_size = len(word_to_index)   # 어휘 사전의 크기입니다(10,000개의 단어)\n",
    "word_vector_dim = 16  # 워드 벡터의 차원 수 (변경 가능한 하이퍼파라미터)\n",
    "\n",
    "model1 = tf.keras.Sequential()\n",
    "model1.add(tf.keras.layers.Embedding(vocab_size, word_vector_dim, input_shape=(None,)))\n",
    "model1.add(tf.keras.layers.LSTM(8))   # 가장 널리 쓰이는 RNN인 LSTM 레이어를 사용하였습니다. 이때 LSTM state 벡터의 차원수는 8로 하였습니다. (변경 가능)\n",
    "model1.add(tf.keras.layers.Dense(8, activation='relu'))\n",
    "model1.add(tf.keras.layers.Dense(1, activation='sigmoid'))  # 최종 출력은 긍정/부정을 나타내는 1dim 입니다.\n",
    "\n",
    "model1.summary()"
   ]
  },
  {
   "cell_type": "markdown",
   "id": "e5dcad1f",
   "metadata": {},
   "source": [
    "1D CNN"
   ]
  },
  {
   "cell_type": "code",
   "execution_count": 18,
   "id": "27541071",
   "metadata": {},
   "outputs": [
    {
     "name": "stdout",
     "output_type": "stream",
     "text": [
      "Model: \"sequential_1\"\n",
      "_________________________________________________________________\n",
      "Layer (type)                 Output Shape              Param #   \n",
      "=================================================================\n",
      "embedding_1 (Embedding)      (None, None, 16)          160000    \n",
      "_________________________________________________________________\n",
      "conv1d (Conv1D)              (None, None, 16)          1808      \n",
      "_________________________________________________________________\n",
      "max_pooling1d (MaxPooling1D) (None, None, 16)          0         \n",
      "_________________________________________________________________\n",
      "conv1d_1 (Conv1D)            (None, None, 16)          1808      \n",
      "_________________________________________________________________\n",
      "global_max_pooling1d (Global (None, 16)                0         \n",
      "_________________________________________________________________\n",
      "dense_2 (Dense)              (None, 8)                 136       \n",
      "_________________________________________________________________\n",
      "dense_3 (Dense)              (None, 1)                 9         \n",
      "=================================================================\n",
      "Total params: 163,761\n",
      "Trainable params: 163,761\n",
      "Non-trainable params: 0\n",
      "_________________________________________________________________\n"
     ]
    }
   ],
   "source": [
    "model2 = tf.keras.Sequential()\n",
    "model2.add(tf.keras.layers.Embedding(vocab_size, word_vector_dim, input_shape=(None,)))\n",
    "model2.add(tf.keras.layers.Conv1D(16, 7, activation='relu'))\n",
    "model2.add(tf.keras.layers.MaxPooling1D(5))\n",
    "model2.add(tf.keras.layers.Conv1D(16, 7, activation='relu'))\n",
    "model2.add(tf.keras.layers.GlobalMaxPooling1D())\n",
    "model2.add(tf.keras.layers.Dense(8, activation='relu'))\n",
    "model2.add(tf.keras.layers.Dense(1, activation='sigmoid'))  # 최종 출력은 긍정/부정을 나타내는 1dim 입니다.\n",
    "\n",
    "model2.summary()"
   ]
  },
  {
   "cell_type": "markdown",
   "id": "ee89118c",
   "metadata": {},
   "source": [
    "1D CNN + RNN"
   ]
  },
  {
   "cell_type": "code",
   "execution_count": 19,
   "id": "a4a85550",
   "metadata": {},
   "outputs": [
    {
     "name": "stdout",
     "output_type": "stream",
     "text": [
      "Model: \"sequential_2\"\n",
      "_________________________________________________________________\n",
      "Layer (type)                 Output Shape              Param #   \n",
      "=================================================================\n",
      "embedding_2 (Embedding)      (None, None, 16)          160000    \n",
      "_________________________________________________________________\n",
      "conv1d_2 (Conv1D)            (None, None, 16)          1808      \n",
      "_________________________________________________________________\n",
      "max_pooling1d_1 (MaxPooling1 (None, None, 16)          0         \n",
      "_________________________________________________________________\n",
      "lstm_1 (LSTM)                (None, 8)                 800       \n",
      "_________________________________________________________________\n",
      "dense_4 (Dense)              (None, 8)                 72        \n",
      "_________________________________________________________________\n",
      "dense_5 (Dense)              (None, 1)                 9         \n",
      "=================================================================\n",
      "Total params: 162,689\n",
      "Trainable params: 162,689\n",
      "Non-trainable params: 0\n",
      "_________________________________________________________________\n"
     ]
    }
   ],
   "source": [
    "model3 = tf.keras.Sequential()\n",
    "model3.add(tf.keras.layers.Embedding(vocab_size, word_vector_dim, input_shape=(None,)))\n",
    "model3.add(tf.keras.layers.Conv1D(16, 7, activation='relu'))\n",
    "model3.add(tf.keras.layers.MaxPooling1D(5))\n",
    "model3.add(tf.keras.layers.LSTM(8))   # 가장 널리 쓰이는 RNN인 LSTM 레이어를 사용하였습니다. 이때 LSTM state 벡터의 차원수는 8로 하였습니다. (변경 가능)\n",
    "model3.add(tf.keras.layers.Dense(8, activation='relu'))\n",
    "model3.add(tf.keras.layers.Dense(1, activation='sigmoid'))  # 최종 출력은 긍정/부정을 나타내는 1dim 입니다.\n",
    "\n",
    "model3.summary()"
   ]
  },
  {
   "cell_type": "markdown",
   "id": "26c2a713",
   "metadata": {},
   "source": [
    "validation set 구성"
   ]
  },
  {
   "cell_type": "code",
   "execution_count": 20,
   "id": "3069cfce",
   "metadata": {},
   "outputs": [],
   "source": [
    "from sklearn.model_selection import train_test_split\n",
    "\n",
    "x_train, x_val, y_train, y_val = train_test_split(x_train, y_train, test_size=0.2, random_state=42)"
   ]
  },
  {
   "cell_type": "markdown",
   "id": "c4fade5e",
   "metadata": {},
   "source": [
    "# 5.모델 훈련 개시 / 6.Loss, Accuracy 그래프 시각화"
   ]
  },
  {
   "cell_type": "code",
   "execution_count": 21,
   "id": "577b1e42",
   "metadata": {},
   "outputs": [
    {
     "name": "stdout",
     "output_type": "stream",
     "text": [
      "Epoch 1/20\n",
      "229/229 [==============================] - 6s 10ms/step - loss: 0.5504 - accuracy: 0.7537 - val_loss: 0.4126 - val_accuracy: 0.8351\n",
      "Epoch 2/20\n",
      "229/229 [==============================] - 2s 8ms/step - loss: 0.3555 - accuracy: 0.8533 - val_loss: 0.3531 - val_accuracy: 0.8493\n",
      "Epoch 3/20\n",
      "229/229 [==============================] - 2s 8ms/step - loss: 0.3178 - accuracy: 0.8684 - val_loss: 0.3503 - val_accuracy: 0.8496\n",
      "Epoch 4/20\n",
      "229/229 [==============================] - 2s 8ms/step - loss: 0.3036 - accuracy: 0.8745 - val_loss: 0.3501 - val_accuracy: 0.8488\n",
      "Epoch 5/20\n",
      "229/229 [==============================] - 2s 8ms/step - loss: 0.2939 - accuracy: 0.8782 - val_loss: 0.3512 - val_accuracy: 0.8483\n",
      "Epoch 6/20\n",
      "229/229 [==============================] - 2s 8ms/step - loss: 0.2905 - accuracy: 0.8801 - val_loss: 0.3539 - val_accuracy: 0.8489\n",
      "Epoch 00006: early stopping\n",
      "1537/1537 - 4s - loss: 0.3557 - accuracy: 0.8472\n"
     ]
    },
    {
     "data": {
      "image/png": "[encoded data removed]",
      "text/plain": [
       "<Figure size 432x288 with 1 Axes>"
      ]
     },
     "metadata": {
      "needs_background": "light"
     },
     "output_type": "display_data"
    }
   ],
   "source": [
    "import keras\n",
    "\n",
    "callbacks=[\n",
    "    keras.callbacks.ModelCheckpoint(\"model1.keras\",\n",
    "                                   save_best_only=True),\n",
    "    keras.callbacks.EarlyStopping(monitor='val_loss',\n",
    "                                  patience=2,\n",
    "                                  verbose=1)\n",
    "]\n",
    "\n",
    "model1.compile(optimizer='adam',\n",
    "              loss='binary_crossentropy',\n",
    "              metrics=['accuracy'])\n",
    "              \n",
    "epochs=20  # 몇 epoch를 훈련하면 좋을지 결과를 보면서 바꾸어 봅시다. \n",
    "\n",
    "history = model1.fit(x_train,\n",
    "                    y_train,\n",
    "                    epochs=epochs,\n",
    "                    batch_size=512,\n",
    "                    validation_data=(x_val, y_val),\n",
    "                    verbose=1,\n",
    "                    callbacks=callbacks)\n",
    "results = model1.evaluate(x_test,  y_test, verbose=2)\n",
    "\n",
    "import matplotlib.pyplot as plt\n",
    "\n",
    "history_dict = history.history\n",
    "acc = history_dict['accuracy']\n",
    "val_acc = history_dict['val_accuracy']\n",
    "loss = history_dict['loss']\n",
    "val_loss = history_dict['val_loss']\n",
    "\n",
    "epochs = range(1, len(acc) + 1)\n",
    "\n",
    "# \"bo\"는 \"파란색 점\"입니다\n",
    "plt.plot(epochs, loss, 'bo', label='Training loss')\n",
    "# b는 \"파란 실선\"입니다\n",
    "plt.plot(epochs, val_loss, 'b', label='Validation loss')\n",
    "plt.title('Training and validation loss')\n",
    "plt.xlabel('Epochs')\n",
    "plt.ylabel('Loss')\n",
    "plt.legend()\n",
    "\n",
    "plt.show()"
   ]
  },
  {
   "cell_type": "code",
   "execution_count": 22,
   "id": "7bf152f8",
   "metadata": {},
   "outputs": [
    {
     "name": "stdout",
     "output_type": "stream",
     "text": [
      "Epoch 1/20\n",
      "229/229 [==============================] - 4s 8ms/step - loss: 0.5800 - accuracy: 0.6754 - val_loss: 0.4756 - val_accuracy: 0.7607\n",
      "Epoch 2/20\n",
      "229/229 [==============================] - 1s 7ms/step - loss: 0.4373 - accuracy: 0.7841 - val_loss: 0.4566 - val_accuracy: 0.7689\n",
      "Epoch 3/20\n",
      "229/229 [==============================] - 1s 6ms/step - loss: 0.4039 - accuracy: 0.8038 - val_loss: 0.4569 - val_accuracy: 0.7696\n",
      "Epoch 4/20\n",
      "229/229 [==============================] - 2s 7ms/step - loss: 0.3776 - accuracy: 0.8169 - val_loss: 0.4640 - val_accuracy: 0.7695\n",
      "Epoch 00004: early stopping\n",
      "1537/1537 - 3s - loss: 0.4668 - accuracy: 0.7702\n"
     ]
    },
    {
     "data": {
      "image/png": "[encoded data removed]",
      "text/plain": [
       "<Figure size 432x288 with 1 Axes>"
      ]
     },
     "metadata": {
      "needs_background": "light"
     },
     "output_type": "display_data"
    }
   ],
   "source": [
    "callbacks=[\n",
    "    keras.callbacks.ModelCheckpoint(\"model1.keras\",\n",
    "                                   save_best_only=True),\n",
    "    keras.callbacks.EarlyStopping(monitor='val_loss',\n",
    "                                  patience=2,\n",
    "                                  verbose=1)\n",
    "]\n",
    "\n",
    "model2.compile(optimizer='adam',\n",
    "              loss='binary_crossentropy',\n",
    "              metrics=['accuracy'])\n",
    "              \n",
    "epochs=20  # 몇 epoch를 훈련하면 좋을지 결과를 보면서 바꾸어 봅시다. \n",
    "\n",
    "history = model2.fit(x_train,\n",
    "                    y_train,\n",
    "                    epochs=epochs,\n",
    "                    batch_size=512,\n",
    "                    validation_data=(x_val, y_val),\n",
    "                    verbose=1,\n",
    "                    callbacks=callbacks)\n",
    "results = model2.evaluate(x_test,  y_test, verbose=2)\n",
    "\n",
    "import matplotlib.pyplot as plt\n",
    "\n",
    "history_dict = history.history\n",
    "acc = history_dict['accuracy']\n",
    "val_acc = history_dict['val_accuracy']\n",
    "loss = history_dict['loss']\n",
    "val_loss = history_dict['val_loss']\n",
    "\n",
    "epochs = range(1, len(acc) + 1)\n",
    "\n",
    "# \"bo\"는 \"파란색 점\"입니다\n",
    "plt.plot(epochs, loss, 'bo', label='Training loss')\n",
    "# b는 \"파란 실선\"입니다\n",
    "plt.plot(epochs, val_loss, 'b', label='Validation loss')\n",
    "plt.title('Training and validation loss')\n",
    "plt.xlabel('Epochs')\n",
    "plt.ylabel('Loss')\n",
    "plt.legend()\n",
    "\n",
    "plt.show()"
   ]
  },
  {
   "cell_type": "code",
   "execution_count": 23,
   "id": "be023bd0",
   "metadata": {},
   "outputs": [
    {
     "name": "stdout",
     "output_type": "stream",
     "text": [
      "Epoch 1/20\n",
      "229/229 [==============================] - 4s 9ms/step - loss: 0.5886 - accuracy: 0.6745 - val_loss: 0.4901 - val_accuracy: 0.7522\n",
      "Epoch 2/20\n",
      "229/229 [==============================] - 2s 7ms/step - loss: 0.4488 - accuracy: 0.7806 - val_loss: 0.4604 - val_accuracy: 0.7683\n",
      "Epoch 3/20\n",
      "229/229 [==============================] - 2s 7ms/step - loss: 0.4139 - accuracy: 0.8017 - val_loss: 0.4576 - val_accuracy: 0.7702\n",
      "Epoch 4/20\n",
      "229/229 [==============================] - 2s 7ms/step - loss: 0.3885 - accuracy: 0.8145 - val_loss: 0.4686 - val_accuracy: 0.7672\n",
      "Epoch 5/20\n",
      "229/229 [==============================] - 2s 7ms/step - loss: 0.3605 - accuracy: 0.8300 - val_loss: 0.4783 - val_accuracy: 0.7655\n",
      "Epoch 00005: early stopping\n",
      "1537/1537 - 3s - loss: 0.4851 - accuracy: 0.7629\n"
     ]
    },
    {
     "data": {
      "image/png": "[encoded data removed]",
      "text/plain": [
       "<Figure size 432x288 with 1 Axes>"
      ]
     },
     "metadata": {
      "needs_background": "light"
     },
     "output_type": "display_data"
    }
   ],
   "source": [
    "callbacks=[\n",
    "    keras.callbacks.ModelCheckpoint(\"model1.keras\",\n",
    "                                   save_best_only=True),\n",
    "    keras.callbacks.EarlyStopping(monitor='val_loss',\n",
    "                                  patience=2,\n",
    "                                  verbose=1)\n",
    "]\n",
    "\n",
    "model3.compile(optimizer='adam',\n",
    "              loss='binary_crossentropy',\n",
    "              metrics=['accuracy'])\n",
    "              \n",
    "epochs=20  # 몇 epoch를 훈련하면 좋을지 결과를 보면서 바꾸어 봅시다. \n",
    "\n",
    "history = model3.fit(x_train,\n",
    "                    y_train,\n",
    "                    epochs=epochs,\n",
    "                    batch_size=512,\n",
    "                    validation_data=(x_val, y_val),\n",
    "                    verbose=1,\n",
    "                    callbacks=callbacks)\n",
    "results = model3.evaluate(x_test,  y_test, verbose=2)\n",
    "\n",
    "import matplotlib.pyplot as plt\n",
    "\n",
    "history_dict = history.history\n",
    "acc = history_dict['accuracy']\n",
    "val_acc = history_dict['val_accuracy']\n",
    "loss = history_dict['loss']\n",
    "val_loss = history_dict['val_loss']\n",
    "\n",
    "epochs = range(1, len(acc) + 1)\n",
    "\n",
    "# \"bo\"는 \"파란색 점\"입니다\n",
    "plt.plot(epochs, loss, 'bo', label='Training loss')\n",
    "# b는 \"파란 실선\"입니다\n",
    "plt.plot(epochs, val_loss, 'b', label='Validation loss')\n",
    "plt.title('Training and validation loss')\n",
    "plt.xlabel('Epochs')\n",
    "plt.ylabel('Loss')\n",
    "plt.legend()\n",
    "\n",
    "plt.show()"
   ]
  },
  {
   "cell_type": "markdown",
   "id": "42b3c91c",
   "metadata": {},
   "source": [
    "# 7.학습된 Embedding 레이어 분석"
   ]
  },
  {
   "cell_type": "markdown",
   "id": "27ae48f9",
   "metadata": {},
   "source": [
    "Embedding 레이어에서 가중치 추출해 t-sne을 사용한 시각화"
   ]
  },
  {
   "cell_type": "code",
   "execution_count": 24,
   "id": "19af029b",
   "metadata": {},
   "outputs": [
    {
     "data": {
      "text/plain": [
       "\"\\nimport numpy as np\\nimport matplotlib.pyplot as plt\\nfrom sklearn.manifold import TSNE\\n\\n%matplotlib inline\\n\\n# Embedding 레이어에서 가중치 추출\\nembedding_weights = model1.layers[0].get_weights()[0]\\n\\n# 단어와 인덱스를 매핑하는 딕셔너리\\nindex_to_word = {index: word for word, index in word_to_index.items()}\\n\\n# t-SNE를 사용하여 차원 축소\\ntsne = TSNE(n_components=2, random_state=42)\\nreduced_embeddings = tsne.fit_transform(embedding_weights)\\n\\n# 시각화\\nplt.figure(figsize=(12, 12))\\nfor index, word in index_to_word.items():\\n    if index >= len(reduced_embeddings):\\n        continue\\n    plt.scatter(reduced_embeddings[index, 0], reduced_embeddings[index, 1])\\n    plt.text(reduced_embeddings[index, 0], reduced_embeddings[index, 1], word, fontsize=9)\\n\\nplt.xlabel('Dimension 1')\\nplt.ylabel('Dimension 2')\\nplt.title('t-SNE visualization of Embeddings')\\nplt.show()\\n\""
      ]
     },
     "execution_count": 24,
     "metadata": {},
     "output_type": "execute_result"
    }
   ],
   "source": [
    "'''\n",
    "import numpy as np\n",
    "import matplotlib.pyplot as plt\n",
    "from sklearn.manifold import TSNE\n",
    "\n",
    "%matplotlib inline\n",
    "\n",
    "# Embedding 레이어에서 가중치 추출\n",
    "embedding_weights = model1.layers[0].get_weights()[0]\n",
    "\n",
    "# 단어와 인덱스를 매핑하는 딕셔너리\n",
    "index_to_word = {index: word for word, index in word_to_index.items()}\n",
    "\n",
    "# t-SNE를 사용하여 차원 축소\n",
    "tsne = TSNE(n_components=2, random_state=42)\n",
    "reduced_embeddings = tsne.fit_transform(embedding_weights)\n",
    "\n",
    "# 시각화\n",
    "plt.figure(figsize=(12, 12))\n",
    "for index, word in index_to_word.items():\n",
    "    if index >= len(reduced_embeddings):\n",
    "        continue\n",
    "    plt.scatter(reduced_embeddings[index, 0], reduced_embeddings[index, 1])\n",
    "    plt.text(reduced_embeddings[index, 0], reduced_embeddings[index, 1], word, fontsize=9)\n",
    "\n",
    "plt.xlabel('Dimension 1')\n",
    "plt.ylabel('Dimension 2')\n",
    "plt.title('t-SNE visualization of Embeddings')\n",
    "plt.show()\n",
    "'''"
   ]
  },
  {
   "cell_type": "code",
   "execution_count": 25,
   "id": "39e23b1c",
   "metadata": {},
   "outputs": [
    {
     "data": {
      "text/plain": [
       "\"\\nimport numpy as np\\nimport matplotlib.pyplot as plt\\nfrom sklearn.manifold import TSNE\\n\\n%matplotlib inline\\n\\n# Embedding 레이어에서 가중치 추출\\nembedding_weights = model2.layers[0].get_weights()[0]\\n\\n# 단어와 인덱스를 매핑하는 딕셔너리\\nindex_to_word = {index: word for word, index in word_to_index.items()}\\n\\n# t-SNE를 사용하여 차원 축소\\ntsne = TSNE(n_components=2, random_state=42)\\nreduced_embeddings = tsne.fit_transform(embedding_weights)\\n\\n# 시각화\\nplt.figure(figsize=(12, 12))\\nfor index, word in index_to_word.items():\\n    if index >= len(reduced_embeddings):\\n        continue\\n    plt.scatter(reduced_embeddings[index, 0], reduced_embeddings[index, 1])\\n    plt.text(reduced_embeddings[index, 0], reduced_embeddings[index, 1], word, fontsize=9)\\n\\nplt.xlabel('Dimension 1')\\nplt.ylabel('Dimension 2')\\nplt.title('t-SNE visualization of Embeddings')\\nplt.show()\\n\""
      ]
     },
     "execution_count": 25,
     "metadata": {},
     "output_type": "execute_result"
    }
   ],
   "source": [
    "'''\n",
    "import numpy as np\n",
    "import matplotlib.pyplot as plt\n",
    "from sklearn.manifold import TSNE\n",
    "\n",
    "%matplotlib inline\n",
    "\n",
    "# Embedding 레이어에서 가중치 추출\n",
    "embedding_weights = model2.layers[0].get_weights()[0]\n",
    "\n",
    "# 단어와 인덱스를 매핑하는 딕셔너리\n",
    "index_to_word = {index: word for word, index in word_to_index.items()}\n",
    "\n",
    "# t-SNE를 사용하여 차원 축소\n",
    "tsne = TSNE(n_components=2, random_state=42)\n",
    "reduced_embeddings = tsne.fit_transform(embedding_weights)\n",
    "\n",
    "# 시각화\n",
    "plt.figure(figsize=(12, 12))\n",
    "for index, word in index_to_word.items():\n",
    "    if index >= len(reduced_embeddings):\n",
    "        continue\n",
    "    plt.scatter(reduced_embeddings[index, 0], reduced_embeddings[index, 1])\n",
    "    plt.text(reduced_embeddings[index, 0], reduced_embeddings[index, 1], word, fontsize=9)\n",
    "\n",
    "plt.xlabel('Dimension 1')\n",
    "plt.ylabel('Dimension 2')\n",
    "plt.title('t-SNE visualization of Embeddings')\n",
    "plt.show()\n",
    "'''"
   ]
  },
  {
   "cell_type": "code",
   "execution_count": 26,
   "id": "a41c40d2",
   "metadata": {
    "scrolled": true
   },
   "outputs": [
    {
     "data": {
      "text/plain": [
       "\"\\nimport numpy as np\\nimport matplotlib.pyplot as plt\\nfrom sklearn.manifold import TSNE\\n\\n%matplotlib inline\\n\\n# Embedding 레이어에서 가중치 추출\\nembedding_weights = model3.layers[0].get_weights()[0]\\n\\n# 단어와 인덱스를 매핑하는 딕셔너리\\nindex_to_word = {index: word for word, index in word_to_index.items()}\\n\\n# t-SNE를 사용하여 차원 축소\\ntsne = TSNE(n_components=2, random_state=42)\\nreduced_embeddings = tsne.fit_transform(embedding_weights)\\n\\n# 시각화\\nplt.figure(figsize=(12, 12))\\nfor index, word in index_to_word.items():\\n    if index >= len(reduced_embeddings):\\n        continue\\n    plt.scatter(reduced_embeddings[index, 0], reduced_embeddings[index, 1])\\n    plt.text(reduced_embeddings[index, 0], reduced_embeddings[index, 1], word, fontsize=9)\\n\\nplt.xlabel('Dimension 1')\\nplt.ylabel('Dimension 2')\\nplt.title('t-SNE visualization of Embeddings')\\nplt.show()\\n\""
      ]
     },
     "execution_count": 26,
     "metadata": {},
     "output_type": "execute_result"
    }
   ],
   "source": [
    "'''\n",
    "import numpy as np\n",
    "import matplotlib.pyplot as plt\n",
    "from sklearn.manifold import TSNE\n",
    "\n",
    "%matplotlib inline\n",
    "\n",
    "# Embedding 레이어에서 가중치 추출\n",
    "embedding_weights = model3.layers[0].get_weights()[0]\n",
    "\n",
    "# 단어와 인덱스를 매핑하는 딕셔너리\n",
    "index_to_word = {index: word for word, index in word_to_index.items()}\n",
    "\n",
    "# t-SNE를 사용하여 차원 축소\n",
    "tsne = TSNE(n_components=2, random_state=42)\n",
    "reduced_embeddings = tsne.fit_transform(embedding_weights)\n",
    "\n",
    "# 시각화\n",
    "plt.figure(figsize=(12, 12))\n",
    "for index, word in index_to_word.items():\n",
    "    if index >= len(reduced_embeddings):\n",
    "        continue\n",
    "    plt.scatter(reduced_embeddings[index, 0], reduced_embeddings[index, 1])\n",
    "    plt.text(reduced_embeddings[index, 0], reduced_embeddings[index, 1], word, fontsize=9)\n",
    "\n",
    "plt.xlabel('Dimension 1')\n",
    "plt.ylabel('Dimension 2')\n",
    "plt.title('t-SNE visualization of Embeddings')\n",
    "plt.show()\n",
    "'''"
   ]
  },
  {
   "cell_type": "markdown",
   "id": "81167c13",
   "metadata": {},
   "source": [
    "gensim을 활용해 자체학습된 임베딩 레이어 분석"
   ]
  },
  {
   "cell_type": "code",
   "execution_count": 27,
   "id": "c8173814",
   "metadata": {},
   "outputs": [
    {
     "data": {
      "text/plain": [
       "[('오묘', 0.9793975949287415),\n",
       " ('장혁', 0.9776970744132996),\n",
       " ('공연', 0.9752406477928162),\n",
       " ('Good', 0.9739882349967957),\n",
       " ('잼따', 0.9738390445709229),\n",
       " ('들어도', 0.972054123878479),\n",
       " ('엄청나', 0.9708358645439148),\n",
       " ('love', 0.9702436923980713),\n",
       " ('열린', 0.969426155090332),\n",
       " ('그대', 0.966931164264679)]"
      ]
     },
     "execution_count": 27,
     "metadata": {},
     "output_type": "execute_result"
    }
   ],
   "source": [
    "from gensim.models.keyedvectors import Word2VecKeyedVectors\n",
    "\n",
    "embedding_layer = model1.layers[0]\n",
    "weights = embedding_layer.get_weights()[0]\n",
    "\n",
    "# 학습한 Embedding 파라미터를 파일에 써서 저장합니다. \n",
    "word2vec_file_path = os.getenv('HOME')+'/aiffel/aiffel/AIFFEL_quest_rs/Exploration/Ex05/word2vec1.txt'\n",
    "f = open(word2vec_file_path, 'w')\n",
    "f.write('{} {}\\n'.format(vocab_size-4, word_vector_dim))  # 몇개의 벡터를 얼마 사이즈로 기재할지 타이틀을 씁니다.\n",
    "\n",
    "# 단어 개수(에서 특수문자 4개는 제외하고)만큼의 워드 벡터를 파일에 기록합니다. \n",
    "vectors = model1.get_weights()[0]\n",
    "for i in range(4,vocab_size):\n",
    "    f.write('{} {}\\n'.format(index_to_word[i], ' '.join(map(str, list(vectors[i, :])))))\n",
    "f.close()\n",
    "\n",
    "word_vectors1 = Word2VecKeyedVectors.load_word2vec_format(word2vec_file_path, binary=False)\n",
    "\n",
    "word_vectors1.similar_by_word(\"사랑\")"
   ]
  },
  {
   "cell_type": "code",
   "execution_count": 28,
   "id": "80937404",
   "metadata": {},
   "outputs": [
    {
     "data": {
      "text/plain": [
       "[('도박', 0.9540598392486572),\n",
       " ('짙', 0.924099862575531),\n",
       " ('알맞', 0.9220335483551025),\n",
       " ('음악', 0.9195846915245056),\n",
       " ('몰입', 0.9192200899124146),\n",
       " ('무척', 0.915824294090271),\n",
       " ('보람', 0.9118862152099609),\n",
       " ('김남길', 0.9074744582176208),\n",
       " ('bbbb', 0.906970202922821),\n",
       " ('바람직', 0.9026119112968445)]"
      ]
     },
     "execution_count": 28,
     "metadata": {},
     "output_type": "execute_result"
    }
   ],
   "source": [
    "embedding_layer = model2.layers[0]\n",
    "weights = embedding_layer.get_weights()[0]\n",
    "\n",
    "# 학습한 Embedding 파라미터를 파일에 써서 저장합니다. \n",
    "word2vec_file_path = os.getenv('HOME')+'/aiffel/aiffel/AIFFEL_quest_rs/Exploration/Ex05/word2vec2.txt'\n",
    "f = open(word2vec_file_path, 'w')\n",
    "f.write('{} {}\\n'.format(vocab_size-4, word_vector_dim))  # 몇개의 벡터를 얼마 사이즈로 기재할지 타이틀을 씁니다.\n",
    "\n",
    "# 단어 개수(에서 특수문자 4개는 제외하고)만큼의 워드 벡터를 파일에 기록합니다. \n",
    "vectors = model2.get_weights()[0]\n",
    "for i in range(4,vocab_size):\n",
    "    f.write('{} {}\\n'.format(index_to_word[i], ' '.join(map(str, list(vectors[i, :])))))\n",
    "f.close()\n",
    "\n",
    "word_vectors2 = Word2VecKeyedVectors.load_word2vec_format(word2vec_file_path, binary=False)\n",
    "\n",
    "word_vectors2.similar_by_word(\"사랑\")"
   ]
  },
  {
   "cell_type": "code",
   "execution_count": 29,
   "id": "c36e9426",
   "metadata": {},
   "outputs": [
    {
     "data": {
      "text/plain": [
       "[('리들리스콧', 0.9339684844017029),\n",
       " ('아름답', 0.9270418882369995),\n",
       " ('쌀', 0.926131010055542),\n",
       " ('낸', 0.9184611439704895),\n",
       " ('ㅎㅎ', 0.9181113839149475),\n",
       " ('일어났', 0.916582465171814),\n",
       " ('쏠쏠', 0.9081268310546875),\n",
       " ('레전드', 0.9025816321372986),\n",
       " ('금물', 0.8965854644775391),\n",
       " ('놓치', 0.895613431930542)]"
      ]
     },
     "execution_count": 29,
     "metadata": {},
     "output_type": "execute_result"
    }
   ],
   "source": [
    "embedding_layer = model3.layers[0]\n",
    "weights = embedding_layer.get_weights()[0]\n",
    "\n",
    "# 학습한 Embedding 파라미터를 파일에 써서 저장합니다. \n",
    "word2vec_file_path = os.getenv('HOME')+'/aiffel/aiffel/AIFFEL_quest_rs/Exploration/Ex05/word2vec3.txt'\n",
    "f = open(word2vec_file_path, 'w')\n",
    "f.write('{} {}\\n'.format(vocab_size-4, word_vector_dim))  # 몇개의 벡터를 얼마 사이즈로 기재할지 타이틀을 씁니다.\n",
    "\n",
    "# 단어 개수(에서 특수문자 4개는 제외하고)만큼의 워드 벡터를 파일에 기록합니다. \n",
    "vectors = model3.get_weights()[0]\n",
    "for i in range(4,vocab_size):\n",
    "    f.write('{} {}\\n'.format(index_to_word[i], ' '.join(map(str, list(vectors[i, :])))))\n",
    "f.close()\n",
    "\n",
    "word_vectors3 = Word2VecKeyedVectors.load_word2vec_format(word2vec_file_path, binary=False)\n",
    "\n",
    "word_vectors3.similar_by_word(\"사랑\")"
   ]
  },
  {
   "cell_type": "markdown",
   "id": "6babf7a1",
   "metadata": {},
   "source": [
    "모델 3개다 사랑이랑 거리가 먼 단어를 유사 단어로 찾아 주었다.\n",
    "\n",
    "성능은 별로인 듯 하다."
   ]
  },
  {
   "cell_type": "markdown",
   "id": "ad505129",
   "metadata": {},
   "source": [
    "# 8.한국어 Word2Vec 임베딩 활용하여 성능 개선"
   ]
  },
  {
   "cell_type": "code",
   "execution_count": 30,
   "id": "3f91772b",
   "metadata": {},
   "outputs": [],
   "source": [
    "import os\n",
    "from gensim.models.keyedvectors import Word2VecKeyedVectors\n",
    "\n",
    "# 경로를 절대 경로로 변환\n",
    "word2vec_file_path = os.path.expanduser('~/data/word2vec_ko.model')\n",
    "\n",
    "# 모델 로드\n",
    "word2vec = Word2VecKeyedVectors.load(word2vec_file_path)"
   ]
  },
  {
   "cell_type": "code",
   "execution_count": 31,
   "id": "114544a6",
   "metadata": {},
   "outputs": [
    {
     "name": "stdout",
     "output_type": "stream",
     "text": [
      "100\n"
     ]
    }
   ],
   "source": [
    "vector_dim = word2vec.wv.vector_size\n",
    "print(vector_dim)"
   ]
  },
  {
   "cell_type": "code",
   "execution_count": 32,
   "id": "a415cf52",
   "metadata": {},
   "outputs": [],
   "source": [
    "import numpy as np\n",
    "\n",
    "# 예시 변수들\n",
    "vocab_size = 10000  # 단어 집합 크기\n",
    "word_vector_dim = 100  # 워드 벡터 차원\n",
    "\n",
    "# 무작위로 초기화된 embedding_matrix\n",
    "embedding_matrix = np.random.rand(vocab_size, word_vector_dim)\n",
    "\n",
    "# index_to_word와 word_vectors.wv를 사용해 embedding_matrix를 채우는 코드\n",
    "for i in range(4, vocab_size):\n",
    "    word = index_to_word[i]\n",
    "    if word in word2vec.wv:\n",
    "        embedding_matrix[i] = word2vec.wv[word]"
   ]
  },
  {
   "cell_type": "markdown",
   "id": "3daa81df",
   "metadata": {},
   "source": [
    "모델1을 이용해 한국어 Word2Vec 임베딩을 사용한 재학습"
   ]
  },
  {
   "cell_type": "code",
   "execution_count": 33,
   "id": "f8ea4654",
   "metadata": {},
   "outputs": [
    {
     "name": "stdout",
     "output_type": "stream",
     "text": [
      "Epoch 1/20\n",
      "229/229 [==============================] - 4s 11ms/step - loss: 0.4905 - accuracy: 0.7824 - val_loss: 0.3686 - val_accuracy: 0.8448\n",
      "Epoch 2/20\n",
      "229/229 [==============================] - 2s 9ms/step - loss: 0.3318 - accuracy: 0.8620 - val_loss: 0.3480 - val_accuracy: 0.8488\n",
      "Epoch 3/20\n",
      "229/229 [==============================] - 2s 9ms/step - loss: 0.3013 - accuracy: 0.8740 - val_loss: 0.3432 - val_accuracy: 0.8508\n",
      "Epoch 4/20\n",
      "229/229 [==============================] - 2s 9ms/step - loss: 0.2810 - accuracy: 0.8831 - val_loss: 0.3477 - val_accuracy: 0.8517\n",
      "Epoch 5/20\n",
      "229/229 [==============================] - 2s 9ms/step - loss: 0.2626 - accuracy: 0.8908 - val_loss: 0.3500 - val_accuracy: 0.8534\n",
      "Epoch 00005: early stopping\n",
      "1537/1537 - 4s - loss: 0.3551 - accuracy: 0.8482\n"
     ]
    },
    {
     "data": {
      "image/png": "[encoded data removed]",
      "text/plain": [
       "<Figure size 432x288 with 1 Axes>"
      ]
     },
     "metadata": {
      "needs_background": "light"
     },
     "output_type": "display_data"
    }
   ],
   "source": [
    "model4 = tf.keras.Sequential()\n",
    "model4.add(tf.keras.layers.Embedding(vocab_size, word_vector_dim, input_shape=(None,)))\n",
    "model4.add(tf.keras.layers.LSTM(8))   # 가장 널리 쓰이는 RNN인 LSTM 레이어를 사용하였습니다. 이때 LSTM state 벡터의 차원수는 8로 하였습니다. (변경 가능)\n",
    "model4.add(tf.keras.layers.Dense(8, activation='relu'))\n",
    "model4.add(tf.keras.layers.Dense(1, activation='sigmoid'))  # 최종 출력은 긍정/부정을 나타내는 1dim 입니다.\n",
    "\n",
    "callbacks=[\n",
    "    keras.callbacks.ModelCheckpoint(\"model1.keras\",\n",
    "                                   save_best_only=True),\n",
    "    keras.callbacks.EarlyStopping(monitor='val_loss',\n",
    "                                  patience=2,\n",
    "                                  verbose=1)\n",
    "]\n",
    "\n",
    "model4.compile(optimizer='adam',\n",
    "              loss='binary_crossentropy',\n",
    "              metrics=['accuracy'])\n",
    "              \n",
    "epochs=20  # 몇 epoch를 훈련하면 좋을지 결과를 보면서 바꾸어 봅시다. \n",
    "\n",
    "history = model4.fit(x_train,\n",
    "                    y_train,\n",
    "                    epochs=epochs,\n",
    "                    batch_size=512,\n",
    "                    validation_data=(x_val, y_val),\n",
    "                    verbose=1,\n",
    "                    callbacks=callbacks)\n",
    "results = model4.evaluate(x_test,  y_test, verbose=2)\n",
    "\n",
    "import matplotlib.pyplot as plt\n",
    "\n",
    "history_dict = history.history\n",
    "acc = history_dict['accuracy']\n",
    "val_acc = history_dict['val_accuracy']\n",
    "loss = history_dict['loss']\n",
    "val_loss = history_dict['val_loss']\n",
    "\n",
    "epochs = range(1, len(acc) + 1)\n",
    "\n",
    "# \"bo\"는 \"파란색 점\"입니다\n",
    "plt.plot(epochs, loss, 'bo', label='Training loss')\n",
    "# b는 \"파란 실선\"입니다\n",
    "plt.plot(epochs, val_loss, 'b', label='Validation loss')\n",
    "plt.title('Training and validation loss')\n",
    "plt.xlabel('Epochs')\n",
    "plt.ylabel('Loss')\n",
    "plt.legend()\n",
    "\n",
    "plt.show()"
   ]
  },
  {
   "cell_type": "code",
   "execution_count": 34,
   "id": "180e993f",
   "metadata": {},
   "outputs": [
    {
     "data": {
      "text/plain": [
       "[('멋지', 0.8865188956260681),\n",
       " ('표현', 0.874286413192749),\n",
       " ('입감', 0.8696072101593018),\n",
       " ('천재', 0.869078516960144),\n",
       " ('소장', 0.8644410371780396),\n",
       " ('훌륭', 0.8621915578842163),\n",
       " ('보석', 0.8575947880744934),\n",
       " ('참신', 0.8571383953094482),\n",
       " ('꽉', 0.856636106967926),\n",
       " ('열린', 0.8555484414100647)]"
      ]
     },
     "execution_count": 34,
     "metadata": {},
     "output_type": "execute_result"
    }
   ],
   "source": [
    "embedding_layer = model4.layers[0]\n",
    "weights = embedding_layer.get_weights()[0]\n",
    "\n",
    "# 학습한 Embedding 파라미터를 파일에 써서 저장합니다. \n",
    "word2vec_file_path = os.getenv('HOME')+'/aiffel/aiffel/AIFFEL_quest_rs/Exploration/Ex05/word2vec4.txt'\n",
    "f = open(word2vec_file_path, 'w')\n",
    "f.write('{} {}\\n'.format(vocab_size-4, word_vector_dim))  # 몇개의 벡터를 얼마 사이즈로 기재할지 타이틀을 씁니다.\n",
    "\n",
    "# 단어 개수(에서 특수문자 4개는 제외하고)만큼의 워드 벡터를 파일에 기록합니다. \n",
    "vectors = model4.get_weights()[0]\n",
    "for i in range(4,vocab_size):\n",
    "    f.write('{} {}\\n'.format(index_to_word[i], ' '.join(map(str, list(vectors[i, :])))))\n",
    "f.close()\n",
    "\n",
    "word_vectors4 = Word2VecKeyedVectors.load_word2vec_format(word2vec_file_path, binary=False)\n",
    "\n",
    "word_vectors4.similar_by_word(\"사랑\")"
   ]
  },
  {
   "cell_type": "markdown",
   "id": "b73d86ed",
   "metadata": {},
   "source": [
    "모델를 재구성해 한국어 Word2Vec 임베딩을 사용한 학습"
   ]
  },
  {
   "cell_type": "code",
   "execution_count": 35,
   "id": "5bf9936c",
   "metadata": {},
   "outputs": [
    {
     "name": "stdout",
     "output_type": "stream",
     "text": [
      "WARNING:tensorflow:Layer gru will not use cuDNN kernels since it doesn't meet the criteria. It will use a generic GPU kernel as fallback when running on GPU.\n",
      "WARNING:tensorflow:Layer gru_1 will not use cuDNN kernels since it doesn't meet the criteria. It will use a generic GPU kernel as fallback when running on GPU.\n",
      "Epoch 1/20\n",
      "229/229 [==============================] - 158s 677ms/step - loss: 0.4669 - accuracy: 0.7875 - val_loss: 0.3625 - val_accuracy: 0.8423\n",
      "Epoch 2/20\n",
      "229/229 [==============================] - 155s 676ms/step - loss: 0.3488 - accuracy: 0.8571 - val_loss: 0.3485 - val_accuracy: 0.8489\n",
      "Epoch 3/20\n",
      "229/229 [==============================] - 155s 677ms/step - loss: 0.3202 - accuracy: 0.8704 - val_loss: 0.3460 - val_accuracy: 0.8512\n",
      "Epoch 4/20\n",
      "229/229 [==============================] - 155s 676ms/step - loss: 0.2985 - accuracy: 0.8815 - val_loss: 0.3429 - val_accuracy: 0.8542\n",
      "Epoch 5/20\n",
      "229/229 [==============================] - 155s 676ms/step - loss: 0.2790 - accuracy: 0.8897 - val_loss: 0.3420 - val_accuracy: 0.8558\n",
      "Epoch 6/20\n",
      "229/229 [==============================] - 155s 676ms/step - loss: 0.2607 - accuracy: 0.8982 - val_loss: 0.3488 - val_accuracy: 0.8558\n",
      "Epoch 7/20\n",
      "229/229 [==============================] - 155s 676ms/step - loss: 0.2447 - accuracy: 0.9050 - val_loss: 0.3538 - val_accuracy: 0.8553\n",
      "Epoch 00007: early stopping\n",
      "1537/1537 - 89s - loss: 0.3531 - accuracy: 0.8533\n"
     ]
    },
    {
     "data": {
      "image/png": "[encoded data removed]",
      "text/plain": [
       "<Figure size 432x288 with 1 Axes>"
      ]
     },
     "metadata": {
      "needs_background": "light"
     },
     "output_type": "display_data"
    }
   ],
   "source": [
    "# 모델 구성\n",
    "model = tf.keras.Sequential()\n",
    "model.add(tf.keras.layers.Embedding(vocab_size, word_vector_dim, input_shape=(None,)))\n",
    "model.add(tf.keras.layers.GRU(16, recurrent_dropout=0.5, return_sequences=True))\n",
    "model.add(tf.keras.layers.GRU(16, recurrent_dropout=0.5))\n",
    "model.add(tf.keras.layers.Dropout(0.5))\n",
    "model.add(tf.keras.layers.Dense(8, activation='relu'))\n",
    "model.add(tf.keras.layers.Dense(1, activation='sigmoid'))  # 최종 출력은 긍정/부정을 나타내는 1dim 입니다.\n",
    "\n",
    "callbacks=[\n",
    "    keras.callbacks.ModelCheckpoint(\"model1.keras\",\n",
    "                                   save_best_only=True),\n",
    "    keras.callbacks.EarlyStopping(monitor='val_loss',\n",
    "                                  patience=2,\n",
    "                                  verbose=1)\n",
    "]\n",
    "\n",
    "# 학습의 진행\n",
    "model.compile(optimizer='adam',\n",
    "              loss='binary_crossentropy',\n",
    "              metrics=['accuracy'])\n",
    "              \n",
    "epochs=20  # 몇 epoch를 훈련하면 좋을지 결과를 보면서 바꾸어 봅시다. \n",
    "\n",
    "history = model.fit(x_train,\n",
    "                    y_train,\n",
    "                    epochs=epochs,\n",
    "                    batch_size=512,\n",
    "                    validation_data=(x_val, y_val),\n",
    "                    verbose=1,\n",
    "                    callbacks=callbacks)\n",
    "\n",
    "# 테스트셋을 통한 모델 평가\n",
    "results = model.evaluate(x_test,  y_test, verbose=2)\n",
    "\n",
    "import matplotlib.pyplot as plt\n",
    "\n",
    "history_dict = history.history\n",
    "acc = history_dict['accuracy']\n",
    "val_acc = history_dict['val_accuracy']\n",
    "loss = history_dict['loss']\n",
    "val_loss = history_dict['val_loss']\n",
    "\n",
    "epochs = range(1, len(acc) + 1)\n",
    "\n",
    "# \"bo\"는 \"파란색 점\"입니다\n",
    "plt.plot(epochs, loss, 'bo', label='Training loss')\n",
    "# b는 \"파란 실선\"입니다\n",
    "plt.plot(epochs, val_loss, 'b', label='Validation loss')\n",
    "plt.title('Training and validation loss')\n",
    "plt.xlabel('Epochs')\n",
    "plt.ylabel('Loss')\n",
    "plt.legend()\n",
    "\n",
    "plt.show()"
   ]
  },
  {
   "cell_type": "code",
   "execution_count": 36,
   "id": "6b467949",
   "metadata": {},
   "outputs": [
    {
     "data": {
      "text/plain": [
       "[('~~^^', 0.8424305319786072),\n",
       " ('졌으면', 0.8376133441925049),\n",
       " ('수작', 0.8374435305595398),\n",
       " ('감탄', 0.8325133323669434),\n",
       " ('동전', 0.8320947289466858),\n",
       " ('해집니다', 0.8292805552482605),\n",
       " ('great', 0.827401340007782),\n",
       " ('즐거웠', 0.826595664024353),\n",
       " ('자격', 0.8252105116844177),\n",
       " ('오스카', 0.8250316977500916)]"
      ]
     },
     "execution_count": 36,
     "metadata": {},
     "output_type": "execute_result"
    }
   ],
   "source": [
    "embedding_layer = model.layers[0]\n",
    "weights = embedding_layer.get_weights()[0]\n",
    "\n",
    "# 학습한 Embedding 파라미터를 파일에 써서 저장합니다. \n",
    "word2vec_file_path = os.getenv('HOME')+'/aiffel/aiffel/AIFFEL_quest_rs/Exploration/Ex05/word2vec.txt'\n",
    "f = open(word2vec_file_path, 'w')\n",
    "f.write('{} {}\\n'.format(vocab_size-4, word_vector_dim))  # 몇개의 벡터를 얼마 사이즈로 기재할지 타이틀을 씁니다.\n",
    "\n",
    "# 단어 개수(에서 특수문자 4개는 제외하고)만큼의 워드 벡터를 파일에 기록합니다. \n",
    "vectors = model.get_weights()[0]\n",
    "for i in range(4,vocab_size):\n",
    "    f.write('{} {}\\n'.format(index_to_word[i], ' '.join(map(str, list(vectors[i, :])))))\n",
    "f.close()\n",
    "\n",
    "word_vectors = Word2VecKeyedVectors.load_word2vec_format(word2vec_file_path, binary=False)\n",
    "\n",
    "word_vectors.similar_by_word(\"사랑\")"
   ]
  },
  {
   "cell_type": "markdown",
   "id": "3e01e803",
   "metadata": {},
   "source": [
    "기존 lstm 모델보단 스테킹 Gru 모델이 성능은 좋았으나, 사랑이란 단어로 유사 단어를 찾았을땐 기존 lstm 모델이 더 유사한 단어를 찾아 준것으로 보인다. \n",
    "\n",
    "물론 앞에서 실시 했던 모델 3개보단 이 두 모델이 훨씬 좋다."
   ]
  },
  {
   "cell_type": "markdown",
   "id": "605baf09",
   "metadata": {},
   "source": [
    "## 회고"
   ]
  },
  {
   "cell_type": "markdown",
   "id": "a5726bd5",
   "metadata": {},
   "source": [
    "한국어 Word2Vec 임베딩을 사용하니까 추론 성능이\n",
    "\n",
    "loss: 0.3557 - accuracy: 0.8472 -> loss: 0.3551 - accuracy: 0.8482로 약간 좋아진 모습을 보인다!\n",
    "\n",
    "또한 유사단어 찾는 성능도 훨씬 좋아졌다.\n",
    "\n",
    "다만 신기한점은 기존 lstm 모델보단 스테킹 Gru 모델이 성능은 좋았으나, 사랑이란 단어로 유사 단어를 찾았을땐 기존 lstm 모델이 더 유사한 단어를 찾아 준것으로 보인다는 점이다!\n",
    "\n",
    "역시 좋은 임베딩을 사용해야 모델이 조금 더 좋아진다는것을 이번 프로젝트를 하면서 느꼈다."
   ]
  },
  {
   "cell_type": "code",
   "execution_count": null,
   "id": "3cb7c8d6",
   "metadata": {},
   "outputs": [],
   "source": []
  }
 ],
 "metadata": {
  "kernelspec": {
   "display_name": "Python 3 (ipykernel)",
   "language": "python",
   "name": "python3"
  },
  "language_info": {
   "codemirror_mode": {
    "name": "ipython",
    "version": 3
   },
   "file_extension": ".py",
   "mimetype": "text/x-python",
   "name": "python",
   "nbconvert_exporter": "python",
   "pygments_lexer": "ipython3",
   "version": "3.9.7"
  }
 },
 "nbformat": 4,
 "nbformat_minor": 5
}
