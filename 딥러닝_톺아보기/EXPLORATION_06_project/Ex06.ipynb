{
 "cells": [
  {
   "cell_type": "markdown",
   "id": "c59e6f34",
   "metadata": {
    "id": "c59e6f34"
   },
   "source": [
    "# 0.필요한 라이브러리 import"
   ]
  },
  {
   "cell_type": "code",
   "execution_count": null,
   "id": "cb1bb38e",
   "metadata": {
    "id": "cb1bb38e",
    "outputId": "b2cdd224-a97a-4c81-87e1-c2f8ce45445a"
   },
   "outputs": [
    {
     "name": "stderr",
     "output_type": "stream",
     "text": [
      "[nltk_data] Downloading package stopwords to /aiffel/nltk_data...\n",
      "[nltk_data]   Unzipping corpora/stopwords.zip.\n"
     ]
    }
   ],
   "source": [
    "from importlib.metadata import version\n",
    "import tensorflow\n",
    "import summa\n",
    "\n",
    "import nltk\n",
    "nltk.download('stopwords')\n",
    "\n",
    "import numpy as np\n",
    "import pandas as pd\n",
    "import os\n",
    "import re\n",
    "import matplotlib.pyplot as plt\n",
    "from nltk.corpus import stopwords\n",
    "from bs4 import BeautifulSoup\n",
    "from tensorflow.keras.preprocessing.text import Tokenizer\n",
    "from tensorflow.keras.preprocessing.sequence import pad_sequences\n",
    "import urllib.request\n",
    "import warnings\n",
    "warnings.filterwarnings(\"ignore\", category=UserWarning, module='bs4')\n"
   ]
  },
  {
   "cell_type": "markdown",
   "id": "eef47177",
   "metadata": {
    "id": "eef47177"
   },
   "source": [
    "# 1.데이터 수집하기"
   ]
  },
  {
   "cell_type": "code",
   "execution_count": null,
   "id": "4f89227b",
   "metadata": {
    "id": "4f89227b",
    "outputId": "dcc02b77-1151-40e4-8fce-181082f97892"
   },
   "outputs": [
    {
     "data": {
      "text/html": [
       "<div>\n",
       "<style scoped>\n",
       "    .dataframe tbody tr th:only-of-type {\n",
       "        vertical-align: middle;\n",
       "    }\n",
       "\n",
       "    .dataframe tbody tr th {\n",
       "        vertical-align: top;\n",
       "    }\n",
       "\n",
       "    .dataframe thead th {\n",
       "        text-align: right;\n",
       "    }\n",
       "</style>\n",
       "<table border=\"1\" class=\"dataframe\">\n",
       "  <thead>\n",
       "    <tr style=\"text-align: right;\">\n",
       "      <th></th>\n",
       "      <th>headlines</th>\n",
       "      <th>text</th>\n",
       "    </tr>\n",
       "  </thead>\n",
       "  <tbody>\n",
       "    <tr>\n",
       "      <th>70653</th>\n",
       "      <td>Researchers find 'internal clock' within live ...</td>\n",
       "      <td>US-based scientists have revealed an internal ...</td>\n",
       "    </tr>\n",
       "    <tr>\n",
       "      <th>43069</th>\n",
       "      <td>Jailed AIADMK leader VK Sasikala's husband pas...</td>\n",
       "      <td>Jailed AIADMK leader VK Sasikala's husband Nat...</td>\n",
       "    </tr>\n",
       "    <tr>\n",
       "      <th>98356</th>\n",
       "      <td>Aussie media mocks Kohli, Ranchi pitch through...</td>\n",
       "      <td>Australian media has slammed the pitch of Ranc...</td>\n",
       "    </tr>\n",
       "    <tr>\n",
       "      <th>84702</th>\n",
       "      <td>Gene-editing bird flu virus could fuel human p...</td>\n",
       "      <td>Scientists studying the H7N9 bird flu virus th...</td>\n",
       "    </tr>\n",
       "    <tr>\n",
       "      <th>26635</th>\n",
       "      <td>Teacher held for forcing schoolgirls to watch ...</td>\n",
       "      <td>A Bihar school principal and a teacher were ar...</td>\n",
       "    </tr>\n",
       "    <tr>\n",
       "      <th>96953</th>\n",
       "      <td>Astronomers create most detailed 3D map of Mil...</td>\n",
       "      <td>US-based Berkeley Lab researchers have develop...</td>\n",
       "    </tr>\n",
       "    <tr>\n",
       "      <th>60211</th>\n",
       "      <td>SL batsman hits 6, points out illegal field to...</td>\n",
       "      <td>SL batsman Niroshan Dickwella hit a six with a...</td>\n",
       "    </tr>\n",
       "    <tr>\n",
       "      <th>30287</th>\n",
       "      <td>I was 21 when Weinstein raped me at Cannes: It...</td>\n",
       "      <td>During the closing ceremony at this year's Can...</td>\n",
       "    </tr>\n",
       "    <tr>\n",
       "      <th>92115</th>\n",
       "      <td>Karnataka has witnessed 13 droughts in last 15...</td>\n",
       "      <td>Karnataka has witnessed 13 droughts in the las...</td>\n",
       "    </tr>\n",
       "    <tr>\n",
       "      <th>60139</th>\n",
       "      <td>Consider airlifting Hanuman statue to stop enc...</td>\n",
       "      <td>The Delhi High Court on Monday asked the civic...</td>\n",
       "    </tr>\n",
       "  </tbody>\n",
       "</table>\n",
       "</div>"
      ],
      "text/plain": [
       "                                               headlines  \\\n",
       "70653  Researchers find 'internal clock' within live ...   \n",
       "43069  Jailed AIADMK leader VK Sasikala's husband pas...   \n",
       "98356  Aussie media mocks Kohli, Ranchi pitch through...   \n",
       "84702  Gene-editing bird flu virus could fuel human p...   \n",
       "26635  Teacher held for forcing schoolgirls to watch ...   \n",
       "96953  Astronomers create most detailed 3D map of Mil...   \n",
       "60211  SL batsman hits 6, points out illegal field to...   \n",
       "30287  I was 21 when Weinstein raped me at Cannes: It...   \n",
       "92115  Karnataka has witnessed 13 droughts in last 15...   \n",
       "60139  Consider airlifting Hanuman statue to stop enc...   \n",
       "\n",
       "                                                    text  \n",
       "70653  US-based scientists have revealed an internal ...  \n",
       "43069  Jailed AIADMK leader VK Sasikala's husband Nat...  \n",
       "98356  Australian media has slammed the pitch of Ranc...  \n",
       "84702  Scientists studying the H7N9 bird flu virus th...  \n",
       "26635  A Bihar school principal and a teacher were ar...  \n",
       "96953  US-based Berkeley Lab researchers have develop...  \n",
       "60211  SL batsman Niroshan Dickwella hit a six with a...  \n",
       "30287  During the closing ceremony at this year's Can...  \n",
       "92115  Karnataka has witnessed 13 droughts in the las...  \n",
       "60139  The Delhi High Court on Monday asked the civic...  "
      ]
     },
     "execution_count": 62,
     "metadata": {},
     "output_type": "execute_result"
    }
   ],
   "source": [
    "import urllib.request\n",
    "urllib.request.urlretrieve(\"https://raw.githubusercontent.com/sunnysai12345/News_Summary/master/news_summary_more.csv\", filename=\"news_summary_more.csv\")\n",
    "data = pd.read_csv('news_summary_more.csv', encoding='iso-8859-1')\n",
    "\n",
    "data.sample(10)"
   ]
  },
  {
   "cell_type": "markdown",
   "id": "fb55c504",
   "metadata": {
    "id": "fb55c504"
   },
   "source": [
    "# 2.데이터 전처리하기 (추상적 요약)"
   ]
  },
  {
   "cell_type": "markdown",
   "id": "975eda8e",
   "metadata": {
    "id": "975eda8e"
   },
   "source": [
    "중복된 데이터 제거"
   ]
  },
  {
   "cell_type": "code",
   "execution_count": null,
   "id": "87070b9b",
   "metadata": {
    "id": "87070b9b",
    "outputId": "9905285a-822e-46d3-aa8a-78bce83f2f68"
   },
   "outputs": [
    {
     "name": "stdout",
     "output_type": "stream",
     "text": [
      "text 열에서 중복을 배제한 유일한 샘플의 수 : 98360\n",
      "headlines 열에서 중복을 배제한 유일한 샘플의 수 : 98280\n"
     ]
    }
   ],
   "source": [
    "print('text 열에서 중복을 배제한 유일한 샘플의 수 :', data['text'].nunique())\n",
    "print('headlines 열에서 중복을 배제한 유일한 샘플의 수 :', data['headlines'].nunique())"
   ]
  },
  {
   "cell_type": "code",
   "execution_count": null,
   "id": "09dc2fbd",
   "metadata": {
    "id": "09dc2fbd",
    "outputId": "65dcc471-f5ec-4d69-9a07-b3aa74507a87"
   },
   "outputs": [
    {
     "name": "stdout",
     "output_type": "stream",
     "text": [
      "전체 샘플수 : 98360\n"
     ]
    }
   ],
   "source": [
    "# inplace=True 를 설정하면 DataFrame 타입 값을 return 하지 않고 data 내부를 직접적으로 바꿉니다\n",
    "data.drop_duplicates(subset = ['text'], inplace=True)\n",
    "print('전체 샘플수 :', (len(data)))"
   ]
  },
  {
   "cell_type": "markdown",
   "id": "46c9cc24",
   "metadata": {
    "id": "46c9cc24"
   },
   "source": [
    "결측치 확인"
   ]
  },
  {
   "cell_type": "code",
   "execution_count": null,
   "id": "bdb6386b",
   "metadata": {
    "id": "bdb6386b",
    "outputId": "9043aad4-e7ef-464f-a9e7-0142028eec4d",
    "scrolled": true
   },
   "outputs": [
    {
     "data": {
      "text/plain": [
       "headlines    0\n",
       "text         0\n",
       "dtype: int64"
      ]
     },
     "execution_count": 16,
     "metadata": {},
     "output_type": "execute_result"
    }
   ],
   "source": [
    "data.isnull().sum()"
   ]
  },
  {
   "cell_type": "markdown",
   "id": "ad28c051",
   "metadata": {
    "id": "ad28c051"
   },
   "source": [
    "텍스트 정규화와 불용어 제거"
   ]
  },
  {
   "cell_type": "code",
   "execution_count": null,
   "id": "df7a1be0",
   "metadata": {
    "id": "df7a1be0",
    "outputId": "cc537314-e091-47ad-ce95-9ea3f3f612cc"
   },
   "outputs": [
    {
     "name": "stdout",
     "output_type": "stream",
     "text": [
      "정규화 사전의 수:  120\n"
     ]
    }
   ],
   "source": [
    "# 텍스트 정규화를 위한 사전(dictionary) 정의\n",
    "contractions = {\"ain't\": \"is not\", \"aren't\": \"are not\",\"can't\": \"cannot\", \"'cause\": \"because\", \"could've\": \"could have\", \"couldn't\": \"could not\",\n",
    "                           \"didn't\": \"did not\",  \"doesn't\": \"does not\", \"don't\": \"do not\", \"hadn't\": \"had not\", \"hasn't\": \"has not\", \"haven't\": \"have not\",\n",
    "                           \"he'd\": \"he would\",\"he'll\": \"he will\", \"he's\": \"he is\", \"how'd\": \"how did\", \"how'd'y\": \"how do you\", \"how'll\": \"how will\", \"how's\": \"how is\",\n",
    "                           \"I'd\": \"I would\", \"I'd've\": \"I would have\", \"I'll\": \"I will\", \"I'll've\": \"I will have\",\"I'm\": \"I am\", \"I've\": \"I have\", \"i'd\": \"i would\",\n",
    "                           \"i'd've\": \"i would have\", \"i'll\": \"i will\",  \"i'll've\": \"i will have\",\"i'm\": \"i am\", \"i've\": \"i have\", \"isn't\": \"is not\", \"it'd\": \"it would\",\n",
    "                           \"it'd've\": \"it would have\", \"it'll\": \"it will\", \"it'll've\": \"it will have\",\"it's\": \"it is\", \"let's\": \"let us\", \"ma'am\": \"madam\",\n",
    "                           \"mayn't\": \"may not\", \"might've\": \"might have\",\"mightn't\": \"might not\",\"mightn't've\": \"might not have\", \"must've\": \"must have\",\n",
    "                           \"mustn't\": \"must not\", \"mustn't've\": \"must not have\", \"needn't\": \"need not\", \"needn't've\": \"need not have\",\"o'clock\": \"of the clock\",\n",
    "                           \"oughtn't\": \"ought not\", \"oughtn't've\": \"ought not have\", \"shan't\": \"shall not\", \"sha'n't\": \"shall not\", \"shan't've\": \"shall not have\",\n",
    "                           \"she'd\": \"she would\", \"she'd've\": \"she would have\", \"she'll\": \"she will\", \"she'll've\": \"she will have\", \"she's\": \"she is\",\n",
    "                           \"should've\": \"should have\", \"shouldn't\": \"should not\", \"shouldn't've\": \"should not have\", \"so've\": \"so have\",\"so's\": \"so as\",\n",
    "                           \"this's\": \"this is\",\"that'd\": \"that would\", \"that'd've\": \"that would have\", \"that's\": \"that is\", \"there'd\": \"there would\",\n",
    "                           \"there'd've\": \"there would have\", \"there's\": \"there is\", \"here's\": \"here is\",\"they'd\": \"they would\", \"they'd've\": \"they would have\",\n",
    "                           \"they'll\": \"they will\", \"they'll've\": \"they will have\", \"they're\": \"they are\", \"they've\": \"they have\", \"to've\": \"to have\",\n",
    "                           \"wasn't\": \"was not\", \"we'd\": \"we would\", \"we'd've\": \"we would have\", \"we'll\": \"we will\", \"we'll've\": \"we will have\", \"we're\": \"we are\",\n",
    "                           \"we've\": \"we have\", \"weren't\": \"were not\", \"what'll\": \"what will\", \"what'll've\": \"what will have\", \"what're\": \"what are\",\n",
    "                           \"what's\": \"what is\", \"what've\": \"what have\", \"when's\": \"when is\", \"when've\": \"when have\", \"where'd\": \"where did\", \"where's\": \"where is\",\n",
    "                           \"where've\": \"where have\", \"who'll\": \"who will\", \"who'll've\": \"who will have\", \"who's\": \"who is\", \"who've\": \"who have\",\n",
    "                           \"why's\": \"why is\", \"why've\": \"why have\", \"will've\": \"will have\", \"won't\": \"will not\", \"won't've\": \"will not have\",\n",
    "                           \"would've\": \"would have\", \"wouldn't\": \"would not\", \"wouldn't've\": \"would not have\", \"y'all\": \"you all\",\n",
    "                           \"y'all'd\": \"you all would\",\"y'all'd've\": \"you all would have\",\"y'all're\": \"you all are\",\"y'all've\": \"you all have\",\n",
    "                           \"you'd\": \"you would\", \"you'd've\": \"you would have\", \"you'll\": \"you will\", \"you'll've\": \"you will have\",\n",
    "                           \"you're\": \"you are\", \"you've\": \"you have\"}\n",
    "\n",
    "print(\"정규화 사전의 수: \", len(contractions))"
   ]
  },
  {
   "cell_type": "code",
   "execution_count": null,
   "id": "0395b7b5",
   "metadata": {
    "id": "0395b7b5",
    "outputId": "c8933c0b-14d5-4bf3-9999-b917cd579ad0"
   },
   "outputs": [
    {
     "name": "stdout",
     "output_type": "stream",
     "text": [
      "불용어 개수 : 179\n",
      "['i', 'me', 'my', 'myself', 'we', 'our', 'ours', 'ourselves', 'you', \"you're\", \"you've\", \"you'll\", \"you'd\", 'your', 'yours', 'yourself', 'yourselves', 'he', 'him', 'his', 'himself', 'she', \"she's\", 'her', 'hers', 'herself', 'it', \"it's\", 'its', 'itself', 'they', 'them', 'their', 'theirs', 'themselves', 'what', 'which', 'who', 'whom', 'this', 'that', \"that'll\", 'these', 'those', 'am', 'is', 'are', 'was', 'were', 'be', 'been', 'being', 'have', 'has', 'had', 'having', 'do', 'does', 'did', 'doing', 'a', 'an', 'the', 'and', 'but', 'if', 'or', 'because', 'as', 'until', 'while', 'of', 'at', 'by', 'for', 'with', 'about', 'against', 'between', 'into', 'through', 'during', 'before', 'after', 'above', 'below', 'to', 'from', 'up', 'down', 'in', 'out', 'on', 'off', 'over', 'under', 'again', 'further', 'then', 'once', 'here', 'there', 'when', 'where', 'why', 'how', 'all', 'any', 'both', 'each', 'few', 'more', 'most', 'other', 'some', 'such', 'no', 'nor', 'not', 'only', 'own', 'same', 'so', 'than', 'too', 'very', 's', 't', 'can', 'will', 'just', 'don', \"don't\", 'should', \"should've\", 'now', 'd', 'll', 'm', 'o', 're', 've', 'y', 'ain', 'aren', \"aren't\", 'couldn', \"couldn't\", 'didn', \"didn't\", 'doesn', \"doesn't\", 'hadn', \"hadn't\", 'hasn', \"hasn't\", 'haven', \"haven't\", 'isn', \"isn't\", 'ma', 'mightn', \"mightn't\", 'mustn', \"mustn't\", 'needn', \"needn't\", 'shan', \"shan't\", 'shouldn', \"shouldn't\", 'wasn', \"wasn't\", 'weren', \"weren't\", 'won', \"won't\", 'wouldn', \"wouldn't\"]\n"
     ]
    }
   ],
   "source": [
    "#NLTK에서 제공하는 불용어 리스트를 참조해 불용어 리스트 생성\n",
    "print('불용어 개수 :', len(stopwords.words('english') ))\n",
    "print(stopwords.words('english'))"
   ]
  },
  {
   "cell_type": "code",
   "execution_count": null,
   "id": "8512b583",
   "metadata": {
    "id": "8512b583"
   },
   "outputs": [],
   "source": [
    "# 데이터 전처리 함수\n",
    "def preprocess_sentence(sentence, remove_stopwords=True):\n",
    "    sentence = sentence.lower() # 텍스트 소문자화\n",
    "    sentence = BeautifulSoup(sentence, \"lxml\").text # <br />, <a href = ...> 등의 html 태그 제거\n",
    "    sentence = re.sub(r'\\([^)]*\\)', '', sentence) # 괄호로 닫힌 문자열 (...) 제거 Ex) my husband (and myself!) for => my husband for\n",
    "    sentence = re.sub('\"','', sentence) # 쌍따옴표 \" 제거\n",
    "    sentence = ' '.join([contractions[t] if t in contractions else t for t in sentence.split(\" \")]) # 약어 정규화\n",
    "    sentence = re.sub(r\"'s\\b\",\"\", sentence) # 소유격 제거. Ex) roland's -> roland\n",
    "    sentence = re.sub(\"[^a-zA-Z]\", \" \", sentence) # 영어 외 문자(숫자, 특수문자 등) 공백으로 변환\n",
    "    sentence = re.sub('[m]{2,}', 'mm', sentence) # m이 3개 이상이면 2개로 변경. Ex) ummmmmmm yeah -> umm yeah\n",
    "\n",
    "    # 불용어 제거 (Text)\n",
    "    if remove_stopwords:\n",
    "        tokens = ' '.join(word for word in sentence.split() if not word in stopwords.words('english') if len(word) > 1)\n",
    "    # 불용어 미제거 (Summary)\n",
    "    else:\n",
    "        tokens = ' '.join(word for word in sentence.split() if len(word) > 1)\n",
    "    return tokens"
   ]
  },
  {
   "cell_type": "code",
   "execution_count": null,
   "id": "f88028b9",
   "metadata": {
    "id": "f88028b9",
    "outputId": "7f315429-5b69-4b60-f0fd-5b11f48f0bc6"
   },
   "outputs": [
    {
     "name": "stdout",
     "output_type": "stream",
     "text": [
      "text 전처리 후 결과:  ['saurav kant alumnus upgrad iiit pg program machine learning artificial intelligence sr systems engineer infosys almost years work experience program upgrad degree career support helped transition data scientist tech mahindra salary hike upgrad online power learning powered lakh careers', 'kunal shah credit card bill payment platform cred gave users chance win free food swiggy one year pranav kaushik delhi techie bagged reward spending cred coins users get one cred coin per rupee bill paid used avail rewards brands like ixigo bookmyshow ubereats cult fit', 'new zealand defeated india wickets fourth odi hamilton thursday win first match five match odi series india lost international match rohit sharma captaincy consecutive victories dating back march match witnessed india getting seventh lowest total odi cricket history', 'aegon life iterm insurance plan customers enjoy tax benefits premiums paid save taxes plan provides life cover age years also customers options insure critical illnesses disability accidental death benefit rider life cover age years', 'speaking sexual harassment allegations rajkumar hirani sonam kapoor said known hirani many years true metoo movement get derailed metoo movement always believe woman case need reserve judgment added hirani accused assistant worked sanju']\n",
      "headlines 전처리 후 결과:  ['upgrad learner switches to career in ml al with salary hike', 'delhi techie wins free food from swiggy for one year on cred', 'new zealand end rohit sharma led india match winning streak', 'aegon life iterm insurance plan helps customers save tax', 'have known hirani for yrs what if metoo claims are not true sonam']\n"
     ]
    }
   ],
   "source": [
    "# 전체 text 데이터에 대한 전처리\n",
    "clean_text = []\n",
    "\n",
    "for x in data[\"text\"]:\n",
    "    clean_text.append(preprocess_sentence(x))\n",
    "\n",
    "# 전체 Summary 데이터에 대한 전처리\n",
    "clean_headlines = []\n",
    "\n",
    "for x in data[\"headlines\"]:\n",
    "    clean_headlines.append(preprocess_sentence(x,False))\n",
    "\n",
    "# 전처리 후 출력\n",
    "print(\"text 전처리 후 결과: \", clean_text[:5])\n",
    "print(\"headlines 전처리 후 결과: \", clean_headlines[:5])"
   ]
  },
  {
   "cell_type": "code",
   "execution_count": null,
   "id": "696aab05",
   "metadata": {
    "id": "696aab05"
   },
   "outputs": [],
   "source": [
    "#다시 데이터프레임화\n",
    "data['text'] = clean_text\n",
    "data['headlines'] = clean_headlines\n",
    "\n",
    "# 빈 값을 Null 값으로 변환\n",
    "data.replace('', np.nan, inplace=True)"
   ]
  },
  {
   "cell_type": "code",
   "execution_count": null,
   "id": "8880e443",
   "metadata": {
    "id": "8880e443",
    "outputId": "8eb5609f-e3e9-4d32-e0de-8481320c37b9"
   },
   "outputs": [
    {
     "name": "stdout",
     "output_type": "stream",
     "text": [
      "headlines    0\n",
      "text         0\n",
      "dtype: int64\n"
     ]
    }
   ],
   "source": [
    "# 결측치 확인\n",
    "print(data.isnull().sum())"
   ]
  },
  {
   "cell_type": "markdown",
   "id": "0ee67e8e",
   "metadata": {
    "id": "0ee67e8e"
   },
   "source": [
    "샘플의 최대 길이 정하기"
   ]
  },
  {
   "cell_type": "code",
   "execution_count": null,
   "id": "80771aab",
   "metadata": {
    "id": "80771aab",
    "outputId": "427a5dec-36ee-4352-cd25-18387385c7b3"
   },
   "outputs": [
    {
     "name": "stdout",
     "output_type": "stream",
     "text": [
      "텍스트의 최소 길이 : 1\n",
      "텍스트의 최대 길이 : 60\n",
      "텍스트의 평균 길이 : 35.09968483123221\n",
      "요약의 최소 길이 : 1\n",
      "요약의 최대 길이 : 16\n",
      "요약의 평균 길이 : 9.299532330215534\n"
     ]
    }
   ],
   "source": [
    "# 길이 분포 출력\n",
    "text_len = [len(s.split()) for s in data['text']]\n",
    "headlines_len = [len(s.split()) for s in data['headlines']]\n",
    "\n",
    "print('텍스트의 최소 길이 : {}'.format(np.min(text_len)))\n",
    "print('텍스트의 최대 길이 : {}'.format(np.max(text_len)))\n",
    "print('텍스트의 평균 길이 : {}'.format(np.mean(text_len)))\n",
    "print('요약의 최소 길이 : {}'.format(np.min(headlines_len)))\n",
    "print('요약의 최대 길이 : {}'.format(np.max(headlines_len)))\n",
    "print('요약의 평균 길이 : {}'.format(np.mean(headlines_len)))"
   ]
  },
  {
   "cell_type": "code",
   "execution_count": null,
   "id": "5769ff46",
   "metadata": {
    "id": "5769ff46"
   },
   "outputs": [],
   "source": [
    "text_max_len = 40\n",
    "headlines_max_len = 10"
   ]
  },
  {
   "cell_type": "code",
   "execution_count": null,
   "id": "de0da995",
   "metadata": {
    "id": "de0da995"
   },
   "outputs": [],
   "source": [
    "# max_len 길이를 선택했을 때, 얼마나 많은 샘플들을 자르지 않고\n",
    "# 포함할 수 있는지 통계로 확인하는 함수\n",
    "def below_threshold_len(max_len, nested_list):\n",
    "  cnt = 0\n",
    "  for s in nested_list:\n",
    "    if(len(s.split()) <= max_len):\n",
    "        cnt = cnt + 1\n",
    "  print('전체 샘플 중 길이가 %s 이하인 샘플의 비율: %s'%(max_len, (cnt / len(nested_list))))"
   ]
  },
  {
   "cell_type": "code",
   "execution_count": null,
   "id": "baf63273",
   "metadata": {
    "id": "baf63273",
    "outputId": "f6d751e0-712b-41ac-aefb-cf58d6c12672"
   },
   "outputs": [
    {
     "name": "stdout",
     "output_type": "stream",
     "text": [
      "전체 샘플 중 길이가 40 이하인 샘플의 비율: 0.9238714924766165\n",
      "전체 샘플 중 길이가 10 이하인 샘플의 비율: 0.8162972753151687\n"
     ]
    }
   ],
   "source": [
    "# 통계 확인\n",
    "below_threshold_len(text_max_len, data['text'])\n",
    "below_threshold_len(headlines_max_len,  data['headlines'])"
   ]
  },
  {
   "cell_type": "code",
   "execution_count": null,
   "id": "e8dce6ba",
   "metadata": {
    "id": "e8dce6ba",
    "outputId": "7b088cb0-4c97-4794-d064-85a08139b6e5"
   },
   "outputs": [
    {
     "name": "stdout",
     "output_type": "stream",
     "text": [
      "전체 샘플수 : 74102\n"
     ]
    }
   ],
   "source": [
    "# 정의한 text_max_len과 summary_max_len의 길이보다 큰 샘플을 제외\n",
    "data = data[data[\"text\"].apply(lambda x: len(x.split()) <= text_max_len) &\n",
    "              data[\"headlines\"].apply(lambda x: len(x.split()) <= headlines_max_len)]\n",
    "\n",
    "print('전체 샘플수 :', (len(data)))"
   ]
  },
  {
   "cell_type": "markdown",
   "id": "443a7f4a",
   "metadata": {
    "id": "443a7f4a"
   },
   "source": [
    "시작 토큰과 종료 토큰 추가하기"
   ]
  },
  {
   "cell_type": "code",
   "execution_count": null,
   "id": "d38ff788",
   "metadata": {
    "id": "d38ff788",
    "outputId": "79fb358d-206a-4c72-92e6-f9430a9810dc"
   },
   "outputs": [
    {
     "data": {
      "text/html": [
       "<div>\n",
       "<style scoped>\n",
       "    .dataframe tbody tr th:only-of-type {\n",
       "        vertical-align: middle;\n",
       "    }\n",
       "\n",
       "    .dataframe tbody tr th {\n",
       "        vertical-align: top;\n",
       "    }\n",
       "\n",
       "    .dataframe thead th {\n",
       "        text-align: right;\n",
       "    }\n",
       "</style>\n",
       "<table border=\"1\" class=\"dataframe\">\n",
       "  <thead>\n",
       "    <tr style=\"text-align: right;\">\n",
       "      <th></th>\n",
       "      <th>headlines</th>\n",
       "      <th>text</th>\n",
       "      <th>decoder_input</th>\n",
       "      <th>decoder_target</th>\n",
       "    </tr>\n",
       "  </thead>\n",
       "  <tbody>\n",
       "    <tr>\n",
       "      <th>2</th>\n",
       "      <td>new zealand end rohit sharma led india match w...</td>\n",
       "      <td>new zealand defeated india wickets fourth odi ...</td>\n",
       "      <td>sostoken new zealand end rohit sharma led indi...</td>\n",
       "      <td>new zealand end rohit sharma led india match w...</td>\n",
       "    </tr>\n",
       "    <tr>\n",
       "      <th>3</th>\n",
       "      <td>aegon life iterm insurance plan helps customer...</td>\n",
       "      <td>aegon life iterm insurance plan customers enjo...</td>\n",
       "      <td>sostoken aegon life iterm insurance plan helps...</td>\n",
       "      <td>aegon life iterm insurance plan helps customer...</td>\n",
       "    </tr>\n",
       "    <tr>\n",
       "      <th>5</th>\n",
       "      <td>rahat fateh ali khan denies getting notice for...</td>\n",
       "      <td>pakistani singer rahat fateh ali khan denied r...</td>\n",
       "      <td>sostoken rahat fateh ali khan denies getting n...</td>\n",
       "      <td>rahat fateh ali khan denies getting notice for...</td>\n",
       "    </tr>\n",
       "    <tr>\n",
       "      <th>9</th>\n",
       "      <td>cong wins ramgarh bypoll in rajasthan takes to...</td>\n",
       "      <td>congress candidate shafia zubair ramgarh assem...</td>\n",
       "      <td>sostoken cong wins ramgarh bypoll in rajasthan...</td>\n",
       "      <td>cong wins ramgarh bypoll in rajasthan takes to...</td>\n",
       "    </tr>\n",
       "    <tr>\n",
       "      <th>10</th>\n",
       "      <td>up cousins fed human excreta for friendship wi...</td>\n",
       "      <td>two minor cousins uttar pradesh gorakhpur alle...</td>\n",
       "      <td>sostoken up cousins fed human excreta for frie...</td>\n",
       "      <td>up cousins fed human excreta for friendship wi...</td>\n",
       "    </tr>\n",
       "  </tbody>\n",
       "</table>\n",
       "</div>"
      ],
      "text/plain": [
       "                                            headlines  \\\n",
       "2   new zealand end rohit sharma led india match w...   \n",
       "3   aegon life iterm insurance plan helps customer...   \n",
       "5   rahat fateh ali khan denies getting notice for...   \n",
       "9   cong wins ramgarh bypoll in rajasthan takes to...   \n",
       "10  up cousins fed human excreta for friendship wi...   \n",
       "\n",
       "                                                 text  \\\n",
       "2   new zealand defeated india wickets fourth odi ...   \n",
       "3   aegon life iterm insurance plan customers enjo...   \n",
       "5   pakistani singer rahat fateh ali khan denied r...   \n",
       "9   congress candidate shafia zubair ramgarh assem...   \n",
       "10  two minor cousins uttar pradesh gorakhpur alle...   \n",
       "\n",
       "                                        decoder_input  \\\n",
       "2   sostoken new zealand end rohit sharma led indi...   \n",
       "3   sostoken aegon life iterm insurance plan helps...   \n",
       "5   sostoken rahat fateh ali khan denies getting n...   \n",
       "9   sostoken cong wins ramgarh bypoll in rajasthan...   \n",
       "10  sostoken up cousins fed human excreta for frie...   \n",
       "\n",
       "                                       decoder_target  \n",
       "2   new zealand end rohit sharma led india match w...  \n",
       "3   aegon life iterm insurance plan helps customer...  \n",
       "5   rahat fateh ali khan denies getting notice for...  \n",
       "9   cong wins ramgarh bypoll in rajasthan takes to...  \n",
       "10  up cousins fed human excreta for friendship wi...  "
      ]
     },
     "execution_count": 17,
     "metadata": {},
     "output_type": "execute_result"
    }
   ],
   "source": [
    "# 요약 데이터에는 시작 토큰과 종료 토큰을 추가한다.\n",
    "data['decoder_input'] = data['headlines'].apply(lambda x : 'sostoken '+ x)\n",
    "data['decoder_target'] = data['headlines'].apply(lambda x : x + ' eostoken')\n",
    "data.head()"
   ]
  },
  {
   "cell_type": "code",
   "execution_count": null,
   "id": "d979f764",
   "metadata": {
    "id": "d979f764"
   },
   "outputs": [],
   "source": [
    "# Numpy 타입으로 저장\n",
    "encoder_input = np.array(data['text']) # 인코더의 입력\n",
    "decoder_input = np.array(data['decoder_input']) # 디코더의 입력\n",
    "decoder_target = np.array(data['decoder_target']) # 디코더의 레이블"
   ]
  },
  {
   "cell_type": "markdown",
   "id": "cbaf08e2",
   "metadata": {
    "id": "cbaf08e2"
   },
   "source": [
    "훈련 데이터와 테스트 데이터를 분리"
   ]
  },
  {
   "cell_type": "code",
   "execution_count": null,
   "id": "50dda578",
   "metadata": {
    "id": "50dda578",
    "outputId": "7106e7bb-a168-4732-ff00-77ae4d6ce5b2"
   },
   "outputs": [
    {
     "name": "stdout",
     "output_type": "stream",
     "text": [
      "[15719 27117 36429 ... 30571 68986 38010]\n"
     ]
    }
   ],
   "source": [
    "# encoder_input과 크기와 형태가 같은 순서가 섞인 정수 시퀀스 생성\n",
    "indices = np.arange(encoder_input.shape[0])\n",
    "np.random.shuffle(indices)\n",
    "print(indices)"
   ]
  },
  {
   "cell_type": "code",
   "execution_count": null,
   "id": "6fecf1ef",
   "metadata": {
    "id": "6fecf1ef"
   },
   "outputs": [],
   "source": [
    "# 정수 시퀀스를 이용해 다시 데이터의 샘플 순서를 정의 -> 잘 섞인 샘플\n",
    "encoder_input = encoder_input[indices]\n",
    "decoder_input = decoder_input[indices]\n",
    "decoder_target = decoder_target[indices]"
   ]
  },
  {
   "cell_type": "code",
   "execution_count": null,
   "id": "0fe9ec5b",
   "metadata": {
    "id": "0fe9ec5b",
    "outputId": "fe1556b7-0072-4bc3-c4f4-f312405b7f42"
   },
   "outputs": [
    {
     "name": "stdout",
     "output_type": "stream",
     "text": [
      "훈련 데이터의 개수 : 59282\n",
      "훈련 레이블의 개수 : 59282\n",
      "테스트 데이터의 개수 : 14820\n",
      "테스트 레이블의 개수 : 14820\n"
     ]
    }
   ],
   "source": [
    "# 8:2의 비율로 훈련 데이터, 테스트 데이터 분리\n",
    "n_of_val = int(len(encoder_input)*0.2)\n",
    "\n",
    "encoder_input_train = encoder_input[:-n_of_val]\n",
    "decoder_input_train = decoder_input[:-n_of_val]\n",
    "decoder_target_train = decoder_target[:-n_of_val]\n",
    "\n",
    "encoder_input_test = encoder_input[-n_of_val:]\n",
    "decoder_input_test = decoder_input[-n_of_val:]\n",
    "decoder_target_test = decoder_target[-n_of_val:]\n",
    "\n",
    "print('훈련 데이터의 개수 :', len(encoder_input_train))\n",
    "print('훈련 레이블의 개수 :', len(decoder_input_train))\n",
    "print('테스트 데이터의 개수 :', len(encoder_input_test))\n",
    "print('테스트 레이블의 개수 :', len(decoder_input_test))"
   ]
  },
  {
   "cell_type": "markdown",
   "id": "b9cc78bb",
   "metadata": {
    "id": "b9cc78bb"
   },
   "source": [
    "단어 집합(vocabulary) 및 정수 인코딩"
   ]
  },
  {
   "cell_type": "code",
   "execution_count": null,
   "id": "cb03fc3b",
   "metadata": {
    "id": "cb03fc3b"
   },
   "outputs": [],
   "source": [
    "src_tokenizer = Tokenizer() # 토크나이저 정의\n",
    "src_tokenizer.fit_on_texts(encoder_input_train) # 입력된 데이터로부터 단어 집합 생성"
   ]
  },
  {
   "cell_type": "code",
   "execution_count": null,
   "id": "272a6622",
   "metadata": {
    "id": "272a6622",
    "outputId": "d96154ca-67d4-428d-890b-ad06c9f9dd78"
   },
   "outputs": [
    {
     "name": "stdout",
     "output_type": "stream",
     "text": [
      "단어 집합(vocabulary)의 크기 : 61432\n",
      "등장 빈도가 8번 이하인 희귀 단어의 수: 44561\n",
      "단어 집합에서 희귀 단어를 제외시킬 경우의 단어 집합의 크기 16871\n",
      "단어 집합에서 희귀 단어의 비율: 72.53711420757911\n",
      "전체 등장 빈도에서 희귀 단어 등장 빈도 비율: 5.06130044978711\n"
     ]
    }
   ],
   "source": [
    "# 등장 빈도수가 9회 미만인 단어들이 이 데이터에서 얼만큼의 비중을 차지하는지 확인\n",
    "threshold = 9\n",
    "total_cnt = len(src_tokenizer.word_index) # 단어의 수\n",
    "rare_cnt = 0 # 등장 빈도수가 threshold보다 작은 단어의 개수를 카운트\n",
    "total_freq = 0 # 훈련 데이터의 전체 단어 빈도수 총 합\n",
    "rare_freq = 0 # 등장 빈도수가 threshold보다 작은 단어의 등장 빈도수의 총 합\n",
    "\n",
    "# 단어와 빈도수의 쌍(pair)을 key와 value로 받는다.\n",
    "for key, value in src_tokenizer.word_counts.items():\n",
    "    total_freq = total_freq + value\n",
    "\n",
    "    # 단어의 등장 빈도수가 threshold보다 작으면\n",
    "    if(value < threshold):\n",
    "        rare_cnt = rare_cnt + 1\n",
    "        rare_freq = rare_freq + value\n",
    "\n",
    "print('단어 집합(vocabulary)의 크기 :', total_cnt)\n",
    "print('등장 빈도가 %s번 이하인 희귀 단어의 수: %s'%(threshold - 1, rare_cnt))\n",
    "print('단어 집합에서 희귀 단어를 제외시킬 경우의 단어 집합의 크기 %s'%(total_cnt - rare_cnt))\n",
    "print(\"단어 집합에서 희귀 단어의 비율:\", (rare_cnt / total_cnt)*100)\n",
    "print(\"전체 등장 빈도에서 희귀 단어 등장 빈도 비율:\", (rare_freq / total_freq)*100)"
   ]
  },
  {
   "cell_type": "code",
   "execution_count": null,
   "id": "0639b165",
   "metadata": {
    "id": "0639b165"
   },
   "outputs": [],
   "source": [
    "# 단어 집합의 크기 제한\n",
    "src_vocab = 16800\n",
    "src_tokenizer = Tokenizer(num_words=src_vocab) # 단어 집합의 크기를 16,800으로 제한\n",
    "src_tokenizer.fit_on_texts(encoder_input_train) # 단어 집합 재생성"
   ]
  },
  {
   "cell_type": "code",
   "execution_count": null,
   "id": "7296b006",
   "metadata": {
    "id": "7296b006",
    "outputId": "8d658e73-acf6-4068-97a1-0e3435dfa2e7"
   },
   "outputs": [
    {
     "name": "stdout",
     "output_type": "stream",
     "text": [
      "[[32, 46, 3, 124, 2850, 1898, 224, 2731, 9488, 485, 1294, 3, 11303, 195, 299, 83, 277, 81, 2336, 1971, 1972, 791, 2183, 149, 500, 4], [133, 9, 87, 661, 69, 1161, 4608, 480, 77, 171, 1450, 3139, 107, 15069, 590, 5523, 590, 886, 7641, 92, 926, 181, 3316, 1985, 15069, 590, 4608, 201, 383, 633, 2], [6626, 5388, 13719, 5, 35, 488, 593, 6531, 681, 960, 569, 4166, 1692, 1183, 1882, 5823, 3592, 5324, 9250, 6531, 4207, 3068, 5, 9017, 1453, 2900, 1790, 275, 98, 2507, 10301]]\n"
     ]
    }
   ],
   "source": [
    "# 텍스트 시퀀스를 정수 시퀀스로 변환\n",
    "encoder_input_train = src_tokenizer.texts_to_sequences(encoder_input_train)\n",
    "encoder_input_test = src_tokenizer.texts_to_sequences(encoder_input_test)\n",
    "\n",
    "# 잘 진행되었는지 샘플 출력\n",
    "print(encoder_input_train[:3])"
   ]
  },
  {
   "cell_type": "code",
   "execution_count": null,
   "id": "70b4fdb1",
   "metadata": {
    "id": "70b4fdb1",
    "outputId": "647b2bf0-6cab-4ae2-8b1b-6c0987500260"
   },
   "outputs": [
    {
     "name": "stdout",
     "output_type": "stream",
     "text": [
      "단어 집합(vocabulary)의 크기 : 27232\n",
      "등장 빈도가 5번 이하인 희귀 단어의 수: 18184\n",
      "단어 집합에서 희귀 단어를 제외시킬 경우의 단어 집합의 크기 9048\n",
      "단어 집합에서 희귀 단어의 비율: 66.7743830787309\n",
      "전체 등장 빈도에서 희귀 단어 등장 빈도 비율: 5.962057295063397\n"
     ]
    }
   ],
   "source": [
    "# headlines 데이터에도 적용\n",
    "\n",
    "tar_tokenizer = Tokenizer()\n",
    "tar_tokenizer.fit_on_texts(decoder_input_train)\n",
    "\n",
    "threshold = 6\n",
    "total_cnt = len(tar_tokenizer.word_index) # 단어의 수\n",
    "rare_cnt = 0 # 등장 빈도수가 threshold보다 작은 단어의 개수를 카운트\n",
    "total_freq = 0 # 훈련 데이터의 전체 단어 빈도수 총 합\n",
    "rare_freq = 0 # 등장 빈도수가 threshold보다 작은 단어의 등장 빈도수의 총 합\n",
    "\n",
    "# 단어와 빈도수의 쌍(pair)을 key와 value로 받는다.\n",
    "for key, value in tar_tokenizer.word_counts.items():\n",
    "    total_freq = total_freq + value\n",
    "\n",
    "    # 단어의 등장 빈도수가 threshold보다 작으면\n",
    "    if(value < threshold):\n",
    "        rare_cnt = rare_cnt + 1\n",
    "        rare_freq = rare_freq + value\n",
    "\n",
    "print('단어 집합(vocabulary)의 크기 :', total_cnt)\n",
    "print('등장 빈도가 %s번 이하인 희귀 단어의 수: %s'%(threshold - 1, rare_cnt))\n",
    "print('단어 집합에서 희귀 단어를 제외시킬 경우의 단어 집합의 크기 %s'%(total_cnt - rare_cnt))\n",
    "print(\"단어 집합에서 희귀 단어의 비율:\", (rare_cnt / total_cnt)*100)\n",
    "print(\"전체 등장 빈도에서 희귀 단어 등장 빈도 비율:\", (rare_freq / total_freq)*100)"
   ]
  },
  {
   "cell_type": "code",
   "execution_count": null,
   "id": "ef0fc858",
   "metadata": {
    "id": "ef0fc858",
    "outputId": "7ffb1b5b-2065-4e26-e226-6f7b5701f48b",
    "scrolled": true
   },
   "outputs": [
    {
     "name": "stdout",
     "output_type": "stream",
     "text": [
      "input\n",
      "input  [[1, 171, 530, 176, 84, 39, 6946, 1030, 7, 2533, 8219], [1, 52, 7, 43, 953, 3125, 4, 224], [1, 6482, 16, 2730, 3, 777, 106, 8220], [1, 828, 2287, 253, 172, 5, 967, 169, 4, 70], [1, 5418, 2534, 1783, 30, 48, 9]]\n",
      "target\n",
      "decoder  [[171, 530, 176, 84, 39, 6946, 1030, 7, 2533, 8219, 2], [52, 7, 43, 953, 3125, 4, 224, 2], [6482, 16, 2730, 3, 777, 106, 8220, 2], [828, 2287, 253, 172, 5, 967, 169, 4, 70, 2], [5418, 2534, 1783, 30, 48, 9, 2]]\n"
     ]
    }
   ],
   "source": [
    "tar_vocab = 9000\n",
    "tar_tokenizer = Tokenizer(num_words=tar_vocab)\n",
    "tar_tokenizer.fit_on_texts(decoder_input_train)\n",
    "tar_tokenizer.fit_on_texts(decoder_target_train)\n",
    "\n",
    "# 텍스트 시퀀스를 정수 시퀀스로 변환\n",
    "decoder_input_train = tar_tokenizer.texts_to_sequences(decoder_input_train)\n",
    "decoder_target_train = tar_tokenizer.texts_to_sequences(decoder_target_train)\n",
    "decoder_input_test = tar_tokenizer.texts_to_sequences(decoder_input_test)\n",
    "decoder_target_test = tar_tokenizer.texts_to_sequences(decoder_target_test)\n",
    "\n",
    "# 잘 변환되었는지 확인\n",
    "print('input')\n",
    "print('input ',decoder_input_train[:5])\n",
    "print('target')\n",
    "print('decoder ',decoder_target_train[:5])"
   ]
  },
  {
   "cell_type": "markdown",
   "id": "07dd2cc1",
   "metadata": {
    "id": "07dd2cc1"
   },
   "source": [
    "---\n",
    "요약문인 decoder_input에는 sostoken 또는 decoder_target에는 eostoken이 추가된 상태이고, 이 두 토큰은 모든 샘플에서 등장하므로 빈도수가 샘플 수와 동일하게 매우 높으므로 단어 집합 제한에도 삭제되지 않아요. 그래서 이제 길이가 0이 된 요약문의 실제 길이는 1로 나올 거예요. 길이 0이 된 decoder_input에는 sostoken, decoder_target에는 eostoken만 남아 있을 테니까요."
   ]
  },
  {
   "cell_type": "code",
   "execution_count": null,
   "id": "068574e7",
   "metadata": {
    "id": "068574e7",
    "outputId": "eee1dc3a-4788-4ff4-fb8f-3a4d73a0da20"
   },
   "outputs": [
    {
     "name": "stdout",
     "output_type": "stream",
     "text": [
      "삭제할 훈련 데이터의 개수 : 0\n",
      "삭제할 테스트 데이터의 개수 : 0\n",
      "훈련 데이터의 개수 : 59282\n",
      "훈련 레이블의 개수 : 59282\n",
      "테스트 데이터의 개수 : 14820\n",
      "테스트 레이블의 개수 : 14820\n"
     ]
    }
   ],
   "source": [
    "# 훈련 데이터와 테스트 데이터에 대해서 요약문의 길이가 1인 경우의 인덱스를\n",
    "# 각각 drop_train과 drop_test에 라는 변수에 저장후 모두 삭제\n",
    "drop_train = [index for index, sentence in enumerate(decoder_input_train) if len(sentence) == 1]\n",
    "drop_test = [index for index, sentence in enumerate(decoder_input_test) if len(sentence) == 1]\n",
    "\n",
    "print('삭제할 훈련 데이터의 개수 :', len(drop_train))\n",
    "print('삭제할 테스트 데이터의 개수 :', len(drop_test))\n",
    "\n",
    "encoder_input_train = [sentence for index, sentence in enumerate(encoder_input_train) if index not in drop_train]\n",
    "decoder_input_train = [sentence for index, sentence in enumerate(decoder_input_train) if index not in drop_train]\n",
    "decoder_target_train = [sentence for index, sentence in enumerate(decoder_target_train) if index not in drop_train]\n",
    "\n",
    "encoder_input_test = [sentence for index, sentence in enumerate(encoder_input_test) if index not in drop_test]\n",
    "decoder_input_test = [sentence for index, sentence in enumerate(decoder_input_test) if index not in drop_test]\n",
    "decoder_target_test = [sentence for index, sentence in enumerate(decoder_target_test) if index not in drop_test]\n",
    "\n",
    "print('훈련 데이터의 개수 :', len(encoder_input_train))\n",
    "print('훈련 레이블의 개수 :', len(decoder_input_train))\n",
    "print('테스트 데이터의 개수 :', len(encoder_input_test))\n",
    "print('테스트 레이블의 개수 :', len(decoder_input_test))"
   ]
  },
  {
   "cell_type": "markdown",
   "id": "31c8d0a6",
   "metadata": {
    "id": "31c8d0a6"
   },
   "source": [
    "패딩 적용"
   ]
  },
  {
   "cell_type": "code",
   "execution_count": null,
   "id": "85960029",
   "metadata": {
    "id": "85960029"
   },
   "outputs": [],
   "source": [
    "encoder_input_train = pad_sequences(encoder_input_train, maxlen=text_max_len, padding='pre')\n",
    "encoder_input_test = pad_sequences(encoder_input_test, maxlen=text_max_len, padding='pre')\n",
    "decoder_input_train = pad_sequences(decoder_input_train, maxlen=headlines_max_len, padding='pre')\n",
    "decoder_target_train = pad_sequences(decoder_target_train, maxlen=headlines_max_len, padding='pre')\n",
    "decoder_input_test = pad_sequences(decoder_input_test, maxlen=headlines_max_len, padding='pre')\n",
    "decoder_target_test = pad_sequences(decoder_target_test, maxlen=headlines_max_len, padding='pre')"
   ]
  },
  {
   "cell_type": "markdown",
   "id": "e64badbb",
   "metadata": {
    "id": "e64badbb"
   },
   "source": [
    "# 3.어텐션 메커니즘 사용하기 (추상적 요약)"
   ]
  },
  {
   "cell_type": "markdown",
   "id": "db571dcd",
   "metadata": {
    "id": "db571dcd"
   },
   "source": [
    "RNN을 이용한 인코더, 디코더 정의"
   ]
  },
  {
   "cell_type": "code",
   "execution_count": null,
   "id": "026990df",
   "metadata": {
    "id": "026990df"
   },
   "outputs": [],
   "source": [
    "from tensorflow.keras.layers import Input, LSTM, Embedding, Dense, Concatenate, TimeDistributed\n",
    "from tensorflow.keras.models import Model\n",
    "from tensorflow.keras.callbacks import EarlyStopping, ModelCheckpoint\n",
    "\n",
    "\n",
    "# 인코더 설계 시작\n",
    "embedding_dim = 128\n",
    "hidden_size = 256\n",
    "\n",
    "# 인코더\n",
    "encoder_inputs = Input(shape=(text_max_len,))\n",
    "\n",
    "# 인코더의 임베딩 층\n",
    "enc_emb = Embedding(src_vocab, embedding_dim)(encoder_inputs)\n",
    "\n",
    "# 인코더의 LSTM 1\n",
    "# encoder_lstm1 = LSTM(hidden_size, return_sequences=True, return_state=True ,dropout = 0.4, recurrent_dropout = 0.4)\n",
    "encoder_lstm1 = LSTM(hidden_size, return_sequences=True, return_state=True ,dropout = 0.4)\n",
    "x = encoder_lstm1(enc_emb)\n",
    "\n",
    "# 인코더의 LSTM 2\n",
    "encoder_lstm2 = LSTM(hidden_size, return_sequences=True, return_state=True ,dropout = 0.4)\n",
    "x = encoder_lstm2(x)\n",
    "\n",
    "# 인코더의 LSTM 3\n",
    "encoder_lstm3 = LSTM(hidden_size, return_sequences=True, return_state=True ,dropout = 0.4)\n",
    "encoder_outputs, state_h, state_c = encoder_lstm3(x)"
   ]
  },
  {
   "cell_type": "code",
   "execution_count": null,
   "id": "794cdddb",
   "metadata": {
    "id": "794cdddb"
   },
   "outputs": [],
   "source": [
    "# 디코더 설계\n",
    "decoder_inputs = Input(shape=(None,))\n",
    "\n",
    "# 디코더의 임베딩 층\n",
    "dec_emb_layer = Embedding(tar_vocab, embedding_dim)\n",
    "dec_emb = dec_emb_layer(decoder_inputs)\n",
    "\n",
    "# 디코더의 LSTM\n",
    "# decoder_lstm = LSTM(hidden_size, return_sequences=True, return_state=True, dropout=0.4, recurrent_dropout=0.2)\n",
    "decoder_lstm = LSTM(hidden_size, return_sequences=True, return_state=True, dropout=0.4)\n",
    "decoder_outputs, _, _ = decoder_lstm(dec_emb, initial_state=[state_h, state_c])"
   ]
  },
  {
   "cell_type": "code",
   "execution_count": null,
   "id": "a2d86462",
   "metadata": {
    "id": "a2d86462",
    "outputId": "223a880f-873c-46f2-9c68-3c6d078362f7",
    "scrolled": false
   },
   "outputs": [
    {
     "name": "stdout",
     "output_type": "stream",
     "text": [
      "Model: \"model\"\n",
      "__________________________________________________________________________________________________\n",
      "Layer (type)                    Output Shape         Param #     Connected to                     \n",
      "==================================================================================================\n",
      "input_1 (InputLayer)            [(None, 40)]         0                                            \n",
      "__________________________________________________________________________________________________\n",
      "embedding (Embedding)           (None, 40, 128)      2150400     input_1[0][0]                    \n",
      "__________________________________________________________________________________________________\n",
      "lstm (LSTM)                     [(None, 40, 256), (N 394240      embedding[0][0]                  \n",
      "__________________________________________________________________________________________________\n",
      "input_2 (InputLayer)            [(None, None)]       0                                            \n",
      "__________________________________________________________________________________________________\n",
      "lstm_1 (LSTM)                   [(None, 40, 256), (N 525312      lstm[0][0]                       \n",
      "                                                                 lstm[0][1]                       \n",
      "                                                                 lstm[0][2]                       \n",
      "__________________________________________________________________________________________________\n",
      "embedding_1 (Embedding)         (None, None, 128)    1152000     input_2[0][0]                    \n",
      "__________________________________________________________________________________________________\n",
      "lstm_2 (LSTM)                   [(None, 40, 256), (N 525312      lstm_1[0][0]                     \n",
      "                                                                 lstm_1[0][1]                     \n",
      "                                                                 lstm_1[0][2]                     \n",
      "__________________________________________________________________________________________________\n",
      "lstm_3 (LSTM)                   [(None, None, 256),  394240      embedding_1[0][0]                \n",
      "                                                                 lstm_2[0][1]                     \n",
      "                                                                 lstm_2[0][2]                     \n",
      "__________________________________________________________________________________________________\n",
      "dense (Dense)                   (None, None, 9000)   2313000     lstm_3[0][0]                     \n",
      "==================================================================================================\n",
      "Total params: 7,454,504\n",
      "Trainable params: 7,454,504\n",
      "Non-trainable params: 0\n",
      "__________________________________________________________________________________________________\n"
     ]
    }
   ],
   "source": [
    "# 디코더의 출력층\n",
    "decoder_softmax_layer = Dense(tar_vocab, activation='softmax')\n",
    "decoder_softmax_outputs = decoder_softmax_layer(decoder_outputs)\n",
    "\n",
    "# 모델 정의\n",
    "model = Model([encoder_inputs, decoder_inputs], decoder_softmax_outputs)\n",
    "model.summary()"
   ]
  },
  {
   "cell_type": "markdown",
   "id": "5b0149c4",
   "metadata": {
    "id": "5b0149c4"
   },
   "source": [
    "어텐션 메커니즘 추가"
   ]
  },
  {
   "cell_type": "code",
   "execution_count": null,
   "id": "4a66b448",
   "metadata": {
    "id": "4a66b448",
    "outputId": "2ab3e28e-81e3-40c2-f234-b832df3ce9d7"
   },
   "outputs": [
    {
     "name": "stdout",
     "output_type": "stream",
     "text": [
      "Model: \"model_1\"\n",
      "__________________________________________________________________________________________________\n",
      "Layer (type)                    Output Shape         Param #     Connected to                     \n",
      "==================================================================================================\n",
      "input_1 (InputLayer)            [(None, 40)]         0                                            \n",
      "__________________________________________________________________________________________________\n",
      "embedding (Embedding)           (None, 40, 128)      2150400     input_1[0][0]                    \n",
      "__________________________________________________________________________________________________\n",
      "lstm (LSTM)                     [(None, 40, 256), (N 394240      embedding[0][0]                  \n",
      "__________________________________________________________________________________________________\n",
      "input_2 (InputLayer)            [(None, None)]       0                                            \n",
      "__________________________________________________________________________________________________\n",
      "lstm_1 (LSTM)                   [(None, 40, 256), (N 525312      lstm[0][0]                       \n",
      "                                                                 lstm[0][1]                       \n",
      "                                                                 lstm[0][2]                       \n",
      "__________________________________________________________________________________________________\n",
      "embedding_1 (Embedding)         (None, None, 128)    1152000     input_2[0][0]                    \n",
      "__________________________________________________________________________________________________\n",
      "lstm_2 (LSTM)                   [(None, 40, 256), (N 525312      lstm_1[0][0]                     \n",
      "                                                                 lstm_1[0][1]                     \n",
      "                                                                 lstm_1[0][2]                     \n",
      "__________________________________________________________________________________________________\n",
      "lstm_3 (LSTM)                   [(None, None, 256),  394240      embedding_1[0][0]                \n",
      "                                                                 lstm_2[0][1]                     \n",
      "                                                                 lstm_2[0][2]                     \n",
      "__________________________________________________________________________________________________\n",
      "attention_layer (AdditiveAttent (None, None, 256)    256         lstm_3[0][0]                     \n",
      "                                                                 lstm_2[0][0]                     \n",
      "__________________________________________________________________________________________________\n",
      "concat_layer (Concatenate)      (None, None, 512)    0           lstm_3[0][0]                     \n",
      "                                                                 attention_layer[0][0]            \n",
      "__________________________________________________________________________________________________\n",
      "dense_1 (Dense)                 (None, None, 9000)   4617000     concat_layer[0][0]               \n",
      "==================================================================================================\n",
      "Total params: 9,758,760\n",
      "Trainable params: 9,758,760\n",
      "Non-trainable params: 0\n",
      "__________________________________________________________________________________________________\n"
     ]
    }
   ],
   "source": [
    "from tensorflow.keras.layers import AdditiveAttention\n",
    "\n",
    "# 어텐션 층(어텐션 함수)\n",
    "attn_layer = AdditiveAttention(name='attention_layer')\n",
    "\n",
    "# 인코더와 디코더의 모든 time step의 hidden state를 어텐션 층에 전달하고 결과를 리턴\n",
    "attn_out = attn_layer([decoder_outputs, encoder_outputs])\n",
    "\n",
    "\n",
    "# 어텐션의 결과와 디코더의 hidden state들을 연결\n",
    "decoder_concat_input = Concatenate(axis=-1, name='concat_layer')([decoder_outputs, attn_out])\n",
    "\n",
    "# 디코더의 출력층\n",
    "decoder_softmax_layer = Dense(tar_vocab, activation='softmax')\n",
    "decoder_softmax_outputs = decoder_softmax_layer(decoder_concat_input)\n",
    "\n",
    "# 모델 정의\n",
    "model = Model([encoder_inputs, decoder_inputs], decoder_softmax_outputs)\n",
    "model.summary()"
   ]
  },
  {
   "cell_type": "markdown",
   "id": "78444ec9",
   "metadata": {
    "id": "78444ec9"
   },
   "source": [
    "# 4. 실제 결과와 요약문 비교하기 (추상적 요약)"
   ]
  },
  {
   "cell_type": "markdown",
   "id": "82ce8c26",
   "metadata": {
    "id": "82ce8c26"
   },
   "source": [
    "모델 훈련 및 시각화"
   ]
  },
  {
   "cell_type": "code",
   "execution_count": null,
   "id": "27242ae2",
   "metadata": {
    "id": "27242ae2",
    "outputId": "461fc386-cbe9-416e-e8fd-5422e9f2125e"
   },
   "outputs": [
    {
     "name": "stdout",
     "output_type": "stream",
     "text": [
      "Epoch 1/50\n",
      "232/232 [==============================] - 26s 80ms/step - loss: 6.2526 - val_loss: 5.8649\n",
      "Epoch 2/50\n",
      "232/232 [==============================] - 18s 77ms/step - loss: 5.8966 - val_loss: 5.7506\n",
      "Epoch 3/50\n",
      "232/232 [==============================] - 18s 78ms/step - loss: 5.7622 - val_loss: 5.5614\n",
      "Epoch 4/50\n",
      "232/232 [==============================] - 18s 79ms/step - loss: 5.5180 - val_loss: 5.3556\n",
      "Epoch 5/50\n",
      "232/232 [==============================] - 19s 80ms/step - loss: 5.2448 - val_loss: 5.1179\n",
      "Epoch 6/50\n",
      "232/232 [==============================] - 19s 81ms/step - loss: 4.9873 - val_loss: 4.8978\n",
      "Epoch 7/50\n",
      "232/232 [==============================] - 19s 83ms/step - loss: 4.7585 - val_loss: 4.7425\n",
      "Epoch 8/50\n",
      "232/232 [==============================] - 19s 84ms/step - loss: 4.5557 - val_loss: 4.6092\n",
      "Epoch 9/50\n",
      "232/232 [==============================] - 20s 85ms/step - loss: 4.3900 - val_loss: 4.5274\n",
      "Epoch 10/50\n",
      "232/232 [==============================] - 20s 85ms/step - loss: 4.2427 - val_loss: 4.4474\n",
      "Epoch 11/50\n",
      "232/232 [==============================] - 20s 85ms/step - loss: 4.1118 - val_loss: 4.3990\n",
      "Epoch 12/50\n",
      "232/232 [==============================] - 20s 84ms/step - loss: 3.9907 - val_loss: 4.3413\n",
      "Epoch 13/50\n",
      "232/232 [==============================] - 20s 84ms/step - loss: 3.8787 - val_loss: 4.2996\n",
      "Epoch 14/50\n",
      "232/232 [==============================] - 20s 84ms/step - loss: 3.7715 - val_loss: 4.2707\n",
      "Epoch 15/50\n",
      "232/232 [==============================] - 20s 84ms/step - loss: 3.6683 - val_loss: 4.2396\n",
      "Epoch 16/50\n",
      "232/232 [==============================] - 20s 85ms/step - loss: 3.5769 - val_loss: 4.2115\n",
      "Epoch 17/50\n",
      "232/232 [==============================] - 20s 85ms/step - loss: 3.4880 - val_loss: 4.1986\n",
      "Epoch 18/50\n",
      "232/232 [==============================] - 20s 84ms/step - loss: 3.4039 - val_loss: 4.1834\n",
      "Epoch 19/50\n",
      "232/232 [==============================] - 20s 85ms/step - loss: 3.3247 - val_loss: 4.1642\n",
      "Epoch 20/50\n",
      "232/232 [==============================] - 20s 84ms/step - loss: 3.2500 - val_loss: 4.1587\n",
      "Epoch 21/50\n",
      "232/232 [==============================] - 20s 84ms/step - loss: 3.1789 - val_loss: 4.1491\n",
      "Epoch 22/50\n",
      "232/232 [==============================] - 20s 84ms/step - loss: 3.1060 - val_loss: 4.1616\n",
      "Epoch 23/50\n",
      "232/232 [==============================] - 20s 84ms/step - loss: 3.0427 - val_loss: 4.1382\n",
      "Epoch 24/50\n",
      "232/232 [==============================] - 20s 84ms/step - loss: 2.9813 - val_loss: 4.1523\n",
      "Epoch 25/50\n",
      "232/232 [==============================] - 20s 84ms/step - loss: 2.9231 - val_loss: 4.1551\n",
      "Epoch 00025: early stopping\n"
     ]
    }
   ],
   "source": [
    "model.compile(optimizer='rmsprop', loss='sparse_categorical_crossentropy')\n",
    "es = EarlyStopping(monitor='val_loss', patience=2, verbose=1)\n",
    "history = model.fit(x=[encoder_input_train, decoder_input_train], y=decoder_target_train, \\\n",
    "          validation_data=([encoder_input_test, decoder_input_test], decoder_target_test), \\\n",
    "          batch_size=256, callbacks=[es], epochs=50)"
   ]
  },
  {
   "cell_type": "code",
   "execution_count": null,
   "id": "e0585d47",
   "metadata": {
    "id": "e0585d47",
    "outputId": "44c50dd9-cbc4-4aae-c11d-e9a0bf03548f"
   },
   "outputs": [
    {
     "data": {
      "image/png": "[encoded data removed]",
      "text/plain": [
       "<Figure size 432x288 with 1 Axes>"
      ]
     },
     "metadata": {
      "needs_background": "light"
     },
     "output_type": "display_data"
    }
   ],
   "source": [
    "plt.plot(history.history['loss'], label='train')\n",
    "plt.plot(history.history['val_loss'], label='test')\n",
    "plt.legend()\n",
    "plt.show()"
   ]
  },
  {
   "cell_type": "markdown",
   "id": "1c40c81f",
   "metadata": {
    "id": "1c40c81f"
   },
   "source": [
    "인퍼런스 모델 구현"
   ]
  },
  {
   "cell_type": "code",
   "execution_count": null,
   "id": "f505e67f",
   "metadata": {
    "id": "f505e67f"
   },
   "outputs": [],
   "source": [
    "# 원문 단어 집합에서 정수 -> 단어를 얻음\n",
    "src_index_to_word = src_tokenizer.index_word\n",
    "# 요약 단어 집합에서 단어 -> 정수를 얻음\n",
    "tar_word_to_index = tar_tokenizer.word_index\n",
    "# 요약 단어 집합에서 정수 -> 단어를 얻음\n",
    "tar_index_to_word = tar_tokenizer.index_word"
   ]
  },
  {
   "cell_type": "code",
   "execution_count": null,
   "id": "88a3d970",
   "metadata": {
    "id": "88a3d970"
   },
   "outputs": [],
   "source": [
    "# 인코더 설계\n",
    "encoder_model = Model(inputs=encoder_inputs, outputs=[encoder_outputs, state_h, state_c])\n",
    "\n",
    "# 이전 시점의 상태들을 저장하는 텐서\n",
    "decoder_state_input_h = Input(shape=(hidden_size,))\n",
    "decoder_state_input_c = Input(shape=(hidden_size,))\n",
    "\n",
    "dec_emb2 = dec_emb_layer(decoder_inputs)\n",
    "\n",
    "# 문장의 다음 단어를 예측하기 위해서 초기 상태(initial_state)를 이전 시점의 상태로 사용. 이는 뒤의 함수 decode_sequence()에 구현\n",
    "# 훈련 과정에서와 달리 LSTM의 리턴하는 은닉 상태와 셀 상태인 state_h와 state_c를 버리지 않음.\n",
    "decoder_outputs2, state_h2, state_c2 = decoder_lstm(dec_emb2, initial_state=[decoder_state_input_h, decoder_state_input_c])"
   ]
  },
  {
   "cell_type": "code",
   "execution_count": null,
   "id": "4f140937",
   "metadata": {
    "id": "4f140937"
   },
   "outputs": [],
   "source": [
    "# 어텐션 함수\n",
    "decoder_hidden_state_input = Input(shape=(text_max_len, hidden_size))\n",
    "attn_out_inf = attn_layer([decoder_outputs2, decoder_hidden_state_input])\n",
    "decoder_inf_concat = Concatenate(axis=-1, name='concat')([decoder_outputs2, attn_out_inf])\n",
    "\n",
    "# 디코더의 출력층\n",
    "decoder_outputs2 = decoder_softmax_layer(decoder_inf_concat)\n",
    "\n",
    "# 최종 디코더 모델\n",
    "decoder_model = Model(\n",
    "    [decoder_inputs] + [decoder_hidden_state_input,decoder_state_input_h, decoder_state_input_c],\n",
    "    [decoder_outputs2] + [state_h2, state_c2])"
   ]
  },
  {
   "cell_type": "code",
   "execution_count": null,
   "id": "2a8af2e0",
   "metadata": {
    "id": "2a8af2e0"
   },
   "outputs": [],
   "source": [
    "def decode_sequence(input_seq):\n",
    "    # 입력으로부터 인코더의 상태를 얻음\n",
    "    e_out, e_h, e_c = encoder_model.predict(input_seq)\n",
    "\n",
    "     # <SOS>에 해당하는 토큰 생성\n",
    "    target_seq = np.zeros((1,1))\n",
    "    target_seq[0, 0] = tar_word_to_index['sostoken']\n",
    "\n",
    "    stop_condition = False\n",
    "    decoded_sentence = ''\n",
    "    while not stop_condition: # stop_condition이 True가 될 때까지 루프 반복\n",
    "\n",
    "        output_tokens, h, c = decoder_model.predict([target_seq] + [e_out, e_h, e_c])\n",
    "        sampled_token_index = np.argmax(output_tokens[0, -1, :])\n",
    "        sampled_token = tar_index_to_word[sampled_token_index]\n",
    "\n",
    "        if (sampled_token!='eostoken'):\n",
    "            decoded_sentence += ' '+sampled_token\n",
    "\n",
    "        #  <eos>에 도달하거나 최대 길이를 넘으면 중단.\n",
    "        if (sampled_token == 'eostoken'  or len(decoded_sentence.split()) >= (headlines_max_len-1)):\n",
    "            stop_condition = True\n",
    "\n",
    "        # 길이가 1인 타겟 시퀀스를 업데이트\n",
    "        target_seq = np.zeros((1,1))\n",
    "        target_seq[0, 0] = sampled_token_index\n",
    "\n",
    "        # 상태를 업데이트 합니다.\n",
    "        e_h, e_c = h, c\n",
    "\n",
    "    return decoded_sentence"
   ]
  },
  {
   "cell_type": "markdown",
   "id": "1850e620",
   "metadata": {
    "id": "1850e620"
   },
   "source": [
    "모델 테스트"
   ]
  },
  {
   "cell_type": "code",
   "execution_count": null,
   "id": "79b2d933",
   "metadata": {
    "id": "79b2d933"
   },
   "outputs": [],
   "source": [
    "# 원문의 정수 시퀀스를 텍스트 시퀀스로 변환\n",
    "def seq2text(input_seq):\n",
    "    temp=''\n",
    "    for i in input_seq:\n",
    "        if (i!=0):\n",
    "            temp = temp + src_index_to_word[i]+' '\n",
    "    return temp\n",
    "\n",
    "# 요약문의 정수 시퀀스를 텍스트 시퀀스로 변환\n",
    "def seq2headlines(input_seq):\n",
    "    temp = ''\n",
    "    for i in input_seq:\n",
    "        # 0은 패딩된 값이므로 제외\n",
    "        if (i != 0 and i != tar_index_to_word.get('sostoken', -1) and i != tar_index_to_word.get('eostoken', -1)):\n",
    "            temp = temp + tar_index_to_word[i] + ' '\n",
    "    return temp.strip()"
   ]
  },
  {
   "cell_type": "code",
   "execution_count": null,
   "id": "069b9566",
   "metadata": {
    "id": "069b9566",
    "outputId": "eb384eb2-c770-40f1-b3d1-7c35a530db5d",
    "scrolled": false
   },
   "outputs": [
    {
     "name": "stdout",
     "output_type": "stream",
     "text": [
      "원문 : minor leakage detected acid storage plant sterlite copper tamil nadu tuticorin sealed protests last month look decided evacuate storage tomorrow safety district collector sandeep said added necessary security protocols followed \n",
      "실제 요약 : sostoken acid leak detected at sealed sterlite plant in tn\n",
      "예측 요약 :  tn govt bans sale of sterlite plant from sterlite\n",
      "\n",
      "\n",
      "원문 : release date manoj bajpayee starrer announced september manoj best actor award film indian film festival melbourne jain directorial debut film also special jury mention festival film also stars neeraj \n",
      "실제 요약 : sostoken release date of manoj bajpayee announced\n",
      "예측 요약 :  release date of akshay kumar starrer starrer hits out\n",
      "\n",
      "\n",
      "원문 : ernakulam principal sessions court kerala thursday sentenced convict islam death raping murdering law student april raped murdered residence allegedly influence alcohol murder led widespread public protests debates women safety state \n",
      "실제 요약 : sostoken rape and murder convict sentenced to death\n",
      "예측 요약 :  sentenced to death for raping yr old rape case\n",
      "\n",
      "\n",
      "원문 : fish communicate underwater sounds created according study high pitch sound helps fish communicate night without alerting predators helping fish form protective according study noise always accompanied stream bubbles \n",
      "실제 요약 : sostoken fish communicate through\n",
      "예측 요약 :  brain whale found in hours after being declared fish\n",
      "\n",
      "\n",
      "원문 : lipstick burkha actress body shamed posting picture bikini need lose fat belly commented user workout wrote another user later posted picture captioned shape world world shape us said response trolls \n",
      "실제 요약 : lipstick under my burkha actress body shamed for bikini pic\n",
      "예측 요약 :  twitter reacts to fan who trolled trolled for trolled\n",
      "\n",
      "\n",
      "원문 : veteran actress julie lending voice character named jason starrer confirming news producer film peter said wanted voice classic british actress found julie interested available casting \n",
      "실제 요약 : sostoken julie to voice to jason starrer\n",
      "예측 요약 :  baahubali film on film scenes over nude scenes scenes\n",
      "\n",
      "\n",
      "원문 : kannada actor son actor politician stabbed reportedly altercation scolded person riding speeding motorbike incident occurred actor gone drop children school said son fine ruled enmity angle \n",
      "실제 요약 : sostoken kannada actor stabbed over road rage report\n",
      "예측 요약 :  my son is my car accident on tv actress\n",
      "\n",
      "\n",
      "원문 : slamming government unnao kathua rape cases letter pm narendra modi group retired bureaucrats said darkest hour post independence india adding response government leaders political parties inadequate former bureaucrats called current situation moment crisis nn \n",
      "실제 요약 : sostoken kathua unnao cases hour ex bureaucrats to pm modi\n",
      "예측 요약 :  pm modi is on kathua rape cases arun jaitley\n",
      "\n",
      "\n",
      "원문 : around lakh indians participated inshorts pulse nation poll said satisfied current government around believe corporate frauds decreased feel change feel internal conflicts affecting harmony increased feel change \n",
      "실제 요약 : sostoken with the current government of the nation poll\n",
      "예측 요약 :  govt to hire new notes to remain amid demonetisation\n",
      "\n",
      "\n",
      "원문 : woman china holds guinness world record longest upper left measuring inches long said first noticed growing year long nature retreat four years ago said growth due lifestyle one nature \n",
      "실제 요약 : sostoken world longest is almost long\n",
      "예측 요약 :  woman sets record for world longest longest ever woman\n",
      "\n",
      "\n",
      "원문 : north korean leader kim jong un willing discuss denuclearisation korean peninsula us according reports quoting us official north delivered message secret talks representatives us officials reports claimed us president donald trump expected meet north korean leader first time next month \n",
      "실제 요약 : sostoken korea willing to discuss denuclearisation with us reports\n",
      "예측 요약 :  korea cancels talks with north korea talks with korea\n",
      "\n",
      "\n",
      "원문 : kolkata police arrested woman friday allegedly trying poison two manufacturer went collect cash residence cheque bounced asked discount expired however one started collapsing consumed soft drink offered lady \n",
      "실제 요약 : sostoken woman poisons to avoid payment in kolkata arrested\n",
      "예측 요약 :  man arrested for trying to recover money to thief\n",
      "\n",
      "\n",
      "원문 : proton found percent lighter thought germany based research measured particle mass three times higher accuracy previous best effort findings could help ascertain proton radius appears smaller predicted subsequently matter compared universe researchers said \n",
      "실제 요약 : sostoken found to be by of\n",
      "예측 요약 :  first ever ever ever found in first time ever\n",
      "\n",
      "\n",
      "원문 : model accused mohamed hadid date rape said boasted supermodel daughters gigi hadid bella hadid lure young women bed hadid reportedly sent messages models instagram introducing gigi bella father also accused guess co founder paul sexual assault filed complaint men \n",
      "실제 요약 : sostoken hadid used daughters names to women into bed model\n",
      "예측 요약 :  was seen in old version of her jennifer lawrence\n",
      "\n",
      "\n",
      "원문 : brazilian football player neymar jr called current barcelona president maria joke brazilian commented president joke instagram photo featured spanish quote read made mistake neymar father earlier stated barcelona would better without neymar \n",
      "실제 요약 : sostoken neymar calls barcelona president joke\n",
      "예측 요약 :  player who called ronaldo tweets user on wc tweet\n",
      "\n",
      "\n",
      "원문 : nasa wednesday announced spacex crew dragon spacecraft first test flight set january would lift spacex falcon rocket launch pad kennedy space center sent apollo three man crew moon spacex plans launch astronauts international space station june \n",
      "실제 요약 : nasa reveals spacex crew rocket set for january test flight\n",
      "예측 요약 :  nasa spacecraft completes st ever ever rocket spacecraft ever\n",
      "\n",
      "\n",
      "원문 : iranian supreme leader ayatollah ali khamenei admitted made mistake allowing country foreign minister mohammad javad zarif speak us counterpart john negotiations led nuclear deal loss us khamenei said amid heightened tensions two nations \n",
      "실제 요약 : iran supreme leader admits mistake over nuke talks with us\n",
      "예측 요약 :  iran will not be nuclear nuclear iran nuclear deal\n",
      "\n",
      "\n",
      "원문 : issued fatwa singer sonu nigam remarks azaan promised lakh reward anyone shave latter head reacting nigam tweeted today pm come place shave head keep lakhs ready sonu tweeted \n",
      "실제 요약 : sostoken lakh reward for shaving sonu head issues fatwa\n",
      "예측 요약 :  sonu nigam actor to be removed from politics reports\n",
      "\n",
      "\n",
      "원문 : sun tv network limited decided discontinue news karnataka oldest news channel effect october broadcasters informed move letter karnataka government stating losses reason closing year old channel reportedly lead employees losing jobs \n",
      "실제 요약 : sostoken sun tv to karnataka oldest news channel\n",
      "예측 요약 :  man who got to be fined for paradise papers\n",
      "\n",
      "\n",
      "원문 : global rating agency moody said india likely miss fiscal deficit target due higher oil prices rising interest rates government set target reducing fiscal deficit gdp however moody maintained temporary fiscal robust gdp growth \n",
      "실제 요약 : sostoken india may miss fiscal deficit target in moody\n",
      "예측 요약 :  india gdp growth rate rate at fy against gdp\n",
      "\n",
      "\n",
      "원문 : group four men allegedly kidnapped two children aged six eight family uttar pradesh thursday refused ransom lakh tortured gave children electric shocks killed younger child police said mastermind behind kidnapping worked domestic help children house \n",
      "실제 요약 : sostoken kill of abducted kids after denied ransom\n",
      "예측 요약 :  year old boy found dead in delhi school rescued\n",
      "\n",
      "\n",
      "원문 : least people killed fire broke hotel chinese city saturday officials said took firefighters three hours blaze hot springs leisure hotel fire reportedly broke kitchen hotel second floor \n",
      "실제 요약 : sostoken killed in fire at hotel in china\n",
      "예측 요약 :  fire breaks out at factory in factory in brazil\n",
      "\n",
      "\n",
      "원문 : congress mla went knees apologise patients admitted hospital constituency assam poor availability healthcare services said none eight doctors appointed state government available hospital visit meanwhile bjp dismissed actions drama \n",
      "실제 요약 : sostoken assam mla goes down on to apologise to patients\n",
      "예측 요약 :  bjp mla gets from hospital admitted to hospital hospital\n",
      "\n",
      "\n",
      "원문 : bigg boss season winner prince got married girlfriend chaudhary mumbai friday presence friends family colleagues television film industry wedding attended tabu suniel shetty cricketer irfan pathan neha dhupia among others prince met bigg boss season \n",
      "실제 요약 : sostoken bigg boss winner prince gets married to\n"
     ]
    },
    {
     "name": "stdout",
     "output_type": "stream",
     "text": [
      "예측 요약 :  sania mirza to marry girlfriend at their wedding reports\n",
      "\n",
      "\n",
      "원문 : stating india million internet subscribers telecom regulatory authority india chairman rs sharma said internet kept free open recommendations net neutrality trai tuesday said telecom operators barred discriminatory providing internet access \n",
      "실제 요약 : sostoken internet should not be trai chairman\n",
      "예측 요약 :  india internet internet access to be data by india\n",
      "\n",
      "\n",
      "원문 : national award winning actress usha jadhav revealing faced casting couch said asked give something return star film said something lines money told money sleeping producer director added \n",
      "실제 요약 : was told to sleep with director says national award winner\n",
      "예측 요약 :  have not part of casting couch in wood director\n",
      "\n",
      "\n",
      "원문 : nine year old girl allegedly gangraped killed along minor brother sunday bihar bodies found bank river search launched return home evening police said parents identified three persons village culprits \n",
      "실제 요약 : yr old girl gangraped killed with minor brother in bihar\n",
      "예측 요약 :  year old girl raped by men in uttar pradesh\n",
      "\n",
      "\n",
      "원문 : babita kumari phogat silver medal women freestyle kg system event thursday claim india first wrestling medal commonwealth games year old third commonwealth medal winning gold glasgow silver delhi three indian wrestlers fighting medal today \n",
      "실제 요약 : sostoken babita phogat wins india st wrestling medal at cwg\n",
      "예측 요약 :  india gold medalist gold at asiad ship wins gold\n",
      "\n",
      "\n",
      "원문 : janata dal legislators today removed sharad yadav leader rajya sabha replaced singh bihar jd president said yadav opposed party decision ally bjp bihar breaking grand alliance congress rjd comes day jd sacked another rajya sabha member anwar ali \n",
      "실제 요약 : sharad yadav removed as leader of jd in rajya sabha\n",
      "예측 요약 :  nitish kumar to contest from nitish kumar in delhi\n",
      "\n",
      "\n",
      "원문 : hdfc chairman deepak parekh said call year budget affordable housing budget adding government focusing practical realistic steps good developers consumers lenders excited housing growth india next years never parekh added \n",
      "실제 요약 : sostoken govt taking steps for housing parekh\n",
      "예측 요약 :  rupee not reason for any time says niti aayog\n",
      "\n",
      "\n",
      "원문 : year old class student allegedly committed suicide hanging hostel room outskirts hyderabad wednesday reportedly cut bed sheet vertically made rope tied ceiling fan hanged family members suspect boy might subjected physical harassment \n",
      "실제 요약 : sostoken class student commits suicide in his hyderabad hostel room\n",
      "예측 요약 :  student commits suicide after being forced to commit suicide\n",
      "\n",
      "\n",
      "원문 : aditya pancholi said actress kangana ranaut give unconditional apology platforms falsely accused filing criminal defamation suit kangana unable prove allegations locked jail else locked added \n",
      "실제 요약 : sostoken kangana should give me an apology pancholi\n",
      "예측 요약 :  kangana ranaut sends notice to kangana ranaut over rape\n",
      "\n",
      "\n",
      "원문 : lucky air passenger accidentally deployed emergency slide opened emergency exit hot aircraft landed china passenger detained days later said know cabin door meanwhile airline said would seek compensation man \n",
      "실제 요약 : sostoken flyer opens emergency exit deploys as cabin was hot\n",
      "예측 요약 :  man who diverted after being made by plane plane\n",
      "\n",
      "\n",
      "원문 : karnataka government revealed prasad served people temple claimed lives people dangerous substance prasad laced dangerous humans karnataka deputy cm parameshwara said investigation believe one two days truth come added \n",
      "실제 요약 : sostoken dangerous substance found in karnataka temple prasad govt\n",
      "예측 요약 :  up cm yogi adityanath officials with dalit in lucknow\n",
      "\n",
      "\n",
      "원문 : nine people including four students arrested connection alleged gangrape class student boarding school uttarakhand remaining five people arrested include school staff attempted suppress case incident reported girl told sister one month pregnant \n",
      "실제 요약 : sostoken arrested over minor gangrape in khand boarding school\n",
      "예측 요약 :  class student held for raping class school in school\n",
      "\n",
      "\n",
      "원문 : investigation call details record scam revealed kangana ranaut shared hrithik roshan mobile number accused case rizwan siddiqui per thane dcp abhishek added reason known yet meanwhile jackie shroff wife ayesha procured sahil khan shared rizwan \n",
      "실제 요약 : sostoken kangana shared hrithik number with call record scam accused\n",
      "예측 요약 :  kangana ranaut to be held for raping minor girl\n",
      "\n",
      "\n",
      "원문 : us president donald trump offered build wall crime fall new republican party theme referring demands build wall along us mexico border bid curb illegal migration crime us government partially shut month trump demands funds build wall \n",
      "실제 요약 : sostoken build wall crime will fall trump new party theme\n",
      "예측 요약 :  trump warns us border wall over wall of migrants\n",
      "\n",
      "\n",
      "원문 : sidelined aiadmk leader ttv dhinakaran friday took oath independent mla tamil nadu assembly winning bypolls late cm jayalalithaa rk nagar constituency fourteen former aiadmk mlas disqualified supporting ttv dhinakaran also present ceremony election earlier scheduled april cancelled bribery corruption \n",
      "실제 요약 : ttv dhinakaran takes oath as mla from rk nagar constituency\n",
      "예측 요약 :  tn cm nitish kumar dhinakaran announces jayalalithaa to hospital\n",
      "\n",
      "\n",
      "원문 : china communist party official muslim majority xinjiang province smoke front local religious leaders said notice posted online official added behaviour smoke extreme religious thought party chief lead fight extreme religious thought \n",
      "실제 요약 : sostoken chinese official for not smoking near muslim leaders\n",
      "예측 요약 :  china denies reports of chinese flag from chinese temple\n",
      "\n",
      "\n",
      "원문 : ski resort made shipping containers built georgia guest rooms ski yoga resort include twin beds resort also features dining area swimming pool many skiing trails near resort \n",
      "실제 요약 : sostoken resort made of shipping built into\n",
      "예측 요약 :  chennai house serves lakh to build house in chennai\n",
      "\n",
      "\n",
      "원문 : resigning uk foreign secretary boris johnson warned brexit dream dying britain headed status colony plan stay close european union brexit chance particular uk open looking global economy added \n",
      "실제 요약 : sostoken brexit dream is dying ex uk foreign secretary johnson\n",
      "예측 요약 :  uk state secretary calls for brexit talks with brexit\n",
      "\n",
      "\n",
      "원문 : technology giant apple working noise cancelling ear headphones plans launch end according reports however company facing development challenges might push back release product reports highlighted possible apple might redesign headphones launch cancel project altogether \n",
      "실제 요약 : sostoken apple planning for its own over ear headphones report\n",
      "예측 요약 :  apple working on iphone launch in its own report\n",
      "\n",
      "\n",
      "원문 : bjp led jharkhand government tuesday announced implementation reservation government jobs education economically weaker sections general category meanwhile gujarat implemented reservation monday himachal pradesh announced bring force soon amendment approved parliament last week received president ram nath kovind assent saturday \n",
      "실제 요약 : sostoken general category quota comes into force in jharkhand\n",
      "예측 요약 :  govt approves quota for general category quota in himachal\n",
      "\n",
      "\n",
      "원문 : bipasha basu speaking sexual harassment allegations director sajid khan said general attitude towards women would disturb cracked lewd jokes openly pretty rude girls however added never faced behaviour sajid bipasha earlier worked sajid film \n",
      "실제 요약 : sostoken sajid jokes openly was to women bipasha\n",
      "예측 요약 :  metoo movement is not sexually assaulted by pooja director\n",
      "\n",
      "\n",
      "원문 : first th annual screen actors guild awards presented entirely women announced organisers wednesday acknowledging year woman said executive producer ceremony additionally organisers also announced actress bell first ever host award ceremony \n",
      "실제 요약 : sostoken screen actors awards to have only women\n",
      "예측 요약 :  st ever oscar winner held for first female oscar\n",
      "\n",
      "\n",
      "원문 : film follows story overseas cricket coach plotting defeat indians secret strategy making team think like indians drives become indian ever imagine training like indians eating like indians dancing like indians even flying like indians \n",
      "실제 요약 : sostoken new film celebrates india growing influence\n",
      "예측 요약 :  india ranks world cup ambassador for the world cup\n",
      "\n",
      "\n",
      "원문 : google celebrated th anniversary mechanism discovery doodle wednesday may greek found bronze turned part mechanism computer dated bc gear like structure tracked planetary positions predicted even signalled next olympic games \n",
      "실제 요약 : sostoken what is today google doodle\n"
     ]
    },
    {
     "name": "stdout",
     "output_type": "stream",
     "text": [
      "예측 요약 :  google unveils st ever art of its hawking ever\n",
      "\n",
      "\n",
      "원문 : uttar pradesh labour minister swami prasad maurya friday claimed congress president rahul gandhi deserve lead india oldest political party maurya said rahul gandhi continuously calling prime minister thief look decency modi responding \n",
      "실제 요약 : sostoken rahul is unfit to be cong chief up minister\n",
      "예측 요약 :  rahul gandhi is not just pappu rahul gandhi pappu\n",
      "\n",
      "\n",
      "원문 : bjp president amit shah monday claimed congress leaders ashamed saying bharat mata ki jai addressing rally poll bound madhya pradesh also asked opposition party give details performance power lauded state government bringing huge reforms agriculture sector \n",
      "실제 요약 : sostoken cong leaders ashamed of saying bharat ki jai shah\n",
      "예측 요약 :  amit shah shah calls for shah on his rally\n",
      "\n",
      "\n",
      "원문 : indian origin ravindra become first non white circuit judge old bailey central criminal court england wales currently also youngest judge court called bar interview year old said often mistaken witness defendant entering legal profession \n",
      "실제 요약 : indian origin woman st non white judge at london court\n",
      "예측 요약 :  indian origin judge judge gets year jail for spying\n",
      "\n",
      "\n",
      "원문 : newly inaugurated jp setu rail cum road bridge across ganga patna declared selfie zone four deaths reported seven accidents since opening patna police impose penalty found taking selfies stopping vehicles people fined first day \n",
      "실제 요약 : patna bridge made no selfie zone after deaths in days\n",
      "예측 요약 :  bengaluru to get up from stampede to start from\n",
      "\n",
      "\n",
      "원문 : ranchi court monday pronounced rjd chief lalu prasad yadav guilty fourth fodder scam case case pertains fraudulent withdrawal crore treasury yadav bihar chief minister two decades ago yadav convicted three fodder scam cases currently serving jail sentences \n",
      "실제 요약 : sostoken lalu prasad yadav convicted in fourth fodder scam case\n",
      "예측 요약 :  lalu yadav lalu yadav convicted in fodder scam case\n",
      "\n",
      "\n",
      "원문 : reserve bank new zealand acting governor grant spencer said bitcoin unstable useful future adding cryptocurrency looks like bubble said bubble never know far going go comes notably bitcoin soared year \n",
      "실제 요약 : sostoken bitcoin too to be nz central bank chief\n",
      "예측 요약 :  bitcoin is not be allowed to pay price pai\n",
      "\n",
      "\n",
      "원문 : canadian scientist nobel prize medicine age remains youngest medicine nobel laureate till date one first extract insulin hormone awarded nobel john professor university toronto time \n",
      "실제 요약 : sostoken inventor of is youngest medicine nobel winner at\n",
      "예측 요약 :  nobel prize nobel prize prize money in chemistry in\n",
      "\n",
      "\n",
      "원문 : pakistani legend wasim akram took twitter share pictures training six year old hasan akhtar whose video bowling repeatedly single stump rested wall surfaced online video went viral akram tweeted boy serious talent flowing nation \n",
      "실제 요약 : akram trains yr old whose stump bowling video went viral\n",
      "예측 요약 :  pak cricketer shares video of mocking his english molesting\n",
      "\n",
      "\n",
      "원문 : bjp veteran leader five time mla jai ram thakur appointed chief minister himachal pradesh comes party chief ministerial candidate prem kumar dhumal lost state assembly election seat votes thakur constituency congress candidate ram margin votes \n",
      "실제 요약 : sostoken jai ram thakur appointed as himachal pradesh chief minister\n",
      "예측 요약 :  bjp mla singh quits as bjp after his win\n",
      "\n",
      "\n",
      "원문 : tata steel paid bonuses worth million top european managers retention bonus reportedly awarded top managers uk dutch offices details payments made leaked dutch whistleblower company admitted payment bonuses \n",
      "실제 요약 : sostoken tata steel paid crore as bonus to top european\n",
      "예측 요약 :  infosys to pay crore to settle crore fraud case\n",
      "\n",
      "\n",
      "원문 : snapdeal founders kunal bahl rohit bansal early investor nexus venture partners reportedly reached agreement biggest investor softbank sale flipkart flipkart expected sign term sheet start due snapdeal earlier reports claimed deal hit founders investor nexus agree softbank terms \n",
      "실제 요약 : sostoken flipkart to buy snapdeal as investor founders agree report\n",
      "예측 요약 :  snapdeal founders deal with flipkart flipkart for snapdeal buyout\n",
      "\n",
      "\n",
      "원문 : several neet aspirants tamil nadu cut shirt exam sunday cbse permitted half shirts examination hall candidates also remove among accessories accessories also barred items like pen pencil also left outside examination hall \n",
      "실제 요약 : sostoken neet candidates forced to cut off shirt before exam\n",
      "예측 요약 :  cbse to be mandatory for marks from cbse exams\n",
      "\n",
      "\n",
      "원문 : india gaming federation revealed approximately crore bet india pakistan champions trophy final sunday india touted favourite bet betting pakistan yield additionally ceo roland said approximately lakh crore bet india matches yearly \n",
      "실제 요약 : sostoken crore bet on india pakistan champions trophy final\n",
      "예측 요약 :  india lost india most valuable indian men in india\n",
      "\n",
      "\n",
      "원문 : restaurant order mistakes tokyo employs dementia diners expect receive wrong order restaurant aims raise awareness mental illness show people dementia productive members society food blogger ordered burger received said meal still delicious \n",
      "실제 요약 : sostoken restaurant serves wrong orders to raise awareness\n",
      "예측 요약 :  eatery to be fined for its own restaurant in\n",
      "\n",
      "\n",
      "원문 : pakistan said indian aggression given response pay india coin comes defence minister nirmala sitharaman said pakistan pay army camp five jawans martyred sitharaman said militants behind attack controlled pakistan \n",
      "실제 요약 : sostoken any indian will get response pak\n",
      "예측 요약 :  india is not indian army chief on terror attacks\n",
      "\n",
      "\n",
      "원문 : crpf saturday arrested four naxals chhattisgarh district search operation days crpf personnel martyred encounter naxals sukma meeting chaired special director general dm held earlier centre also said would review revise left wing extremism strategy required \n",
      "실제 요약 : sostoken crpf arrests four naxals in chhattisgarh\n",
      "예측 요약 :  maoists arrested in chhattisgarh maoist attack on naxal violence\n",
      "\n",
      "\n",
      "원문 : sacked censor board chairman pahlaj nihalani talking meeting kangana ranaut first time signed first film love boss said influence pahlaj said felt star material open straight forward transparent \n",
      "실제 요약 : sostoken kangana had no influence on her pahlaj nihalani\n",
      "예측 요약 :  cbfc denies writer of film in film medium film\n",
      "\n",
      "\n",
      "원문 : indian pacer jasprit bumrah said indian captain virat kohli gives freedom express field bowl according situations whether death beginning aim stick plan execute bumrah added notably bumrah tournament economy rate icc champions trophy \n",
      "실제 요약 : sostoken virat gives me freedom to express myself bumrah\n",
      "예측 요약 :  kohli has played odis for the time since kohli\n",
      "\n",
      "\n",
      "원문 : year old woman delhi committed suicide hanging whatsapp video call male friend reportedly woman argument friend following hanged ceiling fan man called father taking extreme step dead time reached police said \n",
      "실제 요약 : sostoken woman commits suicide during whatsapp video call with friend\n",
      "예측 요약 :  delhi boy kills year old boy for blue whale\n",
      "\n",
      "\n",
      "원문 : talking reason behind ms dhoni ability remain calm pressure csk rounder shane watson said see ms much around lunch breakfast loves sleep playing csk means much everyone said csk skipper \n",
      "실제 요약 : sostoken he his sleep watson on dhoni\n",
      "예측 요약 :  ipl is not csk ipl to ipl ipl harbhajan\n",
      "\n",
      "\n",
      "원문 : facebook hired man know people like company ceo mark zuckerberg employee revealed job surveys focus groups globally understand people like originally applied job market research left company working six months last year \n",
      "실제 요약 : facebook once hired man to know why people like zuckerberg\n",
      "예측 요약 :  zuckerberg denies being fired as he was failed wrong\n",
      "\n",
      "\n",
      "원문 : infosys ex cfo balakrishnan said new chairman nandan nilekani continue stint years chart proper succession plan said co chairman turned independent director ravi venkatesan step board added nilekani look issues consult stakeholders bring everything conclusion \n",
      "실제 요약 : sostoken nilekani must stay at infosys for years ex cfo\n",
      "예측 요약 :  infosys chairman join infosys board chairman of his board\n",
      "\n",
      "\n",
      "원문 : fielding side ball make one side leaves rough side generate reverse swing players bounce ball hard ground make one side rough apply sweat make side however using foreign objects like tape change ball condition illegal \n",
      "실제 요약 : why is the condition of the ball important in cricket\n"
     ]
    },
    {
     "name": "stdout",
     "output_type": "stream",
     "text": [
      "예측 요약 :  player fined for ball tampering game of play ball\n",
      "\n",
      "\n",
      "원문 : former environment minister jairam ramesh sunday rejected reports claiming role granting clearance sterlite copper plant tuticorin said became environment minister may sterlite project received three rounds march january claimed facts deliberately distorted question role \n",
      "실제 요약 : no role in giving clearance to sterlite plan ex minister\n",
      "예측 요약 :  sc issues order on sterlite plant sale of sterlite\n",
      "\n",
      "\n",
      "원문 : bjp pulled alliance pdp repeated attacks forces civilians valley announcing split bjp general secretary ram madhav said centre tried end end pained say state government also part failed control valley situation \n",
      "실제 요약 : bjp pulls out of alliance with pdp in jammu kashmir\n",
      "예측 요약 :  will not allow any alliance with militants militants abdullah\n",
      "\n",
      "\n",
      "원문 : uber ceo dara khosrowshahi said relationship founder former chief travis kalanick fine strained khosrowshahi said reason lot happened past right adding nobody wants blame individuals said end ceo company take responsibility \n",
      "실제 요약 : sostoken uber ceo says relationship with kalanick fine but\n",
      "예측 요약 :  am not have an uber ceo on joining decide\n",
      "\n",
      "\n",
      "원문 : congress spokesperson priyanka chaturvedi sunday asked mumbai police take action twitter user threatening rape daughter user tweeted threat along picture fake quote attributed chaturvedi mandsaur rape eight year old girl said right muslims commit rape \n",
      "실제 요약 : sostoken congress spokesperson daughter gets rape threat on twitter\n",
      "예측 요약 :  twitter reacts to tweet on posting fake news tweet\n",
      "\n",
      "\n",
      "원문 : pakistan successfully test fired short range ballistic missile saying missile would put cold water india cold start military developed use likely war pakistan adding war must avoided costs pakistan said strategic capability guarantee peace highly neighbour \n",
      "실제 요약 : sostoken pak successfully test fires short range missile\n",
      "예측 요약 :  india successfully test nuclear test nuclear attack in afghanistan\n",
      "\n",
      "\n",
      "원문 : kerala cpi mla pk accused sexual harassment suspended party six months complainant woman youth leader accused sexually harassing speaking inappropriately however cpi appointed committee stated sexually assaulted complainant suspended inappropriately \n",
      "실제 요약 : sostoken cpi mla suspended after complaint of sexual harassment\n",
      "예측 요약 :  kerala mla accused of sexual harassment by senior woman\n",
      "\n",
      "\n",
      "원문 : six time reigning champions india failed defend women asia cup suffering three wicket defeat last ball bangladesh final kuala lumpur sunday second time bangladesh defeated india edition asia cup indian women team year history asia cup occurred year \n",
      "실제 요약 : sostoken time champs india fail to defend women asia cup\n",
      "예측 요약 :  india thrash desh to win their cup against desh\n",
      "\n",
      "\n",
      "원문 : technology major apple tuesday debuted first tv series planet apps developers pitch app ideas panel celebrities panel constitutes actresses jessica musician entrepreneur gary contestants given minute explain idea stage escalator \n",
      "실제 요약 : apple releases its first tv show planet of the apps\n",
      "예측 요약 :  apple to launch app for users to play spam\n",
      "\n",
      "\n",
      "원문 : bombay high court dismissed plea seeking disclosure goa cm manohar parrikar health condition called request violent invasion right privacy cm stating constitutional occupying post merely ill health called petition goa politician political interest litigation \n",
      "실제 요약 : sostoken bombay hc rejects plea seeking parrikar medical\n",
      "예측 요약 :  goa govt asks to remove paper on paper paper\n",
      "\n",
      "\n",
      "원문 : killer whale stopped carrying dead newborn calf least days covered km according researchers killer whales known carry dead week researchers said mother set record tour grief behaviour researchers added \n",
      "실제 요약 : sostoken killer whale dead newborn after days\n",
      "예측 요약 :  year old dies in crocodile on blue whale challenge\n",
      "\n",
      "\n",
      "원문 : national highways authority india reportedly directed toll plaza staff across country salute give standing defence personnel also instructed verification soldiers identity cards done senior competent authority plazas comes authority received complaints soldiers treated plaza attendants \n",
      "실제 요약 : govt directs toll staff in country to salute jawans reports\n",
      "예측 요약 :  govt bans use of guns from to public use\n",
      "\n",
      "\n",
      "원문 : researchers discovered malware information chrome firefox capable stealing data like passwords credit cards profiles payment information infected devices spread via emails subject line online store developer required contains attachment download payload \n",
      "실제 요약 : sostoken malware that steals data from chrome found\n",
      "예측 요약 :  malware finds malware found in us fined for users\n",
      "\n",
      "\n",
      "원문 : partnership witness conducting free india mock test april may year help candidates get actual feel online exam analyse preparation level india rank solutions detailed analysis available may \n",
      "실제 요약 : sostoken to hold mock test on april may\n",
      "예측 요약 :  india to be rate in india for st time\n",
      "\n",
      "\n",
      "원문 : authorities indonesia issued warnings following earthquake tsunami hit parts sulawesi killed people officials said know identities spreading rumours one claimed local dam going collapse meanwhile another hoax news claimed earthquake due strike region \n",
      "실제 요약 : sostoken indonesia warns against as quake toll crosses\n",
      "예측 요약 :  indonesia tsunami hit by helicopter after death toll dead\n",
      "\n",
      "\n",
      "원문 : former national level hockey player amit met accident clinched silver medal club throw event category world para athletics championships produced career best performance world para athletics championships throwing club metres set asian record well \n",
      "실제 요약 : sostoken wins club throw silver at world para athletics ship\n",
      "예측 요약 :  indian boxer wins gold at asian wrestling ship medal\n",
      "\n",
      "\n",
      "원문 : actress aishwarya rai bachchan talking cosmetic surgery said people make informed choices know science making choices extremely important added aishwarya said twenty years ago asked would ever colour hair would said \n",
      "실제 요약 : sostoken people must make informed choices aish on surgery\n",
      "예측 요약 :  aishwarya rai is not just just done big rai\n",
      "\n",
      "\n",
      "원문 : rajya sabha mp subramanian swamy sunday said construction ram mandir ayodhya begin swamy hopeful ongoing hearing ram temple babri masjid case supreme court would later year march bjp leader said temple would constructed \n",
      "실제 요약 : sostoken ram mandir construction to begin in ayodhya by swamy\n",
      "예측 요약 :  no entry to be given to be bjp leader\n",
      "\n",
      "\n",
      "원문 : many seven people killed madhya pradesh speeding ran helping victims accident involving two motorcycles injured taken nagpur treatment families bodies sent autopsy meanwhile police said search truck \n",
      "실제 요약 : sostoken runs over kills people helping accident victims\n",
      "예측 요약 :  dead injured as van falls into gorge in maharashtra\n",
      "\n",
      "\n",
      "원문 : bigg boss contestant patel claimed farmer lied name profession according reports worked assistant casting director production houses sharma bag films per reports casting director khan reportedly confirmed name worked \n",
      "실제 요약 : sostoken bigg boss patel lying about name profession report\n",
      "예측 요약 :  was told to girlfriend bigg boss shilpa sharma sharma\n",
      "\n",
      "\n",
      "원문 : weightlifter olympic world medallist passed away sunday age took kg bronze athens olympics silver division previous year world championships part team pulled beijing olympic games failed dope tests \n",
      "실제 요약 : sostoken olympic medal winning weightlifter dies aged\n",
      "예측 요약 :  yr old gold winner wins golds at commonwealth games\n",
      "\n",
      "\n",
      "원문 : talking india victory third test south africa losing first two coach ravi shastri said players always believed could win sometimes feel people happy lose added two zip throw knockout punch south africa johannesburg tremendous said \n",
      "실제 요약 : people in india are happy when we lose ravi shastri\n",
      "예측 요약 :  team india will be different at football team coach\n",
      "\n",
      "\n",
      "원문 : britain nuclear submarines vulnerable catastrophic cyber attack could render nuclear weapons useless according report london based think tank notably britain ministry defence repeatedly claimed operating systems nuclear submarines cannot sea connected internet point \n",
      "실제 요약 : sostoken britain nukes can be hacked report\n",
      "예측 요약 :  us nuclear test nuclear weapons to be nuclear test\n",
      "\n",
      "\n",
      "원문 : pakistan high court thursday disqualified foreign minister khawaja asif mp holding uae work permit ruling came response petition filed usman dar lost elections asif dar argued asif reveal information employment contract uae based company contesting elections \n",
      "실제 요약 : sostoken pak foreign minister disqualified for having uae work permit\n"
     ]
    },
    {
     "name": "stdout",
     "output_type": "stream",
     "text": [
      "예측 요약 :  pak court issues disqualification of india to pak polls\n",
      "\n",
      "\n",
      "원문 : union finance minister arun jaitley friday accused congress kashmir stated mistakes hurting kashmir said problem kashmir begin arrival bjp government role kashmir old chapters added everyone knows governments formed valley congress rule \n",
      "실제 요약 : sostoken congress past mistakes kashmir not bjp jaitley\n",
      "예측 요약 :  pm modi should be allowed to pm modi candidate\n",
      "\n",
      "\n",
      "원문 : actress sridevi denied reports younger daughter khushi kapoor television dance reality show day laughing rumour added sridevi reported khushi auditioned remo souza dance show reveal identity reportedly recognised performed remo \n",
      "실제 요약 : sostoken sridevi denies report of daughter in dance show\n",
      "예측 요약 :  my wife was my mother janhvi on sridevi demise\n",
      "\n",
      "\n",
      "원문 : ayushmann khurrana tabu radhika apte starrer released today tale turns wrote quint film absolute treat thriller experts said ndtv indian express wrote rated \n",
      "실제 요약 : sostoken ayushmann tabu radhika starrer andhadhun hits theatres\n",
      "예측 요약 :  ayushmann bhumi starrer starrer starrer hits the hits theatres\n",
      "\n",
      "\n",
      "원문 : doctors aiims delhi performed hip joint replacement surgery using customised printed medical implant april recently declared successful doctors revealed year old patient intensive care three days hour surgery required units blood surgery took around five months plan \n",
      "실제 요약 : sostoken aiims doctors replace hip joint with printed implant\n",
      "예측 요약 :  man gets cancer surgery after surgery to save cancer\n",
      "\n",
      "\n",
      "원문 : praising donald trump efforts end standoff north korea nuclear weapons programme south korean president moon jae said us president deserves nobel peace prize comes north south korea pledged end two countries work towards complete denuclearisation korean peninsula \n",
      "실제 요약 : sostoken trump deserves nobel peace prize korea president\n",
      "예측 요약 :  korea to hold nuclear summit with korea on korea\n",
      "\n",
      "\n",
      "원문 : andhra pradesh government trying make sure every poor family state gets monthly income least january andhra pradesh minister lokesh said thursday adding action plan decided next week said state use various technologies become poverty less state \n",
      "실제 요약 : sostoken andhra govt to ensure monthly income for poor by\n",
      "예측 요약 :  andhra govt approves free policy for medical farmer reports\n",
      "\n",
      "\n",
      "원문 : uttarakhand assembly wednesday passed resolution declare cow rashtra mata mother nation presenting resolution state animal minister rekha arya claimed cow animal oxygen also resolution forwarded centre approval \n",
      "실제 요약 : sostoken uttarakhand passes resolution to declare cow rashtra\n",
      "예측 요약 :  up to give up to families of cow protection\n",
      "\n",
      "\n"
     ]
    }
   ],
   "source": [
    "for i in range(0, 50):\n",
    "    print(\"원문 :\", seq2text(encoder_input_test[i]))\n",
    "    print(\"실제 요약 :\", seq2headlines(decoder_input_test[i]))\n",
    "    print(\"예측 요약 :\", decode_sequence(encoder_input_test[i].reshape(1, text_max_len)))\n",
    "    print(\"\\n\")"
   ]
  },
  {
   "cell_type": "markdown",
   "id": "H8t_Rtl4v4Jr",
   "metadata": {
    "id": "H8t_Rtl4v4Jr"
   },
   "source": [
    "원문 : minor leakage detected acid storage plant sterlite copper tamil nadu tuticorin sealed protests last month look decided evacuate storage tomorrow safety district collector sandeep said added necessary security protocols followed\n",
    "\n",
    "실제 요약 : sostoken acid leak detected at sealed sterlite plant in tn\n",
    "\n",
    "예측 요약 :  tn govt bans sale of sterlite plant from sterlite\n",
    "\n",
    "실제 요약과 예측 요약을 살펴보면 어느정도 요약이 됬다는걸 알 수 있었다."
   ]
  },
  {
   "cell_type": "markdown",
   "id": "7de6b2b0",
   "metadata": {
    "id": "7de6b2b0"
   },
   "source": [
    "# 5.Summa을 이용해서 추출적 요약해보기"
   ]
  },
  {
   "cell_type": "code",
   "execution_count": null,
   "id": "0e0e4cb5",
   "metadata": {
    "id": "0e0e4cb5",
    "outputId": "3ed4c50e-a99b-491e-d6da-9c29316cae3c",
    "scrolled": true
   },
   "outputs": [
    {
     "name": "stdout",
     "output_type": "stream",
     "text": [
      "98401\n",
      "98401\n",
      "Text:\n",
      "Saurav Kant, an alumnus of upGrad and IIIT-B's PG Program in Machine learning and Artificial Intelligence, was a Sr Systems Engineer at Infosys with almost 5 years of work experience. The program and upGrad's 360-degree career support helped him transition to a Data Scientist at Tech Mahindra with 90% salary hike. upGrad's Online Power Learning has powered 3 lakh+ careers.\n",
      "Summary:\n",
      "upGrad's Online Power Learning has powered 3 lakh+ careers.\n",
      "-----------------------------------------------------------------------\n",
      "Text:\n",
      "Kunal Shah's credit card bill payment platform, CRED, gave users a chance to win free food from Swiggy for one year. Pranav Kaushik, a Delhi techie, bagged this reward after spending 2000 CRED coins. Users get one CRED coin per rupee of bill paid, which can be used to avail rewards from brands like Ixigo, BookMyShow, UberEats, Cult.Fit and more.\n",
      "Summary:\n",
      "Users get one CRED coin per rupee of bill paid, which can be used to avail rewards from brands like Ixigo, BookMyShow, UberEats, Cult.Fit and more.\n",
      "-----------------------------------------------------------------------\n",
      "Text:\n",
      "New Zealand defeated India by 8 wickets in the fourth ODI at Hamilton on Thursday to win their first match of the five-match ODI series. India lost an international match under Rohit Sharma's captaincy after 12 consecutive victories dating back to March 2018. The match witnessed India getting all out for 92, their seventh lowest total in ODI cricket history.\n",
      "Summary:\n",
      "The match witnessed India getting all out for 92, their seventh lowest total in ODI cricket history.\n",
      "-----------------------------------------------------------------------\n",
      "Text:\n",
      "With Aegon Life iTerm Insurance plan, customers can enjoy tax benefits on your premiums paid and save up to Ã¢ÂÂ¹46,800^ on taxes. The plan provides life cover up to the age of 100 years. Also, customers have options to insure against Critical Illnesses, Disability and Accidental Death Benefit Rider with a life cover up to the age of 80 years.\n",
      "Summary:\n",
      "Also, customers have options to insure against Critical Illnesses, Disability and Accidental Death Benefit Rider with a life cover up to the age of 80 years.\n",
      "-----------------------------------------------------------------------\n",
      "Text:\n",
      "Speaking about the sexual harassment allegations against Rajkumar Hirani, Sonam Kapoor said, \"I've known Hirani for many years...What if it's not true, the [#MeToo] movement will get derailed.\" \"In the #MeToo movement, I always believe a woman. But in this case, we need to reserve our judgment,\" she added. Hirani has been accused by an assistant who worked in 'Sanju'.\n",
      "Summary:\n",
      "Speaking about the sexual harassment allegations against Rajkumar Hirani, Sonam Kapoor said, \"I've known Hirani for many years...What if it's not true, the [#MeToo] movement will get derailed.\" \"In the #MeToo movement, I always believe a woman.\n",
      "-----------------------------------------------------------------------\n"
     ]
    }
   ],
   "source": [
    "from summa.summarizer import summarize\n",
    "\n",
    "text=[]\n",
    "summary=[]\n",
    "\n",
    "for x in data[\"text\"]:\n",
    "    text.append(x)\n",
    "\n",
    "    y = summarize(x, ratio=0.335)\n",
    "    summary.append(y)\n",
    "\n",
    "\n",
    "print(len(text))\n",
    "print(len(summary))\n",
    "\n",
    "for x in range(5):\n",
    "    print('Text:')\n",
    "    print(text[x])\n",
    "    print('Summary:')\n",
    "    print(summary[x])\n",
    "    print(\"-----------------------------------------------------------------------\")"
   ]
  },
  {
   "cell_type": "markdown",
   "id": "47d650b7",
   "metadata": {
    "id": "47d650b7"
   },
   "source": [
    " ## Abstractive 요약 Vs  Extractive 요약"
   ]
  },
  {
   "cell_type": "markdown",
   "id": "8bc8b7fe",
   "metadata": {
    "id": "8bc8b7fe"
   },
   "source": [
    "![image.png](data:image/png;base64,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)"
   ]
  },
  {
   "cell_type": "markdown",
   "id": "bff371b9",
   "metadata": {
    "id": "bff371b9"
   },
   "source": [
    "# 회고"
   ]
  },
  {
   "cell_type": "markdown",
   "id": "2056218e",
   "metadata": {
    "id": "2056218e"
   },
   "source": [
    "LSTM을 이용해 인코더, 디코더도 생성 해보고 거기에 어텐션 메커니즘도 적용해 보면서 저번주에 배웠던 LSTM,어텐션 매케니즘에 대해서 복습 하면서 더 깊게 이해한것 같아 뜻 깊은 시간이 되었다.\n",
    "\n",
    "추출적 요약을 대략 1시간정도 요소 된거 같다ㅠ\n",
    "\n",
    "노드에선 쉽다고 했는데 난 요약본이 나오지 않아 오랜시간 애먹었다ㅠ"
   ]
  }
 ],
 "metadata": {
  "colab": {
   "provenance": []
  },
  "kernelspec": {
   "display_name": "Python 3 (ipykernel)",
   "language": "python",
   "name": "python3"
  },
  "language_info": {
   "codemirror_mode": {
    "name": "ipython",
    "version": 3
   },
   "file_extension": ".py",
   "mimetype": "text/x-python",
   "name": "python",
   "nbconvert_exporter": "python",
   "pygments_lexer": "ipython3",
   "version": "3.9.7"
  }
 },
 "nbformat": 4,
 "nbformat_minor": 5
}
