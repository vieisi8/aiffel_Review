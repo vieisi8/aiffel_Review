{
 "cells": [
  {
   "cell_type": "markdown",
   "id": "90f65332",
   "metadata": {},
   "source": [
    "#  1. 트랜스포머와 비교할 때 변경이 필요한 부분"
   ]
  },
  {
   "cell_type": "markdown",
   "id": "a8bc19f5",
   "metadata": {},
   "source": [
    "- 디코더 구조\n",
    "    - (마스크된 셀프 어텐션 -> 피드포워드 -> 출력)\n",
    "- 포지셔널 임베딩 층 수정\n",
    "    - 위치 정보를 학습하도록 변경 \n",
    "- 데이터 셋 변경\n",
    "    - input, target 데이터셋 변경\n",
    "- 인퍼런스 함수 변경\n",
    "    - 기존 코드에서 모델 예측으로 코드 변경"
   ]
  },
  {
   "cell_type": "markdown",
   "id": "ba7c51a5",
   "metadata": {},
   "source": [
    "# Step 0. 필요한 라이브러리 import"
   ]
  },
  {
   "cell_type": "code",
   "execution_count": 1,
   "id": "f6a6dfe2",
   "metadata": {},
   "outputs": [],
   "source": [
    "import tensorflow as tf\n",
    "import tensorflow_datasets as tfds\n",
    "import os\n",
    "import re\n",
    "import numpy as np\n",
    "import matplotlib.pyplot as plt\n",
    "import pandas as pd"
   ]
  },
  {
   "cell_type": "markdown",
   "id": "b16b29ea",
   "metadata": {},
   "source": [
    "# Step 1. 데이터 수집하기"
   ]
  },
  {
   "cell_type": "code",
   "execution_count": 2,
   "id": "5626bc24",
   "metadata": {
    "scrolled": true
   },
   "outputs": [
    {
     "name": "stdout",
     "output_type": "stream",
     "text": [
      "                 Q            A  label\n",
      "0           12시 땡!   하루가 또 가네요.      0\n",
      "1      1지망 학교 떨어졌어    위로해 드립니다.      0\n",
      "2     3박4일 놀러가고 싶다  여행은 언제나 좋죠.      0\n",
      "3  3박4일 정도 놀러가고 싶다  여행은 언제나 좋죠.      0\n",
      "4          PPL 심하네   눈살이 찌푸려지죠.      0\n"
     ]
    }
   ],
   "source": [
    "# CSV 파일 경로 설정\n",
    "file_path = os.getenv('HOME')+\"/aiffel/transformer_chatbot/data/ChatbotData.csv\"\n",
    "\n",
    "# Pandas를 이용해 CSV 파일 읽기\n",
    "data = pd.read_csv(file_path)\n",
    "\n",
    "# 데이터 출력\n",
    "print(data.head())  # 데이터의 첫 5개 행을 출력"
   ]
  },
  {
   "cell_type": "markdown",
   "id": "14455455",
   "metadata": {},
   "source": [
    "# Step 2. 데이터 전처리"
   ]
  },
  {
   "cell_type": "markdown",
   "id": "97525a38",
   "metadata": {},
   "source": [
    "데이터 정규화"
   ]
  },
  {
   "cell_type": "code",
   "execution_count": 3,
   "id": "72dd9716",
   "metadata": {},
   "outputs": [],
   "source": [
    "# 전처리 함수\n",
    "def preprocess_sentence(sentence):\n",
    "\n",
    "    # 앞뒤 공백 제거\n",
    "    sentence = sentence.strip()\n",
    "    # 한글, 영어, 숫자, 구두점 외 제거\n",
    "    sentence = re.sub(r\"[^가-힣ㄱ-ㅎㅏ-ㅣa-zA-Z0-9.,!? ]\", \" \", sentence)\n",
    "    # 단어와 구두점(punctuation) 사이의 거리를 만듭니다.\n",
    "    # 예를 들어서 \"I am a student.\" => \"I am a student .\"와 같이\n",
    "    # student와 온점 사이에 거리를 만듭니다.\n",
    "    sentence = re.sub(r\"([?.!,])\", r\" \\1 \", sentence)\n",
    "    sentence = re.sub(r'[\" \"]+', \" \", sentence)\n",
    "    # 다중 공백을 단일 공백으로\n",
    "    sentence = re.sub(r\"\\s+\", \" \", sentence)\n",
    "    \n",
    "    # ㅋㅋ, ㅎㅎ, ㅠㅠ 등을 정규화\n",
    "    sentence = re.sub(r'ㅋ{2,}', 'ㅋㅋ', sentence)  # 연속된 ㅋ를 ㅋㅋ로 통일\n",
    "    sentence = re.sub(r'ㅎ{2,}', 'ㅎㅎ', sentence)  # 연속된 ㅎ를 ㅎㅎ로 통일\n",
    "    sentence = re.sub(r'ㅠ{2,}', 'ㅠㅠ', sentence)  # 연속된 ㅠ를 ㅠㅠ로 통일\n",
    "\n",
    "    return sentence"
   ]
  },
  {
   "cell_type": "markdown",
   "id": "46c2cde9",
   "metadata": {},
   "source": [
    "# 2. 모델의 입력 형태의 맞게 전처리 수행\n",
    "\n",
    "- 아래 단어장 생성 부분 제외하고 7개 코드 수정"
   ]
  },
  {
   "cell_type": "code",
   "execution_count": 4,
   "id": "c61e5fd4",
   "metadata": {},
   "outputs": [],
   "source": [
    "# 디코더만 사용하므로만 입력이 1개\n",
    "# 전처리 후 clean_data로 합침\n",
    "\n",
    "clean_data=[]\n",
    "\n",
    "for x in data['Q']:\n",
    "    clean_data.append(preprocess_sentence(x))\n",
    "    \n",
    "for x in data['A']:\n",
    "    clean_data.append(preprocess_sentence(x))"
   ]
  },
  {
   "cell_type": "code",
   "execution_count": 5,
   "id": "93aa2b8f",
   "metadata": {},
   "outputs": [
    {
     "name": "stdout",
     "output_type": "stream",
     "text": [
      "Q와 A 샘플 합 : 23646\n",
      "전처리된 데이터셋 : 23646\n"
     ]
    }
   ],
   "source": [
    "print('Q와 A 샘플 합 :', len(data['Q'])+len(data['A']))\n",
    "print('전처리된 데이터셋 :', len(clean_data))"
   ]
  },
  {
   "cell_type": "markdown",
   "id": "35b2589a",
   "metadata": {},
   "source": [
    "단어장(Vocabulary) 생성"
   ]
  },
  {
   "cell_type": "code",
   "execution_count": 6,
   "id": "66024412",
   "metadata": {},
   "outputs": [],
   "source": [
    "import tensorflow_datasets as tfds\n",
    "\n",
    "# 질문과 답변 데이터셋에 대해서 Vocabulary 생성\n",
    "tokenizer = tfds.deprecated.text.SubwordTextEncoder.build_from_corpus(clean_data, target_vocab_size=2**13)"
   ]
  },
  {
   "cell_type": "code",
   "execution_count": 7,
   "id": "51457267",
   "metadata": {},
   "outputs": [],
   "source": [
    "# 시작 토큰과 종료 토큰에 고유한 정수를 부여합니다.\n",
    "START_TOKEN, END_TOKEN = [tokenizer.vocab_size], [tokenizer.vocab_size + 1]"
   ]
  },
  {
   "cell_type": "code",
   "execution_count": 8,
   "id": "44ada297",
   "metadata": {},
   "outputs": [
    {
     "name": "stdout",
     "output_type": "stream",
     "text": [
      "START_TOKEN의 번호 : [8168]\n",
      "END_TOKEN의 번호 : [8169]\n"
     ]
    }
   ],
   "source": [
    "print('START_TOKEN의 번호 :' ,[tokenizer.vocab_size])\n",
    "print('END_TOKEN의 번호 :' ,[tokenizer.vocab_size + 1])"
   ]
  },
  {
   "cell_type": "code",
   "execution_count": 9,
   "id": "25eec63c",
   "metadata": {},
   "outputs": [],
   "source": [
    "# 시작 토큰과 종료 토큰을 고려하여 +2를 하여 단어장의 크기를 산정합니다.\n",
    "VOCAB_SIZE = tokenizer.vocab_size + 2"
   ]
  },
  {
   "cell_type": "markdown",
   "id": "1448951b",
   "metadata": {},
   "source": [
    "# Step 3. SubwordTextEncoder 사용"
   ]
  },
  {
   "cell_type": "markdown",
   "id": "8871884f",
   "metadata": {},
   "source": [
    "각 단어를 고유한 정수로 인코딩(Integer encoding)"
   ]
  },
  {
   "cell_type": "code",
   "execution_count": 10,
   "id": "2f22c231",
   "metadata": {
    "scrolled": true
   },
   "outputs": [
    {
     "name": "stdout",
     "output_type": "stream",
     "text": [
      "전처리된 데이터셋의 최소 길이 : 1\n",
      "전처리된 데이터셋의 최대 길이 : 24\n",
      "전처리된 데이터셋의 평균 길이 : 4.3285545123911024\n"
     ]
    }
   ],
   "source": [
    "# 길이 분포 출력\n",
    "data_len = [len(s.split()) for s in clean_data]\n",
    "\n",
    "print('전처리된 데이터셋의 최소 길이 : {}'.format(np.min(data_len)))\n",
    "print('전처리된 데이터셋의 최대 길이 : {}'.format(np.max(data_len)))\n",
    "print('전처리된 데이터셋의 평균 길이 : {}'.format(np.mean(data_len)))"
   ]
  },
  {
   "cell_type": "code",
   "execution_count": 11,
   "id": "45c1d82b",
   "metadata": {},
   "outputs": [],
   "source": [
    "# 샘플의 최대 허용 길이 또는 패딩 후의 최종 길이\n",
    "MAX_LENGTH = 24"
   ]
  },
  {
   "cell_type": "code",
   "execution_count": 12,
   "id": "76d0aeac",
   "metadata": {},
   "outputs": [],
   "source": [
    "# 디코더만 사용하므로만 입력이 1개\n",
    "\n",
    "# 정수 인코딩, 최대 길이를 초과하는 샘플 제거, 패딩\n",
    "def tokenize_and_filter(inputs):\n",
    "    \n",
    "    tokenized_inputs = []\n",
    "\n",
    "    for sentence in inputs:\n",
    "        # 정수 인코딩 과정에서 시작 토큰과 종료 토큰을 추가\n",
    "        sentence = START_TOKEN + tokenizer.encode(sentence) + END_TOKEN\n",
    "\n",
    "        # 최대 길이 24이하인 경우에만 데이터셋으로 허용\n",
    "        if len(sentence) <= MAX_LENGTH:\n",
    "            tokenized_inputs.append(sentence)\n",
    "\n",
    "    # 최대 길이 24로 모든 데이터셋을 패딩\n",
    "    tokenized_inputs = tf.keras.preprocessing.sequence.pad_sequences(\n",
    "      tokenized_inputs, maxlen=MAX_LENGTH, padding='post')\n",
    "\n",
    "    return tokenized_inputs"
   ]
  },
  {
   "cell_type": "code",
   "execution_count": 13,
   "id": "c2b97e75",
   "metadata": {
    "scrolled": false
   },
   "outputs": [
    {
     "name": "stdout",
     "output_type": "stream",
     "text": [
      "단어장의 크기 : 8170\n",
      "필터링 후의 input 데이터셋 개수: 23638\n"
     ]
    }
   ],
   "source": [
    "input_data = tokenize_and_filter(clean_data)\n",
    "\n",
    "print('단어장의 크기 :',(VOCAB_SIZE))\n",
    "print('필터링 후의 input 데이터셋 개수: {}'.format(len(input_data)))"
   ]
  },
  {
   "cell_type": "markdown",
   "id": "3eb13613",
   "metadata": {},
   "source": [
    "교사 강요(Teacher Forcing) 사용"
   ]
  },
  {
   "cell_type": "code",
   "execution_count": 14,
   "id": "9db59da5",
   "metadata": {},
   "outputs": [],
   "source": [
    "# 디코더만 사용하므로 input_data를 사용해 교사 강요 사용\n",
    "\n",
    "BATCH_SIZE = 64\n",
    "BUFFER_SIZE = 20000\n",
    "\n",
    "# 디코더는 이전의 target을 다음의 input으로 사용합니다.\n",
    "# 이에 따라 outputs에서는 START_TOKEN을 제거하겠습니다.\n",
    "dataset = tf.data.Dataset.from_tensor_slices((\n",
    "        input_data[:, :-1],\n",
    "        input_data[:, 1:]\n",
    "))\n",
    "\n",
    "dataset = dataset.cache()\n",
    "dataset = dataset.shuffle(BUFFER_SIZE)\n",
    "dataset = dataset.batch(BATCH_SIZE)\n",
    "dataset = dataset.prefetch(tf.data.experimental.AUTOTUNE)\n"
   ]
  },
  {
   "cell_type": "markdown",
   "id": "3a3b9520",
   "metadata": {},
   "source": [
    "# Step 4. 모델 구성"
   ]
  },
  {
   "cell_type": "markdown",
   "id": "feb1fd73",
   "metadata": {},
   "source": [
    "트랜스포머 구성에 필요한 함수들 구현"
   ]
  },
  {
   "cell_type": "markdown",
   "id": "49f5867d",
   "metadata": {},
   "source": [
    "# 3. 모델의 입력 블럭을 GPT 논문에 기반해 수정\n",
    "\n",
    "- 포지셔널 인코딩 레이어 수정\n",
    "- 인코딩 레이어 삭제\n",
    "- 디코딩 레이어 수정\n",
    "- 트랜스포머 정의 함수 수정"
   ]
  },
  {
   "cell_type": "code",
   "execution_count": 15,
   "id": "b310a2dc",
   "metadata": {},
   "outputs": [],
   "source": [
    "# 기존 고정된 포지셔널 인코딩 방식을 학습 가능한 포지셔널 인코딩 방식으로 변경\n",
    "\n",
    "# 포지셔널 인코딩 레이어\n",
    "class PositionalEncoding(tf.keras.layers.Layer):\n",
    "    \n",
    "    def __init__(self, position, d_model):\n",
    "        super(PositionalEncoding, self).__init__()\n",
    "        # self.pos_encoding = self.positional_encoding(position, d_model)\n",
    "        self.pos_encoding = self.add_weight(\"pos_encoding\", shape=[1, position, d_model], initializer=tf.initializers.RandomNormal(), trainable=True)\n",
    "    '''\n",
    "    def get_angles(self, position, i, d_model):\n",
    "      angles = 1 / tf.pow(10000, (2 * (i // 2)) / tf.cast(d_model, tf.float32))\n",
    "      return position * angles\n",
    "\n",
    "    def positional_encoding(self, position, d_model):\n",
    "      # 각도 배열 생성\n",
    "      angle_rads = self.get_angles(\n",
    "          position=tf.range(position, dtype=tf.float32)[:, tf.newaxis],\n",
    "          i=tf.range(d_model, dtype=tf.float32)[tf.newaxis, :],\n",
    "          d_model=d_model)\n",
    "\n",
    "      # 배열의 짝수 인덱스에는 sin 함수 적용\n",
    "      sines = tf.math.sin(angle_rads[:, 0::2])\n",
    "      # 배열의 홀수 인덱스에는 cosine 함수 적용\n",
    "      cosines = tf.math.cos(angle_rads[:, 1::2])\n",
    "\n",
    "      # sin과 cosine이 교차되도록 재배열\n",
    "      pos_encoding = tf.stack([sines, cosines], axis=0)\n",
    "      pos_encoding = tf.transpose(pos_encoding,[1, 2, 0]) \n",
    "      pos_encoding = tf.reshape(pos_encoding, [position, d_model])\n",
    "\n",
    "      pos_encoding = pos_encoding[tf.newaxis, ...]\n",
    "      return tf.cast(pos_encoding, tf.float32)\n",
    "      '''\n",
    "    def call(self, inputs):\n",
    "        return inputs + self.pos_encoding[:, :tf.shape(inputs)[1], :]"
   ]
  },
  {
   "cell_type": "code",
   "execution_count": 16,
   "id": "fd46bc46",
   "metadata": {},
   "outputs": [],
   "source": [
    "# 스케일드 닷 프로덕트 어텐션 함수\n",
    "def scaled_dot_product_attention(query, key, value, mask):\n",
    "    # 어텐션 가중치는 Q와 K의 닷 프로덕트\n",
    "    matmul_qk = tf.matmul(query, key, transpose_b=True)\n",
    "\n",
    "    # 가중치를 정규화\n",
    "    depth = tf.cast(tf.shape(key)[-1], tf.float32)\n",
    "    logits = matmul_qk / tf.math.sqrt(depth)\n",
    "\n",
    "    # 패딩에 마스크 추가\n",
    "    if mask is not None:\n",
    "        logits += (mask * -1e9)\n",
    "\n",
    "    # softmax적용\n",
    "    attention_weights = tf.nn.softmax(logits, axis=-1)\n",
    "\n",
    "    # 최종 어텐션은 가중치와 V의 닷 프로덕트\n",
    "    output = tf.matmul(attention_weights, value)\n",
    "    return output"
   ]
  },
  {
   "cell_type": "code",
   "execution_count": 17,
   "id": "95ec55b3",
   "metadata": {},
   "outputs": [],
   "source": [
    "# 멀티헤드 어텐션\n",
    "class MultiHeadAttention(tf.keras.layers.Layer):\n",
    "    \n",
    "    def __init__(self, d_model, num_heads, name=\"multi_head_attention\"):\n",
    "        super(MultiHeadAttention, self).__init__(name=name)\n",
    "        self.num_heads = num_heads\n",
    "        self.d_model = d_model\n",
    "    \n",
    "        assert d_model % self.num_heads == 0\n",
    "\n",
    "        self.depth = d_model // self.num_heads\n",
    "\n",
    "        self.query_dense = tf.keras.layers.Dense(units=d_model)\n",
    "        self.key_dense = tf.keras.layers.Dense(units=d_model)\n",
    "        self.value_dense = tf.keras.layers.Dense(units=d_model)\n",
    "\n",
    "        self.dense = tf.keras.layers.Dense(units=d_model)\n",
    "    \n",
    "    def split_heads(self, inputs, batch_size):\n",
    "        inputs = tf.reshape(\n",
    "            inputs, shape=(batch_size, -1, self.num_heads, self.depth))\n",
    "        return tf.transpose(inputs, perm=[0, 2, 1, 3])\n",
    "\n",
    "    def call(self, inputs):\n",
    "        query, key, value, mask = inputs['query'], inputs['key'], inputs[\n",
    "            'value'], inputs['mask']\n",
    "        batch_size = tf.shape(query)[0]\n",
    "        \n",
    "        # Q, K, V에 각각 Dense를 적용합니다\n",
    "        query = self.query_dense(query)\n",
    "        key = self.key_dense(key)\n",
    "        value = self.value_dense(value)\n",
    "\n",
    "        # 병렬 연산을 위한 머리를 여러 개 만듭니다\n",
    "        query = self.split_heads(query,batch_size)\n",
    "        key = self.split_heads(key,batch_size)\n",
    "        value = self.split_heads(value,batch_size)\n",
    "\n",
    "        # 스케일드 닷 프로덕트 어텐션 함수\n",
    "        scaled_attention = scaled_dot_product_attention(query, key, value, mask)\n",
    "\n",
    "        scaled_attention = tf.transpose(scaled_attention, perm=[0, 2, 1, 3])\n",
    "\n",
    "        # 어텐션 연산 후에 각 결과를 다시 연결(concatenate)합니다\n",
    "        concat_attention = tf.reshape(scaled_attention,\n",
    "                                  (batch_size, -1, self.d_model))\n",
    "\n",
    "        # 최종 결과에도 Dense를 한 번 더 적용합니다\n",
    "        outputs = self.dense(concat_attention)\n",
    "\n",
    "        return outputs"
   ]
  },
  {
   "cell_type": "code",
   "execution_count": 18,
   "id": "e8a6a6dc",
   "metadata": {},
   "outputs": [],
   "source": [
    "# 마스크 패딩\n",
    "def create_padding_mask(x):\n",
    "    mask = tf.cast(tf.math.equal(x, 0), tf.float32)\n",
    "    # (batch_size, 1, 1, sequence length)\n",
    "    return mask[:, tf.newaxis, tf.newaxis, :]\n",
    "\n",
    "# 룩 어헤드 마스킹(Look-ahead masking)\n",
    "def create_look_ahead_mask(x):\n",
    "    seq_len = tf.shape(x)[1]\n",
    "    look_ahead_mask = 1 - tf.linalg.band_part(tf.ones((seq_len, seq_len)), -1, 0)\n",
    "    padding_mask = create_padding_mask(x)\n",
    "    return tf.maximum(look_ahead_mask, padding_mask)"
   ]
  },
  {
   "cell_type": "code",
   "execution_count": 19,
   "id": "2eb507ab",
   "metadata": {},
   "outputs": [],
   "source": [
    "# 디코더 하나의 레이어를 함수로 구현.\n",
    "# 이 하나의 레이어 안에는 세 개의 서브 레이어가 존재합니다.\n",
    "def decoder_layer(units, d_model, num_heads, dropout, name=\"decoder_layer\"):\n",
    "    inputs = tf.keras.Input(shape=(None, d_model), name=\"inputs\")\n",
    "    # enc_outputs 사용 X\n",
    "    # enc_outputs = tf.keras.Input(shape=(None, d_model), name=\"encoder_outputs\")\n",
    "    look_ahead_mask = tf.keras.Input(\n",
    "        shape=(1, None, None), name=\"look_ahead_mask\")\n",
    "    padding_mask = tf.keras.Input(shape=(1, 1, None), name='padding_mask')\n",
    "\n",
    "    # 첫 번째 서브 레이어 : 멀티 헤드 어텐션 수행 (셀프 어텐션)\n",
    "    attention1 = MultiHeadAttention(\n",
    "        d_model, num_heads, name=\"attention_1\")(inputs={\n",
    "            'query': inputs,\n",
    "            'key': inputs,\n",
    "            'value': inputs,\n",
    "            'mask': look_ahead_mask\n",
    "        })\n",
    "\n",
    "    # 멀티 헤드 어텐션의 결과는 LayerNormalization이라는 훈련을 돕는 테크닉을 수행\n",
    "    attention1 = tf.keras.layers.LayerNormalization(\n",
    "        epsilon=1e-6)(attention1 + inputs)\n",
    "    \n",
    "    # 인코더-디코더 어텐션 사용 X\n",
    "    '''\n",
    "    # 두 번째 서브 레이어 : 마스크드 멀티 헤드 어텐션 수행 (인코더-디코더 어텐션)\n",
    "    attention2 = MultiHeadAttention(\n",
    "        d_model, num_heads, name=\"attention_2\")(inputs={\n",
    "            'query': attention1,\n",
    "            'key': enc_outputs,\n",
    "            'value': enc_outputs,\n",
    "            'mask': padding_mask\n",
    "        })\n",
    "\n",
    "    # 마스크드 멀티 헤드 어텐션의 결과는\n",
    "    # Dropout과 LayerNormalization이라는 훈련을 돕는 테크닉을 수행\n",
    "    attention2 = tf.keras.layers.Dropout(rate=dropout)(attention2)\n",
    "    attention2 = tf.keras.layers.LayerNormalization(\n",
    "        epsilon=1e-6)(attention2 + attention1)\n",
    "    '''\n",
    "    # 세 번째 서브 레이어 : 2개의 완전연결층\n",
    "    outputs = tf.keras.layers.Dense(units=units, activation='relu')(attention1)\n",
    "                                        # 인코더-디코더 어텐션 사용하지 않으므로 attention1 사용\n",
    "    outputs = tf.keras.layers.Dense(units=d_model)(outputs)\n",
    "\n",
    "    # 완전연결층의 결과는 Dropout과 LayerNormalization 수행\n",
    "    outputs = tf.keras.layers.Dropout(rate=dropout)(outputs)\n",
    "    outputs = tf.keras.layers.LayerNormalization(\n",
    "        epsilon=1e-6)(outputs + attention1)\n",
    "                                # 인코더-디코더 어텐션 사용하지 않으므로 attention1 사용\n",
    "\n",
    "    return tf.keras.Model(\n",
    "        inputs=[inputs, look_ahead_mask, padding_mask],\n",
    "                    # enc_outputs 사용 X\n",
    "        outputs=outputs,\n",
    "        name=name)"
   ]
  },
  {
   "cell_type": "code",
   "execution_count": 20,
   "id": "f88c1bc9",
   "metadata": {},
   "outputs": [],
   "source": [
    "# 디코더 정의 함수\n",
    "def decoder(vocab_size,\n",
    "            num_layers,\n",
    "            units,\n",
    "            d_model,\n",
    "            num_heads,\n",
    "            dropout,\n",
    "            name='decoder'):\n",
    "    inputs = tf.keras.Input(shape=(None,), name='inputs')\n",
    "    # enc_outputs 사용 X\n",
    "    # enc_outputs = tf.keras.Input(shape=(None, d_model), name=\"encoder_outputs\")\n",
    "    look_ahead_mask = tf.keras.Input(\n",
    "        shape=(1, None, None), name='look_ahead_mask')\n",
    "\n",
    "    # 패딩 마스크\n",
    "    padding_mask = tf.keras.Input(shape=(1, 1, None), name='padding_mask')\n",
    "  \n",
    "    # 임베딩 레이어\n",
    "    embeddings = tf.keras.layers.Embedding(vocab_size, d_model)(inputs)\n",
    "    embeddings *= tf.math.sqrt(tf.cast(d_model, tf.float32))\n",
    "\n",
    "    # 포지셔널 인코딩\n",
    "    embeddings = PositionalEncoding(vocab_size, d_model)(embeddings)\n",
    "\n",
    "    # Dropout이라는 훈련을 돕는 테크닉을 수행\n",
    "    outputs = tf.keras.layers.Dropout(rate=dropout)(embeddings)\n",
    "\n",
    "    for i in range(num_layers):\n",
    "        outputs = decoder_layer(\n",
    "        units=units,\n",
    "        d_model=d_model,\n",
    "        num_heads=num_heads,\n",
    "        dropout=dropout,\n",
    "        name='decoder_layer_{}'.format(i),\n",
    "        )(inputs=[outputs, look_ahead_mask, padding_mask])\n",
    "                        # enc_outputs 사용 X\n",
    "\n",
    "    return tf.keras.Model(\n",
    "        inputs=[inputs, look_ahead_mask, padding_mask],\n",
    "                        # enc_outputs 사용 X\n",
    "        outputs=outputs,\n",
    "        name=name)"
   ]
  },
  {
   "cell_type": "code",
   "execution_count": 21,
   "id": "6bafb8bb",
   "metadata": {},
   "outputs": [],
   "source": [
    "# 디코더만 사용하므로만 입력이 1개\n",
    "\n",
    "# 트랜스포머 모델 정의 함수\n",
    "def transformer(vocab_size,\n",
    "                num_layers,\n",
    "                units,\n",
    "                d_model,\n",
    "                num_heads,\n",
    "                dropout,\n",
    "                name=\"transformer\"):\n",
    "    inputs = tf.keras.Input(shape=(None,), name=\"inputs_x\")\n",
    "    # enc_outputs 사용 X\n",
    "    # enc_inputs = tf.keras.Input(shape=(None,), name=\"dec_inputs\")\n",
    "    \n",
    "    # 인코딩 사용 X\n",
    "    '''\n",
    "    # 인코더에서 패딩을 위한 마스크\n",
    "    enc_padding_mask = tf.keras.layers.Lambda(\n",
    "        create_padding_mask, output_shape=(1, 1, None),\n",
    "        name='enc_padding_mask')(inputs)\n",
    "    '''\n",
    "    # 디코더에서 미래의 토큰을 마스크 하기 위해서 사용합니다.\n",
    "    # 내부적으로 패딩 마스크도 포함되어져 있습니다.\n",
    "    look_ahead_mask = tf.keras.layers.Lambda(\n",
    "        create_look_ahead_mask,\n",
    "        output_shape=(1, None, None),\n",
    "        name='look_ahead_mask')(inputs)\n",
    "    \n",
    "    # 두 번째 어텐션 블록에서 인코더의 벡터들을 마스킹\n",
    "    # 디코더에서 패딩을 위한 마스크\n",
    "    dec_padding_mask = tf.keras.layers.Lambda(\n",
    "        create_padding_mask, output_shape=(1, 1, None),\n",
    "        name='dec_padding_mask')(inputs)\n",
    "    \n",
    "    # 인코딩 사용 X\n",
    "    '''\n",
    "    # 인코더\n",
    "    enc_outputs = encoder(\n",
    "        vocab_size=vocab_size,\n",
    "        num_layers=num_layers,\n",
    "        units=units,\n",
    "        d_model=d_model,\n",
    "        num_heads=num_heads,\n",
    "        dropout=dropout,\n",
    "    )(inputs=[inputs, enc_padding_mask])\n",
    "    '''\n",
    "    \n",
    "    # 디코더\n",
    "    dec_outputs = decoder(\n",
    "        vocab_size=vocab_size,\n",
    "        num_layers=num_layers,\n",
    "        units=units,\n",
    "        d_model=d_model,\n",
    "        num_heads=num_heads,\n",
    "        dropout=dropout,\n",
    "    )(inputs=[inputs, look_ahead_mask, dec_padding_mask])\n",
    "            # enc_outputs 사용 X\n",
    "\n",
    "    # 완전연결층\n",
    "    outputs = tf.keras.layers.Dense(units=vocab_size, name=\"outputs\")(dec_outputs)\n",
    "\n",
    "    return tf.keras.Model(inputs=inputs, outputs=outputs, name=name)"
   ]
  },
  {
   "cell_type": "markdown",
   "id": "3e96296f",
   "metadata": {},
   "source": [
    "트랜스포머 모델 정의"
   ]
  },
  {
   "cell_type": "markdown",
   "id": "abaafc86",
   "metadata": {},
   "source": [
    "# 4. GPT 모델을 정상적으로 구성"
   ]
  },
  {
   "cell_type": "code",
   "execution_count": 22,
   "id": "dfdd84d4",
   "metadata": {
    "scrolled": true
   },
   "outputs": [
    {
     "name": "stdout",
     "output_type": "stream",
     "text": [
      "Model: \"transformer\"\n",
      "__________________________________________________________________________________________________\n",
      "Layer (type)                    Output Shape         Param #     Connected to                     \n",
      "==================================================================================================\n",
      "inputs_x (InputLayer)           [(None, None)]       0                                            \n",
      "__________________________________________________________________________________________________\n",
      "look_ahead_mask (Lambda)        (None, 1, None, None 0           inputs_x[0][0]                   \n",
      "__________________________________________________________________________________________________\n",
      "dec_padding_mask (Lambda)       (None, 1, 1, None)   0           inputs_x[0][0]                   \n",
      "__________________________________________________________________________________________________\n",
      "decoder (Functional)            (None, None, 256)    5237248     inputs_x[0][0]                   \n",
      "                                                                 look_ahead_mask[0][0]            \n",
      "                                                                 dec_padding_mask[0][0]           \n",
      "__________________________________________________________________________________________________\n",
      "outputs (Dense)                 (None, None, 8170)   2099690     decoder[0][0]                    \n",
      "==================================================================================================\n",
      "Total params: 7,336,938\n",
      "Trainable params: 7,336,938\n",
      "Non-trainable params: 0\n",
      "__________________________________________________________________________________________________\n"
     ]
    }
   ],
   "source": [
    "tf.keras.backend.clear_session()\n",
    "\n",
    "# 하이퍼파라미터\n",
    "NUM_LAYERS = 2 # 디코더의 층의 개수\n",
    "D_MODEL = 256 # 디코더 내부의 입, 출력의 고정 차원\n",
    "NUM_HEADS = 8 # 멀티 헤드 어텐션에서의 헤드 수 \n",
    "UNITS = 512 # 피드 포워드 신경망의 은닉층의 크기\n",
    "DROPOUT = 0.1 # 드롭아웃의 비율\n",
    "\n",
    "model = transformer(\n",
    "    vocab_size=VOCAB_SIZE,\n",
    "    num_layers=NUM_LAYERS,\n",
    "    units=UNITS,\n",
    "    d_model=D_MODEL,\n",
    "    num_heads=NUM_HEADS,\n",
    "    dropout=DROPOUT)\n",
    "\n",
    "model.summary()"
   ]
  },
  {
   "attachments": {
    "image.png": {
     "image/png": "[encoded data removed]"
    }
   },
   "cell_type": "markdown",
   "id": "032ad17e",
   "metadata": {},
   "source": [
    "모델 summary()\n",
    "\n",
    "![image.png](attachment:image.png)"
   ]
  },
  {
   "cell_type": "markdown",
   "id": "ad1e8551",
   "metadata": {},
   "source": [
    "손실 함수 정의"
   ]
  },
  {
   "cell_type": "code",
   "execution_count": 23,
   "id": "2da17cde",
   "metadata": {},
   "outputs": [],
   "source": [
    "def loss_function(y_true, y_pred):\n",
    "    y_true = tf.reshape(y_true, shape=(-1, MAX_LENGTH - 1))\n",
    "\n",
    "    loss = tf.keras.losses.SparseCategoricalCrossentropy(\n",
    "      from_logits=True, reduction='none')(y_true, y_pred)\n",
    "\n",
    "    # 레이블인 시퀀스에 패딩이 되어 있어, loss를 계산할 때 패딩 마스크를 적용\n",
    "    mask = tf.cast(tf.not_equal(y_true, 0), tf.float32)\n",
    "    loss = tf.multiply(loss, mask)\n",
    "\n",
    "    return tf.reduce_mean(loss)"
   ]
  },
  {
   "cell_type": "markdown",
   "id": "2efa4eec",
   "metadata": {},
   "source": [
    "커스텀 된 학습률 정의"
   ]
  },
  {
   "cell_type": "markdown",
   "id": "f4ef0610",
   "metadata": {},
   "source": [
    "l\n",
    "r\n",
    "a\n",
    "t\n",
    "e\n",
    "=\n",
    "d\n",
    "−\n",
    "0.5\n",
    "m\n",
    "o\n",
    "d\n",
    "e\n",
    "l\n",
    "⋅\n",
    "m\n",
    "i\n",
    "n\n",
    "(\n",
    "s\n",
    "t\n",
    "e\n",
    "p\n",
    "_\n",
    "n\n",
    "u\n",
    "m\n",
    "−\n",
    "0.5\n",
    ",\n",
    "s\n",
    "t\n",
    "e\n",
    "p\n",
    "_\n",
    "n\n",
    "u\n",
    "m\n",
    "⋅\n",
    "w\n",
    "a\n",
    "r\n",
    "m\n",
    "u\n",
    "p\n",
    "_\n",
    "s\n",
    "t\n",
    "e\n",
    "p\n",
    "s\n",
    "−\n",
    "1.5\n",
    ")"
   ]
  },
  {
   "cell_type": "code",
   "execution_count": 24,
   "id": "7e7902af",
   "metadata": {},
   "outputs": [],
   "source": [
    "class CustomSchedule(tf.keras.optimizers.schedules.LearningRateSchedule):\n",
    "\n",
    "    def __init__(self, d_model, warmup_steps=4000):\n",
    "        super(CustomSchedule, self).__init__()\n",
    "\n",
    "        self.d_model = d_model\n",
    "        self.d_model = tf.cast(self.d_model, tf.float32)\n",
    "\n",
    "        self.warmup_steps = warmup_steps\n",
    "\n",
    "    def __call__(self, step):\n",
    "        arg1 = tf.math.rsqrt(step)\n",
    "        arg2 = step * (self.warmup_steps**-1.5)\n",
    "\n",
    "        return tf.math.rsqrt(self.d_model) * tf.math.minimum(arg1, arg2)"
   ]
  },
  {
   "cell_type": "markdown",
   "id": "704427fb",
   "metadata": {},
   "source": [
    "모델 컴파일"
   ]
  },
  {
   "cell_type": "code",
   "execution_count": 25,
   "id": "5496dfff",
   "metadata": {},
   "outputs": [],
   "source": [
    "learning_rate = CustomSchedule(D_MODEL)\n",
    "\n",
    "optimizer = tf.keras.optimizers.Adam(\n",
    "    learning_rate, beta_1=0.9, beta_2=0.98, epsilon=1e-9)\n",
    "\n",
    "def accuracy(y_true, y_pred):\n",
    "    y_true = tf.reshape(y_true, shape=(-1, MAX_LENGTH - 1))\n",
    "    return tf.keras.metrics.sparse_categorical_accuracy(y_true, y_pred)\n",
    "\n",
    "model.compile(optimizer=optimizer, loss=loss_function, metrics=[accuracy])"
   ]
  },
  {
   "cell_type": "markdown",
   "id": "425edd96",
   "metadata": {},
   "source": [
    "모델 훈련"
   ]
  },
  {
   "cell_type": "code",
   "execution_count": 26,
   "id": "32a4c415",
   "metadata": {
    "scrolled": false
   },
   "outputs": [
    {
     "name": "stdout",
     "output_type": "stream",
     "text": [
      "Epoch 1/50\n",
      "370/370 [==============================] - 14s 27ms/step - loss: 2.2844 - accuracy: 0.0400\n",
      "Epoch 2/50\n",
      "370/370 [==============================] - 10s 27ms/step - loss: 1.8234 - accuracy: 0.0647\n",
      "Epoch 3/50\n",
      "370/370 [==============================] - 10s 27ms/step - loss: 1.6523 - accuracy: 0.0744\n",
      "Epoch 4/50\n",
      "370/370 [==============================] - 10s 27ms/step - loss: 1.5058 - accuracy: 0.0832\n",
      "Epoch 5/50\n",
      "370/370 [==============================] - 10s 28ms/step - loss: 1.3609 - accuracy: 0.0938\n",
      "Epoch 6/50\n",
      "370/370 [==============================] - 10s 28ms/step - loss: 1.2174 - accuracy: 0.1049\n",
      "Epoch 7/50\n",
      "370/370 [==============================] - 10s 28ms/step - loss: 1.0839 - accuracy: 0.1166\n",
      "Epoch 8/50\n",
      "370/370 [==============================] - 10s 28ms/step - loss: 0.9686 - accuracy: 0.1283\n",
      "Epoch 9/50\n",
      "370/370 [==============================] - 10s 28ms/step - loss: 0.8739 - accuracy: 0.1399\n",
      "Epoch 10/50\n",
      "370/370 [==============================] - 10s 28ms/step - loss: 0.8006 - accuracy: 0.1508\n",
      "Epoch 11/50\n",
      "370/370 [==============================] - 10s 28ms/step - loss: 0.7516 - accuracy: 0.1595\n",
      "Epoch 12/50\n",
      "370/370 [==============================] - 10s 28ms/step - loss: 0.7050 - accuracy: 0.1688\n",
      "Epoch 13/50\n",
      "370/370 [==============================] - 10s 28ms/step - loss: 0.6603 - accuracy: 0.1786\n",
      "Epoch 14/50\n",
      "370/370 [==============================] - 10s 27ms/step - loss: 0.6267 - accuracy: 0.1853\n",
      "Epoch 15/50\n",
      "370/370 [==============================] - 10s 27ms/step - loss: 0.6056 - accuracy: 0.1897\n",
      "Epoch 16/50\n",
      "370/370 [==============================] - 10s 28ms/step - loss: 0.5912 - accuracy: 0.1925\n",
      "Epoch 17/50\n",
      "370/370 [==============================] - 10s 28ms/step - loss: 0.5796 - accuracy: 0.1946\n",
      "Epoch 18/50\n",
      "370/370 [==============================] - 10s 28ms/step - loss: 0.5703 - accuracy: 0.1963\n",
      "Epoch 19/50\n",
      "370/370 [==============================] - 10s 27ms/step - loss: 0.5635 - accuracy: 0.1974\n",
      "Epoch 20/50\n",
      "370/370 [==============================] - 10s 28ms/step - loss: 0.5575 - accuracy: 0.1982\n",
      "Epoch 21/50\n",
      "370/370 [==============================] - 10s 28ms/step - loss: 0.5520 - accuracy: 0.1995\n",
      "Epoch 22/50\n",
      "370/370 [==============================] - 10s 27ms/step - loss: 0.5484 - accuracy: 0.1998\n",
      "Epoch 23/50\n",
      "370/370 [==============================] - 10s 28ms/step - loss: 0.5449 - accuracy: 0.2003\n",
      "Epoch 24/50\n",
      "370/370 [==============================] - 10s 28ms/step - loss: 0.5412 - accuracy: 0.2007\n",
      "Epoch 25/50\n",
      "370/370 [==============================] - 10s 28ms/step - loss: 0.5381 - accuracy: 0.2013\n",
      "Epoch 26/50\n",
      "370/370 [==============================] - 10s 28ms/step - loss: 0.5358 - accuracy: 0.2016\n",
      "Epoch 27/50\n",
      "370/370 [==============================] - 10s 28ms/step - loss: 0.5333 - accuracy: 0.2017\n",
      "Epoch 28/50\n",
      "370/370 [==============================] - 10s 28ms/step - loss: 0.5309 - accuracy: 0.2020\n",
      "Epoch 29/50\n",
      "370/370 [==============================] - 10s 28ms/step - loss: 0.5291 - accuracy: 0.2024\n",
      "Epoch 30/50\n",
      "370/370 [==============================] - 10s 27ms/step - loss: 0.5278 - accuracy: 0.2025\n",
      "Epoch 31/50\n",
      "370/370 [==============================] - 10s 27ms/step - loss: 0.5264 - accuracy: 0.2027\n",
      "Epoch 32/50\n",
      "370/370 [==============================] - 10s 27ms/step - loss: 0.5252 - accuracy: 0.2027\n",
      "Epoch 33/50\n",
      "370/370 [==============================] - 10s 28ms/step - loss: 0.5230 - accuracy: 0.2030\n",
      "Epoch 34/50\n",
      "370/370 [==============================] - 10s 27ms/step - loss: 0.5227 - accuracy: 0.2028\n",
      "Epoch 35/50\n",
      "370/370 [==============================] - 10s 28ms/step - loss: 0.5210 - accuracy: 0.2030\n",
      "Epoch 36/50\n",
      "370/370 [==============================] - 10s 28ms/step - loss: 0.5197 - accuracy: 0.2031\n",
      "Epoch 37/50\n",
      "370/370 [==============================] - 10s 28ms/step - loss: 0.5187 - accuracy: 0.2032\n",
      "Epoch 38/50\n",
      "370/370 [==============================] - 10s 28ms/step - loss: 0.5182 - accuracy: 0.2033\n",
      "Epoch 39/50\n",
      "370/370 [==============================] - 10s 28ms/step - loss: 0.5170 - accuracy: 0.2034\n",
      "Epoch 40/50\n",
      "370/370 [==============================] - 10s 28ms/step - loss: 0.5163 - accuracy: 0.2035\n",
      "Epoch 41/50\n",
      "370/370 [==============================] - 10s 28ms/step - loss: 0.5162 - accuracy: 0.2034\n",
      "Epoch 42/50\n",
      "370/370 [==============================] - 10s 28ms/step - loss: 0.5147 - accuracy: 0.2035\n",
      "Epoch 43/50\n",
      "370/370 [==============================] - 10s 28ms/step - loss: 0.5145 - accuracy: 0.2035\n",
      "Epoch 44/50\n",
      "370/370 [==============================] - 10s 28ms/step - loss: 0.5140 - accuracy: 0.2037\n",
      "Epoch 45/50\n",
      "370/370 [==============================] - 10s 28ms/step - loss: 0.5126 - accuracy: 0.2038\n",
      "Epoch 46/50\n",
      "370/370 [==============================] - 10s 27ms/step - loss: 0.5130 - accuracy: 0.2037\n",
      "Epoch 47/50\n",
      "370/370 [==============================] - 10s 28ms/step - loss: 0.5118 - accuracy: 0.2039\n",
      "Epoch 48/50\n",
      "370/370 [==============================] - 10s 28ms/step - loss: 0.5114 - accuracy: 0.2040\n",
      "Epoch 49/50\n",
      "370/370 [==============================] - 10s 27ms/step - loss: 0.5112 - accuracy: 0.2039\n",
      "Epoch 50/50\n",
      "370/370 [==============================] - 10s 28ms/step - loss: 0.5106 - accuracy: 0.2040\n"
     ]
    },
    {
     "data": {
      "text/plain": [
       "<keras.callbacks.History at 0x7ff91a5542e0>"
      ]
     },
     "execution_count": 26,
     "metadata": {},
     "output_type": "execute_result"
    }
   ],
   "source": [
    "EPOCHS = 50\n",
    "model.fit(dataset, epochs=EPOCHS, verbose=1)"
   ]
  },
  {
   "attachments": {
    "image.png": {
     "image/png": "[encoded data removed]"
    }
   },
   "cell_type": "markdown",
   "id": "12a8208a",
   "metadata": {},
   "source": [
    "model.fit 결과\n",
    "![image.png](attachment:image.png)"
   ]
  },
  {
   "cell_type": "markdown",
   "id": "b91582fb",
   "metadata": {},
   "source": [
    "# Step 5. 모델 평가하기"
   ]
  },
  {
   "cell_type": "code",
   "execution_count": 27,
   "id": "3a17f9e8",
   "metadata": {},
   "outputs": [],
   "source": [
    "# 디코더만 사용하므로 코드 수정\n",
    "\n",
    "def decoder_inference(sentence):\n",
    "    \n",
    "    sentence = preprocess_sentence(sentence)\n",
    "    \n",
    "    # 입력된 문장을 정수 인코딩 후, 시작 토큰과 종료 토큰을 앞뒤로 추가.\n",
    "    # ex) Where have you been? → [[8331   86   30    5 1059    7 8332]]\n",
    "    sentence = tf.expand_dims(\n",
    "        START_TOKEN + tokenizer.encode(sentence) + END_TOKEN, axis=0)\n",
    "\n",
    "    \n",
    "    # 사용 X\n",
    "    '''\n",
    "    # 디코더의 현재까지의 예측한 출력 시퀀스가 지속적으로 저장되는 변수.\n",
    "    # 처음에는 예측한 내용이 없음으로 시작 토큰만 별도 저장. ex) 8331\n",
    "    output_sequence = tf.expand_dims(START_TOKEN, 0)\n",
    "\n",
    "    # 디코더의 인퍼런스 단계\n",
    "    for i in range(MAX_LENGTH):\n",
    "        \n",
    "        # 디코더는 최대 MAX_LENGTH의 길이만큼 다음 단어 예측을 반복합니다.\n",
    "        predictions = model(inputs=[sentence, output_sequence], training=False)\n",
    "        predictions = predictions[:, -1:, :]\n",
    "\n",
    "        # 현재 예측한 단어의 정수\n",
    "        predicted_id = tf.cast(tf.argmax(predictions, axis=-1), tf.int32)\n",
    "\n",
    "        # 만약 현재 예측한 단어가 종료 토큰이라면 for문을 종료\n",
    "        if tf.equal(predicted_id, END_TOKEN[0]):\n",
    "            break\n",
    "\n",
    "        # 예측한 단어들은 지속적으로 output_sequence에 추가됩니다.\n",
    "        # 이 output_sequence는 다시 디코더의 입력이 됩니다.\n",
    "        output_sequence = tf.concat([output_sequence, predicted_id], axis=-1)\n",
    "    '''\n",
    "    \n",
    "    # 주어진 문장으로 모델 예측\n",
    "    prediction = model.predict(sentence)\n",
    "\n",
    "    # 예측된 확률 배열에서 가장 큰 값을 가지는 인덱스를 선택합니다.\n",
    "    predicted_indices = tf.argmax(prediction, axis=-1).numpy().flatten()\n",
    "\n",
    "    return predicted_indices"
   ]
  },
  {
   "cell_type": "code",
   "execution_count": 28,
   "id": "52f87eff",
   "metadata": {},
   "outputs": [],
   "source": [
    "def sentence_generation(sentence):\n",
    "    \n",
    "    # 입력 문장에 대해서 디코더를 동작 시켜 예측된 정수 시퀀스를 리턴받습니다.\n",
    "    prediction = decoder_inference(sentence)\n",
    "\n",
    "    # 정수 시퀀스를 다시 텍스트 시퀀스로 변환합니다.\n",
    "    predicted_sentence = tokenizer.decode(\n",
    "        [i for i in prediction if i < tokenizer.vocab_size])\n",
    "\n",
    "    print('입력 : {}'.format(sentence))\n",
    "    print('출력 : {}'.format(predicted_sentence))\n",
    "\n",
    "    return predicted_sentence"
   ]
  },
  {
   "cell_type": "markdown",
   "id": "0ce08204",
   "metadata": {},
   "source": [
    "# 5. 입력에 따른 출력 생성"
   ]
  },
  {
   "cell_type": "code",
   "execution_count": 29,
   "id": "e0e4731e",
   "metadata": {
    "scrolled": true
   },
   "outputs": [
    {
     "name": "stdout",
     "output_type": "stream",
     "text": [
      "입력 : 내말이 우스워?\n",
      "출력 : 좋아하는 가안돼통해질거 싫어\n"
     ]
    },
    {
     "data": {
      "text/plain": [
       "'좋아하는 가안돼통해질거 싫어'"
      ]
     },
     "execution_count": 29,
     "metadata": {},
     "output_type": "execute_result"
    }
   ],
   "source": [
    "sentence_generation('내말이 우스워?')"
   ]
  },
  {
   "cell_type": "code",
   "execution_count": 30,
   "id": "2234166f",
   "metadata": {},
   "outputs": [
    {
     "name": "stdout",
     "output_type": "stream",
     "text": [
      "입력 : 피곤하다ㅠ\n",
      "출력 : 좋아하는 하게 네요\n"
     ]
    },
    {
     "data": {
      "text/plain": [
       "'좋아하는 하게 네요'"
      ]
     },
     "execution_count": 30,
     "metadata": {},
     "output_type": "execute_result"
    }
   ],
   "source": [
    "sentence_generation('피곤하다ㅠ')"
   ]
  },
  {
   "cell_type": "code",
   "execution_count": 31,
   "id": "4fa42232",
   "metadata": {},
   "outputs": [
    {
     "name": "stdout",
     "output_type": "stream",
     "text": [
      "입력 : 오늘은 flex 해버렸지 뭐야\n",
      "출력 : 좋아하는 또 �야인데 이 좋아하는 다않아도  ? 그냥 \n"
     ]
    },
    {
     "data": {
      "text/plain": [
       "'좋아하는 또 �야인데 이 좋아하는 다않아도  ? 그냥 '"
      ]
     },
     "execution_count": 31,
     "metadata": {},
     "output_type": "execute_result"
    }
   ],
   "source": [
    "sentence_generation('오늘은 flex 해버렸지 뭐야')"
   ]
  },
  {
   "cell_type": "code",
   "execution_count": 32,
   "id": "e19e65d4",
   "metadata": {},
   "outputs": [
    {
     "name": "stdout",
     "output_type": "stream",
     "text": [
      "입력 : 드라이브 조지고 싶다 ㅠㅠㅠ\n",
      "출력 : 좋아하는 하면서 �싶어들을 \n"
     ]
    },
    {
     "data": {
      "text/plain": [
       "'좋아하는 하면서 �싶어들을 '"
      ]
     },
     "execution_count": 32,
     "metadata": {},
     "output_type": "execute_result"
    }
   ],
   "source": [
    "sentence_generation('드라이브 조지고 싶다 ㅠㅠㅠ')"
   ]
  },
  {
   "cell_type": "code",
   "execution_count": 33,
   "id": "33eec06b",
   "metadata": {},
   "outputs": [
    {
     "name": "stdout",
     "output_type": "stream",
     "text": [
      "입력 : 자고싶어\n",
      "출력 : 좋아하는  ? 있으면 \n"
     ]
    },
    {
     "data": {
      "text/plain": [
       "'좋아하는  ? 있으면 '"
      ]
     },
     "execution_count": 33,
     "metadata": {},
     "output_type": "execute_result"
    }
   ],
   "source": [
    "sentence_generation('자고싶어')"
   ]
  }
 ],
 "metadata": {
  "kernelspec": {
   "display_name": "Python 3 (ipykernel)",
   "language": "python",
   "name": "python3"
  },
  "language_info": {
   "codemirror_mode": {
    "name": "ipython",
    "version": 3
   },
   "file_extension": ".py",
   "mimetype": "text/x-python",
   "name": "python",
   "nbconvert_exporter": "python",
   "pygments_lexer": "ipython3",
   "version": "3.9.7"
  }
 },
 "nbformat": 4,
 "nbformat_minor": 5
}
