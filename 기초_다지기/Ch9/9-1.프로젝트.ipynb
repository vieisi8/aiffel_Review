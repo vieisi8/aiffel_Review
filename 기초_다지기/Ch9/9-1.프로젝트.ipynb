{
 "cells": [
  {
   "cell_type": "markdown",
   "id": "e208ec7d",
   "metadata": {},
   "source": [
    "(1) 데이터 가져오기"
   ]
  },
  {
   "cell_type": "code",
   "execution_count": 2,
   "id": "b2afe187",
   "metadata": {},
   "outputs": [],
   "source": [
    "from sklearn.datasets import load_diabetes"
   ]
  },
  {
   "cell_type": "code",
   "execution_count": 15,
   "id": "d900561e",
   "metadata": {
    "scrolled": false
   },
   "outputs": [
    {
     "name": "stdout",
     "output_type": "stream",
     "text": [
      "[[ 0.03807591  0.05068012  0.06169621 ... -0.00259226  0.01990842\n",
      "  -0.01764613]\n",
      " [-0.00188202 -0.04464164 -0.05147406 ... -0.03949338 -0.06832974\n",
      "  -0.09220405]\n",
      " [ 0.08529891  0.05068012  0.04445121 ... -0.00259226  0.00286377\n",
      "  -0.02593034]\n",
      " ...\n",
      " [ 0.04170844  0.05068012 -0.01590626 ... -0.01107952 -0.04687948\n",
      "   0.01549073]\n",
      " [-0.04547248 -0.04464164  0.03906215 ...  0.02655962  0.04452837\n",
      "  -0.02593034]\n",
      " [-0.04547248 -0.04464164 -0.0730303  ... -0.03949338 -0.00421986\n",
      "   0.00306441]]\n",
      "[151.  75. 141. 206. 135.  97. 138.  63. 110. 310. 101.  69. 179. 185.\n",
      " 118. 171. 166. 144.  97. 168.  68.  49.  68. 245. 184. 202. 137.  85.\n",
      " 131. 283. 129.  59. 341.  87.  65. 102. 265. 276. 252.  90. 100.  55.\n",
      "  61.  92. 259.  53. 190. 142.  75. 142. 155. 225.  59. 104. 182. 128.\n",
      "  52.  37. 170. 170.  61. 144.  52. 128.  71. 163. 150.  97. 160. 178.\n",
      "  48. 270. 202. 111.  85.  42. 170. 200. 252. 113. 143.  51.  52. 210.\n",
      "  65. 141.  55. 134.  42. 111.  98. 164.  48.  96.  90. 162. 150. 279.\n",
      "  92.  83. 128. 102. 302. 198.  95.  53. 134. 144. 232.  81. 104.  59.\n",
      " 246. 297. 258. 229. 275. 281. 179. 200. 200. 173. 180.  84. 121. 161.\n",
      "  99. 109. 115. 268. 274. 158. 107.  83. 103. 272.  85. 280. 336. 281.\n",
      " 118. 317. 235.  60. 174. 259. 178. 128.  96. 126. 288.  88. 292.  71.\n",
      " 197. 186.  25.  84.  96. 195.  53. 217. 172. 131. 214.  59.  70. 220.\n",
      " 268. 152.  47.  74. 295. 101. 151. 127. 237. 225.  81. 151. 107.  64.\n",
      " 138. 185. 265. 101. 137. 143. 141.  79. 292. 178.  91. 116.  86. 122.\n",
      "  72. 129. 142.  90. 158.  39. 196. 222. 277.  99. 196. 202. 155.  77.\n",
      " 191.  70.  73.  49.  65. 263. 248. 296. 214. 185.  78.  93. 252. 150.\n",
      "  77. 208.  77. 108. 160.  53. 220. 154. 259.  90. 246. 124.  67.  72.\n",
      " 257. 262. 275. 177.  71.  47. 187. 125.  78.  51. 258. 215. 303. 243.\n",
      "  91. 150. 310. 153. 346.  63.  89.  50.  39. 103. 308. 116. 145.  74.\n",
      "  45. 115. 264.  87. 202. 127. 182. 241.  66.  94. 283.  64. 102. 200.\n",
      " 265.  94. 230. 181. 156. 233.  60. 219.  80.  68. 332. 248.  84. 200.\n",
      "  55.  85.  89.  31. 129.  83. 275.  65. 198. 236. 253. 124.  44. 172.\n",
      " 114. 142. 109. 180. 144. 163. 147.  97. 220. 190. 109. 191. 122. 230.\n",
      " 242. 248. 249. 192. 131. 237.  78. 135. 244. 199. 270. 164.  72.  96.\n",
      " 306.  91. 214.  95. 216. 263. 178. 113. 200. 139. 139.  88. 148.  88.\n",
      " 243.  71.  77. 109. 272.  60.  54. 221.  90. 311. 281. 182. 321.  58.\n",
      " 262. 206. 233. 242. 123. 167.  63. 197.  71. 168. 140. 217. 121. 235.\n",
      " 245.  40.  52. 104. 132.  88.  69. 219.  72. 201. 110.  51. 277.  63.\n",
      " 118.  69. 273. 258.  43. 198. 242. 232. 175.  93. 168. 275. 293. 281.\n",
      "  72. 140. 189. 181. 209. 136. 261. 113. 131. 174. 257.  55.  84.  42.\n",
      " 146. 212. 233.  91. 111. 152. 120.  67. 310.  94. 183.  66. 173.  72.\n",
      "  49.  64.  48. 178. 104. 132. 220.  57.]\n",
      "(442, 10)\n",
      "(442,)\n"
     ]
    }
   ],
   "source": [
    "diabetes=load_diabetes()\n",
    "\n",
    "df_x=diabetes.data\n",
    "df_y=diabetes.target\n",
    "\n",
    "print(df_x)\n",
    "print(df_y)\n",
    "\n",
    "print(df_x.shape)\n",
    "print(df_y.shape)"
   ]
  },
  {
   "cell_type": "markdown",
   "id": "05bd3952",
   "metadata": {},
   "source": [
    "(2) 모델에 입력할 데이터 X 준비하기"
   ]
  },
  {
   "cell_type": "code",
   "execution_count": 10,
   "id": "89b8fc29",
   "metadata": {},
   "outputs": [
    {
     "name": "stdout",
     "output_type": "stream",
     "text": [
      "(442, 10)\n"
     ]
    }
   ],
   "source": [
    "import numpy as np\n",
    "\n",
    "df_x=np.array(df_x)\n",
    "print(df_x.shape)"
   ]
  },
  {
   "cell_type": "markdown",
   "id": "d776421f",
   "metadata": {},
   "source": [
    "(3) 모델에 예측할 데이터 y 준비하기"
   ]
  },
  {
   "cell_type": "code",
   "execution_count": 11,
   "id": "a415f884",
   "metadata": {},
   "outputs": [
    {
     "name": "stdout",
     "output_type": "stream",
     "text": [
      "(442,)\n"
     ]
    }
   ],
   "source": [
    "df_x=np.array(df_y)\n",
    "print(df_y.shape)"
   ]
  },
  {
   "cell_type": "markdown",
   "id": "c65ba804",
   "metadata": {},
   "source": [
    "(4) train 데이터와 test 데이터로 분리하기"
   ]
  },
  {
   "cell_type": "code",
   "execution_count": 16,
   "id": "b45be794",
   "metadata": {},
   "outputs": [
    {
     "name": "stdout",
     "output_type": "stream",
     "text": [
      "(353, 10)\n",
      "(89, 10)\n",
      "(353,)\n",
      "(89,)\n"
     ]
    }
   ],
   "source": [
    "from sklearn.model_selection import train_test_split\n",
    "\n",
    "x_train,x_test,y_train,y_test=train_test_split(df_x,df_y,test_size=0.2,random_state=151)\n",
    "\n",
    "print(x_train.shape)\n",
    "print(x_test.shape)\n",
    "print(y_train.shape)\n",
    "print(y_test.shape)"
   ]
  },
  {
   "cell_type": "markdown",
   "id": "68959456",
   "metadata": {},
   "source": [
    "(5) 모델 준비하기"
   ]
  },
  {
   "cell_type": "code",
   "execution_count": 18,
   "id": "18ab4122",
   "metadata": {},
   "outputs": [
    {
     "data": {
      "text/plain": [
       "10"
      ]
     },
     "execution_count": 18,
     "metadata": {},
     "output_type": "execute_result"
    }
   ],
   "source": [
    "len(diabetes.feature_names)"
   ]
  },
  {
   "cell_type": "code",
   "execution_count": 19,
   "id": "0e130b55",
   "metadata": {},
   "outputs": [],
   "source": [
    "w=np.random.rand(10)\n",
    "b=np.random.rand()\n",
    "\n",
    "def model(x, w, b):\n",
    "    predictions = 0\n",
    "    for i in range(10):\n",
    "        predictions += x[:, i] * w[i]\n",
    "    predictions += b\n",
    "    return predictions\n"
   ]
  },
  {
   "cell_type": "markdown",
   "id": "3bc1ea66",
   "metadata": {},
   "source": [
    "(6) 손실함수 loss 정의하기"
   ]
  },
  {
   "cell_type": "code",
   "execution_count": 20,
   "id": "62c48774",
   "metadata": {},
   "outputs": [],
   "source": [
    "def MSE(a, b):\n",
    "    mse = ((a - b) ** 2).mean()\n",
    "    return mse\n",
    "\n",
    "def loss(X, W, b, y):\n",
    "    predictions = model(X, W, b)\n",
    "    L = MSE(predictions, y)\n",
    "    return L"
   ]
  },
  {
   "cell_type": "markdown",
   "id": "ad9d25ad",
   "metadata": {},
   "source": [
    "(7) 기울기를 구하는 gradient 함수 구현하기"
   ]
  },
  {
   "cell_type": "code",
   "execution_count": 21,
   "id": "bb1748f7",
   "metadata": {},
   "outputs": [],
   "source": [
    "def gradient(X, W, b, y):\n",
    "    # N은 데이터 포인트의 개수\n",
    "    N = len(y)\n",
    "    \n",
    "    # y_pred 준비\n",
    "    y_pred = model(X, W, b)\n",
    "    \n",
    "    # 공식에 맞게 gradient 계산\n",
    "    dW = 1/N * 2 * X.T.dot(y_pred - y)\n",
    "        \n",
    "    # b의 gradient 계산\n",
    "    db = 2 * (y_pred - y).mean()\n",
    "    return dW, db"
   ]
  },
  {
   "cell_type": "markdown",
   "id": "38302469",
   "metadata": {},
   "source": [
    "(8) 하이퍼 파라미터인 학습률 설정하기"
   ]
  },
  {
   "cell_type": "code",
   "execution_count": 22,
   "id": "a2907ca3",
   "metadata": {},
   "outputs": [],
   "source": [
    "learning_rate=1"
   ]
  },
  {
   "cell_type": "markdown",
   "id": "1241e3b3",
   "metadata": {},
   "source": [
    "(9) 모델 학습하기"
   ]
  },
  {
   "cell_type": "code",
   "execution_count": 23,
   "id": "2d831adf",
   "metadata": {},
   "outputs": [
    {
     "name": "stdout",
     "output_type": "stream",
     "text": [
      "Iteration 10 : Loss 28325.3429\n",
      "Iteration 20 : Loss 27797.8471\n",
      "Iteration 30 : Loss 27423.8378\n",
      "Iteration 40 : Loss 27154.9942\n",
      "Iteration 50 : Loss 26958.6093\n",
      "Iteration 60 : Loss 26812.5060\n",
      "Iteration 70 : Loss 26701.6125\n",
      "Iteration 80 : Loss 26615.6546\n",
      "Iteration 90 : Loss 26547.6003\n",
      "Iteration 100 : Loss 26492.6120\n",
      "Iteration 110 : Loss 26447.3390\n",
      "Iteration 120 : Loss 26409.4411\n",
      "Iteration 130 : Loss 26377.2663\n",
      "Iteration 140 : Loss 26349.6330\n",
      "Iteration 150 : Loss 26325.6833\n",
      "Iteration 160 : Loss 26304.7826\n",
      "Iteration 170 : Loss 26286.4524\n",
      "Iteration 180 : Loss 26270.3238\n",
      "Iteration 190 : Loss 26256.1063\n",
      "Iteration 200 : Loss 26243.5658\n",
      "Iteration 210 : Loss 26232.5100\n",
      "Iteration 220 : Loss 26222.7778\n",
      "Iteration 230 : Loss 26214.2321\n",
      "Iteration 240 : Loss 26206.7545\n",
      "Iteration 250 : Loss 26200.2415\n",
      "Iteration 260 : Loss 26194.6020\n",
      "Iteration 270 : Loss 26189.7552\n",
      "Iteration 280 : Loss 26185.6287\n",
      "Iteration 290 : Loss 26182.1577\n",
      "Iteration 300 : Loss 26179.2837\n",
      "Iteration 310 : Loss 26176.9541\n",
      "Iteration 320 : Loss 26175.1211\n",
      "Iteration 330 : Loss 26173.7414\n",
      "Iteration 340 : Loss 26172.7758\n",
      "Iteration 350 : Loss 26172.1886\n",
      "Iteration 360 : Loss 26171.9474\n",
      "Iteration 370 : Loss 26172.0226\n",
      "Iteration 380 : Loss 26172.3874\n",
      "Iteration 390 : Loss 26173.0172\n",
      "Iteration 400 : Loss 26173.8897\n",
      "Iteration 410 : Loss 26174.9846\n",
      "Iteration 420 : Loss 26176.2833\n",
      "Iteration 430 : Loss 26177.7688\n",
      "Iteration 440 : Loss 26179.4255\n",
      "Iteration 450 : Loss 26181.2395\n",
      "Iteration 460 : Loss 26183.1978\n",
      "Iteration 470 : Loss 26185.2884\n",
      "Iteration 480 : Loss 26187.5008\n",
      "Iteration 490 : Loss 26189.8249\n",
      "Iteration 500 : Loss 26192.2518\n",
      "Iteration 510 : Loss 26194.7732\n",
      "Iteration 520 : Loss 26197.3815\n",
      "Iteration 530 : Loss 26200.0698\n",
      "Iteration 540 : Loss 26202.8318\n",
      "Iteration 550 : Loss 26205.6616\n",
      "Iteration 560 : Loss 26208.5539\n",
      "Iteration 570 : Loss 26211.5039\n",
      "Iteration 580 : Loss 26214.5070\n",
      "Iteration 590 : Loss 26217.5591\n",
      "Iteration 600 : Loss 26220.6565\n",
      "Iteration 610 : Loss 26223.7958\n",
      "Iteration 620 : Loss 26226.9737\n",
      "Iteration 630 : Loss 26230.1872\n",
      "Iteration 640 : Loss 26233.4339\n",
      "Iteration 650 : Loss 26236.7110\n",
      "Iteration 660 : Loss 26240.0165\n",
      "Iteration 670 : Loss 26243.3482\n",
      "Iteration 680 : Loss 26246.7042\n",
      "Iteration 690 : Loss 26250.0827\n",
      "Iteration 700 : Loss 26253.4821\n",
      "Iteration 710 : Loss 26256.9009\n",
      "Iteration 720 : Loss 26260.3377\n",
      "Iteration 730 : Loss 26263.7913\n",
      "Iteration 740 : Loss 26267.2604\n",
      "Iteration 750 : Loss 26270.7441\n",
      "Iteration 760 : Loss 26274.2412\n",
      "Iteration 770 : Loss 26277.7509\n",
      "Iteration 780 : Loss 26281.2723\n",
      "Iteration 790 : Loss 26284.8047\n",
      "Iteration 800 : Loss 26288.3473\n",
      "Iteration 810 : Loss 26291.8994\n",
      "Iteration 820 : Loss 26295.4604\n",
      "Iteration 830 : Loss 26299.0297\n",
      "Iteration 840 : Loss 26302.6069\n",
      "Iteration 850 : Loss 26306.1914\n",
      "Iteration 860 : Loss 26309.7827\n",
      "Iteration 870 : Loss 26313.3805\n",
      "Iteration 880 : Loss 26316.9843\n",
      "Iteration 890 : Loss 26320.5938\n",
      "Iteration 900 : Loss 26324.2087\n",
      "Iteration 910 : Loss 26327.8285\n",
      "Iteration 920 : Loss 26331.4531\n",
      "Iteration 930 : Loss 26335.0822\n",
      "Iteration 940 : Loss 26338.7155\n",
      "Iteration 950 : Loss 26342.3528\n",
      "Iteration 960 : Loss 26345.9939\n",
      "Iteration 970 : Loss 26349.6385\n",
      "Iteration 980 : Loss 26353.2865\n",
      "Iteration 990 : Loss 26356.9377\n",
      "Iteration 1000 : Loss 26360.5919\n"
     ]
    }
   ],
   "source": [
    "losses = []\n",
    "\n",
    "for i in range(1, 1001):\n",
    "    dW, db = gradient(x_train, w, b, y_train)\n",
    "    w -= learning_rate * dW\n",
    "    b -= learning_rate * db\n",
    "    L = loss(x_train, w, b, y_train)\n",
    "    losses.append(L)\n",
    "    if i % 10 == 0:\n",
    "        print('Iteration %d : Loss %0.4f' % (i, L))"
   ]
  },
  {
   "cell_type": "markdown",
   "id": "2b59e0d1",
   "metadata": {},
   "source": [
    "(10) test 데이터에 대한 성능 확인하기"
   ]
  },
  {
   "cell_type": "code",
   "execution_count": 24,
   "id": "040d34ad",
   "metadata": {},
   "outputs": [
    {
     "data": {
      "text/plain": [
       "26974.43306679847"
      ]
     },
     "execution_count": 24,
     "metadata": {},
     "output_type": "execute_result"
    }
   ],
   "source": [
    "prediction = model(x_test, w, b)\n",
    "mse = loss(x_test, w, b, y_test)\n",
    "mse"
   ]
  },
  {
   "cell_type": "markdown",
   "id": "cf47c9f6",
   "metadata": {},
   "source": [
    "(11) 정답 데이터와 예측한 데이터 시각화하기"
   ]
  },
  {
   "cell_type": "code",
   "execution_count": 27,
   "id": "e9f0d0dc",
   "metadata": {},
   "outputs": [
    {
     "data": {
      "image/png": "[encoded data removed]",
      "text/plain": [
       "<Figure size 432x288 with 1 Axes>"
      ]
     },
     "metadata": {
      "needs_background": "light"
     },
     "output_type": "display_data"
    }
   ],
   "source": [
    "import matplotlib.pyplot as plt\n",
    "\n",
    "plt.scatter(x_test[:, 0], y_test)\n",
    "plt.scatter(x_test[:, 0], prediction)\n",
    "plt.show()"
   ]
  }
 ],
 "metadata": {
  "kernelspec": {
   "display_name": "Python 3 (ipykernel)",
   "language": "python",
   "name": "python3"
  },
  "language_info": {
   "codemirror_mode": {
    "name": "ipython",
    "version": 3
   },
   "file_extension": ".py",
   "mimetype": "text/x-python",
   "name": "python",
   "nbconvert_exporter": "python",
   "pygments_lexer": "ipython3",
   "version": "3.9.7"
  }
 },
 "nbformat": 4,
 "nbformat_minor": 5
}
